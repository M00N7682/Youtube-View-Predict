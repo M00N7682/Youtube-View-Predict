{
 "cells": [
  {
   "cell_type": "markdown",
   "id": "b0d17770",
   "metadata": {},
   "source": [
    "라이브러리 임포트"
   ]
  },
  {
   "cell_type": "code",
   "execution_count": 1,
   "id": "190d3f40",
   "metadata": {},
   "outputs": [],
   "source": [
    "## library import - data preprocessing\n",
    "import pandas as pd\n",
    "import numpy as np\n",
    "import os\n",
    "from sklearn.preprocessing import OneHotEncoder"
   ]
  },
  {
   "cell_type": "code",
   "execution_count": 2,
   "id": "fa3a3e32",
   "metadata": {},
   "outputs": [],
   "source": [
    "## BERT embedding \n",
    "from transformers import BertTokenizer, BertModel\n",
    "import torch "
   ]
  },
  {
   "cell_type": "code",
   "execution_count": 3,
   "id": "787e5596",
   "metadata": {},
   "outputs": [],
   "source": [
    "## Models\n",
    "from sklearn.linear_model import LinearRegression, Ridge, Lasso\n",
    "from sklearn.ensemble import RandomForestRegressor, GradientBoostingRegressor"
   ]
  },
  {
   "cell_type": "code",
   "execution_count": 28,
   "id": "3306e8c5",
   "metadata": {},
   "outputs": [],
   "source": [
    "from sklearn.model_selection import RandomizedSearchCV\n",
    "from scipy.stats import loguniform\n",
    "from scipy.stats import randint, uniform"
   ]
  },
  {
   "cell_type": "code",
   "execution_count": 5,
   "id": "a0dd58a0",
   "metadata": {},
   "outputs": [],
   "source": [
    "## 평가 지표 \n",
    "from sklearn.model_selection import train_test_split\n",
    "from sklearn.metrics import root_mean_squared_error, mean_absolute_error, r2_score, mean_squared_error\n",
    "from scipy.stats import spearmanr"
   ]
  },
  {
   "cell_type": "code",
   "execution_count": 6,
   "id": "44ed81f9",
   "metadata": {},
   "outputs": [],
   "source": [
    "## visualization\n",
    "import matplotlib.pyplot as plt\n",
    "import seaborn as sns\n",
    "import json"
   ]
  },
  {
   "cell_type": "code",
   "execution_count": 7,
   "id": "6700cbba",
   "metadata": {},
   "outputs": [],
   "source": [
    "import matplotlib.font_manager as fm\n",
    "\n",
    "# 한글 폰트 설정 (윈도우용)\n",
    "plt.rcParams['font.family'] = 'Malgun Gothic'\n",
    "plt.rcParams['axes.unicode_minus'] = False  # 마이너스 부호 깨짐 방지"
   ]
  },
  {
   "cell_type": "code",
   "execution_count": 8,
   "id": "48009012",
   "metadata": {},
   "outputs": [],
   "source": [
    "# tqdm \n",
    "from tqdm import tqdm "
   ]
  },
  {
   "cell_type": "code",
   "execution_count": 9,
   "id": "98fb2516",
   "metadata": {},
   "outputs": [],
   "source": [
    "from sklearn.preprocessing import StandardScaler"
   ]
  },
  {
   "cell_type": "code",
   "execution_count": 10,
   "id": "c0ce2f6a",
   "metadata": {},
   "outputs": [],
   "source": [
    "# kaggle hub\n",
    "import kagglehub\n",
    "from kagglehub import KaggleDatasetAdapter"
   ]
  },
  {
   "cell_type": "code",
   "execution_count": 11,
   "id": "58e69e85",
   "metadata": {},
   "outputs": [],
   "source": [
    "# load new game Dataset\n",
    "file_path = r\"C:\\KHU\\KHU_2025\\머신러닝기초및응용_김민경교수님\\Youtube_music_11000.csv\"\n",
    "\n",
    "# 데이터 로드\n",
    "df = pd.read_csv(file_path)"
   ]
  },
  {
   "cell_type": "code",
   "execution_count": 12,
   "id": "24d9aa49",
   "metadata": {},
   "outputs": [
    {
     "data": {
      "text/html": [
       "<div>\n",
       "<style scoped>\n",
       "    .dataframe tbody tr th:only-of-type {\n",
       "        vertical-align: middle;\n",
       "    }\n",
       "\n",
       "    .dataframe tbody tr th {\n",
       "        vertical-align: top;\n",
       "    }\n",
       "\n",
       "    .dataframe thead th {\n",
       "        text-align: right;\n",
       "    }\n",
       "</style>\n",
       "<table border=\"1\" class=\"dataframe\">\n",
       "  <thead>\n",
       "    <tr style=\"text-align: right;\">\n",
       "      <th></th>\n",
       "      <th>video_id</th>\n",
       "      <th>title</th>\n",
       "      <th>channel_title</th>\n",
       "      <th>category_id</th>\n",
       "      <th>tags</th>\n",
       "      <th>views</th>\n",
       "      <th>likes</th>\n",
       "      <th>dislikes</th>\n",
       "      <th>comment_count</th>\n",
       "      <th>thumbnail_link</th>\n",
       "      <th>date</th>\n",
       "      <th>keyword</th>\n",
       "    </tr>\n",
       "  </thead>\n",
       "  <tbody>\n",
       "    <tr>\n",
       "      <th>0</th>\n",
       "      <td>uelHwf8o7_U</td>\n",
       "      <td>Eminem - Love The Way You Lie ft. Rihanna</td>\n",
       "      <td>EminemVEVO</td>\n",
       "      <td>10</td>\n",
       "      <td>Love The Way You Lie|Eminem|Rihanna|Recovery|M...</td>\n",
       "      <td>2987149992</td>\n",
       "      <td>14605627</td>\n",
       "      <td>0</td>\n",
       "      <td>635964</td>\n",
       "      <td>https://i.ytimg.com/vi/uelHwf8o7_U/default.jpg</td>\n",
       "      <td>5.08</td>\n",
       "      <td>hip hop</td>\n",
       "    </tr>\n",
       "    <tr>\n",
       "      <th>1</th>\n",
       "      <td>5qm8PH4xAss</td>\n",
       "      <td>50 Cent - In Da Club (Official Music Video)</td>\n",
       "      <td>50CentVEVO</td>\n",
       "      <td>10</td>\n",
       "      <td>50 CENT|50 CENT IN DA CLUB|IN DA CLUB|IN DA CL...</td>\n",
       "      <td>2390681337</td>\n",
       "      <td>13992025</td>\n",
       "      <td>0</td>\n",
       "      <td>375904</td>\n",
       "      <td>https://i.ytimg.com/vi/5qm8PH4xAss/default.jpg</td>\n",
       "      <td>16.06</td>\n",
       "      <td>hip hop</td>\n",
       "    </tr>\n",
       "    <tr>\n",
       "      <th>2</th>\n",
       "      <td>8WYHDfJDPDc</td>\n",
       "      <td>Nelly - Dilemma (Official Music Video) ft. Kel...</td>\n",
       "      <td>NellyVEVO</td>\n",
       "      <td>10</td>\n",
       "      <td>NELLY DILEMMA|DILEMMA|DILEMMA NELLY|DILEMMA of...</td>\n",
       "      <td>1724349309</td>\n",
       "      <td>8857593</td>\n",
       "      <td>0</td>\n",
       "      <td>203244</td>\n",
       "      <td>https://i.ytimg.com/vi/8WYHDfJDPDc/default.jpg</td>\n",
       "      <td>5.10</td>\n",
       "      <td>hip hop</td>\n",
       "    </tr>\n",
       "    <tr>\n",
       "      <th>3</th>\n",
       "      <td>6EEW-9NDM5k</td>\n",
       "      <td>Akon - Lonely (Official Music Video)</td>\n",
       "      <td>AkonVEVO</td>\n",
       "      <td>10</td>\n",
       "      <td>AKON|AKON LONELY|LONELY|LONELY AKON|LONELY off...</td>\n",
       "      <td>1228098563</td>\n",
       "      <td>10929063</td>\n",
       "      <td>0</td>\n",
       "      <td>322468</td>\n",
       "      <td>https://i.ytimg.com/vi/6EEW-9NDM5k/default.jpg</td>\n",
       "      <td>17.06</td>\n",
       "      <td>hip hop</td>\n",
       "    </tr>\n",
       "    <tr>\n",
       "      <th>4</th>\n",
       "      <td>oKOtzIo-uYw</td>\n",
       "      <td>Fugees - Killing Me Softly With His Song (Offi...</td>\n",
       "      <td>TheFugeesVEVO</td>\n",
       "      <td>10</td>\n",
       "      <td>killing me softly|fugees|fugees killing me sof...</td>\n",
       "      <td>688270605</td>\n",
       "      <td>4019948</td>\n",
       "      <td>0</td>\n",
       "      <td>63910</td>\n",
       "      <td>https://i.ytimg.com/vi/oKOtzIo-uYw/default.jpg</td>\n",
       "      <td>27.03</td>\n",
       "      <td>hip hop</td>\n",
       "    </tr>\n",
       "  </tbody>\n",
       "</table>\n",
       "</div>"
      ],
      "text/plain": [
       "      video_id                                              title  \\\n",
       "0  uelHwf8o7_U          Eminem - Love The Way You Lie ft. Rihanna   \n",
       "1  5qm8PH4xAss        50 Cent - In Da Club (Official Music Video)   \n",
       "2  8WYHDfJDPDc  Nelly - Dilemma (Official Music Video) ft. Kel...   \n",
       "3  6EEW-9NDM5k               Akon - Lonely (Official Music Video)   \n",
       "4  oKOtzIo-uYw  Fugees - Killing Me Softly With His Song (Offi...   \n",
       "\n",
       "   channel_title  category_id  \\\n",
       "0     EminemVEVO           10   \n",
       "1     50CentVEVO           10   \n",
       "2      NellyVEVO           10   \n",
       "3       AkonVEVO           10   \n",
       "4  TheFugeesVEVO           10   \n",
       "\n",
       "                                                tags       views     likes  \\\n",
       "0  Love The Way You Lie|Eminem|Rihanna|Recovery|M...  2987149992  14605627   \n",
       "1  50 CENT|50 CENT IN DA CLUB|IN DA CLUB|IN DA CL...  2390681337  13992025   \n",
       "2  NELLY DILEMMA|DILEMMA|DILEMMA NELLY|DILEMMA of...  1724349309   8857593   \n",
       "3  AKON|AKON LONELY|LONELY|LONELY AKON|LONELY off...  1228098563  10929063   \n",
       "4  killing me softly|fugees|fugees killing me sof...   688270605   4019948   \n",
       "\n",
       "   dislikes  comment_count                                  thumbnail_link  \\\n",
       "0         0         635964  https://i.ytimg.com/vi/uelHwf8o7_U/default.jpg   \n",
       "1         0         375904  https://i.ytimg.com/vi/5qm8PH4xAss/default.jpg   \n",
       "2         0         203244  https://i.ytimg.com/vi/8WYHDfJDPDc/default.jpg   \n",
       "3         0         322468  https://i.ytimg.com/vi/6EEW-9NDM5k/default.jpg   \n",
       "4         0          63910  https://i.ytimg.com/vi/oKOtzIo-uYw/default.jpg   \n",
       "\n",
       "    date  keyword  \n",
       "0   5.08  hip hop  \n",
       "1  16.06  hip hop  \n",
       "2   5.10  hip hop  \n",
       "3  17.06  hip hop  \n",
       "4  27.03  hip hop  "
      ]
     },
     "execution_count": 12,
     "metadata": {},
     "output_type": "execute_result"
    }
   ],
   "source": [
    "df.head()"
   ]
  },
  {
   "cell_type": "code",
   "execution_count": 13,
   "id": "56629ad3",
   "metadata": {},
   "outputs": [
    {
     "name": "stdout",
     "output_type": "stream",
     "text": [
      "<class 'pandas.core.frame.DataFrame'>\n",
      "RangeIndex: 10950 entries, 0 to 10949\n",
      "Data columns (total 12 columns):\n",
      " #   Column          Non-Null Count  Dtype  \n",
      "---  ------          --------------  -----  \n",
      " 0   video_id        10950 non-null  object \n",
      " 1   title           10950 non-null  object \n",
      " 2   channel_title   10950 non-null  object \n",
      " 3   category_id     10950 non-null  int64  \n",
      " 4   tags            10950 non-null  object \n",
      " 5   views           10950 non-null  int64  \n",
      " 6   likes           10950 non-null  int64  \n",
      " 7   dislikes        10950 non-null  int64  \n",
      " 8   comment_count   10950 non-null  int64  \n",
      " 9   thumbnail_link  10950 non-null  object \n",
      " 10  date            10950 non-null  float64\n",
      " 11  keyword         10950 non-null  object \n",
      "dtypes: float64(1), int64(5), object(6)\n",
      "memory usage: 1.0+ MB\n"
     ]
    }
   ],
   "source": [
    "# 데이터 확인 \n",
    "df.info()"
   ]
  },
  {
   "cell_type": "code",
   "execution_count": 14,
   "id": "c1ecf997",
   "metadata": {},
   "outputs": [],
   "source": [
    "# 필요한 칼럼만 추출\n",
    "df = df[['title', 'views']].copy()"
   ]
  },
  {
   "cell_type": "code",
   "execution_count": 15,
   "id": "1ad05e94",
   "metadata": {},
   "outputs": [
    {
     "data": {
      "text/plain": [
       "Text(0, 0.5, 'Frequency')"
      ]
     },
     "execution_count": 15,
     "metadata": {},
     "output_type": "execute_result"
    },
    {
     "data": {
      "image/png": "[encoded data removed]",
      "text/plain": [
       "<Figure size 864x360 with 1 Axes>"
      ]
     },
     "metadata": {
      "needs_background": "light"
     },
     "output_type": "display_data"
    }
   ],
   "source": [
    "# 원본 분포\n",
    "plt.figure(figsize=(12, 5))\n",
    "\n",
    "plt.subplot(1, 2, 1)\n",
    "plt.hist(df['views'], bins=50, color='skyblue', edgecolor='black')\n",
    "plt.title('Views Distribution (Raw)')\n",
    "plt.xlabel('Views')\n",
    "plt.ylabel('Frequency')"
   ]
  },
  {
   "cell_type": "code",
   "execution_count": 16,
   "id": "96cbc4aa",
   "metadata": {},
   "outputs": [],
   "source": [
    "# target scaling\n",
    "df['log_views'] = np.log1p(df['views'])\n",
    "\n",
    "# scaler = StandardScaler()\n",
    "# df['scaled_views'] = scaler.fit_transform(df[['log_views']])"
   ]
  },
  {
   "cell_type": "code",
   "execution_count": 17,
   "id": "6d079d9b",
   "metadata": {},
   "outputs": [
    {
     "data": {
      "image/png": "[encoded data removed]",
      "text/plain": [
       "<Figure size 432x288 with 1 Axes>"
      ]
     },
     "metadata": {
      "needs_background": "light"
     },
     "output_type": "display_data"
    }
   ],
   "source": [
    "# 로그 변환 분포\n",
    "plt.subplot(1, 2, 2)\n",
    "plt.hist(df['log_views'], bins=50, color='lightgreen', edgecolor='black')\n",
    "plt.title('Views Distribution (Log-Scaled)')\n",
    "plt.xlabel('log(1 + Views)')\n",
    "plt.ylabel('Frequency')\n",
    "\n",
    "plt.tight_layout()\n",
    "plt.show()"
   ]
  },
  {
   "cell_type": "code",
   "execution_count": 18,
   "id": "ab447c2a",
   "metadata": {},
   "outputs": [
    {
     "data": {
      "text/plain": [
       "BertModel(\n",
       "  (embeddings): BertEmbeddings(\n",
       "    (word_embeddings): Embedding(30522, 768, padding_idx=0)\n",
       "    (position_embeddings): Embedding(512, 768)\n",
       "    (token_type_embeddings): Embedding(2, 768)\n",
       "    (LayerNorm): LayerNorm((768,), eps=1e-12, elementwise_affine=True)\n",
       "    (dropout): Dropout(p=0.1, inplace=False)\n",
       "  )\n",
       "  (encoder): BertEncoder(\n",
       "    (layer): ModuleList(\n",
       "      (0-11): 12 x BertLayer(\n",
       "        (attention): BertAttention(\n",
       "          (self): BertSdpaSelfAttention(\n",
       "            (query): Linear(in_features=768, out_features=768, bias=True)\n",
       "            (key): Linear(in_features=768, out_features=768, bias=True)\n",
       "            (value): Linear(in_features=768, out_features=768, bias=True)\n",
       "            (dropout): Dropout(p=0.1, inplace=False)\n",
       "          )\n",
       "          (output): BertSelfOutput(\n",
       "            (dense): Linear(in_features=768, out_features=768, bias=True)\n",
       "            (LayerNorm): LayerNorm((768,), eps=1e-12, elementwise_affine=True)\n",
       "            (dropout): Dropout(p=0.1, inplace=False)\n",
       "          )\n",
       "        )\n",
       "        (intermediate): BertIntermediate(\n",
       "          (dense): Linear(in_features=768, out_features=3072, bias=True)\n",
       "          (intermediate_act_fn): GELUActivation()\n",
       "        )\n",
       "        (output): BertOutput(\n",
       "          (dense): Linear(in_features=3072, out_features=768, bias=True)\n",
       "          (LayerNorm): LayerNorm((768,), eps=1e-12, elementwise_affine=True)\n",
       "          (dropout): Dropout(p=0.1, inplace=False)\n",
       "        )\n",
       "      )\n",
       "    )\n",
       "  )\n",
       "  (pooler): BertPooler(\n",
       "    (dense): Linear(in_features=768, out_features=768, bias=True)\n",
       "    (activation): Tanh()\n",
       "  )\n",
       ")"
      ]
     },
     "execution_count": 18,
     "metadata": {},
     "output_type": "execute_result"
    }
   ],
   "source": [
    "# BERT load \n",
    "tokenizer = BertTokenizer.from_pretrained(\"bert-base-uncased\")\n",
    "model = BertModel.from_pretrained(\"bert-base-uncased\")\n",
    "\n",
    "device = torch.device(\"cuda\" if torch.cuda.is_available() else \"cpu\")\n",
    "model.to(device)\n",
    "model.eval()"
   ]
  },
  {
   "cell_type": "code",
   "execution_count": 19,
   "id": "c67eefbf",
   "metadata": {},
   "outputs": [],
   "source": [
    "# BERT embedding extract \n",
    "## CLS 벡터 추출 함수 정의 \n",
    "def extract_cls_embedding(text):\n",
    "    encoding = tokenizer(text,\n",
    "                         max_length=32,\n",
    "                         truncation=True,\n",
    "                         padding='max_length',\n",
    "                         return_tensors='pt')\n",
    "    input_ids_tensor = encoding['input_ids'].to(device)\n",
    "    attention_mask_tensor = encoding['attention_mask'].to(device)\n",
    "    \n",
    "    with torch.no_grad():\n",
    "        outputs = model(input_ids=input_ids_tensor, attention_mask=attention_mask_tensor)\n",
    "        cls_embedding = outputs.last_hidden_state[:, 0, :].squeeze().cpu().numpy()\n",
    "    return cls_embedding"
   ]
  },
  {
   "cell_type": "code",
   "execution_count": 20,
   "id": "85be7055",
   "metadata": {},
   "outputs": [
    {
     "name": "stderr",
     "output_type": "stream",
     "text": [
      "100%|████████████████████████████████████████████████████████████████████████████| 10950/10950 [15:53<00:00, 11.48it/s]\n"
     ]
    }
   ],
   "source": [
    "## 제목을 cls로 추출 \n",
    "embeddings = np.array([\n",
    "    extract_cls_embedding(title) for title in tqdm(df['title'])\n",
    "])"
   ]
  },
  {
   "cell_type": "code",
   "execution_count": 21,
   "id": "3ea797eb",
   "metadata": {},
   "outputs": [],
   "source": [
    "X = embeddings\n",
    "y = df['log_views']\n",
    "\n",
    "# test, train dataset 분리 \n",
    "X_train, X_test, y_train, y_test = train_test_split(\n",
    "    X, y, test_size=0.2, random_state=42)"
   ]
  },
  {
   "cell_type": "code",
   "execution_count": 22,
   "id": "2366609a",
   "metadata": {},
   "outputs": [],
   "source": [
    "# Model 성능 평가 함수 \n",
    "def evaluate_model(model, X_train, y_train, X_test, y_test):\n",
    "    model.fit(X_train, y_train)\n",
    "    y_pred = model.predict(X_test)\n",
    "\n",
    "    rmse = root_mean_squared_error(y_test, y_pred)\n",
    "    r2 = r2_score(y_test, y_pred)\n",
    "    spearman_corr, _ = spearmanr(y_test, y_pred)\n",
    "\n",
    "    print(f\"RMSE: {rmse:.4f}\")\n",
    "    print(f\"R²: {r2:.4f}\")\n",
    "    print(f\"Spearman: {spearman_corr:.4f}\")\n",
    "    \n",
    "    return model, rmse, r2, spearman_corr"
   ]
  },
  {
   "cell_type": "markdown",
   "id": "1febccad",
   "metadata": {},
   "source": [
    "Lasso(random search)"
   ]
  },
  {
   "cell_type": "code",
   "execution_count": 23,
   "id": "1062e943",
   "metadata": {},
   "outputs": [
    {
     "name": "stdout",
     "output_type": "stream",
     "text": [
      "Fitting 3 folds for each of 1 candidates, totalling 3 fits\n",
      "Model: Lasso (RandomizedSearch)\n",
      "Best alpha: 0.0017670169402947947\n",
      "RMSE: 1.9882 R²: 0.5011 Spearman: 0.6504\n"
     ]
    }
   ],
   "source": [
    "#모델 정의\n",
    "lasso = Lasso(random_state=42, max_iter=10000)\n",
    "\n",
    "#탐색할 하이퍼파라미터 범위 정의\n",
    "param_dist = {'alpha': loguniform(1e-5, 10)} #로그스케일로 탐색\n",
    "\n",
    "# RandomizedSearchCV\n",
    "random_search_lasso = RandomizedSearchCV(\n",
    "    lasso,\n",
    "    param_distributions=param_dist,\n",
    "    n_iter=1,\n",
    "    scoring='neg_mean_squared_error',\n",
    "    cv=3,\n",
    "    verbose=1,\n",
    "    random_state=42,\n",
    "    n_jobs=-1\n",
    ")\n",
    "\n",
    "#학습\n",
    "random_search_lasso.fit(X_train, y_train)\n",
    "\n",
    "#예측 및 평가\n",
    "y_pred = random_search_lasso.predict(X_test)\n",
    "rmse = np.sqrt(mean_squared_error(y_test, y_pred))\n",
    "r2 = r2_score(y_test, y_pred)\n",
    "spearman_corr = spearmanr(y_test, y_pred).correlation if np.std(y_pred) > 0 else np.nan\n",
    "\n",
    "#결과 출력\n",
    "print(\"Model: Lasso (RandomizedSearch)\")\n",
    "print(\"Best alpha:\", random_search_lasso.best_params_['alpha'])\n",
    "print(\"RMSE:\", round(rmse, 4), \"R²:\", round(r2, 4), \"Spearman:\", round(spearman_corr, 4))\n",
    "\n",
    "# 7. 결과 저장\n",
    "lasso_random_df = pd.DataFrame([{\n",
    "    \"Model\": \"Lasso (RandomizedSearch)\",\n",
    "    \"Alpha\": random_search_lasso.best_params_['alpha'],\n",
    "    \"RMSE\": rmse,\n",
    "    \"R²\": r2,\n",
    "    \"Spearman\": spearman_corr\n",
    "}])\n",
    "\n",
    "#결과 csv로 저장\n",
    "lasso_random_df.to_csv(\"lasso_random_result(music_randomsearch).csv\", index=False)"
   ]
  },
  {
   "cell_type": "markdown",
   "id": "6bddc46b",
   "metadata": {},
   "source": [
    "Linear Regression"
   ]
  },
  {
   "cell_type": "code",
   "execution_count": 24,
   "id": "6e4bccfb",
   "metadata": {},
   "outputs": [
    {
     "name": "stdout",
     "output_type": "stream",
     "text": [
      "Model: LinearRegression\n",
      "RMSE: 1.9838\n",
      "R²: 0.5033\n",
      "Spearman: 0.6572\n"
     ]
    }
   ],
   "source": [
    "# LinearRegression 모델 정의 및 학습\n",
    "linear = LinearRegression()\n",
    "linear.fit(X_train, y_train)\n",
    "y_pred = linear.predict(X_test)\n",
    "\n",
    "# 성능 지표 계산\n",
    "rmse = np.sqrt(mean_squared_error(y_test, y_pred))\n",
    "r2 = r2_score(y_test, y_pred)\n",
    "spearman_corr = spearmanr(y_test, y_pred).correlation if np.std(y_pred) > 0 else np.nan\n",
    "\n",
    "# 출력\n",
    "print(\"Model: LinearRegression\")\n",
    "print(\"RMSE:\", round(rmse, 4))\n",
    "print(\"R²:\", round(r2, 4))\n",
    "print(\"Spearman:\", \"NaN\" if np.isnan(spearman_corr) else round(spearman_corr, 4))\n",
    "\n",
    "# 결과 저장\n",
    "linear_results_df = pd.DataFrame([{\n",
    "    \"Model\": \"LinearRegression\",\n",
    "    \"Alpha\": None,\n",
    "    \"RMSE\": rmse,\n",
    "    \"R²\": r2,\n",
    "    \"Spearman\": spearman_corr\n",
    "}])\n",
    "\n",
    "#결과 csv로 저장\n",
    "linear_results_df.to_csv(\"linear_regression_result.csv\", index=False)"
   ]
  },
  {
   "cell_type": "markdown",
   "id": "e48a4c56",
   "metadata": {},
   "source": [
    "Ridge(random search)"
   ]
  },
  {
   "cell_type": "code",
   "execution_count": 25,
   "id": "ffc2cd09",
   "metadata": {},
   "outputs": [
    {
     "name": "stdout",
     "output_type": "stream",
     "text": [
      "Fitting 3 folds for each of 1 candidates, totalling 3 fits\n",
      "Model: Ridge (RandomizedSearch)\n",
      "Best alpha: 0.0017670169402947947\n",
      "RMSE: 1.9838\n",
      "R²: 0.5033\n",
      "Spearman: 0.6572\n"
     ]
    },
    {
     "name": "stderr",
     "output_type": "stream",
     "text": [
      "C:\\Users\\user\\AppData\\Roaming\\Python\\Python39\\site-packages\\sklearn\\linear_model\\_ridge.py:215: LinAlgWarning: Ill-conditioned matrix (rcond=2.58457e-09): result may not be accurate.\n",
      "  return linalg.solve(A, Xy, assume_a=\"pos\", overwrite_a=True).T\n"
     ]
    }
   ],
   "source": [
    "#모델 정의\n",
    "ridge = Ridge()\n",
    "\n",
    "#탐색할 하이퍼파라미터 범위 정의\n",
    "param_dist = {'alpha': loguniform(1e-5, 10)} #로그스케일 탐색\n",
    "\n",
    "#RandomizedSearchCV\n",
    "random_search_ridge = RandomizedSearchCV(\n",
    "    ridge,\n",
    "    param_distributions=param_dist,\n",
    "    n_iter=1,\n",
    "    scoring='neg_mean_squared_error',\n",
    "    cv=3,\n",
    "    verbose=1,\n",
    "    random_state=42,\n",
    "    n_jobs=-1\n",
    ")\n",
    "\n",
    "#학습\n",
    "random_search_ridge.fit(X_train, y_train)\n",
    "\n",
    "#예측 및 평가\n",
    "y_pred = random_search_ridge.predict(X_test)\n",
    "rmse = np.sqrt(mean_squared_error(y_test, y_pred))\n",
    "r2 = r2_score(y_test, y_pred)\n",
    "spearman_corr = spearmanr(y_test, y_pred).correlation if np.std(y_pred) > 0 else np.nan\n",
    "\n",
    "#결과 출력\n",
    "print(\"Model: Ridge (RandomizedSearch)\")\n",
    "print(\"Best alpha:\", random_search_ridge.best_params_['alpha'])\n",
    "print(\"RMSE:\", round(rmse, 4))\n",
    "print(\"R²:\", round(r2, 4))\n",
    "print(\"Spearman:\", \"NaN\" if np.isnan(spearman_corr) else round(spearman_corr, 4))\n",
    "\n",
    "#결과 저장\n",
    "ridge_random_df = pd.DataFrame([{\n",
    "    \"Model\": \"Ridge (RandomizedSearch)\",\n",
    "    \"Alpha\": random_search_ridge.best_params_['alpha'],\n",
    "    \"RMSE\": rmse,\n",
    "    \"R²\": r2,\n",
    "    \"Spearman\": spearman_corr\n",
    "}])\n",
    "\n",
    "#결과 csv로 저장\n",
    "ridge_random_df.to_csv(\"ridge_random_result(music_randomsearch).csv\", index=False)"
   ]
  },
  {
   "cell_type": "markdown",
   "id": "136c76b3",
   "metadata": {},
   "source": [
    "RF(random search)"
   ]
  },
  {
   "cell_type": "code",
   "execution_count": 26,
   "id": "1849d9b1",
   "metadata": {},
   "outputs": [
    {
     "name": "stdout",
     "output_type": "stream",
     "text": [
      "Fitting 3 folds for each of 1 candidates, totalling 3 fits\n",
      "Model: RandomForest (RandomizedSearch)\n",
      "Best params: {'max_depth': 11, 'max_features': 'log2', 'min_samples_leaf': 1, 'min_samples_split': 8, 'n_estimators': 206}\n",
      "RMSE: 1.7616\n",
      "R²: 0.6083\n",
      "Spearman: 0.7942\n"
     ]
    }
   ],
   "source": [
    "#하이퍼파라미터 탐색 공간 정의\n",
    "param_dist = {\n",
    "    'n_estimators': randint(100, 300),\n",
    "    'max_depth': randint(5, 30),\n",
    "    'min_samples_split': randint(2, 10),\n",
    "    'min_samples_leaf': randint(1, 5),\n",
    "    'max_features': ['sqrt', 'log2']\n",
    "}\n",
    "\n",
    "#모델 및 랜덤 서치 정의\n",
    "rf = RandomForestRegressor(random_state=42, n_jobs=-1)\n",
    "random_search_rf = RandomizedSearchCV(\n",
    "    rf,\n",
    "    param_distributions=param_dist,\n",
    "    n_iter=1,\n",
    "    scoring='neg_mean_squared_error',\n",
    "    cv=3,\n",
    "    verbose=1,\n",
    "    random_state=42,\n",
    "    n_jobs=-1\n",
    ")\n",
    "\n",
    "#학습\n",
    "random_search_rf.fit(X_train, y_train)\n",
    "\n",
    "#예측 및 평가\n",
    "y_pred = random_search_rf.predict(X_test)\n",
    "rmse = np.sqrt(mean_squared_error(y_test, y_pred))\n",
    "r2 = r2_score(y_test, y_pred)\n",
    "spearman_corr = spearmanr(y_test, y_pred).correlation if np.std(y_pred) > 0 else np.nan\n",
    "\n",
    "#출력\n",
    "print(\"Model: RandomForest (RandomizedSearch)\")\n",
    "print(\"Best params:\", random_search_rf.best_params_)\n",
    "print(\"RMSE:\", round(rmse, 4))\n",
    "print(\"R²:\", round(r2, 4))\n",
    "print(\"Spearman:\", \"NaN\" if np.isnan(spearman_corr) else round(spearman_corr, 4))\n",
    "\n",
    "#결과 저장\n",
    "rf_random_df = pd.DataFrame([{\n",
    "    \"Model\": \"RandomForest (RandomizedSearch)\",\n",
    "    \"Alpha\": None,\n",
    "    \"RMSE\": rmse,\n",
    "    \"R²\": r2,\n",
    "    \"Spearman\": spearman_corr\n",
    "}])\n",
    "\n",
    "#결과 csv로 저장\n",
    "rf_random_df.to_csv(\"rf_random_result(music_randomsearch).csv\", index=False)"
   ]
  },
  {
   "cell_type": "markdown",
   "id": "1cc68f78",
   "metadata": {},
   "source": [
    "Gradient(random search)"
   ]
  },
  {
   "cell_type": "code",
   "execution_count": 29,
   "id": "933c7f1a",
   "metadata": {},
   "outputs": [
    {
     "name": "stdout",
     "output_type": "stream",
     "text": [
      "Fitting 3 folds for each of 1 candidates, totalling 3 fits\n",
      "Model: GradientBoosting (RandomizedSearch)\n",
      "Best params: {'learning_rate': 0.12236203565420874, 'max_depth': 7, 'min_samples_split': 8, 'n_estimators': 206, 'subsample': 0.9118764001091078}\n",
      "RMSE: 1.2543\n",
      "R²: 0.8014\n",
      "Spearman: 0.8628\n"
     ]
    }
   ],
   "source": [
    "#하이퍼파라미터 분포 정의\n",
    "param_dist = {\n",
    "    'n_estimators': randint(100, 300),\n",
    "    'learning_rate': uniform(0.01, 0.3),\n",
    "    'max_depth': randint(3, 10),\n",
    "    'min_samples_split': randint(2, 10),\n",
    "    'subsample': uniform(0.6, 0.4)\n",
    "}\n",
    "\n",
    "#모델과 랜덤 서치 설정\n",
    "gbr = GradientBoostingRegressor(random_state=42)\n",
    "random_search_gbr = RandomizedSearchCV(\n",
    "    gbr,\n",
    "    param_distributions=param_dist,\n",
    "    n_iter=1,\n",
    "    scoring='neg_mean_squared_error',\n",
    "    cv=3,\n",
    "    verbose=1,\n",
    "    random_state=42,\n",
    "    n_jobs=-1\n",
    ")\n",
    "\n",
    "#모델 학습\n",
    "random_search_gbr.fit(X_train, y_train)\n",
    "\n",
    "#예측 및 평가\n",
    "y_pred = random_search_gbr.predict(X_test)\n",
    "rmse = np.sqrt(mean_squared_error(y_test, y_pred))\n",
    "r2 = r2_score(y_test, y_pred)\n",
    "spearman_corr = spearmanr(y_test, y_pred).correlation if np.std(y_pred) > 0 else np.nan\n",
    "\n",
    "#결과 출력\n",
    "print(\"Model: GradientBoosting (RandomizedSearch)\")\n",
    "print(\"Best params:\", random_search_gbr.best_params_)\n",
    "print(\"RMSE:\", round(rmse, 4))\n",
    "print(\"R²:\", round(r2, 4))\n",
    "print(\"Spearman:\", \"NaN\" if np.isnan(spearman_corr) else round(spearman_corr, 4))\n",
    "\n",
    "#결과 저장\n",
    "gbr_random_df = pd.DataFrame([{\n",
    "    \"Model\": \"RandomForest (RandomizedSearch)\",\n",
    "    \"Alpha\": None,\n",
    "    \"RMSE\": rmse,\n",
    "    \"R²\": r2,\n",
    "    \"Spearman\": spearman_corr\n",
    "}])\n",
    "\n",
    "#결과 csv로 저장\n",
    "gbr_random_df.to_csv(\"gbr_random_result(music_randomsearch).csv\", index=False)"
   ]
  },
  {
   "cell_type": "code",
   "execution_count": 30,
   "id": "ac970158",
   "metadata": {},
   "outputs": [],
   "source": [
    "# 모델별 결과 DataFrame 합치기\n",
    "all_results = pd.concat([\n",
    "    lasso_random_df,\n",
    "    linear_results_df,\n",
    "    ridge_random_df,\n",
    "    rf_random_df,\n",
    "    gbr_random_df\n",
    "], ignore_index=True)\n",
    "\n",
    "#결과 csv로 저장\n",
    "all_results.to_csv(\"music_all_results(randomsearch).csv\", index=False)"
   ]
  },
  {
   "cell_type": "code",
   "execution_count": 31,
   "id": "00bc6480",
   "metadata": {},
   "outputs": [
    {
     "data": {
      "image/png": "[encoded data removed]",
      "text/plain": [
       "<Figure size 720x432 with 1 Axes>"
      ]
     },
     "metadata": {
      "needs_background": "light"
     },
     "output_type": "display_data"
    }
   ],
   "source": [
    "#시각화를 위한 변환 (wide → long)\n",
    "results_long = all_results.melt(\n",
    "    id_vars=\"Model\", \n",
    "    value_vars=[\"RMSE\", \"R²\", \"Spearman\"],\n",
    "    var_name=\"Metric\", \n",
    "    value_name=\"Score\"\n",
    ")\n",
    "\n",
    "# 선 그래프(line chart)로 시각화\n",
    "plt.figure(figsize=(10, 6))\n",
    "for metric in results_long[\"Metric\"].unique():\n",
    "    subset = results_long[results_long[\"Metric\"] == metric]\n",
    "    plt.plot(subset[\"Model\"], subset[\"Score\"], marker='o', label=metric)\n",
    "\n",
    "plt.title(\"Model Performance Comparison(RandomizedSearch)\")\n",
    "plt.xlabel(\"Model\")\n",
    "plt.ylabel(\"Score\")\n",
    "plt.xticks(rotation=45)\n",
    "plt.legend(title=\"Metric\")\n",
    "plt.grid(True)\n",
    "plt.tight_layout()\n",
    "plt.show()"
   ]
  },
  {
   "cell_type": "code",
   "execution_count": 32,
   "id": "090409ce",
   "metadata": {},
   "outputs": [],
   "source": [
    "music_all_results_randomsearch_saved_df = pd.read_csv(\"music_all_results(randomsearch).csv\")"
   ]
  },
  {
   "cell_type": "code",
   "execution_count": 33,
   "id": "140c13e1",
   "metadata": {},
   "outputs": [
    {
     "data": {
      "text/html": [
       "<div>\n",
       "<style scoped>\n",
       "    .dataframe tbody tr th:only-of-type {\n",
       "        vertical-align: middle;\n",
       "    }\n",
       "\n",
       "    .dataframe tbody tr th {\n",
       "        vertical-align: top;\n",
       "    }\n",
       "\n",
       "    .dataframe thead th {\n",
       "        text-align: right;\n",
       "    }\n",
       "</style>\n",
       "<table border=\"1\" class=\"dataframe\">\n",
       "  <thead>\n",
       "    <tr style=\"text-align: right;\">\n",
       "      <th></th>\n",
       "      <th>Model</th>\n",
       "      <th>Alpha</th>\n",
       "      <th>RMSE</th>\n",
       "      <th>R²</th>\n",
       "      <th>Spearman</th>\n",
       "    </tr>\n",
       "  </thead>\n",
       "  <tbody>\n",
       "    <tr>\n",
       "      <th>0</th>\n",
       "      <td>Lasso (RandomizedSearch)</td>\n",
       "      <td>0.001767</td>\n",
       "      <td>1.988167</td>\n",
       "      <td>0.501090</td>\n",
       "      <td>0.650395</td>\n",
       "    </tr>\n",
       "    <tr>\n",
       "      <th>1</th>\n",
       "      <td>LinearRegression</td>\n",
       "      <td>NaN</td>\n",
       "      <td>1.983782</td>\n",
       "      <td>0.503288</td>\n",
       "      <td>0.657220</td>\n",
       "    </tr>\n",
       "    <tr>\n",
       "      <th>2</th>\n",
       "      <td>Ridge (RandomizedSearch)</td>\n",
       "      <td>0.001767</td>\n",
       "      <td>1.983773</td>\n",
       "      <td>0.503292</td>\n",
       "      <td>0.657214</td>\n",
       "    </tr>\n",
       "    <tr>\n",
       "      <th>3</th>\n",
       "      <td>RandomForest (RandomizedSearch)</td>\n",
       "      <td>NaN</td>\n",
       "      <td>1.761627</td>\n",
       "      <td>0.608308</td>\n",
       "      <td>0.794162</td>\n",
       "    </tr>\n",
       "    <tr>\n",
       "      <th>4</th>\n",
       "      <td>RandomForest (RandomizedSearch)</td>\n",
       "      <td>NaN</td>\n",
       "      <td>1.254296</td>\n",
       "      <td>0.801428</td>\n",
       "      <td>0.862810</td>\n",
       "    </tr>\n",
       "  </tbody>\n",
       "</table>\n",
       "</div>"
      ],
      "text/plain": [
       "                             Model     Alpha      RMSE        R²  Spearman\n",
       "0         Lasso (RandomizedSearch)  0.001767  1.988167  0.501090  0.650395\n",
       "1                 LinearRegression       NaN  1.983782  0.503288  0.657220\n",
       "2         Ridge (RandomizedSearch)  0.001767  1.983773  0.503292  0.657214\n",
       "3  RandomForest (RandomizedSearch)       NaN  1.761627  0.608308  0.794162\n",
       "4  RandomForest (RandomizedSearch)       NaN  1.254296  0.801428  0.862810"
      ]
     },
     "execution_count": 33,
     "metadata": {},
     "output_type": "execute_result"
    }
   ],
   "source": [
    "music_all_results_randomsearch_saved_df"
   ]
  }
 ],
 "metadata": {
  "kernelspec": {
   "display_name": "Python 3 (ipykernel)",
   "language": "python",
   "name": "python3"
  },
  "language_info": {
   "codemirror_mode": {
    "name": "ipython",
    "version": 3
   },
   "file_extension": ".py",
   "mimetype": "text/x-python",
   "name": "python",
   "nbconvert_exporter": "python",
   "pygments_lexer": "ipython3",
   "version": "3.9.12"
  }
 },
 "nbformat": 4,
 "nbformat_minor": 5
}
