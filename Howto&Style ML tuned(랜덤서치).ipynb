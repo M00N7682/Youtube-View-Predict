{
 "cells": [
  {
   "cell_type": "markdown",
   "id": "5989b81a",
   "metadata": {},
   "source": [
    "라이브러리 임포트"
   ]
  },
  {
   "cell_type": "code",
   "execution_count": 1,
   "id": "ce6898f0",
   "metadata": {},
   "outputs": [],
   "source": [
    "## library import - data preprocessing\n",
    "import pandas as pd\n",
    "import numpy as np\n",
    "import os\n",
    "from sklearn.preprocessing import OneHotEncoder"
   ]
  },
  {
   "cell_type": "code",
   "execution_count": 2,
   "id": "db7d87f2",
   "metadata": {},
   "outputs": [],
   "source": [
    "## BERT embedding \n",
    "from transformers import BertTokenizer, BertModel\n",
    "import torch "
   ]
  },
  {
   "cell_type": "code",
   "execution_count": 3,
   "id": "edcd8074",
   "metadata": {},
   "outputs": [],
   "source": [
    "## Models\n",
    "from sklearn.linear_model import LinearRegression, Ridge, Lasso\n",
    "from sklearn.ensemble import RandomForestRegressor, GradientBoostingRegressor"
   ]
  },
  {
   "cell_type": "code",
   "execution_count": 4,
   "id": "56b02a63",
   "metadata": {},
   "outputs": [],
   "source": [
    "## 평가 지표 \n",
    "from sklearn.model_selection import train_test_split\n",
    "from sklearn.metrics import root_mean_squared_error, mean_absolute_error, r2_score, mean_squared_error\n",
    "from scipy.stats import spearmanr"
   ]
  },
  {
   "cell_type": "code",
   "execution_count": 5,
   "id": "35a45c9f",
   "metadata": {},
   "outputs": [],
   "source": [
    "## visualization\n",
    "import matplotlib.pyplot as plt\n",
    "import seaborn as sns\n",
    "import json"
   ]
  },
  {
   "cell_type": "code",
   "execution_count": 6,
   "id": "4286f9f3",
   "metadata": {},
   "outputs": [],
   "source": [
    "import matplotlib.font_manager as fm\n",
    "\n",
    "# 한글 폰트 설정 (윈도우용)\n",
    "plt.rcParams['font.family'] = 'Malgun Gothic'\n",
    "plt.rcParams['axes.unicode_minus'] = False  # 마이너스 부호 깨짐 방지"
   ]
  },
  {
   "cell_type": "code",
   "execution_count": 7,
   "id": "4978111b",
   "metadata": {},
   "outputs": [],
   "source": [
    "# tqdm \n",
    "from tqdm import tqdm "
   ]
  },
  {
   "cell_type": "code",
   "execution_count": 8,
   "id": "5417cd9b",
   "metadata": {},
   "outputs": [],
   "source": [
    "# kaggle hub\n",
    "import kagglehub\n",
    "from kagglehub import KaggleDatasetAdapter"
   ]
  },
  {
   "cell_type": "markdown",
   "id": "3e91c239",
   "metadata": {},
   "source": [
    "데이터로드"
   ]
  },
  {
   "cell_type": "code",
   "execution_count": 9,
   "id": "713c03ba",
   "metadata": {},
   "outputs": [
    {
     "name": "stdout",
     "output_type": "stream",
     "text": [
      "Defaulting to user installation because normal site-packages is not writeable\n",
      "Requirement already satisfied: kagglehub[pandas-datasets] in c:\\users\\user\\appdata\\roaming\\python\\python39\\site-packages (0.3.12)\n",
      "Requirement already satisfied: tqdm in c:\\programdata\\anaconda3\\lib\\site-packages (from kagglehub[pandas-datasets]) (4.64.0)\n",
      "Requirement already satisfied: pyyaml in c:\\programdata\\anaconda3\\lib\\site-packages (from kagglehub[pandas-datasets]) (6.0)\n",
      "Requirement already satisfied: requests in c:\\programdata\\anaconda3\\lib\\site-packages (from kagglehub[pandas-datasets]) (2.27.1)\n",
      "Requirement already satisfied: packaging in c:\\programdata\\anaconda3\\lib\\site-packages (from kagglehub[pandas-datasets]) (21.3)\n",
      "Requirement already satisfied: pandas in c:\\programdata\\anaconda3\\lib\\site-packages (from kagglehub[pandas-datasets]) (1.4.2)\n",
      "Requirement already satisfied: pyparsing!=3.0.5,>=2.0.2 in c:\\programdata\\anaconda3\\lib\\site-packages (from packaging->kagglehub[pandas-datasets]) (3.0.4)\n",
      "Requirement already satisfied: python-dateutil>=2.8.1 in c:\\programdata\\anaconda3\\lib\\site-packages (from pandas->kagglehub[pandas-datasets]) (2.8.2)\n",
      "Requirement already satisfied: numpy>=1.18.5 in c:\\programdata\\anaconda3\\lib\\site-packages (from pandas->kagglehub[pandas-datasets]) (1.21.5)\n",
      "Requirement already satisfied: pytz>=2020.1 in c:\\programdata\\anaconda3\\lib\\site-packages (from pandas->kagglehub[pandas-datasets]) (2021.3)\n",
      "Requirement already satisfied: six>=1.5 in c:\\programdata\\anaconda3\\lib\\site-packages (from python-dateutil>=2.8.1->pandas->kagglehub[pandas-datasets]) (1.16.0)\n",
      "Requirement already satisfied: idna<4,>=2.5 in c:\\programdata\\anaconda3\\lib\\site-packages (from requests->kagglehub[pandas-datasets]) (3.3)\n",
      "Requirement already satisfied: certifi>=2017.4.17 in c:\\programdata\\anaconda3\\lib\\site-packages (from requests->kagglehub[pandas-datasets]) (2021.10.8)\n",
      "Requirement already satisfied: charset-normalizer~=2.0.0 in c:\\programdata\\anaconda3\\lib\\site-packages (from requests->kagglehub[pandas-datasets]) (2.0.4)\n",
      "Requirement already satisfied: urllib3<1.27,>=1.21.1 in c:\\programdata\\anaconda3\\lib\\site-packages (from requests->kagglehub[pandas-datasets]) (1.26.9)\n",
      "Requirement already satisfied: colorama in c:\\programdata\\anaconda3\\lib\\site-packages (from tqdm->kagglehub[pandas-datasets]) (0.4.4)\n",
      "Note: you may need to restart the kernel to use updated packages.\n"
     ]
    }
   ],
   "source": [
    "pip install kagglehub[pandas-datasets]"
   ]
  },
  {
   "cell_type": "code",
   "execution_count": 10,
   "id": "f2a4defc",
   "metadata": {},
   "outputs": [
    {
     "name": "stdout",
     "output_type": "stream",
     "text": [
      "Path to dataset files: C:\\Users\\user\\.cache\\kagglehub\\datasets\\datasnaek\\youtube-new\\versions\\115\n"
     ]
    }
   ],
   "source": [
    "# Download latest version\n",
    "path = kagglehub.dataset_download(\"datasnaek/youtube-new\")\n",
    "\n",
    "print(\"Path to dataset files:\", path)"
   ]
  },
  {
   "cell_type": "code",
   "execution_count": 11,
   "id": "cfe83633",
   "metadata": {},
   "outputs": [],
   "source": [
    "# load USvideo Dataset\n",
    "df = pd.read_csv(os.path.join(path, \"USvideos.csv\"))"
   ]
  },
  {
   "cell_type": "markdown",
   "id": "2e82485e",
   "metadata": {},
   "source": [
    "카테고리 맵핑"
   ]
  },
  {
   "cell_type": "code",
   "execution_count": 12,
   "id": "7259a119",
   "metadata": {},
   "outputs": [],
   "source": [
    "## 카테고리 매핑 \n",
    "# JSON 파일 경로\n",
    "json_path = os.path.join(path, \"US_category_id.json\")\n",
    "\n",
    "# JSON 로드\n",
    "with open(json_path, 'r', encoding='utf-8') as f:\n",
    "    category_json = json.load(f)\n",
    "\n",
    "# 카테고리 매핑 딕셔너리 생성\n",
    "category_mapping = {\n",
    "    int(item['id']): item['snippet']['title']\n",
    "    for item in category_json['items']\n",
    "}"
   ]
  },
  {
   "cell_type": "code",
   "execution_count": 13,
   "id": "fc8a43f6",
   "metadata": {},
   "outputs": [
    {
     "name": "stdout",
     "output_type": "stream",
     "text": [
      "{1: 'Film & Animation', 2: 'Autos & Vehicles', 10: 'Music', 15: 'Pets & Animals', 17: 'Sports', 18: 'Short Movies', 19: 'Travel & Events', 20: 'Gaming', 21: 'Videoblogging', 22: 'People & Blogs', 23: 'Comedy', 24: 'Entertainment', 25: 'News & Politics', 26: 'Howto & Style', 27: 'Education', 28: 'Science & Technology', 29: 'Nonprofits & Activism', 30: 'Movies', 31: 'Anime/Animation', 32: 'Action/Adventure', 33: 'Classics', 34: 'Comedy', 35: 'Documentary', 36: 'Drama', 37: 'Family', 38: 'Foreign', 39: 'Horror', 40: 'Sci-Fi/Fantasy', 41: 'Thriller', 42: 'Shorts', 43: 'Shows', 44: 'Trailers'}\n"
     ]
    }
   ],
   "source": [
    "# 매핑 딕셔너리 확인\n",
    "print(category_mapping)"
   ]
  },
  {
   "cell_type": "code",
   "execution_count": 14,
   "id": "737d11b2",
   "metadata": {},
   "outputs": [],
   "source": [
    "df['category_name'] = df['category_id'].map(category_mapping)"
   ]
  },
  {
   "cell_type": "code",
   "execution_count": 15,
   "id": "1fa53abb",
   "metadata": {},
   "outputs": [
    {
     "data": {
      "text/plain": [
       "0          People & Blogs\n",
       "1           Entertainment\n",
       "2                  Comedy\n",
       "3           Entertainment\n",
       "4           Entertainment\n",
       "               ...       \n",
       "40944      Pets & Animals\n",
       "40945      People & Blogs\n",
       "40946       Entertainment\n",
       "40947    Film & Animation\n",
       "40948              Gaming\n",
       "Name: category_name, Length: 40949, dtype: object"
      ]
     },
     "execution_count": 15,
     "metadata": {},
     "output_type": "execute_result"
    }
   ],
   "source": [
    "df['category_name']"
   ]
  },
  {
   "cell_type": "markdown",
   "id": "0b709b33",
   "metadata": {},
   "source": [
    "target log-scaling"
   ]
  },
  {
   "cell_type": "code",
   "execution_count": 16,
   "id": "8c4ad7b7",
   "metadata": {},
   "outputs": [],
   "source": [
    "# log-scaling 진행\n",
    "df['log_views'] = np.log1p(df['views'])"
   ]
  },
  {
   "cell_type": "markdown",
   "id": "776e90bb",
   "metadata": {},
   "source": [
    "Modeling #1. category_id를 feature로 포함"
   ]
  },
  {
   "cell_type": "code",
   "execution_count": 17,
   "id": "6df624f8",
   "metadata": {},
   "outputs": [
    {
     "data": {
      "text/html": [
       "<div>\n",
       "<style scoped>\n",
       "    .dataframe tbody tr th:only-of-type {\n",
       "        vertical-align: middle;\n",
       "    }\n",
       "\n",
       "    .dataframe tbody tr th {\n",
       "        vertical-align: top;\n",
       "    }\n",
       "\n",
       "    .dataframe thead th {\n",
       "        text-align: right;\n",
       "    }\n",
       "</style>\n",
       "<table border=\"1\" class=\"dataframe\">\n",
       "  <thead>\n",
       "    <tr style=\"text-align: right;\">\n",
       "      <th></th>\n",
       "      <th>title</th>\n",
       "      <th>log_views</th>\n",
       "      <th>category_id</th>\n",
       "    </tr>\n",
       "  </thead>\n",
       "  <tbody>\n",
       "    <tr>\n",
       "      <th>0</th>\n",
       "      <td>WE WANT TO TALK ABOUT OUR MARRIAGE</td>\n",
       "      <td>13.525659</td>\n",
       "      <td>22</td>\n",
       "    </tr>\n",
       "    <tr>\n",
       "      <th>1</th>\n",
       "      <td>The Trump Presidency: Last Week Tonight with J...</td>\n",
       "      <td>14.698775</td>\n",
       "      <td>24</td>\n",
       "    </tr>\n",
       "    <tr>\n",
       "      <th>2</th>\n",
       "      <td>Racist Superman | Rudy Mancuso, King Bach &amp; Le...</td>\n",
       "      <td>14.975981</td>\n",
       "      <td>23</td>\n",
       "    </tr>\n",
       "    <tr>\n",
       "      <th>3</th>\n",
       "      <td>Nickelback Lyrics: Real or Fake?</td>\n",
       "      <td>12.745978</td>\n",
       "      <td>24</td>\n",
       "    </tr>\n",
       "    <tr>\n",
       "      <th>4</th>\n",
       "      <td>I Dare You: GOING BALD!?</td>\n",
       "      <td>14.555413</td>\n",
       "      <td>24</td>\n",
       "    </tr>\n",
       "    <tr>\n",
       "      <th>...</th>\n",
       "      <td>...</td>\n",
       "      <td>...</td>\n",
       "      <td>...</td>\n",
       "    </tr>\n",
       "    <tr>\n",
       "      <th>40944</th>\n",
       "      <td>The Cat Who Caught the Laser</td>\n",
       "      <td>14.337638</td>\n",
       "      <td>15</td>\n",
       "    </tr>\n",
       "    <tr>\n",
       "      <th>40945</th>\n",
       "      <td>True Facts : Ant Mutualism</td>\n",
       "      <td>13.878297</td>\n",
       "      <td>22</td>\n",
       "    </tr>\n",
       "    <tr>\n",
       "      <th>40946</th>\n",
       "      <td>I GAVE SAFIYA NYGAARD A PERFECT HAIR MAKEOVER ...</td>\n",
       "      <td>13.879848</td>\n",
       "      <td>24</td>\n",
       "    </tr>\n",
       "    <tr>\n",
       "      <th>40947</th>\n",
       "      <td>How Black Panther Should Have Ended</td>\n",
       "      <td>15.549078</td>\n",
       "      <td>1</td>\n",
       "    </tr>\n",
       "    <tr>\n",
       "      <th>40948</th>\n",
       "      <td>Official Call of Duty®: Black Ops 4 — Multipla...</td>\n",
       "      <td>16.148248</td>\n",
       "      <td>20</td>\n",
       "    </tr>\n",
       "  </tbody>\n",
       "</table>\n",
       "<p>40949 rows × 3 columns</p>\n",
       "</div>"
      ],
      "text/plain": [
       "                                                   title  log_views  \\\n",
       "0                     WE WANT TO TALK ABOUT OUR MARRIAGE  13.525659   \n",
       "1      The Trump Presidency: Last Week Tonight with J...  14.698775   \n",
       "2      Racist Superman | Rudy Mancuso, King Bach & Le...  14.975981   \n",
       "3                       Nickelback Lyrics: Real or Fake?  12.745978   \n",
       "4                               I Dare You: GOING BALD!?  14.555413   \n",
       "...                                                  ...        ...   \n",
       "40944                       The Cat Who Caught the Laser  14.337638   \n",
       "40945                         True Facts : Ant Mutualism  13.878297   \n",
       "40946  I GAVE SAFIYA NYGAARD A PERFECT HAIR MAKEOVER ...  13.879848   \n",
       "40947                How Black Panther Should Have Ended  15.549078   \n",
       "40948  Official Call of Duty®: Black Ops 4 — Multipla...  16.148248   \n",
       "\n",
       "       category_id  \n",
       "0               22  \n",
       "1               24  \n",
       "2               23  \n",
       "3               24  \n",
       "4               24  \n",
       "...            ...  \n",
       "40944           15  \n",
       "40945           22  \n",
       "40946           24  \n",
       "40947            1  \n",
       "40948           20  \n",
       "\n",
       "[40949 rows x 3 columns]"
      ]
     },
     "execution_count": 17,
     "metadata": {},
     "output_type": "execute_result"
    }
   ],
   "source": [
    "# category를 포함한 열 불러오기 \n",
    "category_df = df[['title', 'log_views', 'category_id']]\n",
    "category_df"
   ]
  },
  {
   "cell_type": "code",
   "execution_count": 18,
   "id": "3b26c14e",
   "metadata": {},
   "outputs": [
    {
     "data": {
      "text/plain": [
       "BertModel(\n",
       "  (embeddings): BertEmbeddings(\n",
       "    (word_embeddings): Embedding(30522, 768, padding_idx=0)\n",
       "    (position_embeddings): Embedding(512, 768)\n",
       "    (token_type_embeddings): Embedding(2, 768)\n",
       "    (LayerNorm): LayerNorm((768,), eps=1e-12, elementwise_affine=True)\n",
       "    (dropout): Dropout(p=0.1, inplace=False)\n",
       "  )\n",
       "  (encoder): BertEncoder(\n",
       "    (layer): ModuleList(\n",
       "      (0-11): 12 x BertLayer(\n",
       "        (attention): BertAttention(\n",
       "          (self): BertSdpaSelfAttention(\n",
       "            (query): Linear(in_features=768, out_features=768, bias=True)\n",
       "            (key): Linear(in_features=768, out_features=768, bias=True)\n",
       "            (value): Linear(in_features=768, out_features=768, bias=True)\n",
       "            (dropout): Dropout(p=0.1, inplace=False)\n",
       "          )\n",
       "          (output): BertSelfOutput(\n",
       "            (dense): Linear(in_features=768, out_features=768, bias=True)\n",
       "            (LayerNorm): LayerNorm((768,), eps=1e-12, elementwise_affine=True)\n",
       "            (dropout): Dropout(p=0.1, inplace=False)\n",
       "          )\n",
       "        )\n",
       "        (intermediate): BertIntermediate(\n",
       "          (dense): Linear(in_features=768, out_features=3072, bias=True)\n",
       "          (intermediate_act_fn): GELUActivation()\n",
       "        )\n",
       "        (output): BertOutput(\n",
       "          (dense): Linear(in_features=3072, out_features=768, bias=True)\n",
       "          (LayerNorm): LayerNorm((768,), eps=1e-12, elementwise_affine=True)\n",
       "          (dropout): Dropout(p=0.1, inplace=False)\n",
       "        )\n",
       "      )\n",
       "    )\n",
       "  )\n",
       "  (pooler): BertPooler(\n",
       "    (dense): Linear(in_features=768, out_features=768, bias=True)\n",
       "    (activation): Tanh()\n",
       "  )\n",
       ")"
      ]
     },
     "execution_count": 18,
     "metadata": {},
     "output_type": "execute_result"
    }
   ],
   "source": [
    "# BERT load \n",
    "tokenizer = BertTokenizer.from_pretrained(\"bert-base-uncased\")\n",
    "model = BertModel.from_pretrained(\"bert-base-uncased\")\n",
    "\n",
    "device = torch.device(\"cuda\" if torch.cuda.is_available() else \"cpu\")\n",
    "model.to(device)\n",
    "model.eval()"
   ]
  },
  {
   "cell_type": "code",
   "execution_count": 19,
   "id": "a0883542",
   "metadata": {},
   "outputs": [],
   "source": [
    "# BERT embedding extract \n",
    "\n",
    "## CLS 벡터 추출 함수 정의 \n",
    "\n",
    "def extract_cls_embedding(text):\n",
    "    encoding = tokenizer(text,\n",
    "                         max_length=32,\n",
    "                         truncation=True,\n",
    "                         padding='max_length',\n",
    "                         return_tensors='pt')\n",
    "    input_ids_tensor = encoding['input_ids'].to(device)\n",
    "    attention_mask_tensor = encoding['attention_mask'].to(device)\n",
    "    \n",
    "    with torch.no_grad():\n",
    "        outputs = model(input_ids=input_ids_tensor, attention_mask=attention_mask_tensor)\n",
    "        cls_embedding = outputs.last_hidden_state[:, 0, :].squeeze().cpu().numpy()\n",
    "    return cls_embedding"
   ]
  },
  {
   "cell_type": "code",
   "execution_count": 20,
   "id": "13a5cd19",
   "metadata": {},
   "outputs": [],
   "source": [
    "import numpy as np\n",
    "embeddings = np.load(\"title_cls_embeddings.npy\")"
   ]
  },
  {
   "cell_type": "markdown",
   "id": "536b5351",
   "metadata": {},
   "source": [
    "Modeling#2 category별 Model 구축"
   ]
  },
  {
   "cell_type": "code",
   "execution_count": 21,
   "id": "9360721b",
   "metadata": {},
   "outputs": [],
   "source": [
    "# category별 데이터 수 확인 \n",
    "category_counts = df['category_name'].value_counts().sort_values(ascending=True)"
   ]
  },
  {
   "cell_type": "code",
   "execution_count": 22,
   "id": "0da5a930",
   "metadata": {},
   "outputs": [
    {
     "data": {
      "image/png": "[encoded data removed]",
      "text/plain": [
       "<Figure size 720x432 with 1 Axes>"
      ]
     },
     "metadata": {
      "needs_background": "light"
     },
     "output_type": "display_data"
    }
   ],
   "source": [
    "plt.figure(figsize=(10, 6))\n",
    "category_counts.plot(kind='barh', color='skyblue')\n",
    "\n",
    "plt.title(\"카테고리별 데이터 샘플 수\", fontsize=14)\n",
    "plt.xlabel(\"샘플 수\", fontsize=12)\n",
    "plt.ylabel(\"category_id\", fontsize=12)\n",
    "plt.grid(axis='x', linestyle='--', alpha=0.5)\n",
    "plt.tight_layout()\n",
    "plt.show()"
   ]
  },
  {
   "cell_type": "code",
   "execution_count": 23,
   "id": "85d80df4",
   "metadata": {},
   "outputs": [
    {
     "name": "stderr",
     "output_type": "stream",
     "text": [
      "C:\\Users\\user\\AppData\\Local\\Temp\\ipykernel_2684\\3614589385.py:2: SettingWithCopyWarning: \n",
      "A value is trying to be set on a copy of a slice from a DataFrame.\n",
      "Try using .loc[row_indexer,col_indexer] = value instead\n",
      "\n",
      "See the caveats in the documentation: https://pandas.pydata.org/pandas-docs/stable/user_guide/indexing.html#returning-a-view-versus-a-copy\n",
      "  category_df['title_embedding'] = list(embeddings)\n"
     ]
    }
   ],
   "source": [
    "# BERT embedding에 category 결합\n",
    "category_df['title_embedding'] = list(embeddings)"
   ]
  },
  {
   "cell_type": "markdown",
   "id": "9a68b049",
   "metadata": {},
   "source": [
    "Howto&style 파라미터튜닝(랜덤서치 사용)"
   ]
  },
  {
   "cell_type": "code",
   "execution_count": 24,
   "id": "a18e6f2c",
   "metadata": {},
   "outputs": [],
   "source": [
    "# category filtering\n",
    "cat_name = \"Howto & Style\"\n",
    "group = category_df[category_df['category_id'] == 26]\n",
    "\n",
    "X = np.vstack(group['title_embedding'].values)\n",
    "y = group['log_views']\n",
    "\n",
    "X_train, X_test, y_train, y_test = train_test_split(\n",
    "    X, y, test_size=0.2, random_state=42)"
   ]
  },
  {
   "cell_type": "markdown",
   "id": "4eb55ca5",
   "metadata": {},
   "source": [
    "Howto&style - Lasso(랜덤서치)"
   ]
  },
  {
   "cell_type": "code",
   "execution_count": 25,
   "id": "ad060ff1",
   "metadata": {},
   "outputs": [
    {
     "name": "stdout",
     "output_type": "stream",
     "text": [
      "Fitting 5 folds for each of 30 candidates, totalling 150 fits\n",
      "Category: Howto & Style\n",
      "Model: Lasso (randomSearch)\n",
      "Best alpha for Lasso: {'alpha': 1.8997763474111278e-05}\n",
      "RMSE: 0.616\n",
      "R²: 0.7916\n",
      "Spearman: 0.9461\n"
     ]
    },
    {
     "name": "stderr",
     "output_type": "stream",
     "text": [
      "C:\\Users\\user\\AppData\\Roaming\\Python\\Python39\\site-packages\\sklearn\\linear_model\\_coordinate_descent.py:695: ConvergenceWarning: Objective did not converge. You might want to increase the number of iterations, check the scale of the features or consider increasing regularisation. Duality gap: 3.103e+01, tolerance: 5.771e-01\n",
      "  model = cd_fast.enet_coordinate_descent(\n"
     ]
    }
   ],
   "source": [
    "from sklearn.linear_model import Lasso\n",
    "from sklearn.model_selection import RandomizedSearchCV\n",
    "from sklearn.metrics import mean_squared_error, r2_score\n",
    "from scipy.stats import loguniform\n",
    "\n",
    "# 1. 모델 정의\n",
    "lasso = Lasso(random_state=42, max_iter=10000)\n",
    "\n",
    "# 2. 탐색할 하이퍼파라미터 범위 정의\n",
    "param_distributions = {\n",
    "    'alpha': loguniform(1e-5, 10)  # 로그 스케일로 탐색\n",
    "}\n",
    "\n",
    "# 3. RandomizedSearchCV\n",
    "random_search_lasso = RandomizedSearchCV(\n",
    "    lasso,\n",
    "    param_distributions=param_distributions,\n",
    "    n_iter=30,\n",
    "    scoring='neg_mean_squared_error',\n",
    "    cv=5,\n",
    "    random_state=42,\n",
    "    verbose=1,\n",
    "    n_jobs=-1\n",
    ")\n",
    "\n",
    "# 4. 학습\n",
    "random_search_lasso.fit(X_train, y_train)\n",
    "\n",
    "# 5. 예측 및 평가\n",
    "y_pred = random_search_lasso.predict(X_test)\n",
    "rmse = np.sqrt(mean_squared_error(y_test, y_pred))\n",
    "r2 = r2_score(y_test, y_pred)\n",
    "spearman_corr = spearmanr(y_test, y_pred).correlation if np.std(y_pred) > 0 else np.nan\n",
    "\n",
    "# 6. 결과 출력\n",
    "print(\"Category:\", cat_name)\n",
    "print(\"Model: Lasso (randomSearch)\")\n",
    "print(\"Best alpha for Lasso:\", random_search_lasso.best_params_)\n",
    "print(\"RMSE:\", round(rmse, 4))\n",
    "print(\"R²:\", round(r2, 4))\n",
    "print(\"Spearman:\", \"NaN\" if np.isnan(spearman_corr) else round(spearman_corr, 4))\n",
    "\n",
    "# 7. 결과 저장\n",
    "lasso_random_df = pd.DataFrame([{\n",
    "    \"Category\": cat_name,\n",
    "    \"Model\": \"Lasso (random search)\",\n",
    "    \"Alpha\": random_search_lasso.best_params_['alpha'],\n",
    "    \"RMSE\": rmse,\n",
    "    \"R²\": r2,\n",
    "    \"Spearman\": spearman_corr\n",
    "}])\n"
   ]
  },
  {
   "cell_type": "markdown",
   "id": "8789b6e3",
   "metadata": {},
   "source": [
    "Howto&style - Linear Regression"
   ]
  },
  {
   "cell_type": "code",
   "execution_count": 26,
   "id": "cce7123a",
   "metadata": {},
   "outputs": [
    {
     "name": "stdout",
     "output_type": "stream",
     "text": [
      "Category: Howto & Style\n",
      "Model: LinearRegression\n",
      "RMSE: 0.577\n",
      "R²: 0.8171\n",
      "Spearman: 0.9453\n"
     ]
    }
   ],
   "source": [
    "from sklearn.linear_model import LinearRegression\n",
    "from sklearn.metrics import mean_squared_error, r2_score\n",
    "from scipy.stats import spearmanr\n",
    "\n",
    "# LinearRegression 모델 정의 및 학습\n",
    "linear = LinearRegression()\n",
    "linear.fit(X_train, y_train)\n",
    "y_pred = linear.predict(X_test)\n",
    "\n",
    "# 성능 지표 계산\n",
    "rmse = np.sqrt(mean_squared_error(y_test, y_pred))\n",
    "r2 = r2_score(y_test, y_pred)\n",
    "spearman_corr = spearmanr(y_test, y_pred).correlation if np.std(y_pred) > 0 else np.nan\n",
    "\n",
    "# 결과 출력\n",
    "print(\"Category:\", cat_name)\n",
    "print(\"Model: LinearRegression\")\n",
    "print(\"RMSE:\", round(rmse, 4))\n",
    "print(\"R²:\", round(r2, 4))\n",
    "print(\"Spearman:\", \"NaN\" if np.isnan(spearman_corr) else round(spearman_corr, 4))\n",
    "\n",
    "# 결과 저장\n",
    "linear_results_df = pd.DataFrame([{\n",
    "    \"Category\": cat_name,\n",
    "    \"Model\": \"LinearRegression\",\n",
    "    \"Alpha\": None,\n",
    "    \"RMSE\": rmse,\n",
    "    \"R²\": r2,\n",
    "    \"Spearman\": spearman_corr\n",
    "}])\n"
   ]
  },
  {
   "cell_type": "markdown",
   "id": "81da0f17",
   "metadata": {},
   "source": [
    "Howto&style - Ridge(랜덤서치)"
   ]
  },
  {
   "cell_type": "code",
   "execution_count": 27,
   "id": "3e21b85e",
   "metadata": {},
   "outputs": [
    {
     "name": "stdout",
     "output_type": "stream",
     "text": [
      "Fitting 5 folds for each of 30 candidates, totalling 150 fits\n",
      "Category: Howto & Style\n",
      "Model: Ridge (RandomizedSearch)\n",
      "Best alpha: 0.17718847354806813\n",
      "RMSE: 0.5503\n",
      "R²: 0.8336\n",
      "Spearman: 0.9456\n"
     ]
    }
   ],
   "source": [
    "from sklearn.linear_model import Ridge\n",
    "from sklearn.model_selection import RandomizedSearchCV\n",
    "from sklearn.metrics import mean_squared_error, r2_score\n",
    "from scipy.stats import loguniform \n",
    "from tqdm import tqdm\n",
    "\n",
    " # 로그 스케일 사용\n",
    "\n",
    "\n",
    "# 1. 파라미터 분포 정의\n",
    "param_dist = {\n",
    "    'alpha': loguniform(1e-5, 10)\n",
    "}\n",
    "\n",
    "# 2. 모델 및 랜덤 서치 설정\n",
    "ridge = Ridge()\n",
    "randomsearch_ridge = RandomizedSearchCV(\n",
    "    ridge,\n",
    "    param_distributions=param_dist,\n",
    "    n_iter=30,\n",
    "    scoring='neg_mean_squared_error',\n",
    "    cv=5,\n",
    "    random_state=42,\n",
    "    verbose=1,\n",
    "    n_jobs=-1\n",
    ")\n",
    "\n",
    "# 3. 학습\n",
    "randomsearch_ridge.fit(X_train, y_train)\n",
    "\n",
    "# 4. 예측 및 평가\n",
    "y_pred = randomsearch_ridge.predict(X_test)\n",
    "rmse = np.sqrt(mean_squared_error(y_test, y_pred))\n",
    "r2 = r2_score(y_test, y_pred)\n",
    "spearman_corr = spearmanr(y_test, y_pred).correlation if np.std(y_pred) > 0 else np.nan\n",
    "\n",
    "# 5. 결과 출력\n",
    "print(\"Category:\", cat_name)\n",
    "print(\"Model: Ridge (RandomizedSearch)\")\n",
    "print(\"Best alpha:\", randomsearch_ridge.best_params_['alpha'])\n",
    "print(\"RMSE:\", round(rmse, 4))\n",
    "print(\"R²:\", round(r2, 4))\n",
    "print(\"Spearman:\", \"NaN\" if np.isnan(spearman_corr) else round(spearman_corr, 4))\n",
    "\n",
    "# 6. 저장\n",
    "ridge_random_df = pd.DataFrame([{\n",
    "    \"Category\": cat_name,\n",
    "    \"Model\": \"Ridge (random)\",\n",
    "    \"Alpha\": randomsearch_ridge.best_params_['alpha'],\n",
    "    \"RMSE\": rmse,\n",
    "    \"R²\": r2,\n",
    "    \"Spearman\": spearman_corr\n",
    "}])\n"
   ]
  },
  {
   "cell_type": "markdown",
   "id": "24452707",
   "metadata": {},
   "source": [
    "Howto&style - RF(랜덤서치)"
   ]
  },
  {
   "cell_type": "code",
   "execution_count": 28,
   "id": "3d5768c7",
   "metadata": {},
   "outputs": [
    {
     "name": "stdout",
     "output_type": "stream",
     "text": [
      "Fitting 5 folds for each of 30 candidates, totalling 150 fits\n",
      "Category: Howto & Style\n",
      "Model: Random Forest (RandomizedSearch)\n",
      "Best params: {'max_depth': 29, 'max_features': 'sqrt', 'min_samples_leaf': 1, 'min_samples_split': 4, 'n_estimators': 234}\n",
      "RMSE: 0.4337\n",
      "R²: 0.8967\n",
      "Spearman: 0.963\n"
     ]
    }
   ],
   "source": [
    "from sklearn.ensemble import RandomForestRegressor\n",
    "from sklearn.model_selection import RandomizedSearchCV\n",
    "from scipy.stats import randint\n",
    "\n",
    "# 1. 하이퍼파라미터 탐색 공간 정의\n",
    "param_dist = {\n",
    "    'n_estimators': randint(100, 300),\n",
    "    'max_depth': randint(5, 30),\n",
    "    'min_samples_split': randint(2, 10),\n",
    "    'min_samples_leaf': randint(1, 5),\n",
    "    'max_features': ['sqrt', 'log2']\n",
    "}\n",
    "\n",
    "# 2. 모델 및 랜덤 서치 정의\n",
    "rf = RandomForestRegressor(random_state=42, n_jobs=-1)\n",
    "randomsearch_rf = RandomizedSearchCV(\n",
    "    rf,\n",
    "    param_distributions=param_dist,\n",
    "    n_iter=30,\n",
    "    scoring='neg_mean_squared_error',\n",
    "    cv=5,\n",
    "    verbose=1,\n",
    "    random_state=42,\n",
    "    n_jobs=-1\n",
    ")\n",
    "\n",
    "# 3. 학습\n",
    "randomsearch_rf.fit(X_train, y_train)\n",
    "\n",
    "# 4. 예측 및 평가\n",
    "y_pred = randomsearch_rf.predict(X_test)\n",
    "rmse = np.sqrt(mean_squared_error(y_test, y_pred))\n",
    "r2 = r2_score(y_test, y_pred)\n",
    "spearman_corr = spearmanr(y_test, y_pred).correlation if np.std(y_pred) > 0 else np.nan\n",
    "\n",
    "# 5. 출력\n",
    "print(\"Category:\", cat_name)\n",
    "print(\"Model: Random Forest (RandomizedSearch)\")\n",
    "print(\"Best params:\", randomsearch_rf.best_params_)\n",
    "print(\"RMSE:\", round(rmse, 4))\n",
    "print(\"R²:\", round(r2, 4))\n",
    "print(\"Spearman:\", \"NaN\" if np.isnan(spearman_corr) else round(spearman_corr, 4))\n",
    "\n",
    "# 6. 결과 저장\n",
    "rf_random_df = pd.DataFrame([{\n",
    "    \"Category\": cat_name,\n",
    "    \"Model\": \"RandomForest (random)\",\n",
    "    \"Alpha\": None,\n",
    "    \"RMSE\": rmse,\n",
    "    \"R²\": r2,\n",
    "    \"Spearman\": spearman_corr\n",
    "}])\n"
   ]
  },
  {
   "cell_type": "markdown",
   "id": "18569133",
   "metadata": {},
   "source": [
    "Howto&style - gradient(랜덤서치)"
   ]
  },
  {
   "cell_type": "code",
   "execution_count": 1,
   "id": "632021b3",
   "metadata": {},
   "outputs": [
    {
     "ename": "NameError",
     "evalue": "name 'X_train' is not defined",
     "output_type": "error",
     "traceback": [
      "\u001b[1;31m---------------------------------------------------------------------------\u001b[0m",
      "\u001b[1;31mNameError\u001b[0m                                 Traceback (most recent call last)",
      "Input \u001b[1;32mIn [1]\u001b[0m, in \u001b[0;36m<cell line: 28>\u001b[1;34m()\u001b[0m\n\u001b[0;32m     16\u001b[0m randomsearch_gbr \u001b[38;5;241m=\u001b[39m RandomizedSearchCV(\n\u001b[0;32m     17\u001b[0m     gbr,\n\u001b[0;32m     18\u001b[0m     param_distributions\u001b[38;5;241m=\u001b[39mparam_dist,\n\u001b[1;32m   (...)\u001b[0m\n\u001b[0;32m     24\u001b[0m     n_jobs\u001b[38;5;241m=\u001b[39m\u001b[38;5;241m-\u001b[39m\u001b[38;5;241m1\u001b[39m\n\u001b[0;32m     25\u001b[0m )\n\u001b[0;32m     27\u001b[0m \u001b[38;5;66;03m# 3. 모델 학습\u001b[39;00m\n\u001b[1;32m---> 28\u001b[0m randomsearch_gbr\u001b[38;5;241m.\u001b[39mfit(\u001b[43mX_train\u001b[49m, y_train)\n\u001b[0;32m     30\u001b[0m \u001b[38;5;66;03m# 4. 예측 및 평가\u001b[39;00m\n\u001b[0;32m     31\u001b[0m y_pred \u001b[38;5;241m=\u001b[39m randomsearch_gbr\u001b[38;5;241m.\u001b[39mpredict(X_test)\n",
      "\u001b[1;31mNameError\u001b[0m: name 'X_train' is not defined"
     ]
    }
   ],
   "source": [
    "from sklearn.ensemble import GradientBoostingRegressor\n",
    "from sklearn.model_selection import RandomizedSearchCV\n",
    "from scipy.stats import randint, uniform\n",
    "\n",
    "# 1. 하이퍼파라미터 분포 정의\n",
    "param_dist = {\n",
    "    'n_estimators': randint(100, 300),\n",
    "    'learning_rate': uniform(0.01, 0.3),\n",
    "    'max_depth': randint(3, 10),\n",
    "    'min_samples_split': randint(2, 10),\n",
    "    'subsample': uniform(0.6, 0.4)  # 0.6 ~ 1.0\n",
    "}\n",
    "\n",
    "# 2. 모델과 랜덤 서치 설정\n",
    "gbr = GradientBoostingRegressor(random_state=42)\n",
    "randomsearch_gbr = RandomizedSearchCV(\n",
    "    gbr,\n",
    "    param_distributions=param_dist,\n",
    "    n_iter=30,\n",
    "    scoring='neg_mean_squared_error',\n",
    "    cv=5,\n",
    "    verbose=1,\n",
    "    random_state=42,\n",
    "    n_jobs=-1\n",
    ")\n",
    "\n",
    "# 3. 모델 학습\n",
    "randomsearch_gbr.fit(X_train, y_train)\n",
    "\n",
    "# 4. 예측 및 평가\n",
    "y_pred = randomsearch_gbr.predict(X_test)\n",
    "rmse = np.sqrt(mean_squared_error(y_test, y_pred))\n",
    "r2 = r2_score(y_test, y_pred)\n",
    "spearman_corr = spearmanr(y_test, y_pred).correlation if np.std(y_pred) > 0 else np.nan\n",
    "\n",
    "# 5. 결과 출력\n",
    "print(\"Category:\", cat_name)\n",
    "print(\"Model: GradientBoosting (RandomizedSearch)\")\n",
    "print(\"Best params:\", randomsearch_gbr.best_params_)\n",
    "print(\"RMSE:\", round(rmse, 4))\n",
    "print(\"R²:\", round(r2, 4))\n",
    "print(\"Spearman:\", \"NaN\" if np.isnan(spearman_corr) else round(spearman_corr, 4))\n",
    "\n",
    "# 6. 결과 저장\n",
    "gbr_random_df = pd.DataFrame([{\n",
    "    \"Category\": cat_name,\n",
    "    \"Model\": \"GradientBoosting (random)\",\n",
    "    \"Alpha\": None,\n",
    "    \"RMSE\": rmse,\n",
    "    \"R²\": r2,\n",
    "    \"Spearman\": spearman_corr\n",
    "}])\n"
   ]
  },
  {
   "cell_type": "code",
   "execution_count": null,
   "id": "3745ef99",
   "metadata": {},
   "outputs": [],
   "source": [
    "# 모델별 결과 DataFrame 합치기\n",
    "all_results = pd.concat([\n",
    "    lasso_random_df,\n",
    "    linear_results_df,\n",
    "    ridge_random_df,\n",
    "    rf_random_df,\n",
    "    gbr_random_df\n",
    "], ignore_index=True)"
   ]
  },
  {
   "cell_type": "code",
   "execution_count": null,
   "id": "b30a8d1c",
   "metadata": {},
   "outputs": [],
   "source": [
    "#시각화를 위한 변환 (wide → long)\n",
    "results_long = all_results.melt(\n",
    "    id_vars=\"Model\", \n",
    "    value_vars=[\"RMSE\", \"R²\", \"Spearman\"],\n",
    "    var_name=\"Metric\", \n",
    "    value_name=\"Score\"\n",
    ")\n",
    "\n",
    "# 선 그래프(line chart)로 시각화\n",
    "plt.figure(figsize=(10, 6))\n",
    "for metric in results_long[\"Metric\"].unique():\n",
    "    subset = results_long[results_long[\"Metric\"] == metric]\n",
    "    plt.plot(subset[\"Model\"], subset[\"Score\"], marker='o', label=metric)\n",
    "\n",
    "plt.title(\"Model Performance Comparison\")\n",
    "plt.xlabel(\"Model\")\n",
    "plt.ylabel(\"Score\")\n",
    "plt.xticks(rotation=45)\n",
    "plt.legend(title=\"Metric\")\n",
    "plt.grid(True)\n",
    "plt.tight_layout()\n",
    "plt.show()"
   ]
  },
  {
   "cell_type": "code",
   "execution_count": null,
   "id": "feb47003",
   "metadata": {},
   "outputs": [],
   "source": [
    "# 성능 지표 기준으로 정렬 (예: RMSE 기준 오름차순 정렬)\n",
    "all_results_random_df_sorted = all_results_random_df.sort_values(by=\"RMSE\")\n",
    "\n",
    "# 테이블 출력\n",
    "import pandas as pd\n",
    "from IPython.display import display\n",
    "\n",
    "display(all_results_random_df_sorted)"
   ]
  },
  {
   "cell_type": "code",
   "execution_count": null,
   "id": "8dc13086",
   "metadata": {},
   "outputs": [],
   "source": []
  }
 ],
 "metadata": {
  "kernelspec": {
   "display_name": "Python 3 (ipykernel)",
   "language": "python",
   "name": "python3"
  },
  "language_info": {
   "codemirror_mode": {
    "name": "ipython",
    "version": 3
   },
   "file_extension": ".py",
   "mimetype": "text/x-python",
   "name": "python",
   "nbconvert_exporter": "python",
   "pygments_lexer": "ipython3",
   "version": "3.9.12"
  }
 },
 "nbformat": 4,
 "nbformat_minor": 5
}
