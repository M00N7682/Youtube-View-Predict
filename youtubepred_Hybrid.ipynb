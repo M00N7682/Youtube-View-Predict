{
 "cells": [
  {
   "cell_type": "markdown",
   "id": "a3ed2c5f-af93-4b50-beab-41f2e7de2e24",
   "metadata": {
    "jp-MarkdownHeadingCollapsed": true
   },
   "source": [
    "## 라이브러리 임포트"
   ]
  },
  {
   "cell_type": "code",
   "execution_count": 2,
   "id": "72d34ba5-d408-474a-9c8d-b2c674a2db9f",
   "metadata": {},
   "outputs": [],
   "source": [
    "# Library import - data preprocessing \n",
    "import pandas as pd\n",
    "import numpy as np\n",
    "import os\n",
    "from sklearn.preprocessing import OneHotEncoder"
   ]
  },
  {
   "cell_type": "code",
   "execution_count": 3,
   "id": "0ec76e0f-1eb5-427e-b925-5125c8e0397c",
   "metadata": {},
   "outputs": [],
   "source": [
    "## Models\n",
    "from sklearn.linear_model import LinearRegression, Ridge, Lasso\n",
    "from sklearn.ensemble import RandomForestRegressor, GradientBoostingRegressor"
   ]
  },
  {
   "cell_type": "code",
   "execution_count": 43,
   "id": "557c35e1-bb72-4d33-91df-f653cb3b9176",
   "metadata": {},
   "outputs": [],
   "source": [
    "from transformers import BertTokenizer, BertModel"
   ]
  },
  {
   "cell_type": "code",
   "execution_count": 4,
   "id": "37baa5fd-f6ec-40dc-91a6-5e0fd2335b9b",
   "metadata": {},
   "outputs": [],
   "source": [
    "# torch\n",
    "import torch "
   ]
  },
  {
   "cell_type": "code",
   "execution_count": 5,
   "id": "96b86bfe-e72c-4b07-8f17-865918eef0bb",
   "metadata": {},
   "outputs": [],
   "source": [
    "# 평가지표\n",
    "from sklearn.model_selection import train_test_split\n",
    "from sklearn.metrics import root_mean_squared_error, mean_absolute_error, r2_score, mean_squared_error\n",
    "from scipy.stats import spearmanr"
   ]
  },
  {
   "cell_type": "code",
   "execution_count": 6,
   "id": "6794f794-f953-48c0-b696-42643140db7b",
   "metadata": {},
   "outputs": [],
   "source": [
    "# visulazation\n",
    "import matplotlib.pyplot as plt\n",
    "import seaborn as sns\n",
    "import json"
   ]
  },
  {
   "cell_type": "code",
   "execution_count": 7,
   "id": "023ca9e8-d966-4597-b093-a5f630963533",
   "metadata": {},
   "outputs": [],
   "source": [
    "# font manager\n",
    "import matplotlib.font_manager as fm\n",
    "\n",
    "# 한글 폰트 설정\n",
    "plt.rcParams['font.family'] = 'Malgun Gothic'\n",
    "plt.rcParams['axes.unicode_minus'] = False"
   ]
  },
  {
   "cell_type": "code",
   "execution_count": 8,
   "id": "126e9ea2-c6c5-464c-b670-e9dcf6576b8c",
   "metadata": {},
   "outputs": [],
   "source": [
    "# tqdm\n",
    "from tqdm import tqdm"
   ]
  },
  {
   "cell_type": "code",
   "execution_count": 9,
   "id": "4f950911-ce76-421c-a4bd-5cca971fcaf3",
   "metadata": {},
   "outputs": [],
   "source": [
    "# kaggle hub\n",
    "import kagglehub\n",
    "from kagglehub import KaggleDatasetAdapter"
   ]
  },
  {
   "cell_type": "code",
   "execution_count": 10,
   "id": "86a258f1-cfbc-42b1-85b2-e59ee9ce000b",
   "metadata": {},
   "outputs": [],
   "source": [
    "from sklearn.feature_extraction.text import TfidfVectorizer"
   ]
  },
  {
   "cell_type": "code",
   "execution_count": 11,
   "id": "10736404-62b1-4b4f-bc21-aa9c0fe907c4",
   "metadata": {},
   "outputs": [],
   "source": [
    "import re"
   ]
  },
  {
   "cell_type": "code",
   "execution_count": 12,
   "id": "a1b6aab2-3ccf-4dc3-8b7d-879f2c2d0091",
   "metadata": {},
   "outputs": [],
   "source": [
    "from sklearn.preprocessing import StandardScaler"
   ]
  },
  {
   "cell_type": "code",
   "execution_count": 13,
   "id": "a091d8bd-c110-4e33-9010-7f05223c5f42",
   "metadata": {},
   "outputs": [],
   "source": [
    "import nltk\n",
    "from nltk.tokenize import word_tokenize\n",
    "from nltk.corpus import stopwords\n",
    "from nltk import pos_tag"
   ]
  },
  {
   "cell_type": "code",
   "execution_count": 14,
   "id": "6fc7f43c-28b1-4290-84fd-5f72db3cae7e",
   "metadata": {},
   "outputs": [
    {
     "name": "stderr",
     "output_type": "stream",
     "text": [
      "[nltk_data] Downloading package punkt to\n",
      "[nltk_data]     C:\\Users\\wonny\\AppData\\Roaming\\nltk_data...\n",
      "[nltk_data]   Package punkt is already up-to-date!\n",
      "[nltk_data] Downloading package averaged_perceptron_tagger to\n",
      "[nltk_data]     C:\\Users\\wonny\\AppData\\Roaming\\nltk_data...\n",
      "[nltk_data]   Package averaged_perceptron_tagger is already up-to-\n",
      "[nltk_data]       date!\n",
      "[nltk_data] Downloading package stopwords to\n",
      "[nltk_data]     C:\\Users\\wonny\\AppData\\Roaming\\nltk_data...\n",
      "[nltk_data]   Package stopwords is already up-to-date!\n"
     ]
    },
    {
     "data": {
      "text/plain": [
       "True"
      ]
     },
     "execution_count": 14,
     "metadata": {},
     "output_type": "execute_result"
    }
   ],
   "source": [
    "nltk.download('punkt')\n",
    "nltk.download('averaged_perceptron_tagger')\n",
    "nltk.download('stopwords')"
   ]
  },
  {
   "cell_type": "code",
   "execution_count": 15,
   "id": "a08d70d8-eac8-4520-9bba-da42191aaf93",
   "metadata": {},
   "outputs": [
    {
     "name": "stdout",
     "output_type": "stream",
     "text": [
      "Requirement already satisfied: spacy in c:\\users\\wonny\\anaconda3\\envs\\youtubeprediction\\lib\\site-packages (3.8.7)\n",
      "Requirement already satisfied: spacy-legacy<3.1.0,>=3.0.11 in c:\\users\\wonny\\anaconda3\\envs\\youtubeprediction\\lib\\site-packages (from spacy) (3.0.12)\n",
      "Requirement already satisfied: spacy-loggers<2.0.0,>=1.0.0 in c:\\users\\wonny\\anaconda3\\envs\\youtubeprediction\\lib\\site-packages (from spacy) (1.0.5)\n",
      "Requirement already satisfied: murmurhash<1.1.0,>=0.28.0 in c:\\users\\wonny\\anaconda3\\envs\\youtubeprediction\\lib\\site-packages (from spacy) (1.0.13)\n",
      "Requirement already satisfied: cymem<2.1.0,>=2.0.2 in c:\\users\\wonny\\anaconda3\\envs\\youtubeprediction\\lib\\site-packages (from spacy) (2.0.11)\n",
      "Requirement already satisfied: preshed<3.1.0,>=3.0.2 in c:\\users\\wonny\\anaconda3\\envs\\youtubeprediction\\lib\\site-packages (from spacy) (3.0.10)\n",
      "Requirement already satisfied: thinc<8.4.0,>=8.3.4 in c:\\users\\wonny\\anaconda3\\envs\\youtubeprediction\\lib\\site-packages (from spacy) (8.3.6)\n",
      "Requirement already satisfied: wasabi<1.2.0,>=0.9.1 in c:\\users\\wonny\\anaconda3\\envs\\youtubeprediction\\lib\\site-packages (from spacy) (1.1.3)\n",
      "Requirement already satisfied: srsly<3.0.0,>=2.4.3 in c:\\users\\wonny\\anaconda3\\envs\\youtubeprediction\\lib\\site-packages (from spacy) (2.5.1)\n",
      "Requirement already satisfied: catalogue<2.1.0,>=2.0.6 in c:\\users\\wonny\\anaconda3\\envs\\youtubeprediction\\lib\\site-packages (from spacy) (2.0.10)\n",
      "Requirement already satisfied: weasel<0.5.0,>=0.1.0 in c:\\users\\wonny\\anaconda3\\envs\\youtubeprediction\\lib\\site-packages (from spacy) (0.4.1)\n",
      "Requirement already satisfied: typer<1.0.0,>=0.3.0 in c:\\users\\wonny\\anaconda3\\envs\\youtubeprediction\\lib\\site-packages (from spacy) (0.16.0)\n",
      "Requirement already satisfied: tqdm<5.0.0,>=4.38.0 in c:\\users\\wonny\\appdata\\roaming\\python\\python310\\site-packages (from spacy) (4.66.4)\n",
      "Requirement already satisfied: numpy>=1.19.0 in c:\\users\\wonny\\anaconda3\\envs\\youtubeprediction\\lib\\site-packages (from spacy) (2.2.6)\n",
      "Requirement already satisfied: requests<3.0.0,>=2.13.0 in c:\\users\\wonny\\appdata\\roaming\\python\\python310\\site-packages (from spacy) (2.32.3)\n",
      "Requirement already satisfied: pydantic!=1.8,!=1.8.1,<3.0.0,>=1.7.4 in c:\\users\\wonny\\anaconda3\\envs\\youtubeprediction\\lib\\site-packages (from spacy) (2.11.5)\n",
      "Requirement already satisfied: jinja2 in c:\\users\\wonny\\anaconda3\\envs\\youtubeprediction\\lib\\site-packages (from spacy) (3.1.6)\n",
      "Requirement already satisfied: setuptools in c:\\users\\wonny\\anaconda3\\envs\\youtubeprediction\\lib\\site-packages (from spacy) (78.1.1)\n",
      "Requirement already satisfied: packaging>=20.0 in c:\\users\\wonny\\appdata\\roaming\\python\\python310\\site-packages (from spacy) (23.0)\n",
      "Requirement already satisfied: langcodes<4.0.0,>=3.2.0 in c:\\users\\wonny\\anaconda3\\envs\\youtubeprediction\\lib\\site-packages (from spacy) (3.5.0)\n",
      "Requirement already satisfied: language-data>=1.2 in c:\\users\\wonny\\anaconda3\\envs\\youtubeprediction\\lib\\site-packages (from langcodes<4.0.0,>=3.2.0->spacy) (1.3.0)\n",
      "Requirement already satisfied: annotated-types>=0.6.0 in c:\\users\\wonny\\anaconda3\\envs\\youtubeprediction\\lib\\site-packages (from pydantic!=1.8,!=1.8.1,<3.0.0,>=1.7.4->spacy) (0.7.0)\n",
      "Requirement already satisfied: pydantic-core==2.33.2 in c:\\users\\wonny\\anaconda3\\envs\\youtubeprediction\\lib\\site-packages (from pydantic!=1.8,!=1.8.1,<3.0.0,>=1.7.4->spacy) (2.33.2)\n",
      "Requirement already satisfied: typing-extensions>=4.12.2 in c:\\users\\wonny\\anaconda3\\envs\\youtubeprediction\\lib\\site-packages (from pydantic!=1.8,!=1.8.1,<3.0.0,>=1.7.4->spacy) (4.14.0)\n",
      "Requirement already satisfied: typing-inspection>=0.4.0 in c:\\users\\wonny\\anaconda3\\envs\\youtubeprediction\\lib\\site-packages (from pydantic!=1.8,!=1.8.1,<3.0.0,>=1.7.4->spacy) (0.4.1)\n",
      "Requirement already satisfied: charset-normalizer<4,>=2 in c:\\users\\wonny\\appdata\\roaming\\python\\python310\\site-packages (from requests<3.0.0,>=2.13.0->spacy) (3.3.2)\n",
      "Requirement already satisfied: idna<4,>=2.5 in c:\\users\\wonny\\appdata\\roaming\\python\\python310\\site-packages (from requests<3.0.0,>=2.13.0->spacy) (3.7)\n",
      "Requirement already satisfied: urllib3<3,>=1.21.1 in c:\\users\\wonny\\appdata\\roaming\\python\\python310\\site-packages (from requests<3.0.0,>=2.13.0->spacy) (2.2.1)\n",
      "Requirement already satisfied: certifi>=2017.4.17 in c:\\users\\wonny\\appdata\\roaming\\python\\python310\\site-packages (from requests<3.0.0,>=2.13.0->spacy) (2024.6.2)\n",
      "Requirement already satisfied: blis<1.4.0,>=1.3.0 in c:\\users\\wonny\\anaconda3\\envs\\youtubeprediction\\lib\\site-packages (from thinc<8.4.0,>=8.3.4->spacy) (1.3.0)\n",
      "Requirement already satisfied: confection<1.0.0,>=0.0.1 in c:\\users\\wonny\\anaconda3\\envs\\youtubeprediction\\lib\\site-packages (from thinc<8.4.0,>=8.3.4->spacy) (0.1.5)\n",
      "Requirement already satisfied: colorama in c:\\users\\wonny\\appdata\\roaming\\python\\python310\\site-packages (from tqdm<5.0.0,>=4.38.0->spacy) (0.4.6)\n",
      "Requirement already satisfied: click>=8.0.0 in c:\\users\\wonny\\anaconda3\\envs\\youtubeprediction\\lib\\site-packages (from typer<1.0.0,>=0.3.0->spacy) (8.2.1)\n",
      "Requirement already satisfied: shellingham>=1.3.0 in c:\\users\\wonny\\anaconda3\\envs\\youtubeprediction\\lib\\site-packages (from typer<1.0.0,>=0.3.0->spacy) (1.5.4)\n",
      "Requirement already satisfied: rich>=10.11.0 in c:\\users\\wonny\\appdata\\roaming\\python\\python310\\site-packages (from typer<1.0.0,>=0.3.0->spacy) (13.9.4)\n",
      "Requirement already satisfied: cloudpathlib<1.0.0,>=0.7.0 in c:\\users\\wonny\\anaconda3\\envs\\youtubeprediction\\lib\\site-packages (from weasel<0.5.0,>=0.1.0->spacy) (0.21.1)\n",
      "Requirement already satisfied: smart-open<8.0.0,>=5.2.1 in c:\\users\\wonny\\anaconda3\\envs\\youtubeprediction\\lib\\site-packages (from weasel<0.5.0,>=0.1.0->spacy) (7.1.0)\n",
      "Requirement already satisfied: MarkupSafe>=2.0 in c:\\users\\wonny\\appdata\\roaming\\python\\python310\\site-packages (from jinja2->spacy) (3.0.2)\n",
      "Requirement already satisfied: marisa-trie>=1.1.0 in c:\\users\\wonny\\anaconda3\\envs\\youtubeprediction\\lib\\site-packages (from language-data>=1.2->langcodes<4.0.0,>=3.2.0->spacy) (1.2.1)\n",
      "Requirement already satisfied: markdown-it-py>=2.2.0 in c:\\users\\wonny\\appdata\\roaming\\python\\python310\\site-packages (from rich>=10.11.0->typer<1.0.0,>=0.3.0->spacy) (3.0.0)\n",
      "Requirement already satisfied: pygments<3.0.0,>=2.13.0 in c:\\users\\wonny\\appdata\\roaming\\python\\python310\\site-packages (from rich>=10.11.0->typer<1.0.0,>=0.3.0->spacy) (2.14.0)\n",
      "Requirement already satisfied: wrapt in c:\\users\\wonny\\appdata\\roaming\\python\\python310\\site-packages (from smart-open<8.0.0,>=5.2.1->weasel<0.5.0,>=0.1.0->spacy) (1.16.0)\n",
      "Requirement already satisfied: mdurl~=0.1 in c:\\users\\wonny\\appdata\\roaming\\python\\python310\\site-packages (from markdown-it-py>=2.2.0->rich>=10.11.0->typer<1.0.0,>=0.3.0->spacy) (0.1.2)\n",
      "Note: you may need to restart the kernel to use updated packages.\n"
     ]
    },
    {
     "name": "stderr",
     "output_type": "stream",
     "text": [
      "\n",
      "[notice] A new release of pip is available: 24.0 -> 25.1.1\n",
      "[notice] To update, run: python.exe -m pip install --upgrade pip\n"
     ]
    }
   ],
   "source": [
    "pip install spacy"
   ]
  },
  {
   "cell_type": "code",
   "execution_count": 16,
   "id": "7c6d979e-01ba-4f32-84fe-59f39b524fbd",
   "metadata": {},
   "outputs": [
    {
     "name": "stdout",
     "output_type": "stream",
     "text": [
      "Collecting en-core-web-sm==3.8.0\n",
      "  Downloading https://github.com/explosion/spacy-models/releases/download/en_core_web_sm-3.8.0/en_core_web_sm-3.8.0-py3-none-any.whl (12.8 MB)\n",
      "     ---------------------------------------- 0.0/12.8 MB ? eta -:--:--\n",
      "     ---------------------------------------- 0.0/12.8 MB ? eta -:--:--\n",
      "     ---------------------------------------- 0.1/12.8 MB 1.1 MB/s eta 0:00:12\n",
      "     ---------------------------------------- 0.1/12.8 MB 1.1 MB/s eta 0:00:12\n",
      "      --------------------------------------- 0.2/12.8 MB 1.2 MB/s eta 0:00:11\n",
      "      --------------------------------------- 0.2/12.8 MB 1.1 MB/s eta 0:00:11\n",
      "      --------------------------------------- 0.3/12.8 MB 1.2 MB/s eta 0:00:11\n",
      "     - -------------------------------------- 0.3/12.8 MB 1.2 MB/s eta 0:00:11\n",
      "     - -------------------------------------- 0.4/12.8 MB 1.2 MB/s eta 0:00:11\n",
      "     - -------------------------------------- 0.5/12.8 MB 1.2 MB/s eta 0:00:11\n",
      "     - -------------------------------------- 0.5/12.8 MB 1.2 MB/s eta 0:00:11\n",
      "     - -------------------------------------- 0.6/12.8 MB 1.2 MB/s eta 0:00:11\n",
      "     - -------------------------------------- 0.6/12.8 MB 1.2 MB/s eta 0:00:11\n",
      "     -- ------------------------------------- 0.7/12.8 MB 1.2 MB/s eta 0:00:11\n",
      "     -- ------------------------------------- 0.7/12.8 MB 1.2 MB/s eta 0:00:11\n",
      "     -- ------------------------------------- 0.8/12.8 MB 1.2 MB/s eta 0:00:11\n",
      "     -- ------------------------------------- 0.8/12.8 MB 1.2 MB/s eta 0:00:11\n",
      "     -- ------------------------------------- 0.9/12.8 MB 1.2 MB/s eta 0:00:11\n",
      "     -- ------------------------------------- 1.0/12.8 MB 1.2 MB/s eta 0:00:11\n",
      "     --- ------------------------------------ 1.0/12.8 MB 1.2 MB/s eta 0:00:10\n",
      "     --- ------------------------------------ 1.1/12.8 MB 1.2 MB/s eta 0:00:11\n",
      "     --- ------------------------------------ 1.1/12.8 MB 1.2 MB/s eta 0:00:10\n",
      "     --- ------------------------------------ 1.2/12.8 MB 1.2 MB/s eta 0:00:10\n",
      "     --- ------------------------------------ 1.2/12.8 MB 1.2 MB/s eta 0:00:10\n",
      "     --- ------------------------------------ 1.3/12.8 MB 1.2 MB/s eta 0:00:10\n",
      "     ---- ----------------------------------- 1.3/12.8 MB 1.2 MB/s eta 0:00:10\n",
      "     ---- ----------------------------------- 1.4/12.8 MB 1.2 MB/s eta 0:00:10\n",
      "     ---- ----------------------------------- 1.5/12.8 MB 1.2 MB/s eta 0:00:10\n",
      "     ---- ----------------------------------- 1.5/12.8 MB 1.2 MB/s eta 0:00:10\n",
      "     ---- ----------------------------------- 1.5/12.8 MB 1.2 MB/s eta 0:00:10\n",
      "     ----- ---------------------------------- 1.6/12.8 MB 1.2 MB/s eta 0:00:10\n",
      "     ----- ---------------------------------- 1.7/12.8 MB 1.2 MB/s eta 0:00:10\n",
      "     ----- ---------------------------------- 1.7/12.8 MB 1.2 MB/s eta 0:00:10\n",
      "     ----- ---------------------------------- 1.8/12.8 MB 1.2 MB/s eta 0:00:10\n",
      "     ----- ---------------------------------- 1.8/12.8 MB 1.2 MB/s eta 0:00:10\n",
      "     ----- ---------------------------------- 1.9/12.8 MB 1.2 MB/s eta 0:00:10\n",
      "     ------ --------------------------------- 1.9/12.8 MB 1.2 MB/s eta 0:00:10\n",
      "     ------ --------------------------------- 2.0/12.8 MB 1.2 MB/s eta 0:00:10\n",
      "     ------ --------------------------------- 2.0/12.8 MB 1.2 MB/s eta 0:00:10\n",
      "     ------ --------------------------------- 2.1/12.8 MB 1.2 MB/s eta 0:00:10\n",
      "     ------ --------------------------------- 2.2/12.8 MB 1.2 MB/s eta 0:00:09\n",
      "     ------ --------------------------------- 2.2/12.8 MB 1.2 MB/s eta 0:00:09\n",
      "     ------- -------------------------------- 2.3/12.8 MB 1.2 MB/s eta 0:00:09\n",
      "     ------- -------------------------------- 2.3/12.8 MB 1.2 MB/s eta 0:00:09\n",
      "     ------- -------------------------------- 2.4/12.8 MB 1.2 MB/s eta 0:00:09\n",
      "     ------- -------------------------------- 2.4/12.8 MB 1.2 MB/s eta 0:00:09\n",
      "     ------- -------------------------------- 2.5/12.8 MB 1.2 MB/s eta 0:00:09\n",
      "     ------- -------------------------------- 2.5/12.8 MB 1.2 MB/s eta 0:00:09\n",
      "     -------- ------------------------------- 2.6/12.8 MB 1.2 MB/s eta 0:00:09\n",
      "     -------- ------------------------------- 2.7/12.8 MB 1.2 MB/s eta 0:00:09\n",
      "     -------- ------------------------------- 2.7/12.8 MB 1.2 MB/s eta 0:00:09\n",
      "     -------- ------------------------------- 2.8/12.8 MB 1.2 MB/s eta 0:00:09\n",
      "     -------- ------------------------------- 2.8/12.8 MB 1.2 MB/s eta 0:00:09\n",
      "     --------- ------------------------------ 2.9/12.8 MB 1.2 MB/s eta 0:00:09\n",
      "     --------- ------------------------------ 2.9/12.8 MB 1.2 MB/s eta 0:00:09\n",
      "     --------- ------------------------------ 3.0/12.8 MB 1.2 MB/s eta 0:00:09\n",
      "     --------- ------------------------------ 3.1/12.8 MB 1.2 MB/s eta 0:00:09\n",
      "     --------- ------------------------------ 3.1/12.8 MB 1.2 MB/s eta 0:00:09\n",
      "     --------- ------------------------------ 3.2/12.8 MB 1.2 MB/s eta 0:00:09\n",
      "     ---------- ----------------------------- 3.2/12.8 MB 1.2 MB/s eta 0:00:09\n",
      "     ---------- ----------------------------- 3.3/12.8 MB 1.2 MB/s eta 0:00:08\n",
      "     ---------- ----------------------------- 3.3/12.8 MB 1.2 MB/s eta 0:00:08\n",
      "     ---------- ----------------------------- 3.4/12.8 MB 1.2 MB/s eta 0:00:08\n",
      "     ---------- ----------------------------- 3.4/12.8 MB 1.2 MB/s eta 0:00:08\n",
      "     ---------- ----------------------------- 3.5/12.8 MB 1.2 MB/s eta 0:00:08\n",
      "     ----------- ---------------------------- 3.5/12.8 MB 1.2 MB/s eta 0:00:08\n",
      "     ----------- ---------------------------- 3.6/12.8 MB 1.2 MB/s eta 0:00:08\n",
      "     ----------- ---------------------------- 3.7/12.8 MB 1.2 MB/s eta 0:00:08\n",
      "     ----------- ---------------------------- 3.7/12.8 MB 1.2 MB/s eta 0:00:08\n",
      "     ----------- ---------------------------- 3.8/12.8 MB 1.2 MB/s eta 0:00:08\n",
      "     ----------- ---------------------------- 3.8/12.8 MB 1.2 MB/s eta 0:00:08\n",
      "     ------------ --------------------------- 3.9/12.8 MB 1.2 MB/s eta 0:00:08\n",
      "     ------------ --------------------------- 3.9/12.8 MB 1.2 MB/s eta 0:00:08\n",
      "     ------------ --------------------------- 4.0/12.8 MB 1.2 MB/s eta 0:00:08\n",
      "     ------------ --------------------------- 4.0/12.8 MB 1.2 MB/s eta 0:00:08\n",
      "     ------------ --------------------------- 4.1/12.8 MB 1.2 MB/s eta 0:00:08\n",
      "     ------------ --------------------------- 4.1/12.8 MB 1.2 MB/s eta 0:00:08\n",
      "     ------------- -------------------------- 4.2/12.8 MB 1.2 MB/s eta 0:00:08\n",
      "     ------------- -------------------------- 4.3/12.8 MB 1.2 MB/s eta 0:00:08\n",
      "     ------------- -------------------------- 4.3/12.8 MB 1.2 MB/s eta 0:00:08\n",
      "     ------------- -------------------------- 4.4/12.8 MB 1.2 MB/s eta 0:00:08\n",
      "     ------------- -------------------------- 4.4/12.8 MB 1.2 MB/s eta 0:00:08\n",
      "     -------------- ------------------------- 4.5/12.8 MB 1.2 MB/s eta 0:00:07\n",
      "     -------------- ------------------------- 4.5/12.8 MB 1.2 MB/s eta 0:00:07\n",
      "     -------------- ------------------------- 4.6/12.8 MB 1.2 MB/s eta 0:00:07\n",
      "     -------------- ------------------------- 4.7/12.8 MB 1.2 MB/s eta 0:00:07\n",
      "     -------------- ------------------------- 4.7/12.8 MB 1.2 MB/s eta 0:00:07\n",
      "     -------------- ------------------------- 4.7/12.8 MB 1.2 MB/s eta 0:00:07\n",
      "     --------------- ------------------------ 4.8/12.8 MB 1.2 MB/s eta 0:00:07\n",
      "     --------------- ------------------------ 4.9/12.8 MB 1.2 MB/s eta 0:00:07\n",
      "     --------------- ------------------------ 4.9/12.8 MB 1.2 MB/s eta 0:00:07\n",
      "     --------------- ------------------------ 5.0/12.8 MB 1.2 MB/s eta 0:00:07\n",
      "     --------------- ------------------------ 5.0/12.8 MB 1.2 MB/s eta 0:00:07\n",
      "     --------------- ------------------------ 5.1/12.8 MB 1.2 MB/s eta 0:00:07\n",
      "     ---------------- ----------------------- 5.2/12.8 MB 1.2 MB/s eta 0:00:07\n",
      "     ---------------- ----------------------- 5.2/12.8 MB 1.2 MB/s eta 0:00:07\n",
      "     ---------------- ----------------------- 5.3/12.8 MB 1.2 MB/s eta 0:00:07\n",
      "     ---------------- ----------------------- 5.3/12.8 MB 1.2 MB/s eta 0:00:07\n",
      "     ---------------- ----------------------- 5.4/12.8 MB 1.2 MB/s eta 0:00:07\n",
      "     ---------------- ----------------------- 5.4/12.8 MB 1.2 MB/s eta 0:00:07\n",
      "     ----------------- ---------------------- 5.5/12.8 MB 1.2 MB/s eta 0:00:07\n",
      "     ----------------- ---------------------- 5.5/12.8 MB 1.2 MB/s eta 0:00:07\n",
      "     ----------------- ---------------------- 5.6/12.8 MB 1.2 MB/s eta 0:00:07\n",
      "     ----------------- ---------------------- 5.6/12.8 MB 1.2 MB/s eta 0:00:07\n",
      "     ----------------- ---------------------- 5.7/12.8 MB 1.2 MB/s eta 0:00:06\n",
      "     ----------------- ---------------------- 5.8/12.8 MB 1.2 MB/s eta 0:00:06\n",
      "     ------------------ --------------------- 5.8/12.8 MB 1.2 MB/s eta 0:00:06\n",
      "     ------------------ --------------------- 5.9/12.8 MB 1.2 MB/s eta 0:00:06\n",
      "     ------------------ --------------------- 5.9/12.8 MB 1.2 MB/s eta 0:00:06\n",
      "     ------------------ --------------------- 6.0/12.8 MB 1.2 MB/s eta 0:00:06\n",
      "     ------------------ --------------------- 6.0/12.8 MB 1.2 MB/s eta 0:00:06\n",
      "     ------------------ --------------------- 6.1/12.8 MB 1.2 MB/s eta 0:00:06\n",
      "     ------------------- -------------------- 6.1/12.8 MB 1.2 MB/s eta 0:00:06\n",
      "     ------------------- -------------------- 6.2/12.8 MB 1.2 MB/s eta 0:00:06\n",
      "     ------------------- -------------------- 6.2/12.8 MB 1.2 MB/s eta 0:00:06\n",
      "     ------------------- -------------------- 6.3/12.8 MB 1.2 MB/s eta 0:00:06\n",
      "     ------------------- -------------------- 6.3/12.8 MB 1.2 MB/s eta 0:00:06\n",
      "     ------------------- -------------------- 6.4/12.8 MB 1.2 MB/s eta 0:00:06\n",
      "     -------------------- ------------------- 6.5/12.8 MB 1.2 MB/s eta 0:00:06\n",
      "     -------------------- ------------------- 6.5/12.8 MB 1.2 MB/s eta 0:00:06\n",
      "     -------------------- ------------------- 6.6/12.8 MB 1.2 MB/s eta 0:00:06\n",
      "     -------------------- ------------------- 6.6/12.8 MB 1.2 MB/s eta 0:00:06\n",
      "     -------------------- ------------------- 6.7/12.8 MB 1.2 MB/s eta 0:00:06\n",
      "     --------------------- ------------------ 6.7/12.8 MB 1.2 MB/s eta 0:00:06\n",
      "     --------------------- ------------------ 6.8/12.8 MB 1.2 MB/s eta 0:00:06\n",
      "     --------------------- ------------------ 6.8/12.8 MB 1.2 MB/s eta 0:00:06\n",
      "     --------------------- ------------------ 6.9/12.8 MB 1.2 MB/s eta 0:00:05\n",
      "     --------------------- ------------------ 7.0/12.8 MB 1.2 MB/s eta 0:00:05\n",
      "     --------------------- ------------------ 7.0/12.8 MB 1.2 MB/s eta 0:00:05\n",
      "     ---------------------- ----------------- 7.1/12.8 MB 1.2 MB/s eta 0:00:05\n",
      "     ---------------------- ----------------- 7.1/12.8 MB 1.2 MB/s eta 0:00:05\n",
      "     ---------------------- ----------------- 7.2/12.8 MB 1.2 MB/s eta 0:00:05\n",
      "     ---------------------- ----------------- 7.2/12.8 MB 1.2 MB/s eta 0:00:05\n",
      "     ---------------------- ----------------- 7.3/12.8 MB 1.2 MB/s eta 0:00:05\n",
      "     ---------------------- ----------------- 7.3/12.8 MB 1.2 MB/s eta 0:00:05\n",
      "     ----------------------- ---------------- 7.4/12.8 MB 1.2 MB/s eta 0:00:05\n",
      "     ----------------------- ---------------- 7.5/12.8 MB 1.2 MB/s eta 0:00:05\n",
      "     ----------------------- ---------------- 7.5/12.8 MB 1.2 MB/s eta 0:00:05\n",
      "     ----------------------- ---------------- 7.6/12.8 MB 1.2 MB/s eta 0:00:05\n",
      "     ----------------------- ---------------- 7.6/12.8 MB 1.2 MB/s eta 0:00:05\n",
      "     ----------------------- ---------------- 7.7/12.8 MB 1.2 MB/s eta 0:00:05\n",
      "     ------------------------ --------------- 7.7/12.8 MB 1.2 MB/s eta 0:00:05\n",
      "     ------------------------ --------------- 7.8/12.8 MB 1.2 MB/s eta 0:00:05\n",
      "     ------------------------ --------------- 7.8/12.8 MB 1.2 MB/s eta 0:00:05\n",
      "     ------------------------ --------------- 7.9/12.8 MB 1.2 MB/s eta 0:00:05\n",
      "     ------------------------ --------------- 7.9/12.8 MB 1.2 MB/s eta 0:00:05\n",
      "     ------------------------ --------------- 8.0/12.8 MB 1.2 MB/s eta 0:00:05\n",
      "     ------------------------- -------------- 8.0/12.8 MB 1.2 MB/s eta 0:00:04\n",
      "     ------------------------- -------------- 8.1/12.8 MB 1.2 MB/s eta 0:00:04\n",
      "     ------------------------- -------------- 8.2/12.8 MB 1.2 MB/s eta 0:00:04\n",
      "     ------------------------- -------------- 8.2/12.8 MB 1.2 MB/s eta 0:00:04\n",
      "     ------------------------- -------------- 8.3/12.8 MB 1.2 MB/s eta 0:00:04\n",
      "     -------------------------- ------------- 8.3/12.8 MB 1.2 MB/s eta 0:00:04\n",
      "     -------------------------- ------------- 8.4/12.8 MB 1.2 MB/s eta 0:00:04\n",
      "     -------------------------- ------------- 8.4/12.8 MB 1.2 MB/s eta 0:00:04\n",
      "     -------------------------- ------------- 8.5/12.8 MB 1.2 MB/s eta 0:00:04\n",
      "     -------------------------- ------------- 8.5/12.8 MB 1.2 MB/s eta 0:00:04\n",
      "     -------------------------- ------------- 8.6/12.8 MB 1.2 MB/s eta 0:00:04\n",
      "     --------------------------- ------------ 8.7/12.8 MB 1.2 MB/s eta 0:00:04\n",
      "     --------------------------- ------------ 8.7/12.8 MB 1.2 MB/s eta 0:00:04\n",
      "     --------------------------- ------------ 8.8/12.8 MB 1.2 MB/s eta 0:00:04\n",
      "     --------------------------- ------------ 8.8/12.8 MB 1.2 MB/s eta 0:00:04\n",
      "     --------------------------- ------------ 8.9/12.8 MB 1.2 MB/s eta 0:00:04\n",
      "     --------------------------- ------------ 8.9/12.8 MB 1.2 MB/s eta 0:00:04\n",
      "     ---------------------------- ----------- 9.0/12.8 MB 1.2 MB/s eta 0:00:04\n",
      "     ---------------------------- ----------- 9.1/12.8 MB 1.2 MB/s eta 0:00:04\n",
      "     ---------------------------- ----------- 9.1/12.8 MB 1.2 MB/s eta 0:00:04\n",
      "     ---------------------------- ----------- 9.2/12.8 MB 1.2 MB/s eta 0:00:04\n",
      "     ---------------------------- ----------- 9.2/12.8 MB 1.2 MB/s eta 0:00:04\n",
      "     ---------------------------- ----------- 9.3/12.8 MB 1.2 MB/s eta 0:00:03\n",
      "     ----------------------------- ---------- 9.3/12.8 MB 1.2 MB/s eta 0:00:03\n",
      "     ----------------------------- ---------- 9.4/12.8 MB 1.2 MB/s eta 0:00:03\n",
      "     ----------------------------- ---------- 9.4/12.8 MB 1.2 MB/s eta 0:00:03\n",
      "     ----------------------------- ---------- 9.5/12.8 MB 1.2 MB/s eta 0:00:03\n",
      "     ----------------------------- ---------- 9.6/12.8 MB 1.2 MB/s eta 0:00:03\n",
      "     ------------------------------ --------- 9.6/12.8 MB 1.2 MB/s eta 0:00:03\n",
      "     ------------------------------ --------- 9.7/12.8 MB 1.2 MB/s eta 0:00:03\n",
      "     ------------------------------ --------- 9.7/12.8 MB 1.2 MB/s eta 0:00:03\n",
      "     ------------------------------ --------- 9.8/12.8 MB 1.2 MB/s eta 0:00:03\n",
      "     ------------------------------ --------- 9.8/12.8 MB 1.2 MB/s eta 0:00:03\n",
      "     ------------------------------ --------- 9.9/12.8 MB 1.2 MB/s eta 0:00:03\n",
      "     ------------------------------- -------- 9.9/12.8 MB 1.2 MB/s eta 0:00:03\n",
      "     ------------------------------- -------- 10.0/12.8 MB 1.2 MB/s eta 0:00:03\n",
      "     ------------------------------- -------- 10.0/12.8 MB 1.2 MB/s eta 0:00:03\n",
      "     ------------------------------- -------- 10.1/12.8 MB 1.2 MB/s eta 0:00:03\n",
      "     ------------------------------- -------- 10.2/12.8 MB 1.2 MB/s eta 0:00:03\n",
      "     ------------------------------- -------- 10.2/12.8 MB 1.2 MB/s eta 0:00:03\n",
      "     -------------------------------- ------- 10.3/12.8 MB 1.2 MB/s eta 0:00:03\n",
      "     -------------------------------- ------- 10.3/12.8 MB 1.2 MB/s eta 0:00:03\n",
      "     -------------------------------- ------- 10.4/12.8 MB 1.2 MB/s eta 0:00:03\n",
      "     -------------------------------- ------- 10.4/12.8 MB 1.2 MB/s eta 0:00:02\n",
      "     -------------------------------- ------- 10.5/12.8 MB 1.2 MB/s eta 0:00:02\n",
      "     -------------------------------- ------- 10.5/12.8 MB 1.2 MB/s eta 0:00:02\n",
      "     --------------------------------- ------ 10.6/12.8 MB 1.2 MB/s eta 0:00:02\n",
      "     --------------------------------- ------ 10.6/12.8 MB 1.2 MB/s eta 0:00:02\n",
      "     --------------------------------- ------ 10.7/12.8 MB 1.2 MB/s eta 0:00:02\n",
      "     --------------------------------- ------ 10.8/12.8 MB 1.2 MB/s eta 0:00:02\n",
      "     --------------------------------- ------ 10.8/12.8 MB 1.2 MB/s eta 0:00:02\n",
      "     --------------------------------- ------ 10.9/12.8 MB 1.2 MB/s eta 0:00:02\n",
      "     ---------------------------------- ----- 10.9/12.8 MB 1.2 MB/s eta 0:00:02\n",
      "     ---------------------------------- ----- 11.0/12.8 MB 1.2 MB/s eta 0:00:02\n",
      "     ---------------------------------- ----- 11.0/12.8 MB 1.2 MB/s eta 0:00:02\n",
      "     ---------------------------------- ----- 11.1/12.8 MB 1.2 MB/s eta 0:00:02\n",
      "     ---------------------------------- ----- 11.2/12.8 MB 1.2 MB/s eta 0:00:02\n",
      "     ---------------------------------- ----- 11.2/12.8 MB 1.2 MB/s eta 0:00:02\n",
      "     ----------------------------------- ---- 11.3/12.8 MB 1.2 MB/s eta 0:00:02\n",
      "     ----------------------------------- ---- 11.3/12.8 MB 1.2 MB/s eta 0:00:02\n",
      "     ----------------------------------- ---- 11.4/12.8 MB 1.2 MB/s eta 0:00:02\n",
      "     ----------------------------------- ---- 11.4/12.8 MB 1.2 MB/s eta 0:00:02\n",
      "     ----------------------------------- ---- 11.5/12.8 MB 1.2 MB/s eta 0:00:02\n",
      "     ------------------------------------ --- 11.5/12.8 MB 1.2 MB/s eta 0:00:02\n",
      "     ------------------------------------ --- 11.6/12.8 MB 1.2 MB/s eta 0:00:02\n",
      "     ------------------------------------ --- 11.6/12.8 MB 1.2 MB/s eta 0:00:01\n",
      "     ------------------------------------ --- 11.7/12.8 MB 1.2 MB/s eta 0:00:01\n",
      "     ------------------------------------ --- 11.8/12.8 MB 1.2 MB/s eta 0:00:01\n",
      "     ------------------------------------ --- 11.8/12.8 MB 1.2 MB/s eta 0:00:01\n",
      "     ------------------------------------- -- 11.9/12.8 MB 1.2 MB/s eta 0:00:01\n",
      "     ------------------------------------- -- 11.9/12.8 MB 1.2 MB/s eta 0:00:01\n",
      "     ------------------------------------- -- 12.0/12.8 MB 1.2 MB/s eta 0:00:01\n",
      "     ------------------------------------- -- 12.0/12.8 MB 1.2 MB/s eta 0:00:01\n",
      "     ------------------------------------- -- 12.1/12.8 MB 1.2 MB/s eta 0:00:01\n",
      "     ------------------------------------- -- 12.1/12.8 MB 1.2 MB/s eta 0:00:01\n",
      "     -------------------------------------- - 12.2/12.8 MB 1.2 MB/s eta 0:00:01\n",
      "     -------------------------------------- - 12.3/12.8 MB 1.2 MB/s eta 0:00:01\n",
      "     -------------------------------------- - 12.3/12.8 MB 1.2 MB/s eta 0:00:01\n",
      "     -------------------------------------- - 12.4/12.8 MB 1.2 MB/s eta 0:00:01\n",
      "     -------------------------------------- - 12.4/12.8 MB 1.2 MB/s eta 0:00:01\n",
      "     -------------------------------------- - 12.5/12.8 MB 1.2 MB/s eta 0:00:01\n",
      "     ---------------------------------------  12.5/12.8 MB 1.2 MB/s eta 0:00:01\n",
      "     ---------------------------------------  12.6/12.8 MB 1.2 MB/s eta 0:00:01\n",
      "     ---------------------------------------  12.7/12.8 MB 1.2 MB/s eta 0:00:01\n",
      "     ---------------------------------------  12.7/12.8 MB 1.2 MB/s eta 0:00:01\n",
      "     ---------------------------------------  12.7/12.8 MB 1.2 MB/s eta 0:00:01\n",
      "     ---------------------------------------  12.8/12.8 MB 1.2 MB/s eta 0:00:01\n",
      "     ---------------------------------------- 12.8/12.8 MB 1.2 MB/s eta 0:00:00\n",
      "\u001b[38;5;2m[+] Download and installation successful\u001b[0m\n",
      "You can now load the package via spacy.load('en_core_web_sm')\n"
     ]
    },
    {
     "name": "stderr",
     "output_type": "stream",
     "text": [
      "\n",
      "[notice] A new release of pip is available: 24.0 -> 25.1.1\n",
      "[notice] To update, run: python.exe -m pip install --upgrade pip\n"
     ]
    }
   ],
   "source": [
    "!python -m spacy download en_core_web_sm"
   ]
  },
  {
   "cell_type": "code",
   "execution_count": 17,
   "id": "86be6740-bfe4-47c1-9d41-dda867a9613a",
   "metadata": {},
   "outputs": [],
   "source": [
    "import spacy\n",
    "nlp = spacy.load(\"en_core_web_sm\")"
   ]
  },
  {
   "cell_type": "code",
   "execution_count": 18,
   "id": "98e24fa4-11cd-4316-8b7a-802f702a6f93",
   "metadata": {},
   "outputs": [
    {
     "name": "stdout",
     "output_type": "stream",
     "text": [
      "사용중인 디바이스: cuda\n"
     ]
    }
   ],
   "source": [
    "## GPU check\n",
    "device = torch.device(\"cuda\" if torch.cuda.is_available() else \"cpu\")\n",
    "print(\"사용중인 디바이스:\", device)"
   ]
  },
  {
   "cell_type": "code",
   "execution_count": 19,
   "id": "288d69de-22fb-4a50-9cc0-2a1a1c1a4135",
   "metadata": {},
   "outputs": [
    {
     "name": "stdout",
     "output_type": "stream",
     "text": [
      "CUDA 사용 가능? True\n",
      "사용 중인 GPU: NVIDIA GeForce MX450\n"
     ]
    }
   ],
   "source": [
    "print(\"CUDA 사용 가능?\", torch.cuda.is_available())\n",
    "if torch.cuda.is_available():\n",
    "    print(\"사용 중인 GPU:\", torch.cuda.get_device_name(0))\n",
    "else:\n",
    "    print(\"GPU를 사용할 수 없습니다.\")"
   ]
  },
  {
   "cell_type": "markdown",
   "id": "d133f58b-e3c5-4ef9-9acd-6249793a5c73",
   "metadata": {},
   "source": [
    "## Data Load"
   ]
  },
  {
   "cell_type": "code",
   "execution_count": 20,
   "id": "086a00f4-e735-4abd-80a6-4f45378c1373",
   "metadata": {},
   "outputs": [
    {
     "name": "stdout",
     "output_type": "stream",
     "text": [
      "Requirement already satisfied: kagglehub[pandas-datasets] in c:\\users\\wonny\\anaconda3\\envs\\youtubeprediction\\lib\\site-packages (0.3.12)\n",
      "Requirement already satisfied: packaging in c:\\users\\wonny\\appdata\\roaming\\python\\python310\\site-packages (from kagglehub[pandas-datasets]) (23.0)\n",
      "Requirement already satisfied: pyyaml in c:\\users\\wonny\\anaconda3\\envs\\youtubeprediction\\lib\\site-packages (from kagglehub[pandas-datasets]) (6.0.2)\n",
      "Requirement already satisfied: requests in c:\\users\\wonny\\appdata\\roaming\\python\\python310\\site-packages (from kagglehub[pandas-datasets]) (2.32.3)\n",
      "Requirement already satisfied: tqdm in c:\\users\\wonny\\appdata\\roaming\\python\\python310\\site-packages (from kagglehub[pandas-datasets]) (4.66.4)\n",
      "Requirement already satisfied: pandas in c:\\users\\wonny\\appdata\\roaming\\python\\python310\\site-packages (from kagglehub[pandas-datasets]) (2.2.2)\n",
      "Requirement already satisfied: numpy>=1.22.4 in c:\\users\\wonny\\anaconda3\\envs\\youtubeprediction\\lib\\site-packages (from pandas->kagglehub[pandas-datasets]) (2.2.6)\n",
      "Requirement already satisfied: python-dateutil>=2.8.2 in c:\\users\\wonny\\appdata\\roaming\\python\\python310\\site-packages (from pandas->kagglehub[pandas-datasets]) (2.8.2)\n",
      "Requirement already satisfied: pytz>=2020.1 in c:\\users\\wonny\\appdata\\roaming\\python\\python310\\site-packages (from pandas->kagglehub[pandas-datasets]) (2024.1)\n",
      "Requirement already satisfied: tzdata>=2022.7 in c:\\users\\wonny\\appdata\\roaming\\python\\python310\\site-packages (from pandas->kagglehub[pandas-datasets]) (2024.1)\n",
      "Requirement already satisfied: charset-normalizer<4,>=2 in c:\\users\\wonny\\appdata\\roaming\\python\\python310\\site-packages (from requests->kagglehub[pandas-datasets]) (3.3.2)\n",
      "Requirement already satisfied: idna<4,>=2.5 in c:\\users\\wonny\\appdata\\roaming\\python\\python310\\site-packages (from requests->kagglehub[pandas-datasets]) (3.7)\n",
      "Requirement already satisfied: urllib3<3,>=1.21.1 in c:\\users\\wonny\\appdata\\roaming\\python\\python310\\site-packages (from requests->kagglehub[pandas-datasets]) (2.2.1)\n",
      "Requirement already satisfied: certifi>=2017.4.17 in c:\\users\\wonny\\appdata\\roaming\\python\\python310\\site-packages (from requests->kagglehub[pandas-datasets]) (2024.6.2)\n",
      "Requirement already satisfied: colorama in c:\\users\\wonny\\appdata\\roaming\\python\\python310\\site-packages (from tqdm->kagglehub[pandas-datasets]) (0.4.6)\n",
      "Requirement already satisfied: six>=1.5 in c:\\users\\wonny\\appdata\\roaming\\python\\python310\\site-packages (from python-dateutil>=2.8.2->pandas->kagglehub[pandas-datasets]) (1.16.0)\n",
      "Note: you may need to restart the kernel to use updated packages.\n"
     ]
    },
    {
     "name": "stderr",
     "output_type": "stream",
     "text": [
      "\n",
      "[notice] A new release of pip is available: 24.0 -> 25.1.1\n",
      "[notice] To update, run: python.exe -m pip install --upgrade pip\n"
     ]
    }
   ],
   "source": [
    "pip install kagglehub[pandas-datasets]"
   ]
  },
  {
   "cell_type": "code",
   "execution_count": 21,
   "id": "c365061b-cd7e-4dc3-b8e0-4501fc0faf8e",
   "metadata": {},
   "outputs": [
    {
     "name": "stdout",
     "output_type": "stream",
     "text": [
      "Path to dataset files: C:\\Users\\wonny\\.cache\\kagglehub\\datasets\\datasnaek\\youtube-new\\versions\\115\n"
     ]
    }
   ],
   "source": [
    "path = kagglehub.dataset_download(\"datasnaek/youtube-new\")\n",
    "print(\"Path to dataset files:\", path)"
   ]
  },
  {
   "cell_type": "code",
   "execution_count": 22,
   "id": "d59e837e-aefc-4d41-9b78-de6392878384",
   "metadata": {},
   "outputs": [],
   "source": [
    "# Load USvideo Dataset\n",
    "df = pd.read_csv(os.path.join(path, \"USvideos.csv\"))"
   ]
  },
  {
   "cell_type": "markdown",
   "id": "369cb74c-d72b-4057-9531-6f09bb2d09d8",
   "metadata": {
    "jp-MarkdownHeadingCollapsed": true
   },
   "source": [
    "### Category mapping & filtering"
   ]
  },
  {
   "cell_type": "code",
   "execution_count": 23,
   "id": "7d91a5c7-9ccd-42d0-94f2-50cf74cd564a",
   "metadata": {},
   "outputs": [],
   "source": [
    "# Category mapping \n",
    "# json file\n",
    "json_path = os.path.join(path, \"US_category_id.json\")\n",
    "\n",
    "# Json load\n",
    "with open(json_path, 'r', encoding = 'utf-8') as f:\n",
    "    category_json = json.load(f)\n",
    "\n",
    "category_mapping = {\n",
    "    int(item['id']): item['snippet']['title']\n",
    "    for item in category_json['items']}"
   ]
  },
  {
   "cell_type": "code",
   "execution_count": 24,
   "id": "862f62c7-a4e9-41e2-90d0-dff9b179eb42",
   "metadata": {},
   "outputs": [],
   "source": [
    "df['category_name'] = df['category_id'].map(category_mapping)"
   ]
  },
  {
   "cell_type": "code",
   "execution_count": 25,
   "id": "d36282d9-9878-4688-8a14-9779e4563add",
   "metadata": {},
   "outputs": [],
   "source": [
    "# category filtering\n",
    "cat_name = 'Gaming'\n",
    "game_data = df[df['category_name'] == cat_name].copy()"
   ]
  },
  {
   "cell_type": "code",
   "execution_count": 26,
   "id": "62dfe4e5-641c-435e-ad6f-d2e3c0e55752",
   "metadata": {},
   "outputs": [
    {
     "data": {
      "text/html": [
       "<div>\n",
       "<style scoped>\n",
       "    .dataframe tbody tr th:only-of-type {\n",
       "        vertical-align: middle;\n",
       "    }\n",
       "\n",
       "    .dataframe tbody tr th {\n",
       "        vertical-align: top;\n",
       "    }\n",
       "\n",
       "    .dataframe thead th {\n",
       "        text-align: right;\n",
       "    }\n",
       "</style>\n",
       "<table border=\"1\" class=\"dataframe\">\n",
       "  <thead>\n",
       "    <tr style=\"text-align: right;\">\n",
       "      <th></th>\n",
       "      <th>video_id</th>\n",
       "      <th>trending_date</th>\n",
       "      <th>title</th>\n",
       "      <th>channel_title</th>\n",
       "      <th>category_id</th>\n",
       "      <th>publish_time</th>\n",
       "      <th>tags</th>\n",
       "      <th>views</th>\n",
       "      <th>likes</th>\n",
       "      <th>dislikes</th>\n",
       "      <th>comment_count</th>\n",
       "      <th>thumbnail_link</th>\n",
       "      <th>comments_disabled</th>\n",
       "      <th>ratings_disabled</th>\n",
       "      <th>video_error_or_removed</th>\n",
       "      <th>description</th>\n",
       "      <th>category_name</th>\n",
       "    </tr>\n",
       "  </thead>\n",
       "  <tbody>\n",
       "    <tr>\n",
       "      <th>131</th>\n",
       "      <td>lsfzA7sWlOM</td>\n",
       "      <td>17.14.11</td>\n",
       "      <td>L.A. Noire - Nintendo Switch Trailer</td>\n",
       "      <td>Nintendo</td>\n",
       "      <td>20</td>\n",
       "      <td>2017-11-09T19:59:48.000Z</td>\n",
       "      <td>nintendo|\"play\"|\"play nintendo\"|\"game\"|\"gamepl...</td>\n",
       "      <td>154872</td>\n",
       "      <td>7683</td>\n",
       "      <td>164</td>\n",
       "      <td>1734</td>\n",
       "      <td>https://i.ytimg.com/vi/lsfzA7sWlOM/default.jpg</td>\n",
       "      <td>False</td>\n",
       "      <td>False</td>\n",
       "      <td>False</td>\n",
       "      <td>Amid the post-war boom of Hollywood's Golden A...</td>\n",
       "      <td>Gaming</td>\n",
       "    </tr>\n",
       "    <tr>\n",
       "      <th>392</th>\n",
       "      <td>lsfzA7sWlOM</td>\n",
       "      <td>17.15.11</td>\n",
       "      <td>L.A. Noire - Nintendo Switch Trailer</td>\n",
       "      <td>Nintendo</td>\n",
       "      <td>20</td>\n",
       "      <td>2017-11-09T19:59:48.000Z</td>\n",
       "      <td>nintendo|\"play\"|\"play nintendo\"|\"game\"|\"gamepl...</td>\n",
       "      <td>161231</td>\n",
       "      <td>7803</td>\n",
       "      <td>169</td>\n",
       "      <td>1479</td>\n",
       "      <td>https://i.ytimg.com/vi/lsfzA7sWlOM/default.jpg</td>\n",
       "      <td>False</td>\n",
       "      <td>False</td>\n",
       "      <td>False</td>\n",
       "      <td>Amid the post-war boom of Hollywood's Golden A...</td>\n",
       "      <td>Gaming</td>\n",
       "    </tr>\n",
       "    <tr>\n",
       "      <th>405</th>\n",
       "      <td>EEIP1YpFXrE</td>\n",
       "      <td>17.16.11</td>\n",
       "      <td>Our First Date</td>\n",
       "      <td>iHasCupquake</td>\n",
       "      <td>20</td>\n",
       "      <td>2017-11-15T20:00:00.000Z</td>\n",
       "      <td>first date|\"animation\"|\"animated\"|\"short\"|\"sho...</td>\n",
       "      <td>224426</td>\n",
       "      <td>17784</td>\n",
       "      <td>225</td>\n",
       "      <td>2762</td>\n",
       "      <td>https://i.ytimg.com/vi/EEIP1YpFXrE/default.jpg</td>\n",
       "      <td>False</td>\n",
       "      <td>False</td>\n",
       "      <td>False</td>\n",
       "      <td>Here's an animation short of our First Date! W...</td>\n",
       "      <td>Gaming</td>\n",
       "    </tr>\n",
       "    <tr>\n",
       "      <th>619</th>\n",
       "      <td>EEIP1YpFXrE</td>\n",
       "      <td>17.17.11</td>\n",
       "      <td>Our First Date</td>\n",
       "      <td>iHasCupquake</td>\n",
       "      <td>20</td>\n",
       "      <td>2017-11-15T20:00:00.000Z</td>\n",
       "      <td>first date|\"animation\"|\"animated\"|\"short\"|\"sho...</td>\n",
       "      <td>463992</td>\n",
       "      <td>25840</td>\n",
       "      <td>509</td>\n",
       "      <td>3708</td>\n",
       "      <td>https://i.ytimg.com/vi/EEIP1YpFXrE/default.jpg</td>\n",
       "      <td>False</td>\n",
       "      <td>False</td>\n",
       "      <td>False</td>\n",
       "      <td>Here's an animation short of our First Date! W...</td>\n",
       "      <td>Gaming</td>\n",
       "    </tr>\n",
       "    <tr>\n",
       "      <th>652</th>\n",
       "      <td>hXcoq5XDwyA</td>\n",
       "      <td>17.17.11</td>\n",
       "      <td>Playing CUPHEAD with MatPat!</td>\n",
       "      <td>Butch Hartman</td>\n",
       "      <td>20</td>\n",
       "      <td>2017-11-15T22:02:34.000Z</td>\n",
       "      <td>game theory|\"film theory\"|\"cuphead\"|\"don't dea...</td>\n",
       "      <td>55460</td>\n",
       "      <td>3871</td>\n",
       "      <td>96</td>\n",
       "      <td>428</td>\n",
       "      <td>https://i.ytimg.com/vi/hXcoq5XDwyA/default.jpg</td>\n",
       "      <td>False</td>\n",
       "      <td>False</td>\n",
       "      <td>False</td>\n",
       "      <td>After my appearance on GTLive, MatPat (Game Th...</td>\n",
       "      <td>Gaming</td>\n",
       "    </tr>\n",
       "    <tr>\n",
       "      <th>...</th>\n",
       "      <td>...</td>\n",
       "      <td>...</td>\n",
       "      <td>...</td>\n",
       "      <td>...</td>\n",
       "      <td>...</td>\n",
       "      <td>...</td>\n",
       "      <td>...</td>\n",
       "      <td>...</td>\n",
       "      <td>...</td>\n",
       "      <td>...</td>\n",
       "      <td>...</td>\n",
       "      <td>...</td>\n",
       "      <td>...</td>\n",
       "      <td>...</td>\n",
       "      <td>...</td>\n",
       "      <td>...</td>\n",
       "      <td>...</td>\n",
       "    </tr>\n",
       "    <tr>\n",
       "      <th>40874</th>\n",
       "      <td>9jRtpMKLsts</td>\n",
       "      <td>18.14.06</td>\n",
       "      <td>Pokémon: Let's Go, Pikachu! and Pokémon: Let's...</td>\n",
       "      <td>The Official Pokémon YouTube channel</td>\n",
       "      <td>20</td>\n",
       "      <td>2018-05-30T01:22:17.000Z</td>\n",
       "      <td>Pokémon|\"Pokemon\"|\"Pokémon Let's Go\"|\"Pokémon ...</td>\n",
       "      <td>9992803</td>\n",
       "      <td>230507</td>\n",
       "      <td>24911</td>\n",
       "      <td>60041</td>\n",
       "      <td>https://i.ytimg.com/vi/9jRtpMKLsts/default.jpg</td>\n",
       "      <td>False</td>\n",
       "      <td>False</td>\n",
       "      <td>False</td>\n",
       "      <td>Return to the Kanto region and experience a cl...</td>\n",
       "      <td>Gaming</td>\n",
       "    </tr>\n",
       "    <tr>\n",
       "      <th>40911</th>\n",
       "      <td>tn0hCTyj2Kc</td>\n",
       "      <td>18.14.06</td>\n",
       "      <td>The Sims 4 Seasons: Official Reveal Trailer</td>\n",
       "      <td>The Sims</td>\n",
       "      <td>20</td>\n",
       "      <td>2018-05-24T16:59:24.000Z</td>\n",
       "      <td>The Sims 4|\"The Sims 4 Trailer\"|\"Sims 4 Traile...</td>\n",
       "      <td>1749832</td>\n",
       "      <td>77408</td>\n",
       "      <td>1392</td>\n",
       "      <td>18242</td>\n",
       "      <td>https://i.ytimg.com/vi/tn0hCTyj2Kc/default.jpg</td>\n",
       "      <td>False</td>\n",
       "      <td>False</td>\n",
       "      <td>False</td>\n",
       "      <td>Add weather to your Sims’ lives to tell new st...</td>\n",
       "      <td>Gaming</td>\n",
       "    </tr>\n",
       "    <tr>\n",
       "      <th>40919</th>\n",
       "      <td>vDyYMcjf500</td>\n",
       "      <td>18.14.06</td>\n",
       "      <td>The History of Fortnite Battle Royale - Did Yo...</td>\n",
       "      <td>DidYouKnowGaming?</td>\n",
       "      <td>20</td>\n",
       "      <td>2018-05-24T19:00:24.000Z</td>\n",
       "      <td>fortnite|\"fortnite pc\"|\"fortnite battle royale...</td>\n",
       "      <td>324219</td>\n",
       "      <td>7840</td>\n",
       "      <td>1333</td>\n",
       "      <td>1257</td>\n",
       "      <td>https://i.ytimg.com/vi/vDyYMcjf500/default.jpg</td>\n",
       "      <td>False</td>\n",
       "      <td>False</td>\n",
       "      <td>False</td>\n",
       "      <td>Thanks to Skillshare for sponsoring this video...</td>\n",
       "      <td>Gaming</td>\n",
       "    </tr>\n",
       "    <tr>\n",
       "      <th>40936</th>\n",
       "      <td>Xr2rgT9uEnA</td>\n",
       "      <td>18.14.06</td>\n",
       "      <td>LIE DETECTOR TEST WITH MY GIRLFRIEND!</td>\n",
       "      <td>miniminter</td>\n",
       "      <td>20</td>\n",
       "      <td>2018-05-20T18:00:02.000Z</td>\n",
       "      <td>miniminter|\"mm7games\"|\"simon\"|\"random\"|\"lie de...</td>\n",
       "      <td>3229540</td>\n",
       "      <td>109945</td>\n",
       "      <td>3062</td>\n",
       "      <td>6774</td>\n",
       "      <td>https://i.ytimg.com/vi/Xr2rgT9uEnA/default.jpg</td>\n",
       "      <td>False</td>\n",
       "      <td>False</td>\n",
       "      <td>False</td>\n",
       "      <td>Talia: https://www.youtube.com/user/nataliahad...</td>\n",
       "      <td>Gaming</td>\n",
       "    </tr>\n",
       "    <tr>\n",
       "      <th>40948</th>\n",
       "      <td>ooyjaVdt-jA</td>\n",
       "      <td>18.14.06</td>\n",
       "      <td>Official Call of Duty®: Black Ops 4 — Multipla...</td>\n",
       "      <td>Call of Duty</td>\n",
       "      <td>20</td>\n",
       "      <td>2018-05-17T17:09:38.000Z</td>\n",
       "      <td>call of duty|\"cod\"|\"activision\"|\"Black Ops 4\"</td>\n",
       "      <td>10306119</td>\n",
       "      <td>357079</td>\n",
       "      <td>212976</td>\n",
       "      <td>144795</td>\n",
       "      <td>https://i.ytimg.com/vi/ooyjaVdt-jA/default.jpg</td>\n",
       "      <td>False</td>\n",
       "      <td>False</td>\n",
       "      <td>False</td>\n",
       "      <td>Call of Duty: Black Ops 4 Multiplayer raises t...</td>\n",
       "      <td>Gaming</td>\n",
       "    </tr>\n",
       "  </tbody>\n",
       "</table>\n",
       "<p>817 rows × 17 columns</p>\n",
       "</div>"
      ],
      "text/plain": [
       "          video_id trending_date  \\\n",
       "131    lsfzA7sWlOM      17.14.11   \n",
       "392    lsfzA7sWlOM      17.15.11   \n",
       "405    EEIP1YpFXrE      17.16.11   \n",
       "619    EEIP1YpFXrE      17.17.11   \n",
       "652    hXcoq5XDwyA      17.17.11   \n",
       "...            ...           ...   \n",
       "40874  9jRtpMKLsts      18.14.06   \n",
       "40911  tn0hCTyj2Kc      18.14.06   \n",
       "40919  vDyYMcjf500      18.14.06   \n",
       "40936  Xr2rgT9uEnA      18.14.06   \n",
       "40948  ooyjaVdt-jA      18.14.06   \n",
       "\n",
       "                                                   title  \\\n",
       "131                 L.A. Noire - Nintendo Switch Trailer   \n",
       "392                 L.A. Noire - Nintendo Switch Trailer   \n",
       "405                                       Our First Date   \n",
       "619                                       Our First Date   \n",
       "652                         Playing CUPHEAD with MatPat!   \n",
       "...                                                  ...   \n",
       "40874  Pokémon: Let's Go, Pikachu! and Pokémon: Let's...   \n",
       "40911        The Sims 4 Seasons: Official Reveal Trailer   \n",
       "40919  The History of Fortnite Battle Royale - Did Yo...   \n",
       "40936              LIE DETECTOR TEST WITH MY GIRLFRIEND!   \n",
       "40948  Official Call of Duty®: Black Ops 4 — Multipla...   \n",
       "\n",
       "                              channel_title  category_id  \\\n",
       "131                                Nintendo           20   \n",
       "392                                Nintendo           20   \n",
       "405                            iHasCupquake           20   \n",
       "619                            iHasCupquake           20   \n",
       "652                           Butch Hartman           20   \n",
       "...                                     ...          ...   \n",
       "40874  The Official Pokémon YouTube channel           20   \n",
       "40911                              The Sims           20   \n",
       "40919                     DidYouKnowGaming?           20   \n",
       "40936                            miniminter           20   \n",
       "40948                          Call of Duty           20   \n",
       "\n",
       "                   publish_time  \\\n",
       "131    2017-11-09T19:59:48.000Z   \n",
       "392    2017-11-09T19:59:48.000Z   \n",
       "405    2017-11-15T20:00:00.000Z   \n",
       "619    2017-11-15T20:00:00.000Z   \n",
       "652    2017-11-15T22:02:34.000Z   \n",
       "...                         ...   \n",
       "40874  2018-05-30T01:22:17.000Z   \n",
       "40911  2018-05-24T16:59:24.000Z   \n",
       "40919  2018-05-24T19:00:24.000Z   \n",
       "40936  2018-05-20T18:00:02.000Z   \n",
       "40948  2018-05-17T17:09:38.000Z   \n",
       "\n",
       "                                                    tags     views   likes  \\\n",
       "131    nintendo|\"play\"|\"play nintendo\"|\"game\"|\"gamepl...    154872    7683   \n",
       "392    nintendo|\"play\"|\"play nintendo\"|\"game\"|\"gamepl...    161231    7803   \n",
       "405    first date|\"animation\"|\"animated\"|\"short\"|\"sho...    224426   17784   \n",
       "619    first date|\"animation\"|\"animated\"|\"short\"|\"sho...    463992   25840   \n",
       "652    game theory|\"film theory\"|\"cuphead\"|\"don't dea...     55460    3871   \n",
       "...                                                  ...       ...     ...   \n",
       "40874  Pokémon|\"Pokemon\"|\"Pokémon Let's Go\"|\"Pokémon ...   9992803  230507   \n",
       "40911  The Sims 4|\"The Sims 4 Trailer\"|\"Sims 4 Traile...   1749832   77408   \n",
       "40919  fortnite|\"fortnite pc\"|\"fortnite battle royale...    324219    7840   \n",
       "40936  miniminter|\"mm7games\"|\"simon\"|\"random\"|\"lie de...   3229540  109945   \n",
       "40948      call of duty|\"cod\"|\"activision\"|\"Black Ops 4\"  10306119  357079   \n",
       "\n",
       "       dislikes  comment_count  \\\n",
       "131         164           1734   \n",
       "392         169           1479   \n",
       "405         225           2762   \n",
       "619         509           3708   \n",
       "652          96            428   \n",
       "...         ...            ...   \n",
       "40874     24911          60041   \n",
       "40911      1392          18242   \n",
       "40919      1333           1257   \n",
       "40936      3062           6774   \n",
       "40948    212976         144795   \n",
       "\n",
       "                                       thumbnail_link  comments_disabled  \\\n",
       "131    https://i.ytimg.com/vi/lsfzA7sWlOM/default.jpg              False   \n",
       "392    https://i.ytimg.com/vi/lsfzA7sWlOM/default.jpg              False   \n",
       "405    https://i.ytimg.com/vi/EEIP1YpFXrE/default.jpg              False   \n",
       "619    https://i.ytimg.com/vi/EEIP1YpFXrE/default.jpg              False   \n",
       "652    https://i.ytimg.com/vi/hXcoq5XDwyA/default.jpg              False   \n",
       "...                                               ...                ...   \n",
       "40874  https://i.ytimg.com/vi/9jRtpMKLsts/default.jpg              False   \n",
       "40911  https://i.ytimg.com/vi/tn0hCTyj2Kc/default.jpg              False   \n",
       "40919  https://i.ytimg.com/vi/vDyYMcjf500/default.jpg              False   \n",
       "40936  https://i.ytimg.com/vi/Xr2rgT9uEnA/default.jpg              False   \n",
       "40948  https://i.ytimg.com/vi/ooyjaVdt-jA/default.jpg              False   \n",
       "\n",
       "       ratings_disabled  video_error_or_removed  \\\n",
       "131               False                   False   \n",
       "392               False                   False   \n",
       "405               False                   False   \n",
       "619               False                   False   \n",
       "652               False                   False   \n",
       "...                 ...                     ...   \n",
       "40874             False                   False   \n",
       "40911             False                   False   \n",
       "40919             False                   False   \n",
       "40936             False                   False   \n",
       "40948             False                   False   \n",
       "\n",
       "                                             description category_name  \n",
       "131    Amid the post-war boom of Hollywood's Golden A...        Gaming  \n",
       "392    Amid the post-war boom of Hollywood's Golden A...        Gaming  \n",
       "405    Here's an animation short of our First Date! W...        Gaming  \n",
       "619    Here's an animation short of our First Date! W...        Gaming  \n",
       "652    After my appearance on GTLive, MatPat (Game Th...        Gaming  \n",
       "...                                                  ...           ...  \n",
       "40874  Return to the Kanto region and experience a cl...        Gaming  \n",
       "40911  Add weather to your Sims’ lives to tell new st...        Gaming  \n",
       "40919  Thanks to Skillshare for sponsoring this video...        Gaming  \n",
       "40936  Talia: https://www.youtube.com/user/nataliahad...        Gaming  \n",
       "40948  Call of Duty: Black Ops 4 Multiplayer raises t...        Gaming  \n",
       "\n",
       "[817 rows x 17 columns]"
      ]
     },
     "execution_count": 26,
     "metadata": {},
     "output_type": "execute_result"
    }
   ],
   "source": [
    "game_data"
   ]
  },
  {
   "cell_type": "markdown",
   "id": "b3f6e062-5295-4040-a7bb-510b3adbc8e4",
   "metadata": {
    "jp-MarkdownHeadingCollapsed": true
   },
   "source": [
    "## Data Preporcessing"
   ]
  },
  {
   "cell_type": "code",
   "execution_count": 27,
   "id": "7c4e2a96-b564-4eed-8b89-5e9de0daca25",
   "metadata": {},
   "outputs": [],
   "source": [
    "# 사용할 칼럼만 추출 \n",
    "game = game_data[['title', 'views', 'description']].copy()"
   ]
  },
  {
   "cell_type": "code",
   "execution_count": 28,
   "id": "a86d4269-dfc5-4f50-a0c5-51b36a76fd6d",
   "metadata": {},
   "outputs": [
    {
     "data": {
      "text/html": [
       "<div>\n",
       "<style scoped>\n",
       "    .dataframe tbody tr th:only-of-type {\n",
       "        vertical-align: middle;\n",
       "    }\n",
       "\n",
       "    .dataframe tbody tr th {\n",
       "        vertical-align: top;\n",
       "    }\n",
       "\n",
       "    .dataframe thead th {\n",
       "        text-align: right;\n",
       "    }\n",
       "</style>\n",
       "<table border=\"1\" class=\"dataframe\">\n",
       "  <thead>\n",
       "    <tr style=\"text-align: right;\">\n",
       "      <th></th>\n",
       "      <th>title</th>\n",
       "      <th>views</th>\n",
       "      <th>description</th>\n",
       "    </tr>\n",
       "  </thead>\n",
       "  <tbody>\n",
       "    <tr>\n",
       "      <th>131</th>\n",
       "      <td>L.A. Noire - Nintendo Switch Trailer</td>\n",
       "      <td>154872</td>\n",
       "      <td>Amid the post-war boom of Hollywood's Golden A...</td>\n",
       "    </tr>\n",
       "    <tr>\n",
       "      <th>392</th>\n",
       "      <td>L.A. Noire - Nintendo Switch Trailer</td>\n",
       "      <td>161231</td>\n",
       "      <td>Amid the post-war boom of Hollywood's Golden A...</td>\n",
       "    </tr>\n",
       "    <tr>\n",
       "      <th>405</th>\n",
       "      <td>Our First Date</td>\n",
       "      <td>224426</td>\n",
       "      <td>Here's an animation short of our First Date! W...</td>\n",
       "    </tr>\n",
       "    <tr>\n",
       "      <th>619</th>\n",
       "      <td>Our First Date</td>\n",
       "      <td>463992</td>\n",
       "      <td>Here's an animation short of our First Date! W...</td>\n",
       "    </tr>\n",
       "    <tr>\n",
       "      <th>652</th>\n",
       "      <td>Playing CUPHEAD with MatPat!</td>\n",
       "      <td>55460</td>\n",
       "      <td>After my appearance on GTLive, MatPat (Game Th...</td>\n",
       "    </tr>\n",
       "    <tr>\n",
       "      <th>...</th>\n",
       "      <td>...</td>\n",
       "      <td>...</td>\n",
       "      <td>...</td>\n",
       "    </tr>\n",
       "    <tr>\n",
       "      <th>40874</th>\n",
       "      <td>Pokémon: Let's Go, Pikachu! and Pokémon: Let's...</td>\n",
       "      <td>9992803</td>\n",
       "      <td>Return to the Kanto region and experience a cl...</td>\n",
       "    </tr>\n",
       "    <tr>\n",
       "      <th>40911</th>\n",
       "      <td>The Sims 4 Seasons: Official Reveal Trailer</td>\n",
       "      <td>1749832</td>\n",
       "      <td>Add weather to your Sims’ lives to tell new st...</td>\n",
       "    </tr>\n",
       "    <tr>\n",
       "      <th>40919</th>\n",
       "      <td>The History of Fortnite Battle Royale - Did Yo...</td>\n",
       "      <td>324219</td>\n",
       "      <td>Thanks to Skillshare for sponsoring this video...</td>\n",
       "    </tr>\n",
       "    <tr>\n",
       "      <th>40936</th>\n",
       "      <td>LIE DETECTOR TEST WITH MY GIRLFRIEND!</td>\n",
       "      <td>3229540</td>\n",
       "      <td>Talia: https://www.youtube.com/user/nataliahad...</td>\n",
       "    </tr>\n",
       "    <tr>\n",
       "      <th>40948</th>\n",
       "      <td>Official Call of Duty®: Black Ops 4 — Multipla...</td>\n",
       "      <td>10306119</td>\n",
       "      <td>Call of Duty: Black Ops 4 Multiplayer raises t...</td>\n",
       "    </tr>\n",
       "  </tbody>\n",
       "</table>\n",
       "<p>817 rows × 3 columns</p>\n",
       "</div>"
      ],
      "text/plain": [
       "                                                   title     views  \\\n",
       "131                 L.A. Noire - Nintendo Switch Trailer    154872   \n",
       "392                 L.A. Noire - Nintendo Switch Trailer    161231   \n",
       "405                                       Our First Date    224426   \n",
       "619                                       Our First Date    463992   \n",
       "652                         Playing CUPHEAD with MatPat!     55460   \n",
       "...                                                  ...       ...   \n",
       "40874  Pokémon: Let's Go, Pikachu! and Pokémon: Let's...   9992803   \n",
       "40911        The Sims 4 Seasons: Official Reveal Trailer   1749832   \n",
       "40919  The History of Fortnite Battle Royale - Did Yo...    324219   \n",
       "40936              LIE DETECTOR TEST WITH MY GIRLFRIEND!   3229540   \n",
       "40948  Official Call of Duty®: Black Ops 4 — Multipla...  10306119   \n",
       "\n",
       "                                             description  \n",
       "131    Amid the post-war boom of Hollywood's Golden A...  \n",
       "392    Amid the post-war boom of Hollywood's Golden A...  \n",
       "405    Here's an animation short of our First Date! W...  \n",
       "619    Here's an animation short of our First Date! W...  \n",
       "652    After my appearance on GTLive, MatPat (Game Th...  \n",
       "...                                                  ...  \n",
       "40874  Return to the Kanto region and experience a cl...  \n",
       "40911  Add weather to your Sims’ lives to tell new st...  \n",
       "40919  Thanks to Skillshare for sponsoring this video...  \n",
       "40936  Talia: https://www.youtube.com/user/nataliahad...  \n",
       "40948  Call of Duty: Black Ops 4 Multiplayer raises t...  \n",
       "\n",
       "[817 rows x 3 columns]"
      ]
     },
     "execution_count": 28,
     "metadata": {},
     "output_type": "execute_result"
    }
   ],
   "source": [
    "game"
   ]
  },
  {
   "cell_type": "code",
   "execution_count": 30,
   "id": "632fbca9-1875-46f1-a1da-a905a6a04f74",
   "metadata": {},
   "outputs": [],
   "source": [
    "# target scaling (log1p + standard)\n",
    "game['log_views'] = np.log1p(game['views'])\n",
    "\n",
    "scaler = StandardScaler()\n",
    "game['log_views_scaled'] = scaler.fit_transform(game[['log_views']])"
   ]
  },
  {
   "cell_type": "code",
   "execution_count": 31,
   "id": "6f1127c5-9dbf-48ea-9c62-97635e6f32ec",
   "metadata": {},
   "outputs": [
    {
     "data": {
      "image/png": "[encoded data removed]",
      "text/plain": [
       "<Figure size 640x480 with 1 Axes>"
      ]
     },
     "metadata": {},
     "output_type": "display_data"
    }
   ],
   "source": [
    "plt.hist(game['log_views_scaled'], bins=30)\n",
    "plt.title(\"Standardized Log-Transformed Views\")\n",
    "plt.xlabel(\"Standardized Log(1 + Views)\")\n",
    "plt.ylabel(\"Frequency\")\n",
    "plt.show()"
   ]
  },
  {
   "cell_type": "markdown",
   "id": "5a6ec759-3946-4d6f-ba33-aa4a0bc6c103",
   "metadata": {},
   "source": [
    "---------------------------------------------------------------------------------------------------------------------"
   ]
  },
  {
   "cell_type": "markdown",
   "id": "52a41333-3665-4d57-94a6-4d238975be24",
   "metadata": {},
   "source": [
    "## Modeling"
   ]
  },
  {
   "cell_type": "markdown",
   "id": "81950e86-0e6f-4453-b03b-81a56b735720",
   "metadata": {
    "jp-MarkdownHeadingCollapsed": true
   },
   "source": [
    "### function definition"
   ]
  },
  {
   "cell_type": "code",
   "execution_count": 35,
   "id": "1d38b0d9-e2ed-4245-81d1-ce943d097b91",
   "metadata": {},
   "outputs": [],
   "source": [
    "def preprocess_title(text):\n",
    "    if not isinstance(text, str):\n",
    "        return \"\"\n",
    "\n",
    "    # 1. 소문자 변환\n",
    "    text = text.lower()\n",
    "\n",
    "    # 2. 특수문자, 숫자 제거\n",
    "    text = re.sub(r'[^a-z\\s]', '', text)\n",
    "\n",
    "    # 3. spaCy 형태소 분석\n",
    "    doc = nlp(text)\n",
    "\n",
    "    # 4. 명사/형용사 + 불용어 제거 + 원형 복원\n",
    "    tokens = [\n",
    "        token.lemma_ for token in doc\n",
    "        if token.is_alpha\n",
    "        and not token.is_stop\n",
    "        and token.pos_ in ['NOUN', 'ADJ', 'PROPN', 'VERB', 'NUM', 'ADV', 'INTJ']\n",
    "    ]\n",
    "\n",
    "    return ' '.join(tokens)"
   ]
  },
  {
   "cell_type": "code",
   "execution_count": 36,
   "id": "f38b6cf1-1561-4953-96a3-17c3eaddcfeb",
   "metadata": {},
   "outputs": [],
   "source": [
    "def preprocess_description(text):\n",
    "    if not isinstance(text, str):\n",
    "        return \"\"\n",
    "\n",
    "    # 1. 소문자 변환\n",
    "    text = text.lower()\n",
    "\n",
    "    # 2. 특수문자, 숫자 제거 (알파벳만 남김)\n",
    "    text = re.sub(r'[^a-z\\s]', '', text)\n",
    "\n",
    "    # 3. spaCy 분석\n",
    "    doc = nlp(text)\n",
    "\n",
    "    # 4. 불용어 제거 + 명사/형용사 + 원형 복원\n",
    "    tokens = [\n",
    "        token.lemma_ for token in doc\n",
    "        if token.is_alpha\n",
    "        and not token.is_stop\n",
    "        and token.pos_ in ['NOUN', 'ADJ', 'PROPN', 'VERB', 'NUM', 'ADV', 'INTJ']\n",
    "    ]\n",
    "\n",
    "    return ' '.join(tokens)"
   ]
  },
  {
   "cell_type": "code",
   "execution_count": 37,
   "id": "a9d424c3-0002-4c5c-b092-c83c77b10874",
   "metadata": {},
   "outputs": [],
   "source": [
    "def count_pos(text):\n",
    "    if not isinstance(text, str):\n",
    "        return {'NOUN': 0, 'PROPN': 0, 'ADJ': 0, 'VERB': 0, 'INTJ': 0, 'NUM': 0}\n",
    "\n",
    "    doc = nlp(text.lower())\n",
    "    pos_counts = {'NOUN': 0, 'PROPN': 0, 'ADJ': 0, 'VERB': 0, 'INTJ': 0, 'NUM': 0}\n",
    "\n",
    "    for token in doc:\n",
    "        if token.pos_ in pos_counts:\n",
    "            pos_counts[token.pos_] += 1\n",
    "\n",
    "    return pos_counts"
   ]
  },
  {
   "cell_type": "code",
   "execution_count": 38,
   "id": "abfc5061-f283-4e2c-b284-87430a4de470",
   "metadata": {},
   "outputs": [],
   "source": [
    "def extract_common_words(row):\n",
    "    title_words = set(row['cleaned_title'].split())\n",
    "    desc_words = set(row['cleand_desc'].split())\n",
    "    common = title_words & desc_words  # 교집합\n",
    "    return ' '.join(common) if common else ''"
   ]
  },
  {
   "cell_type": "code",
   "execution_count": 32,
   "id": "9ab9d652-5750-42da-93aa-1f553ba6a4c3",
   "metadata": {},
   "outputs": [],
   "source": [
    "def extract_features(row):\n",
    "    features = {}\n",
    "\n",
    "    # 원본 텍스트\n",
    "    title = row['title'] if isinstance(row['title'], str) else ''\n",
    "    desc = row['description'] if isinstance(row['description'], str) else ''\n",
    "\n",
    "    # 전처리된 텍스트\n",
    "    cleaned_title = preprocess_title(title)\n",
    "    cleaned_desc = preprocess_description(desc)\n",
    "\n",
    "    # 공통 단어\n",
    "    title_words = set(cleaned_title.split())\n",
    "    desc_words = set(cleaned_desc.split())\n",
    "    common = title_words & desc_words\n",
    "    features['n_common_words'] = len(common)\n",
    "    features['common_words'] = ' '.join(common)\n",
    "\n",
    "    # 제목 길이 및 단어 수 \n",
    "    features['title_len'] = len(title)\n",
    "    features['title_cnt'] = len(cleaned_title.split())\n",
    "\n",
    "    # 느낌표 / 물음표 개수\n",
    "    features['num_exclamations'] = title.count('!')\n",
    "    features['num_questions'] = title.count('?')\n",
    "\n",
    "    # 숫자 포함 여부 \n",
    "    features['has_number'] = int(bool(re.search(r'\\d', title)))\n",
    "    features['starts_with_number'] = int(bool(re.match(r'^\\d', title.strip())))  \n",
    "\n",
    "    # 키워드 포함 여부 (사전 정의된 keyword 리스트 필요)\n",
    "    keywords = [\n",
    "        'rank', 'op', 'patch', 'update', 'buff', 'nerf', 'new', 'epic',\n",
    "        'trick', 'tips', 'glitch', 'record', 'kill', 'highlight', 'champion',\n",
    "        'trailer', 'royale', 'official', 'reveal', 'black', 'multiplayer'\n",
    "    ]\n",
    "    features['has_keyword'] = int(any(word in cleaned_title for word in keywords))\n",
    "\n",
    "    # 대문자 비율 30% 이상 여부\n",
    "    features['is_caps_heavy'] = int(sum(1 for c in title if c.isupper()) > len(title) * 0.3)\n",
    "\n",
    "    # 품사 카운트\n",
    "    pos_counts = count_pos(title)\n",
    "    features.update(pos_counts)\n",
    "\n",
    "    return features\n"
   ]
  },
  {
   "cell_type": "code",
   "execution_count": 33,
   "id": "036a8508-63a8-4c36-afe9-85226e7a73c1",
   "metadata": {},
   "outputs": [],
   "source": [
    "def compute_rule_score(features):\n",
    "    score = 0\n",
    "\n",
    "    # 1. 제목 길이: 짧을수록 가산점\n",
    "    score += -0.03 * features['title_len']\n",
    "\n",
    "    # 2. 단어 수: 많을수록 클릭 유도 가능성 있음\n",
    "    score -= 0.3 * features['title_cnt']\n",
    "\n",
    "    # 3. 느낌표 / 물음표 개수\n",
    "    score += 0.3 * features['num_exclamations']\n",
    "    score += 0.3 * features['num_questions']\n",
    "\n",
    "    # 4. 숫자 포함 여부\n",
    "    score += 0.5 * features['has_number']\n",
    "\n",
    "    # 5. 숫자로 시작\n",
    "    score -= 0.1 * features['starts_with_number']\n",
    "\n",
    "    # 6. 키워드 포함 여부\n",
    "    score += 0.8 * features['has_keyword']\n",
    "\n",
    "    # 7. 대문자 비율이 높은 경우\n",
    "    score -= 0.3 * features['is_caps_heavy']\n",
    "\n",
    "    # 8. 품사 기반: 명사·동사 많으면 내용 풍부, 고유명사 많으면 오히려 일반성↓\n",
    "    score += 0.5 * features.get('NOUN', 0)\n",
    "    score += 0.5 * features.get('VERB', 0)\n",
    "    score += -0.1 * features.get('PROPN', 0)  # 고유명사 많으면 가중치 낮춤\n",
    "\n",
    "    # 9. 공통 단어 개수 (title과 desc 간 overlap)\n",
    "    score += 0.3 * features.get('n_common_words', 0)\n",
    "\n",
    "    return score"
   ]
  },
  {
   "cell_type": "code",
   "execution_count": 45,
   "id": "b2182969-8fdc-4b7d-9b66-febcc859a6ff",
   "metadata": {},
   "outputs": [],
   "source": [
    "# CLS 벡터 추출 함수\n",
    "def extract_cls_embedding(text):\n",
    "    encoding = tokenizer(text,\n",
    "                         max_length=32,\n",
    "                         truncation=True,\n",
    "                         padding='max_length',\n",
    "                         return_tensors='pt')\n",
    "    input_ids_tensor = encoding['input_ids'].to(device)\n",
    "    attention_mask_tensor = encoding['attention_mask'].to(device)\n",
    "    \n",
    "    with torch.no_grad():\n",
    "        outputs = model(input_ids=input_ids_tensor, attention_mask=attention_mask_tensor)\n",
    "        cls_embedding = outputs.last_hidden_state[:, 0, :].squeeze().cpu().numpy()\n",
    "    return cls_embedding"
   ]
  },
  {
   "cell_type": "code",
   "execution_count": 57,
   "id": "9b62657a-a316-4e18-a6a5-bd8b813ed9c1",
   "metadata": {},
   "outputs": [],
   "source": [
    "# Model 성능 평가 함수 \n",
    "def evaluate_model(model, X_train, y_train, X_test, y_test):\n",
    "    model.fit(X_train, y_train)\n",
    "    y_pred = model.predict(X_test)\n",
    "\n",
    "    rmse = root_mean_squared_error(y_test, y_pred)\n",
    "    r2 = r2_score(y_test, y_pred)\n",
    "    spearman_corr, _ = spearmanr(y_test, y_pred)\n",
    "\n",
    "    print(f\"RMSE: {rmse:.4f}\")\n",
    "    print(f\"R²: {r2:.4f}\")\n",
    "    print(f\"Spearman: {spearman_corr:.4f}\")\n",
    "    \n",
    "    return model, rmse, r2, spearman_corr"
   ]
  },
  {
   "cell_type": "markdown",
   "id": "47260262-5272-4415-8dc4-a4c86ebd7d35",
   "metadata": {
    "jp-MarkdownHeadingCollapsed": true
   },
   "source": [
    "### rule-based feature"
   ]
  },
  {
   "cell_type": "code",
   "execution_count": 40,
   "id": "dab51efd-22fa-4e62-a5b0-e58ec809ebd2",
   "metadata": {},
   "outputs": [],
   "source": [
    "# 조회수가 높은 영상에 자주 등장하는 키워드 사전 구축 \n",
    "keywords = [\n",
    "        'rank', 'op', 'patch', 'update', 'buff', 'nerf', 'new', 'epic',\n",
    "        'trick', 'tips', 'glitch', 'record', 'kill', 'highlight', 'champion',\n",
    "        'trailer', 'royale', 'official', 'reveal', 'black', 'multiplayer']\n",
    "\n",
    "hype_words = ['insane', 'crazy', 'unbelievable', 'god', '1v5', 'clutch']"
   ]
  },
  {
   "cell_type": "code",
   "execution_count": 41,
   "id": "eb01ebaa-d4bf-4ed0-96a6-878d18af49bc",
   "metadata": {},
   "outputs": [],
   "source": [
    "game['rule_score'] = game.apply(lambda row: compute_rule_score(extract_features(row)), axis=1)"
   ]
  },
  {
   "cell_type": "code",
   "execution_count": 42,
   "id": "4333ebcb-1079-40e3-aaea-430e1b7b3559",
   "metadata": {},
   "outputs": [
    {
     "data": {
      "text/html": [
       "<div>\n",
       "<style scoped>\n",
       "    .dataframe tbody tr th:only-of-type {\n",
       "        vertical-align: middle;\n",
       "    }\n",
       "\n",
       "    .dataframe tbody tr th {\n",
       "        vertical-align: top;\n",
       "    }\n",
       "\n",
       "    .dataframe thead th {\n",
       "        text-align: right;\n",
       "    }\n",
       "</style>\n",
       "<table border=\"1\" class=\"dataframe\">\n",
       "  <thead>\n",
       "    <tr style=\"text-align: right;\">\n",
       "      <th></th>\n",
       "      <th>title</th>\n",
       "      <th>views</th>\n",
       "      <th>description</th>\n",
       "      <th>log_views</th>\n",
       "      <th>log_views_scaled</th>\n",
       "      <th>rule_score</th>\n",
       "    </tr>\n",
       "  </thead>\n",
       "  <tbody>\n",
       "    <tr>\n",
       "      <th>131</th>\n",
       "      <td>L.A. Noire - Nintendo Switch Trailer</td>\n",
       "      <td>154872</td>\n",
       "      <td>Amid the post-war boom of Hollywood's Golden A...</td>\n",
       "      <td>11.950361</td>\n",
       "      <td>-1.291706</td>\n",
       "      <td>0.02</td>\n",
       "    </tr>\n",
       "    <tr>\n",
       "      <th>392</th>\n",
       "      <td>L.A. Noire - Nintendo Switch Trailer</td>\n",
       "      <td>161231</td>\n",
       "      <td>Amid the post-war boom of Hollywood's Golden A...</td>\n",
       "      <td>11.990600</td>\n",
       "      <td>-1.265922</td>\n",
       "      <td>0.02</td>\n",
       "    </tr>\n",
       "    <tr>\n",
       "      <th>405</th>\n",
       "      <td>Our First Date</td>\n",
       "      <td>224426</td>\n",
       "      <td>Here's an animation short of our First Date! W...</td>\n",
       "      <td>12.321306</td>\n",
       "      <td>-1.054013</td>\n",
       "      <td>0.08</td>\n",
       "    </tr>\n",
       "    <tr>\n",
       "      <th>619</th>\n",
       "      <td>Our First Date</td>\n",
       "      <td>463992</td>\n",
       "      <td>Here's an animation short of our First Date! W...</td>\n",
       "      <td>13.047625</td>\n",
       "      <td>-0.588606</td>\n",
       "      <td>0.08</td>\n",
       "    </tr>\n",
       "    <tr>\n",
       "      <th>652</th>\n",
       "      <td>Playing CUPHEAD with MatPat!</td>\n",
       "      <td>55460</td>\n",
       "      <td>After my appearance on GTLive, MatPat (Game Th...</td>\n",
       "      <td>10.923435</td>\n",
       "      <td>-1.949735</td>\n",
       "      <td>-0.24</td>\n",
       "    </tr>\n",
       "    <tr>\n",
       "      <th>...</th>\n",
       "      <td>...</td>\n",
       "      <td>...</td>\n",
       "      <td>...</td>\n",
       "      <td>...</td>\n",
       "      <td>...</td>\n",
       "      <td>...</td>\n",
       "    </tr>\n",
       "    <tr>\n",
       "      <th>40874</th>\n",
       "      <td>Pokémon: Let's Go, Pikachu! and Pokémon: Let's...</td>\n",
       "      <td>9992803</td>\n",
       "      <td>Return to the Kanto region and experience a cl...</td>\n",
       "      <td>16.117376</td>\n",
       "      <td>1.378417</td>\n",
       "      <td>1.25</td>\n",
       "    </tr>\n",
       "    <tr>\n",
       "      <th>40911</th>\n",
       "      <td>The Sims 4 Seasons: Official Reveal Trailer</td>\n",
       "      <td>1749832</td>\n",
       "      <td>Add weather to your Sims’ lives to tell new st...</td>\n",
       "      <td>14.375031</td>\n",
       "      <td>0.261964</td>\n",
       "      <td>0.51</td>\n",
       "    </tr>\n",
       "    <tr>\n",
       "      <th>40919</th>\n",
       "      <td>The History of Fortnite Battle Royale - Did Yo...</td>\n",
       "      <td>324219</td>\n",
       "      <td>Thanks to Skillshare for sponsoring this video...</td>\n",
       "      <td>12.689178</td>\n",
       "      <td>-0.818290</td>\n",
       "      <td>1.24</td>\n",
       "    </tr>\n",
       "    <tr>\n",
       "      <th>40936</th>\n",
       "      <td>LIE DETECTOR TEST WITH MY GIRLFRIEND!</td>\n",
       "      <td>3229540</td>\n",
       "      <td>Talia: https://www.youtube.com/user/nataliahad...</td>\n",
       "      <td>14.987851</td>\n",
       "      <td>0.654644</td>\n",
       "      <td>-0.31</td>\n",
       "    </tr>\n",
       "    <tr>\n",
       "      <th>40948</th>\n",
       "      <td>Official Call of Duty®: Black Ops 4 — Multipla...</td>\n",
       "      <td>10306119</td>\n",
       "      <td>Call of Duty: Black Ops 4 Multiplayer raises t...</td>\n",
       "      <td>16.148248</td>\n",
       "      <td>1.398199</td>\n",
       "      <td>1.98</td>\n",
       "    </tr>\n",
       "  </tbody>\n",
       "</table>\n",
       "<p>817 rows × 6 columns</p>\n",
       "</div>"
      ],
      "text/plain": [
       "                                                   title     views  \\\n",
       "131                 L.A. Noire - Nintendo Switch Trailer    154872   \n",
       "392                 L.A. Noire - Nintendo Switch Trailer    161231   \n",
       "405                                       Our First Date    224426   \n",
       "619                                       Our First Date    463992   \n",
       "652                         Playing CUPHEAD with MatPat!     55460   \n",
       "...                                                  ...       ...   \n",
       "40874  Pokémon: Let's Go, Pikachu! and Pokémon: Let's...   9992803   \n",
       "40911        The Sims 4 Seasons: Official Reveal Trailer   1749832   \n",
       "40919  The History of Fortnite Battle Royale - Did Yo...    324219   \n",
       "40936              LIE DETECTOR TEST WITH MY GIRLFRIEND!   3229540   \n",
       "40948  Official Call of Duty®: Black Ops 4 — Multipla...  10306119   \n",
       "\n",
       "                                             description  log_views  \\\n",
       "131    Amid the post-war boom of Hollywood's Golden A...  11.950361   \n",
       "392    Amid the post-war boom of Hollywood's Golden A...  11.990600   \n",
       "405    Here's an animation short of our First Date! W...  12.321306   \n",
       "619    Here's an animation short of our First Date! W...  13.047625   \n",
       "652    After my appearance on GTLive, MatPat (Game Th...  10.923435   \n",
       "...                                                  ...        ...   \n",
       "40874  Return to the Kanto region and experience a cl...  16.117376   \n",
       "40911  Add weather to your Sims’ lives to tell new st...  14.375031   \n",
       "40919  Thanks to Skillshare for sponsoring this video...  12.689178   \n",
       "40936  Talia: https://www.youtube.com/user/nataliahad...  14.987851   \n",
       "40948  Call of Duty: Black Ops 4 Multiplayer raises t...  16.148248   \n",
       "\n",
       "       log_views_scaled  rule_score  \n",
       "131           -1.291706        0.02  \n",
       "392           -1.265922        0.02  \n",
       "405           -1.054013        0.08  \n",
       "619           -0.588606        0.08  \n",
       "652           -1.949735       -0.24  \n",
       "...                 ...         ...  \n",
       "40874          1.378417        1.25  \n",
       "40911          0.261964        0.51  \n",
       "40919         -0.818290        1.24  \n",
       "40936          0.654644       -0.31  \n",
       "40948          1.398199        1.98  \n",
       "\n",
       "[817 rows x 6 columns]"
      ]
     },
     "execution_count": 42,
     "metadata": {},
     "output_type": "execute_result"
    }
   ],
   "source": [
    "game"
   ]
  },
  {
   "cell_type": "markdown",
   "id": "47dd59a6-e2e9-4c0e-8105-b325d8944bdb",
   "metadata": {
    "jp-MarkdownHeadingCollapsed": true
   },
   "source": [
    "### BERT embeddings"
   ]
  },
  {
   "cell_type": "code",
   "execution_count": 44,
   "id": "2c63451f-e49f-4f92-9e00-69a79933382f",
   "metadata": {},
   "outputs": [
    {
     "data": {
      "text/plain": [
       "BertModel(\n",
       "  (embeddings): BertEmbeddings(\n",
       "    (word_embeddings): Embedding(30522, 768, padding_idx=0)\n",
       "    (position_embeddings): Embedding(512, 768)\n",
       "    (token_type_embeddings): Embedding(2, 768)\n",
       "    (LayerNorm): LayerNorm((768,), eps=1e-12, elementwise_affine=True)\n",
       "    (dropout): Dropout(p=0.1, inplace=False)\n",
       "  )\n",
       "  (encoder): BertEncoder(\n",
       "    (layer): ModuleList(\n",
       "      (0-11): 12 x BertLayer(\n",
       "        (attention): BertAttention(\n",
       "          (self): BertSdpaSelfAttention(\n",
       "            (query): Linear(in_features=768, out_features=768, bias=True)\n",
       "            (key): Linear(in_features=768, out_features=768, bias=True)\n",
       "            (value): Linear(in_features=768, out_features=768, bias=True)\n",
       "            (dropout): Dropout(p=0.1, inplace=False)\n",
       "          )\n",
       "          (output): BertSelfOutput(\n",
       "            (dense): Linear(in_features=768, out_features=768, bias=True)\n",
       "            (LayerNorm): LayerNorm((768,), eps=1e-12, elementwise_affine=True)\n",
       "            (dropout): Dropout(p=0.1, inplace=False)\n",
       "          )\n",
       "        )\n",
       "        (intermediate): BertIntermediate(\n",
       "          (dense): Linear(in_features=768, out_features=3072, bias=True)\n",
       "          (intermediate_act_fn): GELUActivation()\n",
       "        )\n",
       "        (output): BertOutput(\n",
       "          (dense): Linear(in_features=3072, out_features=768, bias=True)\n",
       "          (LayerNorm): LayerNorm((768,), eps=1e-12, elementwise_affine=True)\n",
       "          (dropout): Dropout(p=0.1, inplace=False)\n",
       "        )\n",
       "      )\n",
       "    )\n",
       "  )\n",
       "  (pooler): BertPooler(\n",
       "    (dense): Linear(in_features=768, out_features=768, bias=True)\n",
       "    (activation): Tanh()\n",
       "  )\n",
       ")"
      ]
     },
     "execution_count": 44,
     "metadata": {},
     "output_type": "execute_result"
    }
   ],
   "source": [
    "# BERT load \n",
    "tokenizer = BertTokenizer.from_pretrained(\"bert-base-uncased\")\n",
    "model = BertModel.from_pretrained(\"bert-base-uncased\")\n",
    "\n",
    "device = torch.device(\"cuda\" if torch.cuda.is_available() else \"cpu\")\n",
    "model.to(device)\n",
    "model.eval()"
   ]
  },
  {
   "cell_type": "code",
   "execution_count": 46,
   "id": "3fafd5f0-83aa-4278-9696-8df9bbc414d0",
   "metadata": {},
   "outputs": [
    {
     "name": "stderr",
     "output_type": "stream",
     "text": [
      "100%|████████████████████████████████████████████████████████████████████████████████| 817/817 [00:15<00:00, 51.52it/s]\n"
     ]
    }
   ],
   "source": [
    "## 전체 제목을 cls로 추출 \n",
    "embeddings = np.array([\n",
    "    extract_cls_embedding(title) for title in tqdm(game['title'])\n",
    "])"
   ]
  },
  {
   "cell_type": "markdown",
   "id": "a6344830-daba-461b-bb54-eb1acf30f6f6",
   "metadata": {},
   "source": [
    "### Hybrid model - feature level"
   ]
  },
  {
   "cell_type": "markdown",
   "id": "a45323d4-5e5c-44f8-86a0-a6a7efacbc8a",
   "metadata": {},
   "source": [
    "먼저 피처들 간 스케일 차이 확인 후 피처 스케일링 진행"
   ]
  },
  {
   "cell_type": "code",
   "execution_count": 47,
   "id": "55568782-1014-424d-9323-23297d08b555",
   "metadata": {},
   "outputs": [],
   "source": [
    "rule_score = game[['rule_score']].values"
   ]
  },
  {
   "cell_type": "code",
   "execution_count": 49,
   "id": "d56ee6ef-4b6c-4c8f-ae32-6783028f74d8",
   "metadata": {},
   "outputs": [],
   "source": [
    "bert_dim_0 = embeddings[:, 0]"
   ]
  },
  {
   "cell_type": "code",
   "execution_count": 51,
   "id": "e2f9f0d7-522e-4c98-b1cc-3198c30d5f35",
   "metadata": {},
   "outputs": [
    {
     "data": {
      "image/png": "[encoded data removed]",
      "text/plain": [
       "<Figure size 1000x500 with 1 Axes>"
      ]
     },
     "metadata": {},
     "output_type": "display_data"
    }
   ],
   "source": [
    "# 두 피처의 분포를 시각화해서 스케일링 필요한지 확인 \n",
    "plt.figure(figsize=(10, 5))\n",
    "plt.hist(bert_dim_0, bins=50, alpha=0.6, label='BERT dim 0', color='blue')\n",
    "plt.hist(rule_score, bins=50, alpha=0.6, label='Rule Score', color='orange')\n",
    "plt.title('BERT vs Rule Score Distribution')\n",
    "plt.xlabel('Value')\n",
    "plt.ylabel('Frequency')\n",
    "plt.legend()\n",
    "plt.grid(True)\n",
    "plt.show()"
   ]
  },
  {
   "cell_type": "code",
   "execution_count": 53,
   "id": "85861683-0581-4fcc-9bc1-d568bf9496a3",
   "metadata": {},
   "outputs": [],
   "source": [
    "# 피처 스케일링\n",
    "rule_scaled = scaler.fit_transform(game[['rule_score']])"
   ]
  },
  {
   "cell_type": "markdown",
   "id": "ab30beb4-0aa9-4f73-940c-544e2ffba73e",
   "metadata": {},
   "source": [
    "피처 결합하여 다양한 모델로 실험"
   ]
  },
  {
   "cell_type": "code",
   "execution_count": 55,
   "id": "73bdc9af-918e-48ec-971e-fc0d4ce7f251",
   "metadata": {},
   "outputs": [],
   "source": [
    "# 두 피처 결합\n",
    "X = np.hstack([embeddings, rule_scaled])\n",
    "\n",
    "# target 처리\n",
    "y = game['log_views_scaled']\n",
    "\n",
    "# test, train dataset 분리 \n",
    "X_train, X_test, y_train, y_test = train_test_split(\n",
    "    X, y, test_size=0.2, random_state=42)"
   ]
  },
  {
   "cell_type": "markdown",
   "id": "85bc7265-a211-4620-b7aa-2d6da9edd7f6",
   "metadata": {},
   "source": [
    "----------------------------------------------------------------------------------------------------------------------"
   ]
  },
  {
   "cell_type": "markdown",
   "id": "884e73b2-3101-4349-bf3d-67b5fbdf1d09",
   "metadata": {},
   "source": [
    "Linear Regression"
   ]
  },
  {
   "cell_type": "code",
   "execution_count": 65,
   "id": "6c10b2ef-8c5d-49e7-ad46-eb34dbeb990d",
   "metadata": {},
   "outputs": [
    {
     "name": "stdout",
     "output_type": "stream",
     "text": [
      "RMSE: 488097252058.0101\n",
      "R²: -263369419582098353684480.0000\n",
      "Spearman: 0.9376\n"
     ]
    },
    {
     "data": {
      "text/plain": [
       "(LinearRegression(),\n",
       " np.float64(488097252058.01013),\n",
       " -2.6336941958209835e+23,\n",
       " np.float64(0.9376324818585974))"
      ]
     },
     "execution_count": 65,
     "metadata": {},
     "output_type": "execute_result"
    }
   ],
   "source": [
    "# Linear Regression \n",
    "lr = LinearRegression()\n",
    "evaluate_model(lr, X_train, y_train, X_test, y_test)"
   ]
  },
  {
   "cell_type": "markdown",
   "id": "ac2b5fad-2e07-4c31-b7b0-26f36117c902",
   "metadata": {},
   "source": [
    "결과값이 이상함 - 디버깅"
   ]
  },
  {
   "cell_type": "code",
   "execution_count": 69,
   "id": "f3bdc062-40cd-4006-bf57-689bfaed7c61",
   "metadata": {},
   "outputs": [
    {
     "name": "stdout",
     "output_type": "stream",
     "text": [
      "True: -0 / Pred: -0\n",
      "True: 2 / Pred: 3\n",
      "True: -1 / Pred: -1\n",
      "True: 1 / Pred: 1\n",
      "True: 1 / Pred: 1\n",
      "True: 3 / Pred: inf\n",
      "True: -0 / Pred: -0\n",
      "True: 1 / Pred: 1\n",
      "True: -0 / Pred: -0\n",
      "True: -1 / Pred: -1\n"
     ]
    },
    {
     "name": "stderr",
     "output_type": "stream",
     "text": [
      "C:\\Users\\wonny\\AppData\\Local\\Temp\\ipykernel_16612\\599550809.py:5: RuntimeWarning: overflow encountered in expm1\n",
      "  y_pred_raw = np.expm1(y_pred)\n"
     ]
    }
   ],
   "source": [
    "# 예측값\n",
    "y_pred = lr.predict(X_test)\n",
    "\n",
    "# 로그 스케일이면 되돌림\n",
    "y_pred_raw = np.expm1(y_pred)\n",
    "y_test_raw = np.expm1(y_test)\n",
    "\n",
    "# 비교\n",
    "for yt, yp in zip(y_test_raw[:10], y_pred_raw[:10]):\n",
    "    print(f\"True: {yt:.0f} / Pred: {yp:.0f}\")"
   ]
  },
  {
   "cell_type": "markdown",
   "id": "57b5b1c4-1021-4a67-ac65-da140025e98e",
   "metadata": {},
   "source": [
    "예측값이 무한대로 튀는 경우가 있음을 확인함. 문제 확인을 위해 디버깅"
   ]
  },
  {
   "cell_type": "code",
   "execution_count": 70,
   "id": "38adfb16-8cdf-44e1-b0ad-4bf54eca6b11",
   "metadata": {},
   "outputs": [
    {
     "name": "stdout",
     "output_type": "stream",
     "text": [
      "Rule Score (정규화 후): mean = -1.7393947019831092e-17 / std = 1.0\n"
     ]
    }
   ],
   "source": [
    "print(\"Rule Score (정규화 후): mean =\", rule_scaled.mean(), \"/ std =\", rule_scaled.std())"
   ]
  },
  {
   "cell_type": "code",
   "execution_count": 71,
   "id": "f04c3929-3310-4597-9289-369931863c45",
   "metadata": {},
   "outputs": [
    {
     "name": "stdout",
     "output_type": "stream",
     "text": [
      "전체 계수 개수: 769\n",
      "rule_score 계수: -892101767147.4353\n",
      "BERT 계수 평균 ± 표준편차: 17257247661.261913 +- 1865309624643.1924\n"
     ]
    }
   ],
   "source": [
    "coef = lr.coef_\n",
    "print(\"전체 계수 개수:\", len(coef))\n",
    "print(\"rule_score 계수:\", coef[-1])\n",
    "print(\"BERT 계수 평균 ± 표준편차:\", np.mean(coef[:-1]), \"+-\", np.std(coef[:-1]))"
   ]
  },
  {
   "cell_type": "markdown",
   "id": "20882304-e01d-4c3c-8938-1957cbf6acbd",
   "metadata": {},
   "source": [
    "rule-score의 계수가 너무 커서 튀는 현상 발견 -> 다중공선성일 가능성이 높음, Ridge / Lasso를 통해 해결"
   ]
  },
  {
   "cell_type": "markdown",
   "id": "f8ff4786-c6f7-4d60-920d-0a4a72c01034",
   "metadata": {},
   "source": [
    "----------------------------------------------------------------------------------------------------------------------"
   ]
  },
  {
   "cell_type": "code",
   "execution_count": 59,
   "id": "6b72251c-094e-41dd-abe7-d19fc2a8bb03",
   "metadata": {},
   "outputs": [
    {
     "name": "stdout",
     "output_type": "stream",
     "text": [
      "RMSE: 0.2361\n",
      "R²: 0.9384\n",
      "Spearman: 0.9677\n"
     ]
    },
    {
     "data": {
      "text/plain": [
       "(Ridge(),\n",
       " np.float64(0.23607842029588313),\n",
       " 0.9383880148199366,\n",
       " np.float64(0.9677452143053162))"
      ]
     },
     "execution_count": 59,
     "metadata": {},
     "output_type": "execute_result"
    }
   ],
   "source": [
    "ridge = Ridge(alpha=1.0)\n",
    "evaluate_model(ridge, X_train, y_train, X_test, y_test)"
   ]
  },
  {
   "cell_type": "markdown",
   "id": "18417b4e-5452-4025-aa68-e35c05c4504a",
   "metadata": {},
   "source": [
    "----------------------------------------------------------------------------------------------------------------------"
   ]
  },
  {
   "cell_type": "code",
   "execution_count": 60,
   "id": "78519689-1a71-4821-916c-11a8dbf37f61",
   "metadata": {},
   "outputs": [
    {
     "name": "stdout",
     "output_type": "stream",
     "text": [
      "RMSE: 0.2664\n",
      "R²: 0.9216\n",
      "Spearman: 0.9533\n"
     ]
    },
    {
     "data": {
      "text/plain": [
       "(RandomForestRegressor(n_jobs=-1, random_state=42),\n",
       " np.float64(0.26635061243949965),\n",
       " 0.9215740079810938,\n",
       " np.float64(0.9532760940673616))"
      ]
     },
     "execution_count": 60,
     "metadata": {},
     "output_type": "execute_result"
    }
   ],
   "source": [
    "rf = RandomForestRegressor(n_estimators=100, n_jobs=-1, random_state=42)\n",
    "evaluate_model(rf, X_train, y_train, X_test, y_test)"
   ]
  },
  {
   "cell_type": "markdown",
   "id": "4bb7c8a4-435c-4725-a3fc-bf84f09e1c84",
   "metadata": {},
   "source": [
    "----------------------------------------------------------------------------------------------------------------------"
   ]
  },
  {
   "cell_type": "code",
   "execution_count": 61,
   "id": "ec4bc308-396c-4791-b4df-d0052a17b922",
   "metadata": {},
   "outputs": [
    {
     "name": "stdout",
     "output_type": "stream",
     "text": [
      "RMSE: 0.2618\n",
      "R²: 0.9243\n",
      "Spearman: 0.9538\n"
     ]
    },
    {
     "data": {
      "text/plain": [
       "(GradientBoostingRegressor(random_state=42),\n",
       " np.float64(0.2617591272481992),\n",
       " 0.9242545954707022,\n",
       " np.float64(0.953817631574857))"
      ]
     },
     "execution_count": 61,
     "metadata": {},
     "output_type": "execute_result"
    }
   ],
   "source": [
    "gradient = GradientBoostingRegressor(n_estimators=100, random_state=42)\n",
    "evaluate_model(gradient, X_train, y_train, X_test, y_test)"
   ]
  },
  {
   "cell_type": "code",
   "execution_count": 81,
   "id": "ca7f72ec-61a2-4c5f-8ebd-8f9b9879565d",
   "metadata": {},
   "outputs": [
    {
     "name": "stdout",
     "output_type": "stream",
     "text": [
      "Evaluating Lasso...\n",
      "RMSE: 0.5098\n",
      "R²: 0.7127\n",
      "Spearman: 0.8483\n",
      "Evaluating Ridge...\n",
      "RMSE: 0.2361\n",
      "R²: 0.9384\n",
      "Spearman: 0.9677\n",
      "Evaluating RandomForest...\n",
      "RMSE: 0.2664\n",
      "R²: 0.9216\n",
      "Spearman: 0.9533\n",
      "Evaluating GradientBoosting...\n",
      "RMSE: 0.2618\n",
      "R²: 0.9243\n",
      "Spearman: 0.9538\n"
     ]
    }
   ],
   "source": [
    "results = []\n",
    "\n",
    "models = {\n",
    "    \"Lasso\": Lasso(alpha=0.01),\n",
    "    \"Ridge\": Ridge(alpha=1.0),\n",
    "    \"RandomForest\": RandomForestRegressor(n_estimators=100, random_state=42),\n",
    "    \"GradientBoosting\": GradientBoostingRegressor(n_estimators=100, random_state=42),\n",
    "    \n",
    "}\n",
    "\n",
    "for name, model in models.items():\n",
    "    print(f\"Evaluating {name}...\")\n",
    "    trained_model, rmse, r2, spearman = evaluate_model(model, X_train, y_train, X_test, y_test)\n",
    "    \n",
    "    results.append({\n",
    "        \"Model\": name,\n",
    "        \"RMSE\": rmse,\n",
    "        \"R²\": r2,\n",
    "        \"Spearman\": spearman\n",
    "    })\n"
   ]
  },
  {
   "cell_type": "code",
   "execution_count": 82,
   "id": "adf43966-5804-4bd8-b71f-863aa9acf791",
   "metadata": {},
   "outputs": [],
   "source": [
    "results_df = pd.DataFrame(results)"
   ]
  },
  {
   "cell_type": "code",
   "execution_count": 83,
   "id": "ccdd4257-b4dd-4a96-b42e-62bbb4179b49",
   "metadata": {},
   "outputs": [
    {
     "data": {
      "image/png": "[encoded data removed]",
      "text/plain": [
       "<Figure size 800x600 with 1 Axes>"
      ]
     },
     "metadata": {},
     "output_type": "display_data"
    }
   ],
   "source": [
    "metrics = [\"RMSE\", \"R²\", \"Spearman\"]\n",
    "\n",
    "plt.figure(figsize=(8, 6))\n",
    "\n",
    "metrics = [\"RMSE\", \"R²\", \"Spearman\"]\n",
    "for metric in metrics:\n",
    "    plt.plot(results_df[\"Model\"], results_df[metric], marker='o', label=metric)\n",
    "\n",
    "plt.title(\"모델별 성능 비교 (라인 차트)\")\n",
    "plt.xlabel(\"Model\")\n",
    "plt.ylabel(\"Metric Value\")\n",
    "plt.legend()\n",
    "plt.grid(True)\n",
    "plt.tight_layout()\n",
    "plt.show()"
   ]
  },
  {
   "cell_type": "code",
   "execution_count": 84,
   "id": "f299edf4-3f33-4f88-ad76-89ad3d06ad2e",
   "metadata": {},
   "outputs": [
    {
     "data": {
      "text/html": [
       "<div>\n",
       "<style scoped>\n",
       "    .dataframe tbody tr th:only-of-type {\n",
       "        vertical-align: middle;\n",
       "    }\n",
       "\n",
       "    .dataframe tbody tr th {\n",
       "        vertical-align: top;\n",
       "    }\n",
       "\n",
       "    .dataframe thead th {\n",
       "        text-align: right;\n",
       "    }\n",
       "</style>\n",
       "<table border=\"1\" class=\"dataframe\">\n",
       "  <thead>\n",
       "    <tr style=\"text-align: right;\">\n",
       "      <th></th>\n",
       "      <th>Model</th>\n",
       "      <th>RMSE</th>\n",
       "      <th>R²</th>\n",
       "      <th>Spearman</th>\n",
       "    </tr>\n",
       "  </thead>\n",
       "  <tbody>\n",
       "    <tr>\n",
       "      <th>0</th>\n",
       "      <td>Lasso</td>\n",
       "      <td>0.509804</td>\n",
       "      <td>0.712685</td>\n",
       "      <td>0.848305</td>\n",
       "    </tr>\n",
       "    <tr>\n",
       "      <th>1</th>\n",
       "      <td>Ridge</td>\n",
       "      <td>0.236078</td>\n",
       "      <td>0.938388</td>\n",
       "      <td>0.967745</td>\n",
       "    </tr>\n",
       "    <tr>\n",
       "      <th>2</th>\n",
       "      <td>RandomForest</td>\n",
       "      <td>0.266351</td>\n",
       "      <td>0.921574</td>\n",
       "      <td>0.953276</td>\n",
       "    </tr>\n",
       "    <tr>\n",
       "      <th>3</th>\n",
       "      <td>GradientBoosting</td>\n",
       "      <td>0.261759</td>\n",
       "      <td>0.924255</td>\n",
       "      <td>0.953818</td>\n",
       "    </tr>\n",
       "  </tbody>\n",
       "</table>\n",
       "</div>"
      ],
      "text/plain": [
       "              Model      RMSE        R²  Spearman\n",
       "0             Lasso  0.509804  0.712685  0.848305\n",
       "1             Ridge  0.236078  0.938388  0.967745\n",
       "2      RandomForest  0.266351  0.921574  0.953276\n",
       "3  GradientBoosting  0.261759  0.924255  0.953818"
      ]
     },
     "execution_count": 84,
     "metadata": {},
     "output_type": "execute_result"
    }
   ],
   "source": [
    "results_df"
   ]
  },
  {
   "cell_type": "markdown",
   "id": "020df6be-84e3-45be-85b3-723f209cc4b4",
   "metadata": {},
   "source": [
    "-------------------------------------------------------------------------------------------------------------------------"
   ]
  },
  {
   "cell_type": "code",
   "execution_count": 86,
   "id": "bb9f2d44-3fc6-4924-91f3-3b3ae406a97d",
   "metadata": {},
   "outputs": [
    {
     "data": {
      "image/png": "[encoded data removed]",
      "text/plain": [
       "<Figure size 1000x600 with 1 Axes>"
      ]
     },
     "metadata": {},
     "output_type": "display_data"
    }
   ],
   "source": [
    "# Ridge 계수 추출\n",
    "coef = ridge.coef_\n",
    "\n",
    "# 시각화 (상위 N개)\n",
    "top_n = 20\n",
    "indices = np.argsort(np.abs(coef))[-top_n:]  # 절댓값 큰 계수 기준\n",
    "feature_names = [f\"BERT_{i}\" for i in range(X_train.shape[1] - 1)] + [\"rule_score\"]\n",
    "\n",
    "top_features = [feature_names[i] for i in indices]\n",
    "top_weights = coef[indices]\n",
    "\n",
    "plt.figure(figsize=(10, 6))\n",
    "plt.barh(top_features, top_weights)\n",
    "plt.title(\"Ridge 회귀 계수 (절댓값 기준 상위 20개)\")\n",
    "plt.xlabel(\"Weight\")\n",
    "plt.grid(True)\n",
    "plt.tight_layout()\n",
    "plt.show()"
   ]
  },
  {
   "cell_type": "code",
   "execution_count": null,
   "id": "a3099df0-eb5e-4e01-ace6-4b09567f0b0f",
   "metadata": {},
   "outputs": [],
   "source": []
  }
 ],
 "metadata": {
  "kernelspec": {
   "display_name": "youtube_pj",
   "language": "python",
   "name": "youtubeprediction"
  },
  "language_info": {
   "codemirror_mode": {
    "name": "ipython",
    "version": 3
   },
   "file_extension": ".py",
   "mimetype": "text/x-python",
   "name": "python",
   "nbconvert_exporter": "python",
   "pygments_lexer": "ipython3",
   "version": "3.10.16"
  }
 },
 "nbformat": 4,
 "nbformat_minor": 5
}
