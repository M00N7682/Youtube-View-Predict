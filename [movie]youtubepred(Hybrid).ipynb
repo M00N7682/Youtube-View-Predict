{
 "cells": [
  {
   "cell_type": "markdown",
   "id": "a3ed2c5f-af93-4b50-beab-41f2e7de2e24",
   "metadata": {
    "jp-MarkdownHeadingCollapsed": true
   },
   "source": [
    "## 라이브러리 임포트"
   ]
  },
  {
   "cell_type": "code",
   "execution_count": 1,
   "id": "72d34ba5-d408-474a-9c8d-b2c674a2db9f",
   "metadata": {},
   "outputs": [],
   "source": [
    "# Library import - data preprocessing \n",
    "import pandas as pd\n",
    "import numpy as np\n",
    "import os\n",
    "from sklearn.preprocessing import OneHotEncoder"
   ]
  },
  {
   "cell_type": "code",
   "execution_count": 2,
   "id": "0ec76e0f-1eb5-427e-b925-5125c8e0397c",
   "metadata": {},
   "outputs": [],
   "source": [
    "## Models\n",
    "from sklearn.linear_model import LinearRegression, Ridge, Lasso\n",
    "from sklearn.ensemble import RandomForestRegressor, GradientBoostingRegressor"
   ]
  },
  {
   "cell_type": "code",
   "execution_count": 3,
   "id": "557c35e1-bb72-4d33-91df-f653cb3b9176",
   "metadata": {},
   "outputs": [],
   "source": [
    "from transformers import BertTokenizer, BertModel"
   ]
  },
  {
   "cell_type": "code",
   "execution_count": 4,
   "id": "37baa5fd-f6ec-40dc-91a6-5e0fd2335b9b",
   "metadata": {},
   "outputs": [],
   "source": [
    "# torch\n",
    "import torch "
   ]
  },
  {
   "cell_type": "code",
   "execution_count": 5,
   "id": "96b86bfe-e72c-4b07-8f17-865918eef0bb",
   "metadata": {},
   "outputs": [],
   "source": [
    "# 평가지표\n",
    "from sklearn.model_selection import train_test_split\n",
    "from sklearn.metrics import root_mean_squared_error, mean_absolute_error, r2_score, mean_squared_error\n",
    "from scipy.stats import spearmanr"
   ]
  },
  {
   "cell_type": "code",
   "execution_count": 6,
   "id": "6794f794-f953-48c0-b696-42643140db7b",
   "metadata": {},
   "outputs": [],
   "source": [
    "# visulazation\n",
    "import matplotlib.pyplot as plt\n",
    "import seaborn as sns\n",
    "import json"
   ]
  },
  {
   "cell_type": "code",
   "execution_count": 7,
   "id": "023ca9e8-d966-4597-b093-a5f630963533",
   "metadata": {},
   "outputs": [],
   "source": [
    "# font manager\n",
    "import matplotlib.font_manager as fm\n",
    "\n",
    "# 한글 폰트 설정\n",
    "plt.rcParams['font.family'] = 'Malgun Gothic'\n",
    "plt.rcParams['axes.unicode_minus'] = False"
   ]
  },
  {
   "cell_type": "code",
   "execution_count": 8,
   "id": "126e9ea2-c6c5-464c-b670-e9dcf6576b8c",
   "metadata": {},
   "outputs": [],
   "source": [
    "# tqdm\n",
    "from tqdm import tqdm"
   ]
  },
  {
   "cell_type": "code",
   "execution_count": 9,
   "id": "4f950911-ce76-421c-a4bd-5cca971fcaf3",
   "metadata": {},
   "outputs": [],
   "source": [
    "# kaggle hub\n",
    "import kagglehub\n",
    "from kagglehub import KaggleDatasetAdapter"
   ]
  },
  {
   "cell_type": "code",
   "execution_count": 10,
   "id": "86a258f1-cfbc-42b1-85b2-e59ee9ce000b",
   "metadata": {},
   "outputs": [],
   "source": [
    "from sklearn.feature_extraction.text import TfidfVectorizer"
   ]
  },
  {
   "cell_type": "code",
   "execution_count": 11,
   "id": "10736404-62b1-4b4f-bc21-aa9c0fe907c4",
   "metadata": {},
   "outputs": [],
   "source": [
    "import re"
   ]
  },
  {
   "cell_type": "code",
   "execution_count": 12,
   "id": "a1b6aab2-3ccf-4dc3-8b7d-879f2c2d0091",
   "metadata": {},
   "outputs": [],
   "source": [
    "from sklearn.preprocessing import StandardScaler"
   ]
  },
  {
   "cell_type": "code",
   "execution_count": 13,
   "id": "a091d8bd-c110-4e33-9010-7f05223c5f42",
   "metadata": {},
   "outputs": [],
   "source": [
    "import nltk\n",
    "from nltk.tokenize import word_tokenize\n",
    "from nltk.corpus import stopwords\n",
    "from nltk import pos_tag"
   ]
  },
  {
   "cell_type": "code",
   "execution_count": 14,
   "id": "6fc7f43c-28b1-4290-84fd-5f72db3cae7e",
   "metadata": {},
   "outputs": [
    {
     "name": "stderr",
     "output_type": "stream",
     "text": [
      "[nltk_data] Downloading package punkt to\n",
      "[nltk_data]     C:\\Users\\wonny\\AppData\\Roaming\\nltk_data...\n",
      "[nltk_data]   Package punkt is already up-to-date!\n",
      "[nltk_data] Downloading package averaged_perceptron_tagger to\n",
      "[nltk_data]     C:\\Users\\wonny\\AppData\\Roaming\\nltk_data...\n",
      "[nltk_data]   Package averaged_perceptron_tagger is already up-to-\n",
      "[nltk_data]       date!\n",
      "[nltk_data] Downloading package stopwords to\n",
      "[nltk_data]     C:\\Users\\wonny\\AppData\\Roaming\\nltk_data...\n",
      "[nltk_data]   Package stopwords is already up-to-date!\n"
     ]
    },
    {
     "data": {
      "text/plain": [
       "True"
      ]
     },
     "execution_count": 14,
     "metadata": {},
     "output_type": "execute_result"
    }
   ],
   "source": [
    "nltk.download('punkt')\n",
    "nltk.download('averaged_perceptron_tagger')\n",
    "nltk.download('stopwords')"
   ]
  },
  {
   "cell_type": "code",
   "execution_count": 15,
   "id": "a08d70d8-eac8-4520-9bba-da42191aaf93",
   "metadata": {},
   "outputs": [
    {
     "name": "stdout",
     "output_type": "stream",
     "text": [
      "Requirement already satisfied: spacy in c:\\users\\wonny\\anaconda3\\envs\\youtubeprediction\\lib\\site-packages (3.8.7)\n",
      "Requirement already satisfied: spacy-legacy<3.1.0,>=3.0.11 in c:\\users\\wonny\\anaconda3\\envs\\youtubeprediction\\lib\\site-packages (from spacy) (3.0.12)\n",
      "Requirement already satisfied: spacy-loggers<2.0.0,>=1.0.0 in c:\\users\\wonny\\anaconda3\\envs\\youtubeprediction\\lib\\site-packages (from spacy) (1.0.5)\n",
      "Requirement already satisfied: murmurhash<1.1.0,>=0.28.0 in c:\\users\\wonny\\anaconda3\\envs\\youtubeprediction\\lib\\site-packages (from spacy) (1.0.13)\n",
      "Requirement already satisfied: cymem<2.1.0,>=2.0.2 in c:\\users\\wonny\\anaconda3\\envs\\youtubeprediction\\lib\\site-packages (from spacy) (2.0.11)\n",
      "Requirement already satisfied: preshed<3.1.0,>=3.0.2 in c:\\users\\wonny\\anaconda3\\envs\\youtubeprediction\\lib\\site-packages (from spacy) (3.0.10)\n",
      "Requirement already satisfied: thinc<8.4.0,>=8.3.4 in c:\\users\\wonny\\anaconda3\\envs\\youtubeprediction\\lib\\site-packages (from spacy) (8.3.6)\n",
      "Requirement already satisfied: wasabi<1.2.0,>=0.9.1 in c:\\users\\wonny\\anaconda3\\envs\\youtubeprediction\\lib\\site-packages (from spacy) (1.1.3)\n",
      "Requirement already satisfied: srsly<3.0.0,>=2.4.3 in c:\\users\\wonny\\anaconda3\\envs\\youtubeprediction\\lib\\site-packages (from spacy) (2.5.1)\n",
      "Requirement already satisfied: catalogue<2.1.0,>=2.0.6 in c:\\users\\wonny\\anaconda3\\envs\\youtubeprediction\\lib\\site-packages (from spacy) (2.0.10)\n",
      "Requirement already satisfied: weasel<0.5.0,>=0.1.0 in c:\\users\\wonny\\anaconda3\\envs\\youtubeprediction\\lib\\site-packages (from spacy) (0.4.1)\n",
      "Requirement already satisfied: typer<1.0.0,>=0.3.0 in c:\\users\\wonny\\anaconda3\\envs\\youtubeprediction\\lib\\site-packages (from spacy) (0.16.0)\n",
      "Requirement already satisfied: tqdm<5.0.0,>=4.38.0 in c:\\users\\wonny\\appdata\\roaming\\python\\python310\\site-packages (from spacy) (4.66.4)\n",
      "Requirement already satisfied: numpy>=1.19.0 in c:\\users\\wonny\\anaconda3\\envs\\youtubeprediction\\lib\\site-packages (from spacy) (2.2.6)\n",
      "Requirement already satisfied: requests<3.0.0,>=2.13.0 in c:\\users\\wonny\\appdata\\roaming\\python\\python310\\site-packages (from spacy) (2.32.3)\n",
      "Requirement already satisfied: pydantic!=1.8,!=1.8.1,<3.0.0,>=1.7.4 in c:\\users\\wonny\\anaconda3\\envs\\youtubeprediction\\lib\\site-packages (from spacy) (2.11.5)\n",
      "Requirement already satisfied: jinja2 in c:\\users\\wonny\\anaconda3\\envs\\youtubeprediction\\lib\\site-packages (from spacy) (3.1.6)\n",
      "Requirement already satisfied: setuptools in c:\\users\\wonny\\anaconda3\\envs\\youtubeprediction\\lib\\site-packages (from spacy) (78.1.1)\n",
      "Requirement already satisfied: packaging>=20.0 in c:\\users\\wonny\\appdata\\roaming\\python\\python310\\site-packages (from spacy) (23.0)\n",
      "Requirement already satisfied: langcodes<4.0.0,>=3.2.0 in c:\\users\\wonny\\anaconda3\\envs\\youtubeprediction\\lib\\site-packages (from spacy) (3.5.0)\n",
      "Requirement already satisfied: language-data>=1.2 in c:\\users\\wonny\\anaconda3\\envs\\youtubeprediction\\lib\\site-packages (from langcodes<4.0.0,>=3.2.0->spacy) (1.3.0)\n",
      "Requirement already satisfied: annotated-types>=0.6.0 in c:\\users\\wonny\\anaconda3\\envs\\youtubeprediction\\lib\\site-packages (from pydantic!=1.8,!=1.8.1,<3.0.0,>=1.7.4->spacy) (0.7.0)\n",
      "Requirement already satisfied: pydantic-core==2.33.2 in c:\\users\\wonny\\anaconda3\\envs\\youtubeprediction\\lib\\site-packages (from pydantic!=1.8,!=1.8.1,<3.0.0,>=1.7.4->spacy) (2.33.2)\n",
      "Requirement already satisfied: typing-extensions>=4.12.2 in c:\\users\\wonny\\anaconda3\\envs\\youtubeprediction\\lib\\site-packages (from pydantic!=1.8,!=1.8.1,<3.0.0,>=1.7.4->spacy) (4.14.0)\n",
      "Requirement already satisfied: typing-inspection>=0.4.0 in c:\\users\\wonny\\anaconda3\\envs\\youtubeprediction\\lib\\site-packages (from pydantic!=1.8,!=1.8.1,<3.0.0,>=1.7.4->spacy) (0.4.1)\n",
      "Requirement already satisfied: charset-normalizer<4,>=2 in c:\\users\\wonny\\appdata\\roaming\\python\\python310\\site-packages (from requests<3.0.0,>=2.13.0->spacy) (3.3.2)\n",
      "Requirement already satisfied: idna<4,>=2.5 in c:\\users\\wonny\\appdata\\roaming\\python\\python310\\site-packages (from requests<3.0.0,>=2.13.0->spacy) (3.7)\n",
      "Requirement already satisfied: urllib3<3,>=1.21.1 in c:\\users\\wonny\\appdata\\roaming\\python\\python310\\site-packages (from requests<3.0.0,>=2.13.0->spacy) (2.2.1)\n",
      "Requirement already satisfied: certifi>=2017.4.17 in c:\\users\\wonny\\appdata\\roaming\\python\\python310\\site-packages (from requests<3.0.0,>=2.13.0->spacy) (2024.6.2)\n",
      "Requirement already satisfied: blis<1.4.0,>=1.3.0 in c:\\users\\wonny\\anaconda3\\envs\\youtubeprediction\\lib\\site-packages (from thinc<8.4.0,>=8.3.4->spacy) (1.3.0)\n",
      "Requirement already satisfied: confection<1.0.0,>=0.0.1 in c:\\users\\wonny\\anaconda3\\envs\\youtubeprediction\\lib\\site-packages (from thinc<8.4.0,>=8.3.4->spacy) (0.1.5)\n",
      "Requirement already satisfied: colorama in c:\\users\\wonny\\appdata\\roaming\\python\\python310\\site-packages (from tqdm<5.0.0,>=4.38.0->spacy) (0.4.6)\n",
      "Requirement already satisfied: click>=8.0.0 in c:\\users\\wonny\\anaconda3\\envs\\youtubeprediction\\lib\\site-packages (from typer<1.0.0,>=0.3.0->spacy) (8.2.1)\n",
      "Requirement already satisfied: shellingham>=1.3.0 in c:\\users\\wonny\\anaconda3\\envs\\youtubeprediction\\lib\\site-packages (from typer<1.0.0,>=0.3.0->spacy) (1.5.4)\n",
      "Requirement already satisfied: rich>=10.11.0 in c:\\users\\wonny\\appdata\\roaming\\python\\python310\\site-packages (from typer<1.0.0,>=0.3.0->spacy) (13.9.4)\n",
      "Requirement already satisfied: cloudpathlib<1.0.0,>=0.7.0 in c:\\users\\wonny\\anaconda3\\envs\\youtubeprediction\\lib\\site-packages (from weasel<0.5.0,>=0.1.0->spacy) (0.21.1)\n",
      "Requirement already satisfied: smart-open<8.0.0,>=5.2.1 in c:\\users\\wonny\\anaconda3\\envs\\youtubeprediction\\lib\\site-packages (from weasel<0.5.0,>=0.1.0->spacy) (7.1.0)\n",
      "Requirement already satisfied: MarkupSafe>=2.0 in c:\\users\\wonny\\appdata\\roaming\\python\\python310\\site-packages (from jinja2->spacy) (3.0.2)\n",
      "Requirement already satisfied: marisa-trie>=1.1.0 in c:\\users\\wonny\\anaconda3\\envs\\youtubeprediction\\lib\\site-packages (from language-data>=1.2->langcodes<4.0.0,>=3.2.0->spacy) (1.2.1)\n",
      "Requirement already satisfied: markdown-it-py>=2.2.0 in c:\\users\\wonny\\appdata\\roaming\\python\\python310\\site-packages (from rich>=10.11.0->typer<1.0.0,>=0.3.0->spacy) (3.0.0)\n",
      "Requirement already satisfied: pygments<3.0.0,>=2.13.0 in c:\\users\\wonny\\appdata\\roaming\\python\\python310\\site-packages (from rich>=10.11.0->typer<1.0.0,>=0.3.0->spacy) (2.14.0)\n",
      "Requirement already satisfied: wrapt in c:\\users\\wonny\\appdata\\roaming\\python\\python310\\site-packages (from smart-open<8.0.0,>=5.2.1->weasel<0.5.0,>=0.1.0->spacy) (1.16.0)\n",
      "Requirement already satisfied: mdurl~=0.1 in c:\\users\\wonny\\appdata\\roaming\\python\\python310\\site-packages (from markdown-it-py>=2.2.0->rich>=10.11.0->typer<1.0.0,>=0.3.0->spacy) (0.1.2)\n",
      "Note: you may need to restart the kernel to use updated packages.\n"
     ]
    },
    {
     "name": "stderr",
     "output_type": "stream",
     "text": [
      "\n",
      "[notice] A new release of pip is available: 24.0 -> 25.1.1\n",
      "[notice] To update, run: python.exe -m pip install --upgrade pip\n"
     ]
    }
   ],
   "source": [
    "pip install spacy"
   ]
  },
  {
   "cell_type": "code",
   "execution_count": 16,
   "id": "7c6d979e-01ba-4f32-84fe-59f39b524fbd",
   "metadata": {},
   "outputs": [
    {
     "name": "stdout",
     "output_type": "stream",
     "text": [
      "Collecting en-core-web-sm==3.8.0\n",
      "  Downloading https://github.com/explosion/spacy-models/releases/download/en_core_web_sm-3.8.0/en_core_web_sm-3.8.0-py3-none-any.whl (12.8 MB)\n",
      "     ---------------------------------------- 0.0/12.8 MB ? eta -:--:--\n",
      "     ---------------------------------------- 0.0/12.8 MB ? eta -:--:--\n",
      "     --------------------------------------- 0.1/12.8 MB 660.6 kB/s eta 0:00:20\n",
      "     --------------------------------------- 0.1/12.8 MB 751.6 kB/s eta 0:00:17\n",
      "     --------------------------------------- 0.1/12.8 MB 853.3 kB/s eta 0:00:15\n",
      "      -------------------------------------- 0.2/12.8 MB 958.4 kB/s eta 0:00:14\n",
      "      -------------------------------------- 0.3/12.8 MB 983.0 kB/s eta 0:00:13\n",
      "      --------------------------------------- 0.3/12.8 MB 1.0 MB/s eta 0:00:13\n",
      "     - -------------------------------------- 0.3/12.8 MB 1.0 MB/s eta 0:00:13\n",
      "     - -------------------------------------- 0.4/12.8 MB 1.1 MB/s eta 0:00:12\n",
      "     - -------------------------------------- 0.5/12.8 MB 1.1 MB/s eta 0:00:12\n",
      "     - -------------------------------------- 0.5/12.8 MB 1.1 MB/s eta 0:00:12\n",
      "     - -------------------------------------- 0.6/12.8 MB 1.1 MB/s eta 0:00:12\n",
      "     -- ------------------------------------- 0.6/12.8 MB 1.1 MB/s eta 0:00:12\n",
      "     -- ------------------------------------- 0.7/12.8 MB 1.1 MB/s eta 0:00:11\n",
      "     -- ------------------------------------- 0.8/12.8 MB 1.1 MB/s eta 0:00:11\n",
      "     -- ------------------------------------- 0.8/12.8 MB 1.1 MB/s eta 0:00:11\n",
      "     -- ------------------------------------- 0.9/12.8 MB 1.1 MB/s eta 0:00:11\n",
      "     -- ------------------------------------- 0.9/12.8 MB 1.1 MB/s eta 0:00:11\n",
      "     --- ------------------------------------ 1.0/12.8 MB 1.1 MB/s eta 0:00:11\n",
      "     --- ------------------------------------ 1.0/12.8 MB 1.1 MB/s eta 0:00:11\n",
      "     --- ------------------------------------ 1.1/12.8 MB 1.1 MB/s eta 0:00:11\n",
      "     --- ------------------------------------ 1.1/12.8 MB 1.1 MB/s eta 0:00:11\n",
      "     --- ------------------------------------ 1.2/12.8 MB 1.2 MB/s eta 0:00:11\n",
      "     --- ------------------------------------ 1.3/12.8 MB 1.2 MB/s eta 0:00:10\n",
      "     ---- ----------------------------------- 1.3/12.8 MB 1.2 MB/s eta 0:00:10\n",
      "     ---- ----------------------------------- 1.4/12.8 MB 1.1 MB/s eta 0:00:10\n",
      "     ---- ----------------------------------- 1.4/12.8 MB 1.1 MB/s eta 0:00:10\n",
      "     ---- ----------------------------------- 1.5/12.8 MB 1.2 MB/s eta 0:00:10\n",
      "     ---- ----------------------------------- 1.5/12.8 MB 1.2 MB/s eta 0:00:10\n",
      "     ---- ----------------------------------- 1.6/12.8 MB 1.2 MB/s eta 0:00:10\n",
      "     ----- ---------------------------------- 1.6/12.8 MB 1.2 MB/s eta 0:00:10\n",
      "     ----- ---------------------------------- 1.7/12.8 MB 1.2 MB/s eta 0:00:10\n",
      "     ----- ---------------------------------- 1.8/12.8 MB 1.2 MB/s eta 0:00:10\n",
      "     ----- ---------------------------------- 1.8/12.8 MB 1.2 MB/s eta 0:00:10\n",
      "     ----- ---------------------------------- 1.9/12.8 MB 1.2 MB/s eta 0:00:10\n",
      "     ------ --------------------------------- 1.9/12.8 MB 1.2 MB/s eta 0:00:10\n",
      "     ------ --------------------------------- 2.0/12.8 MB 1.2 MB/s eta 0:00:10\n",
      "     ------ --------------------------------- 2.0/12.8 MB 1.2 MB/s eta 0:00:10\n",
      "     ------ --------------------------------- 2.1/12.8 MB 1.2 MB/s eta 0:00:10\n",
      "     ------ --------------------------------- 2.1/12.8 MB 1.2 MB/s eta 0:00:10\n",
      "     ------ --------------------------------- 2.2/12.8 MB 1.2 MB/s eta 0:00:10\n",
      "     ------- -------------------------------- 2.3/12.8 MB 1.2 MB/s eta 0:00:10\n",
      "     ------- -------------------------------- 2.3/12.8 MB 1.2 MB/s eta 0:00:09\n",
      "     ------- -------------------------------- 2.4/12.8 MB 1.2 MB/s eta 0:00:09\n",
      "     ------- -------------------------------- 2.4/12.8 MB 1.2 MB/s eta 0:00:09\n",
      "     ------- -------------------------------- 2.5/12.8 MB 1.2 MB/s eta 0:00:09\n",
      "     ------- -------------------------------- 2.5/12.8 MB 1.2 MB/s eta 0:00:09\n",
      "     -------- ------------------------------- 2.6/12.8 MB 1.2 MB/s eta 0:00:09\n",
      "     -------- ------------------------------- 2.6/12.8 MB 1.2 MB/s eta 0:00:09\n",
      "     -------- ------------------------------- 2.7/12.8 MB 1.2 MB/s eta 0:00:09\n",
      "     -------- ------------------------------- 2.8/12.8 MB 1.2 MB/s eta 0:00:09\n",
      "     -------- ------------------------------- 2.8/12.8 MB 1.2 MB/s eta 0:00:09\n",
      "     -------- ------------------------------- 2.9/12.8 MB 1.2 MB/s eta 0:00:09\n",
      "     --------- ------------------------------ 2.9/12.8 MB 1.2 MB/s eta 0:00:09\n",
      "     --------- ------------------------------ 3.0/12.8 MB 1.2 MB/s eta 0:00:09\n",
      "     --------- ------------------------------ 3.0/12.8 MB 1.2 MB/s eta 0:00:09\n",
      "     --------- ------------------------------ 3.1/12.8 MB 1.2 MB/s eta 0:00:09\n",
      "     --------- ------------------------------ 3.1/12.8 MB 1.2 MB/s eta 0:00:09\n",
      "     --------- ------------------------------ 3.2/12.8 MB 1.2 MB/s eta 0:00:09\n",
      "     ---------- ----------------------------- 3.2/12.8 MB 1.2 MB/s eta 0:00:09\n",
      "     ---------- ----------------------------- 3.3/12.8 MB 1.2 MB/s eta 0:00:09\n",
      "     ---------- ----------------------------- 3.3/12.8 MB 1.2 MB/s eta 0:00:09\n",
      "     ---------- ----------------------------- 3.4/12.8 MB 1.2 MB/s eta 0:00:08\n",
      "     ---------- ----------------------------- 3.5/12.8 MB 1.2 MB/s eta 0:00:08\n",
      "     ----------- ---------------------------- 3.5/12.8 MB 1.2 MB/s eta 0:00:08\n",
      "     ----------- ---------------------------- 3.6/12.8 MB 1.2 MB/s eta 0:00:08\n",
      "     ----------- ---------------------------- 3.6/12.8 MB 1.2 MB/s eta 0:00:08\n",
      "     ----------- ---------------------------- 3.7/12.8 MB 1.2 MB/s eta 0:00:08\n",
      "     ----------- ---------------------------- 3.7/12.8 MB 1.2 MB/s eta 0:00:08\n",
      "     ----------- ---------------------------- 3.8/12.8 MB 1.2 MB/s eta 0:00:08\n",
      "     ------------ --------------------------- 3.9/12.8 MB 1.2 MB/s eta 0:00:08\n",
      "     ------------ --------------------------- 3.9/12.8 MB 1.2 MB/s eta 0:00:08\n",
      "     ------------ --------------------------- 4.0/12.8 MB 1.2 MB/s eta 0:00:08\n",
      "     ------------ --------------------------- 4.0/12.8 MB 1.2 MB/s eta 0:00:08\n",
      "     ------------ --------------------------- 4.1/12.8 MB 1.2 MB/s eta 0:00:08\n",
      "     ------------ --------------------------- 4.1/12.8 MB 1.2 MB/s eta 0:00:08\n",
      "     ------------- -------------------------- 4.2/12.8 MB 1.2 MB/s eta 0:00:08\n",
      "     ------------- -------------------------- 4.2/12.8 MB 1.2 MB/s eta 0:00:08\n",
      "     ------------- -------------------------- 4.3/12.8 MB 1.2 MB/s eta 0:00:08\n",
      "     ------------- -------------------------- 4.4/12.8 MB 1.2 MB/s eta 0:00:08\n",
      "     ------------- -------------------------- 4.4/12.8 MB 1.2 MB/s eta 0:00:08\n",
      "     ------------- -------------------------- 4.5/12.8 MB 1.2 MB/s eta 0:00:08\n",
      "     -------------- ------------------------- 4.5/12.8 MB 1.2 MB/s eta 0:00:08\n",
      "     -------------- ------------------------- 4.6/12.8 MB 1.2 MB/s eta 0:00:07\n",
      "     -------------- ------------------------- 4.6/12.8 MB 1.2 MB/s eta 0:00:07\n",
      "     -------------- ------------------------- 4.7/12.8 MB 1.2 MB/s eta 0:00:07\n",
      "     -------------- ------------------------- 4.7/12.8 MB 1.2 MB/s eta 0:00:07\n",
      "     -------------- ------------------------- 4.8/12.8 MB 1.2 MB/s eta 0:00:07\n",
      "     --------------- ------------------------ 4.9/12.8 MB 1.2 MB/s eta 0:00:07\n",
      "     --------------- ------------------------ 4.9/12.8 MB 1.2 MB/s eta 0:00:07\n",
      "     --------------- ------------------------ 5.0/12.8 MB 1.2 MB/s eta 0:00:07\n",
      "     --------------- ------------------------ 5.0/12.8 MB 1.2 MB/s eta 0:00:07\n",
      "     --------------- ------------------------ 5.1/12.8 MB 1.2 MB/s eta 0:00:07\n",
      "     --------------- ------------------------ 5.1/12.8 MB 1.2 MB/s eta 0:00:07\n",
      "     ---------------- ----------------------- 5.2/12.8 MB 1.2 MB/s eta 0:00:07\n",
      "     ---------------- ----------------------- 5.2/12.8 MB 1.2 MB/s eta 0:00:07\n",
      "     ---------------- ----------------------- 5.3/12.8 MB 1.2 MB/s eta 0:00:07\n",
      "     ---------------- ----------------------- 5.3/12.8 MB 1.2 MB/s eta 0:00:07\n",
      "     ---------------- ----------------------- 5.4/12.8 MB 1.2 MB/s eta 0:00:07\n",
      "     ----------------- ---------------------- 5.5/12.8 MB 1.2 MB/s eta 0:00:07\n",
      "     ----------------- ---------------------- 5.5/12.8 MB 1.2 MB/s eta 0:00:07\n",
      "     ----------------- ---------------------- 5.6/12.8 MB 1.2 MB/s eta 0:00:07\n",
      "     ----------------- ---------------------- 5.6/12.8 MB 1.2 MB/s eta 0:00:07\n",
      "     ----------------- ---------------------- 5.7/12.8 MB 1.2 MB/s eta 0:00:07\n",
      "     ----------------- ---------------------- 5.7/12.8 MB 1.2 MB/s eta 0:00:06\n",
      "     ------------------ --------------------- 5.8/12.8 MB 1.2 MB/s eta 0:00:06\n",
      "     ------------------ --------------------- 5.8/12.8 MB 1.2 MB/s eta 0:00:06\n",
      "     ------------------ --------------------- 5.9/12.8 MB 1.2 MB/s eta 0:00:06\n",
      "     ------------------ --------------------- 6.0/12.8 MB 1.2 MB/s eta 0:00:06\n",
      "     ------------------ --------------------- 6.0/12.8 MB 1.2 MB/s eta 0:00:06\n",
      "     ------------------ --------------------- 6.1/12.8 MB 1.2 MB/s eta 0:00:06\n",
      "     ------------------- -------------------- 6.1/12.8 MB 1.2 MB/s eta 0:00:06\n",
      "     ------------------- -------------------- 6.2/12.8 MB 1.2 MB/s eta 0:00:06\n",
      "     ------------------- -------------------- 6.2/12.8 MB 1.2 MB/s eta 0:00:06\n",
      "     ------------------- -------------------- 6.3/12.8 MB 1.2 MB/s eta 0:00:06\n",
      "     ------------------- -------------------- 6.3/12.8 MB 1.2 MB/s eta 0:00:06\n",
      "     ------------------- -------------------- 6.4/12.8 MB 1.2 MB/s eta 0:00:06\n",
      "     -------------------- ------------------- 6.5/12.8 MB 1.2 MB/s eta 0:00:06\n",
      "     -------------------- ------------------- 6.5/12.8 MB 1.2 MB/s eta 0:00:06\n",
      "     -------------------- ------------------- 6.6/12.8 MB 1.2 MB/s eta 0:00:06\n",
      "     -------------------- ------------------- 6.6/12.8 MB 1.2 MB/s eta 0:00:06\n",
      "     -------------------- ------------------- 6.6/12.8 MB 1.2 MB/s eta 0:00:06\n",
      "     --------------------- ------------------ 6.7/12.8 MB 1.2 MB/s eta 0:00:06\n",
      "     --------------------- ------------------ 6.8/12.8 MB 1.2 MB/s eta 0:00:06\n",
      "     --------------------- ------------------ 6.8/12.8 MB 1.2 MB/s eta 0:00:06\n",
      "     --------------------- ------------------ 6.9/12.8 MB 1.2 MB/s eta 0:00:05\n",
      "     --------------------- ------------------ 6.9/12.8 MB 1.2 MB/s eta 0:00:05\n",
      "     --------------------- ------------------ 7.0/12.8 MB 1.2 MB/s eta 0:00:05\n",
      "     ---------------------- ----------------- 7.1/12.8 MB 1.2 MB/s eta 0:00:05\n",
      "     ---------------------- ----------------- 7.1/12.8 MB 1.2 MB/s eta 0:00:05\n",
      "     ---------------------- ----------------- 7.1/12.8 MB 1.2 MB/s eta 0:00:05\n",
      "     ---------------------- ----------------- 7.2/12.8 MB 1.2 MB/s eta 0:00:05\n",
      "     ---------------------- ----------------- 7.3/12.8 MB 1.2 MB/s eta 0:00:05\n",
      "     ---------------------- ----------------- 7.3/12.8 MB 1.2 MB/s eta 0:00:05\n",
      "     ----------------------- ---------------- 7.4/12.8 MB 1.2 MB/s eta 0:00:05\n",
      "     ----------------------- ---------------- 7.4/12.8 MB 1.2 MB/s eta 0:00:05\n",
      "     ----------------------- ---------------- 7.5/12.8 MB 1.2 MB/s eta 0:00:05\n",
      "     ----------------------- ---------------- 7.6/12.8 MB 1.2 MB/s eta 0:00:05\n",
      "     ----------------------- ---------------- 7.6/12.8 MB 1.2 MB/s eta 0:00:05\n",
      "     ----------------------- ---------------- 7.7/12.8 MB 1.2 MB/s eta 0:00:05\n",
      "     ------------------------ --------------- 7.7/12.8 MB 1.2 MB/s eta 0:00:05\n",
      "     ------------------------ --------------- 7.8/12.8 MB 1.2 MB/s eta 0:00:05\n",
      "     ------------------------ --------------- 7.8/12.8 MB 1.2 MB/s eta 0:00:05\n",
      "     ------------------------ --------------- 7.9/12.8 MB 1.2 MB/s eta 0:00:05\n",
      "     ------------------------ --------------- 7.9/12.8 MB 1.2 MB/s eta 0:00:05\n",
      "     ------------------------- -------------- 8.0/12.8 MB 1.2 MB/s eta 0:00:05\n",
      "     ------------------------- -------------- 8.0/12.8 MB 1.2 MB/s eta 0:00:05\n",
      "     ------------------------- -------------- 8.1/12.8 MB 1.2 MB/s eta 0:00:04\n",
      "     ------------------------- -------------- 8.2/12.8 MB 1.2 MB/s eta 0:00:04\n",
      "     ------------------------- -------------- 8.2/12.8 MB 1.2 MB/s eta 0:00:04\n",
      "     ------------------------- -------------- 8.3/12.8 MB 1.2 MB/s eta 0:00:04\n",
      "     -------------------------- ------------- 8.3/12.8 MB 1.2 MB/s eta 0:00:04\n",
      "     -------------------------- ------------- 8.4/12.8 MB 1.2 MB/s eta 0:00:04\n",
      "     -------------------------- ------------- 8.4/12.8 MB 1.2 MB/s eta 0:00:04\n",
      "     -------------------------- ------------- 8.5/12.8 MB 1.2 MB/s eta 0:00:04\n",
      "     -------------------------- ------------- 8.5/12.8 MB 1.2 MB/s eta 0:00:04\n",
      "     -------------------------- ------------- 8.6/12.8 MB 1.2 MB/s eta 0:00:04\n",
      "     --------------------------- ------------ 8.7/12.8 MB 1.2 MB/s eta 0:00:04\n",
      "     --------------------------- ------------ 8.7/12.8 MB 1.2 MB/s eta 0:00:04\n",
      "     --------------------------- ------------ 8.8/12.8 MB 1.2 MB/s eta 0:00:04\n",
      "     --------------------------- ------------ 8.8/12.8 MB 1.2 MB/s eta 0:00:04\n",
      "     --------------------------- ------------ 8.9/12.8 MB 1.2 MB/s eta 0:00:04\n",
      "     --------------------------- ------------ 8.9/12.8 MB 1.2 MB/s eta 0:00:04\n",
      "     ---------------------------- ----------- 9.0/12.8 MB 1.2 MB/s eta 0:00:04\n",
      "     ---------------------------- ----------- 9.1/12.8 MB 1.2 MB/s eta 0:00:04\n",
      "     ---------------------------- ----------- 9.1/12.8 MB 1.2 MB/s eta 0:00:04\n",
      "     ---------------------------- ----------- 9.2/12.8 MB 1.2 MB/s eta 0:00:04\n",
      "     ---------------------------- ----------- 9.2/12.8 MB 1.2 MB/s eta 0:00:04\n",
      "     ---------------------------- ----------- 9.3/12.8 MB 1.2 MB/s eta 0:00:03\n",
      "     ----------------------------- ---------- 9.3/12.8 MB 1.2 MB/s eta 0:00:03\n",
      "     ----------------------------- ---------- 9.4/12.8 MB 1.2 MB/s eta 0:00:03\n",
      "     ----------------------------- ---------- 9.4/12.8 MB 1.2 MB/s eta 0:00:03\n",
      "     ----------------------------- ---------- 9.5/12.8 MB 1.2 MB/s eta 0:00:03\n",
      "     ----------------------------- ---------- 9.5/12.8 MB 1.2 MB/s eta 0:00:03\n",
      "     ----------------------------- ---------- 9.6/12.8 MB 1.2 MB/s eta 0:00:03\n",
      "     ------------------------------ --------- 9.7/12.8 MB 1.2 MB/s eta 0:00:03\n",
      "     ------------------------------ --------- 9.7/12.8 MB 1.2 MB/s eta 0:00:03\n",
      "     ------------------------------ --------- 9.8/12.8 MB 1.2 MB/s eta 0:00:03\n",
      "     ------------------------------ --------- 9.8/12.8 MB 1.2 MB/s eta 0:00:03\n",
      "     ------------------------------ --------- 9.9/12.8 MB 1.2 MB/s eta 0:00:03\n",
      "     ------------------------------ --------- 9.9/12.8 MB 1.2 MB/s eta 0:00:03\n",
      "     ------------------------------- -------- 10.0/12.8 MB 1.2 MB/s eta 0:00:03\n",
      "     ------------------------------- -------- 10.0/12.8 MB 1.2 MB/s eta 0:00:03\n",
      "     ------------------------------- -------- 10.1/12.8 MB 1.2 MB/s eta 0:00:03\n",
      "     ------------------------------- -------- 10.1/12.8 MB 1.2 MB/s eta 0:00:03\n",
      "     ------------------------------- -------- 10.2/12.8 MB 1.2 MB/s eta 0:00:03\n",
      "     -------------------------------- ------- 10.3/12.8 MB 1.2 MB/s eta 0:00:03\n",
      "     -------------------------------- ------- 10.3/12.8 MB 1.2 MB/s eta 0:00:03\n",
      "     -------------------------------- ------- 10.4/12.8 MB 1.2 MB/s eta 0:00:03\n",
      "     -------------------------------- ------- 10.4/12.8 MB 1.2 MB/s eta 0:00:02\n",
      "     -------------------------------- ------- 10.5/12.8 MB 1.2 MB/s eta 0:00:02\n",
      "     -------------------------------- ------- 10.5/12.8 MB 1.2 MB/s eta 0:00:02\n",
      "     --------------------------------- ------ 10.6/12.8 MB 1.2 MB/s eta 0:00:02\n",
      "     --------------------------------- ------ 10.6/12.8 MB 1.2 MB/s eta 0:00:02\n",
      "     --------------------------------- ------ 10.7/12.8 MB 1.2 MB/s eta 0:00:02\n",
      "     --------------------------------- ------ 10.8/12.8 MB 1.2 MB/s eta 0:00:02\n",
      "     --------------------------------- ------ 10.8/12.8 MB 1.2 MB/s eta 0:00:02\n",
      "     --------------------------------- ------ 10.9/12.8 MB 1.2 MB/s eta 0:00:02\n",
      "     ---------------------------------- ----- 10.9/12.8 MB 1.2 MB/s eta 0:00:02\n",
      "     ---------------------------------- ----- 11.0/12.8 MB 1.2 MB/s eta 0:00:02\n",
      "     ---------------------------------- ----- 11.0/12.8 MB 1.2 MB/s eta 0:00:02\n",
      "     ---------------------------------- ----- 11.1/12.8 MB 1.2 MB/s eta 0:00:02\n",
      "     ---------------------------------- ----- 11.2/12.8 MB 1.2 MB/s eta 0:00:02\n",
      "     ---------------------------------- ----- 11.2/12.8 MB 1.2 MB/s eta 0:00:02\n",
      "     ----------------------------------- ---- 11.3/12.8 MB 1.2 MB/s eta 0:00:02\n",
      "     ----------------------------------- ---- 11.3/12.8 MB 1.2 MB/s eta 0:00:02\n",
      "     ----------------------------------- ---- 11.4/12.8 MB 1.2 MB/s eta 0:00:02\n",
      "     ----------------------------------- ---- 11.4/12.8 MB 1.2 MB/s eta 0:00:02\n",
      "     ----------------------------------- ---- 11.5/12.8 MB 1.2 MB/s eta 0:00:02\n",
      "     ----------------------------------- ---- 11.5/12.8 MB 1.2 MB/s eta 0:00:02\n",
      "     ------------------------------------ --- 11.6/12.8 MB 1.2 MB/s eta 0:00:02\n",
      "     ------------------------------------ --- 11.6/12.8 MB 1.2 MB/s eta 0:00:01\n",
      "     ------------------------------------ --- 11.7/12.8 MB 1.2 MB/s eta 0:00:01\n",
      "     ------------------------------------ --- 11.8/12.8 MB 1.2 MB/s eta 0:00:01\n",
      "     ------------------------------------ --- 11.8/12.8 MB 1.2 MB/s eta 0:00:01\n",
      "     ------------------------------------- -- 11.9/12.8 MB 1.2 MB/s eta 0:00:01\n",
      "     ------------------------------------- -- 11.9/12.8 MB 1.2 MB/s eta 0:00:01\n",
      "     ------------------------------------- -- 12.0/12.8 MB 1.2 MB/s eta 0:00:01\n",
      "     ------------------------------------- -- 12.0/12.8 MB 1.2 MB/s eta 0:00:01\n",
      "     ------------------------------------- -- 12.1/12.8 MB 1.2 MB/s eta 0:00:01\n",
      "     ------------------------------------- -- 12.1/12.8 MB 1.2 MB/s eta 0:00:01\n",
      "     -------------------------------------- - 12.2/12.8 MB 1.2 MB/s eta 0:00:01\n",
      "     -------------------------------------- - 12.2/12.8 MB 1.2 MB/s eta 0:00:01\n",
      "     -------------------------------------- - 12.3/12.8 MB 1.2 MB/s eta 0:00:01\n",
      "     -------------------------------------- - 12.3/12.8 MB 1.2 MB/s eta 0:00:01\n",
      "     -------------------------------------- - 12.4/12.8 MB 1.2 MB/s eta 0:00:01\n",
      "     -------------------------------------- - 12.5/12.8 MB 1.2 MB/s eta 0:00:01\n",
      "     ---------------------------------------  12.5/12.8 MB 1.2 MB/s eta 0:00:01\n",
      "     ---------------------------------------  12.6/12.8 MB 1.2 MB/s eta 0:00:01\n",
      "     ---------------------------------------  12.6/12.8 MB 1.2 MB/s eta 0:00:01\n",
      "     ---------------------------------------  12.7/12.8 MB 1.2 MB/s eta 0:00:01\n",
      "     ---------------------------------------  12.7/12.8 MB 1.2 MB/s eta 0:00:01\n",
      "     ---------------------------------------  12.8/12.8 MB 1.2 MB/s eta 0:00:01\n",
      "     ---------------------------------------  12.8/12.8 MB 1.2 MB/s eta 0:00:01\n",
      "     ---------------------------------------- 12.8/12.8 MB 1.2 MB/s eta 0:00:00\n",
      "\u001b[38;5;2m[+] Download and installation successful\u001b[0m\n",
      "You can now load the package via spacy.load('en_core_web_sm')\n"
     ]
    },
    {
     "name": "stderr",
     "output_type": "stream",
     "text": [
      "\n",
      "[notice] A new release of pip is available: 24.0 -> 25.1.1\n",
      "[notice] To update, run: python.exe -m pip install --upgrade pip\n"
     ]
    }
   ],
   "source": [
    "!python -m spacy download en_core_web_sm"
   ]
  },
  {
   "cell_type": "code",
   "execution_count": 17,
   "id": "86be6740-bfe4-47c1-9d41-dda867a9613a",
   "metadata": {},
   "outputs": [],
   "source": [
    "import spacy\n",
    "nlp = spacy.load(\"en_core_web_sm\")"
   ]
  },
  {
   "cell_type": "code",
   "execution_count": 18,
   "id": "98e24fa4-11cd-4316-8b7a-802f702a6f93",
   "metadata": {},
   "outputs": [
    {
     "name": "stdout",
     "output_type": "stream",
     "text": [
      "사용중인 디바이스: cuda\n"
     ]
    }
   ],
   "source": [
    "## GPU check\n",
    "device = torch.device(\"cuda\" if torch.cuda.is_available() else \"cpu\")\n",
    "print(\"사용중인 디바이스:\", device)"
   ]
  },
  {
   "cell_type": "code",
   "execution_count": 19,
   "id": "288d69de-22fb-4a50-9cc0-2a1a1c1a4135",
   "metadata": {},
   "outputs": [
    {
     "name": "stdout",
     "output_type": "stream",
     "text": [
      "CUDA 사용 가능? True\n",
      "사용 중인 GPU: NVIDIA GeForce MX450\n"
     ]
    }
   ],
   "source": [
    "print(\"CUDA 사용 가능?\", torch.cuda.is_available())\n",
    "if torch.cuda.is_available():\n",
    "    print(\"사용 중인 GPU:\", torch.cuda.get_device_name(0))\n",
    "else:\n",
    "    print(\"GPU를 사용할 수 없습니다.\")"
   ]
  },
  {
   "cell_type": "markdown",
   "id": "d133f58b-e3c5-4ef9-9acd-6249793a5c73",
   "metadata": {
    "jp-MarkdownHeadingCollapsed": true
   },
   "source": [
    "## Data Load"
   ]
  },
  {
   "cell_type": "code",
   "execution_count": 20,
   "id": "0b92d53f-2be9-46b9-9ead-ddbc9f5bdf05",
   "metadata": {},
   "outputs": [],
   "source": [
    "# 파일 경로\n",
    "file_path = r\"C:\\Users\\wonny\\OneDrive\\문서\\카카오톡 받은 파일\\movie 10000.csv\"\n",
    "\n",
    "# 데이터 로드\n",
    "df = pd.read_csv(file_path)"
   ]
  },
  {
   "cell_type": "code",
   "execution_count": 21,
   "id": "9b14f803-4fe9-424c-8af3-355ae9df78e0",
   "metadata": {},
   "outputs": [
    {
     "name": "stdout",
     "output_type": "stream",
     "text": [
      "(9350, 12)\n"
     ]
    }
   ],
   "source": [
    "# 데이터 확인\n",
    "print(df.shape)"
   ]
  },
  {
   "cell_type": "code",
   "execution_count": 22,
   "id": "ba30d5be-5845-409c-a16c-926507ad4209",
   "metadata": {},
   "outputs": [
    {
     "name": "stdout",
     "output_type": "stream",
     "text": [
      "      video_id                                              title  \\\n",
      "0  8kggT2ej-lo                 Would You Pet a Cheetah in Africa?   \n",
      "1  H42zWaD4A4s  The World's Highest Security Prison: CECOT (Th...   \n",
      "2  aNUYGRn3W9Q                   COBRA GYPSIES - Full Documentary   \n",
      "3  0UJYYkK4d8s  June 6, 1944 – The Light of Dawn | History - D...   \n",
      "4  XmtXC_n6X6Q  Our Planet | From Deserts to Grasslands | FULL...   \n",
      "\n",
      "      channel_title  category_id  \\\n",
      "0           MrBeast           24   \n",
      "1        Ruhi Çenet           27   \n",
      "2     Raphael Treza            1   \n",
      "3  Best Documentary           25   \n",
      "4           Netflix           24   \n",
      "\n",
      "                                                tags      views     likes  \\\n",
      "0                                             [none]  816300646  27859737   \n",
      "1  ruhi çenet|ruhi cenet|documentary|ruhi cenet d...  112036494   2009246   \n",
      "2  Gypsy (Film)|Snake (Animal)|Adventure (TV Genr...   56065571    333002   \n",
      "3  WWII|war|operation overlord|world war II|norma...   53961215    326635   \n",
      "4  education|netflix education|documentary|our pl...   42082072    229371   \n",
      "\n",
      "   dislikes  comment_count                                  thumbnail_link  \\\n",
      "0         0          39299  https://i.ytimg.com/vi/8kggT2ej-lo/default.jpg   \n",
      "1         0          67146  https://i.ytimg.com/vi/H42zWaD4A4s/default.jpg   \n",
      "2         0          31177  https://i.ytimg.com/vi/aNUYGRn3W9Q/default.jpg   \n",
      "3         0          16146  https://i.ytimg.com/vi/0UJYYkK4d8s/default.jpg   \n",
      "4         0           7689  https://i.ytimg.com/vi/XmtXC_n6X6Q/default.jpg   \n",
      "\n",
      "    date           keyword  \n",
      "0   1.05  documentary film  \n",
      "1   9.02  documentary film  \n",
      "2  28.02  documentary film  \n",
      "3  18.02  documentary film  \n",
      "4  17.04  documentary film  \n"
     ]
    }
   ],
   "source": [
    "print(df.head())"
   ]
  },
  {
   "cell_type": "markdown",
   "id": "b3f6e062-5295-4040-a7bb-510b3adbc8e4",
   "metadata": {
    "jp-MarkdownHeadingCollapsed": true
   },
   "source": [
    "## Data Preporcessing"
   ]
  },
  {
   "cell_type": "code",
   "execution_count": 23,
   "id": "7c4e2a96-b564-4eed-8b89-5e9de0daca25",
   "metadata": {},
   "outputs": [],
   "source": [
    "# 사용할 칼럼만 추출 \n",
    "movie = df[['title', 'views']].copy()"
   ]
  },
  {
   "cell_type": "code",
   "execution_count": 24,
   "id": "a86d4269-dfc5-4f50-a0c5-51b36a76fd6d",
   "metadata": {},
   "outputs": [
    {
     "data": {
      "text/html": [
       "<div>\n",
       "<style scoped>\n",
       "    .dataframe tbody tr th:only-of-type {\n",
       "        vertical-align: middle;\n",
       "    }\n",
       "\n",
       "    .dataframe tbody tr th {\n",
       "        vertical-align: top;\n",
       "    }\n",
       "\n",
       "    .dataframe thead th {\n",
       "        text-align: right;\n",
       "    }\n",
       "</style>\n",
       "<table border=\"1\" class=\"dataframe\">\n",
       "  <thead>\n",
       "    <tr style=\"text-align: right;\">\n",
       "      <th></th>\n",
       "      <th>title</th>\n",
       "      <th>views</th>\n",
       "    </tr>\n",
       "  </thead>\n",
       "  <tbody>\n",
       "    <tr>\n",
       "      <th>0</th>\n",
       "      <td>Would You Pet a Cheetah in Africa?</td>\n",
       "      <td>816300646</td>\n",
       "    </tr>\n",
       "    <tr>\n",
       "      <th>1</th>\n",
       "      <td>The World's Highest Security Prison: CECOT (Th...</td>\n",
       "      <td>112036494</td>\n",
       "    </tr>\n",
       "    <tr>\n",
       "      <th>2</th>\n",
       "      <td>COBRA GYPSIES - Full Documentary</td>\n",
       "      <td>56065571</td>\n",
       "    </tr>\n",
       "    <tr>\n",
       "      <th>3</th>\n",
       "      <td>June 6, 1944 – The Light of Dawn | History - D...</td>\n",
       "      <td>53961215</td>\n",
       "    </tr>\n",
       "    <tr>\n",
       "      <th>4</th>\n",
       "      <td>Our Planet | From Deserts to Grasslands | FULL...</td>\n",
       "      <td>42082072</td>\n",
       "    </tr>\n",
       "    <tr>\n",
       "      <th>...</th>\n",
       "      <td>...</td>\n",
       "      <td>...</td>\n",
       "    </tr>\n",
       "    <tr>\n",
       "      <th>9345</th>\n",
       "      <td>Common worries among us... #moving #k-drama #D...</td>\n",
       "      <td>1108</td>\n",
       "    </tr>\n",
       "    <tr>\n",
       "      <th>9346</th>\n",
       "      <td>무빙 구룡포 불주먹으로 100대1 싸움 폼미쳤다 #moving #디즈니플러스 #류승룡</td>\n",
       "      <td>1122</td>\n",
       "    </tr>\n",
       "    <tr>\n",
       "      <th>9347</th>\n",
       "      <td>김성균, 아이언맨 저리가라 강렬한 파워 착지 #무빙(MOVING)</td>\n",
       "      <td>1033</td>\n",
       "    </tr>\n",
       "    <tr>\n",
       "      <th>9348</th>\n",
       "      <td>2024 연극 '엔젤스 인 아메리카' MOVING POSTER - 로이 이효정</td>\n",
       "      <td>1046</td>\n",
       "    </tr>\n",
       "    <tr>\n",
       "      <th>9349</th>\n",
       "      <td>\"The Brave Pigeon: A Heroic Act on a Moving Tr...</td>\n",
       "      <td>2538</td>\n",
       "    </tr>\n",
       "  </tbody>\n",
       "</table>\n",
       "<p>9350 rows × 2 columns</p>\n",
       "</div>"
      ],
      "text/plain": [
       "                                                  title      views\n",
       "0                    Would You Pet a Cheetah in Africa?  816300646\n",
       "1     The World's Highest Security Prison: CECOT (Th...  112036494\n",
       "2                      COBRA GYPSIES - Full Documentary   56065571\n",
       "3     June 6, 1944 – The Light of Dawn | History - D...   53961215\n",
       "4     Our Planet | From Deserts to Grasslands | FULL...   42082072\n",
       "...                                                 ...        ...\n",
       "9345  Common worries among us... #moving #k-drama #D...       1108\n",
       "9346    무빙 구룡포 불주먹으로 100대1 싸움 폼미쳤다 #moving #디즈니플러스 #류승룡       1122\n",
       "9347      김성균, 아이언맨 저리가라 강렬한 파워 착지 #무빙(MOVING)       1033\n",
       "9348        2024 연극 '엔젤스 인 아메리카' MOVING POSTER - 로이 이효정       1046\n",
       "9349  \"The Brave Pigeon: A Heroic Act on a Moving Tr...       2538\n",
       "\n",
       "[9350 rows x 2 columns]"
      ]
     },
     "execution_count": 24,
     "metadata": {},
     "output_type": "execute_result"
    }
   ],
   "source": [
    "movie"
   ]
  },
  {
   "cell_type": "code",
   "execution_count": 25,
   "id": "632fbca9-1875-46f1-a1da-a905a6a04f74",
   "metadata": {},
   "outputs": [],
   "source": [
    "# target scaling (log1p + standard)\n",
    "movie['log_views'] = np.log1p(movie['views'])\n",
    "\n",
    "scaler = StandardScaler()\n",
    "movie['log_views_scaled'] = scaler.fit_transform(movie[['log_views']])"
   ]
  },
  {
   "cell_type": "code",
   "execution_count": 26,
   "id": "6f1127c5-9dbf-48ea-9c62-97635e6f32ec",
   "metadata": {},
   "outputs": [
    {
     "data": {
      "image/png": "[encoded data removed]",
      "text/plain": [
       "<Figure size 640x480 with 1 Axes>"
      ]
     },
     "metadata": {},
     "output_type": "display_data"
    }
   ],
   "source": [
    "plt.hist(movie['log_views_scaled'], bins=30)\n",
    "plt.title(\"Standardized Log-Transformed Views\")\n",
    "plt.xlabel(\"Standardized Log(1 + Views)\")\n",
    "plt.ylabel(\"Frequency\")\n",
    "plt.show()"
   ]
  },
  {
   "cell_type": "markdown",
   "id": "5a6ec759-3946-4d6f-ba33-aa4a0bc6c103",
   "metadata": {},
   "source": [
    "---------------------------------------------------------------------------------------------------------------------"
   ]
  },
  {
   "cell_type": "markdown",
   "id": "52a41333-3665-4d57-94a6-4d238975be24",
   "metadata": {},
   "source": [
    "## Modeling"
   ]
  },
  {
   "cell_type": "markdown",
   "id": "81950e86-0e6f-4453-b03b-81a56b735720",
   "metadata": {
    "jp-MarkdownHeadingCollapsed": true
   },
   "source": [
    "### function definition"
   ]
  },
  {
   "cell_type": "code",
   "execution_count": 27,
   "id": "1d38b0d9-e2ed-4245-81d1-ce943d097b91",
   "metadata": {},
   "outputs": [],
   "source": [
    "def preprocess_title(text):\n",
    "    if not isinstance(text, str):\n",
    "        return \"\"\n",
    "\n",
    "    # 1. 소문자 변환\n",
    "    text = text.lower()\n",
    "\n",
    "    # 2. 특수문자, 숫자 제거\n",
    "    text = re.sub(r'[^a-z\\s]', '', text)\n",
    "\n",
    "    # 3. spaCy 형태소 분석\n",
    "    doc = nlp(text)\n",
    "\n",
    "    # 4. 명사/형용사 + 불용어 제거 + 원형 복원\n",
    "    tokens = [\n",
    "        token.lemma_ for token in doc\n",
    "        if token.is_alpha\n",
    "        and not token.is_stop\n",
    "        and token.pos_ in ['NOUN', 'ADJ', 'PROPN', 'VERB', 'NUM', 'ADV', 'INTJ']\n",
    "    ]\n",
    "\n",
    "    return ' '.join(tokens)"
   ]
  },
  {
   "cell_type": "code",
   "execution_count": 28,
   "id": "a9d424c3-0002-4c5c-b092-c83c77b10874",
   "metadata": {},
   "outputs": [],
   "source": [
    "def count_pos(text):\n",
    "    if not isinstance(text, str):\n",
    "        return {'NOUN': 0, 'PROPN': 0, 'ADJ': 0, 'VERB': 0, 'INTJ': 0, 'NUM': 0}\n",
    "\n",
    "    doc = nlp(text.lower())\n",
    "    pos_counts = {'NOUN': 0, 'PROPN': 0, 'ADJ': 0, 'VERB': 0, 'INTJ': 0, 'NUM': 0}\n",
    "\n",
    "    for token in doc:\n",
    "        if token.pos_ in pos_counts:\n",
    "            pos_counts[token.pos_] += 1\n",
    "\n",
    "    return pos_counts"
   ]
  },
  {
   "cell_type": "code",
   "execution_count": 29,
   "id": "9ab9d652-5750-42da-93aa-1f553ba6a4c3",
   "metadata": {},
   "outputs": [],
   "source": [
    "def extract_features(row):\n",
    "    features = {}\n",
    "\n",
    "    # 원본 텍스트\n",
    "    title = row['title'] if isinstance(row['title'], str) else ''\n",
    "\n",
    "    # 전처리된 텍스트\n",
    "    cleaned_title = preprocess_title(title)\n",
    "\n",
    "    # 제목 길이 및 단어 수 \n",
    "    features['title_len'] = len(title)\n",
    "    features['title_cnt'] = len(cleaned_title.split())\n",
    "\n",
    "    # 느낌표 / 물음표 개수\n",
    "    features['num_exclamations'] = title.count('!')\n",
    "    features['num_questions'] = title.count('?')\n",
    "\n",
    "    # 숫자 포함 여부 \n",
    "    features['has_number'] = int(bool(re.search(r'\\d', title)))\n",
    "    features['starts_with_number'] = int(bool(re.match(r'^\\d', title.strip())))  \n",
    "\n",
    "    # 키워드 포함 여부 (사전 정의된 keyword 리스트 필요)\n",
    "    keywords = [\n",
    "        'rank', 'op', 'patch', 'update', 'buff', 'nerf', 'new', 'epic',\n",
    "        'trick', 'tips', 'glitch', 'record', 'kill', 'highlight', 'champion',\n",
    "        'trailer', 'royale', 'official', 'reveal', 'black', 'multiplayer'\n",
    "    ]\n",
    "    features['has_keyword'] = int(any(word in cleaned_title for word in keywords))\n",
    "\n",
    "    # 대문자 비율 30% 이상 여부\n",
    "    features['is_caps_heavy'] = int(sum(1 for c in title if c.isupper()) > len(title) * 0.3)\n",
    "\n",
    "    # 품사 카운트\n",
    "    pos_counts = count_pos(title)\n",
    "    features.update(pos_counts)\n",
    "\n",
    "    return features\n"
   ]
  },
  {
   "cell_type": "code",
   "execution_count": 30,
   "id": "036a8508-63a8-4c36-afe9-85226e7a73c1",
   "metadata": {},
   "outputs": [],
   "source": [
    "def compute_rule_score(features):\n",
    "    score = 0\n",
    "\n",
    "    # 1. 제목 길이: 짧을수록 가산점\n",
    "    score += -0.03 * features['title_len']\n",
    "\n",
    "    # 2. 단어 수: 많을수록 클릭 유도 가능성 있음\n",
    "    score -= 0.3 * features['title_cnt']\n",
    "\n",
    "    # 3. 느낌표 / 물음표 개수\n",
    "    score += 0.3 * features['num_exclamations']\n",
    "    score += 0.3 * features['num_questions']\n",
    "\n",
    "    # 4. 숫자 포함 여부\n",
    "    score += 0.5 * features['has_number']\n",
    "\n",
    "    # 5. 숫자로 시작\n",
    "    score -= 0.1 * features['starts_with_number']\n",
    "\n",
    "    # 6. 키워드 포함 여부\n",
    "    score += 0.8 * features['has_keyword']\n",
    "\n",
    "    # 7. 대문자 비율이 높은 경우\n",
    "    score -= 0.3 * features['is_caps_heavy']\n",
    "\n",
    "    # 8. 품사 기반: 명사·동사 많으면 내용 풍부, 고유명사 많으면 오히려 일반성↓\n",
    "    score += 0.5 * features.get('NOUN', 0)\n",
    "    score += 0.5 * features.get('VERB', 0)\n",
    "    score += -0.1 * features.get('PROPN', 0)  # 고유명사 많으면 가중치 낮춤\n",
    "\n",
    "    return score"
   ]
  },
  {
   "cell_type": "code",
   "execution_count": 31,
   "id": "b2182969-8fdc-4b7d-9b66-febcc859a6ff",
   "metadata": {},
   "outputs": [],
   "source": [
    "# CLS 벡터 추출 함수\n",
    "def extract_cls_embedding(text):\n",
    "    encoding = tokenizer(text,\n",
    "                         max_length=32,\n",
    "                         truncation=True,\n",
    "                         padding='max_length',\n",
    "                         return_tensors='pt')\n",
    "    input_ids_tensor = encoding['input_ids'].to(device)\n",
    "    attention_mask_tensor = encoding['attention_mask'].to(device)\n",
    "    \n",
    "    with torch.no_grad():\n",
    "        outputs = model(input_ids=input_ids_tensor, attention_mask=attention_mask_tensor)\n",
    "        cls_embedding = outputs.last_hidden_state[:, 0, :].squeeze().cpu().numpy()\n",
    "    return cls_embedding"
   ]
  },
  {
   "cell_type": "code",
   "execution_count": 32,
   "id": "9b62657a-a316-4e18-a6a5-bd8b813ed9c1",
   "metadata": {},
   "outputs": [],
   "source": [
    "# Model 성능 평가 함수 \n",
    "def evaluate_model(model, X_train, y_train, X_test, y_test):\n",
    "    model.fit(X_train, y_train)\n",
    "    y_pred = model.predict(X_test)\n",
    "\n",
    "    rmse = root_mean_squared_error(y_test, y_pred)\n",
    "    r2 = r2_score(y_test, y_pred)\n",
    "    spearman_corr, _ = spearmanr(y_test, y_pred)\n",
    "\n",
    "    print(f\"RMSE: {rmse:.4f}\")\n",
    "    print(f\"R²: {r2:.4f}\")\n",
    "    print(f\"Spearman: {spearman_corr:.4f}\")\n",
    "    \n",
    "    return model, rmse, r2, spearman_corr"
   ]
  },
  {
   "cell_type": "markdown",
   "id": "47260262-5272-4415-8dc4-a4c86ebd7d35",
   "metadata": {
    "jp-MarkdownHeadingCollapsed": true
   },
   "source": [
    "### rule-based feature"
   ]
  },
  {
   "cell_type": "code",
   "execution_count": 33,
   "id": "dab51efd-22fa-4e62-a5b0-e58ec809ebd2",
   "metadata": {},
   "outputs": [],
   "source": [
    "# 조회수가 높은 영상에 자주 등장하는 키워드 사전 구축 \n",
    "keywords = [\n",
    "    \"vlog\", \"short\", \"minivlog\", \"food\", \"korea\", \"travel\", \"korean\", \"dailyvlog\",\n",
    "    \"day\", \"camping\", \"foodvlog\", \"foodie\", \"travelvlog\", \"streetfood\", \"daily\",\n",
    "    \"india\", \"trend\", \"eat\", \"life\", \"challenge\", \"japan\", \"street\", \"trip\",\n",
    "    \"indianfood\", \"train\", \"recipe\", \"asmr\", \"grwm\", \"hour\", \"delhi\",'bushcraft', 'skill', 'survival'\n",
    "]\n",
    "\n"
   ]
  },
  {
   "cell_type": "code",
   "execution_count": 34,
   "id": "eb01ebaa-d4bf-4ed0-96a6-878d18af49bc",
   "metadata": {},
   "outputs": [],
   "source": [
    "movie['rule_score'] = movie.apply(lambda row: compute_rule_score(extract_features(row)), axis=1)"
   ]
  },
  {
   "cell_type": "code",
   "execution_count": 35,
   "id": "4333ebcb-1079-40e3-aaea-430e1b7b3559",
   "metadata": {},
   "outputs": [
    {
     "data": {
      "text/html": [
       "<div>\n",
       "<style scoped>\n",
       "    .dataframe tbody tr th:only-of-type {\n",
       "        vertical-align: middle;\n",
       "    }\n",
       "\n",
       "    .dataframe tbody tr th {\n",
       "        vertical-align: top;\n",
       "    }\n",
       "\n",
       "    .dataframe thead th {\n",
       "        text-align: right;\n",
       "    }\n",
       "</style>\n",
       "<table border=\"1\" class=\"dataframe\">\n",
       "  <thead>\n",
       "    <tr style=\"text-align: right;\">\n",
       "      <th></th>\n",
       "      <th>title</th>\n",
       "      <th>views</th>\n",
       "      <th>log_views</th>\n",
       "      <th>log_views_scaled</th>\n",
       "      <th>rule_score</th>\n",
       "    </tr>\n",
       "  </thead>\n",
       "  <tbody>\n",
       "    <tr>\n",
       "      <th>0</th>\n",
       "      <td>Would You Pet a Cheetah in Africa?</td>\n",
       "      <td>816300646</td>\n",
       "      <td>20.520293</td>\n",
       "      <td>3.379239</td>\n",
       "      <td>-0.72</td>\n",
       "    </tr>\n",
       "    <tr>\n",
       "      <th>1</th>\n",
       "      <td>The World's Highest Security Prison: CECOT (Th...</td>\n",
       "      <td>112036494</td>\n",
       "      <td>18.534335</td>\n",
       "      <td>2.392694</td>\n",
       "      <td>-1.86</td>\n",
       "    </tr>\n",
       "    <tr>\n",
       "      <th>2</th>\n",
       "      <td>COBRA GYPSIES - Full Documentary</td>\n",
       "      <td>56065571</td>\n",
       "      <td>17.842032</td>\n",
       "      <td>2.048785</td>\n",
       "      <td>-0.66</td>\n",
       "    </tr>\n",
       "    <tr>\n",
       "      <th>3</th>\n",
       "      <td>June 6, 1944 – The Light of Dawn | History - D...</td>\n",
       "      <td>53961215</td>\n",
       "      <td>17.803776</td>\n",
       "      <td>2.029781</td>\n",
       "      <td>-1.31</td>\n",
       "    </tr>\n",
       "    <tr>\n",
       "      <th>4</th>\n",
       "      <td>Our Planet | From Deserts to Grasslands | FULL...</td>\n",
       "      <td>42082072</td>\n",
       "      <td>17.555132</td>\n",
       "      <td>1.906264</td>\n",
       "      <td>-0.42</td>\n",
       "    </tr>\n",
       "    <tr>\n",
       "      <th>...</th>\n",
       "      <td>...</td>\n",
       "      <td>...</td>\n",
       "      <td>...</td>\n",
       "      <td>...</td>\n",
       "      <td>...</td>\n",
       "    </tr>\n",
       "    <tr>\n",
       "      <th>9345</th>\n",
       "      <td>Common worries among us... #moving #k-drama #D...</td>\n",
       "      <td>1108</td>\n",
       "      <td>7.011214</td>\n",
       "      <td>-3.331537</td>\n",
       "      <td>-2.03</td>\n",
       "    </tr>\n",
       "    <tr>\n",
       "      <th>9346</th>\n",
       "      <td>무빙 구룡포 불주먹으로 100대1 싸움 폼미쳤다 #moving #디즈니플러스 #류승룡</td>\n",
       "      <td>1122</td>\n",
       "      <td>7.023759</td>\n",
       "      <td>-3.325305</td>\n",
       "      <td>0.29</td>\n",
       "    </tr>\n",
       "    <tr>\n",
       "      <th>9347</th>\n",
       "      <td>김성균, 아이언맨 저리가라 강렬한 파워 착지 #무빙(MOVING)</td>\n",
       "      <td>1033</td>\n",
       "      <td>6.941190</td>\n",
       "      <td>-3.366322</td>\n",
       "      <td>-1.55</td>\n",
       "    </tr>\n",
       "    <tr>\n",
       "      <th>9348</th>\n",
       "      <td>2024 연극 '엔젤스 인 아메리카' MOVING POSTER - 로이 이효정</td>\n",
       "      <td>1046</td>\n",
       "      <td>6.953684</td>\n",
       "      <td>-3.360116</td>\n",
       "      <td>0.31</td>\n",
       "    </tr>\n",
       "    <tr>\n",
       "      <th>9349</th>\n",
       "      <td>\"The Brave Pigeon: A Heroic Act on a Moving Tr...</td>\n",
       "      <td>2538</td>\n",
       "      <td>7.839526</td>\n",
       "      <td>-2.920065</td>\n",
       "      <td>-1.43</td>\n",
       "    </tr>\n",
       "  </tbody>\n",
       "</table>\n",
       "<p>9350 rows × 5 columns</p>\n",
       "</div>"
      ],
      "text/plain": [
       "                                                  title      views  log_views  \\\n",
       "0                    Would You Pet a Cheetah in Africa?  816300646  20.520293   \n",
       "1     The World's Highest Security Prison: CECOT (Th...  112036494  18.534335   \n",
       "2                      COBRA GYPSIES - Full Documentary   56065571  17.842032   \n",
       "3     June 6, 1944 – The Light of Dawn | History - D...   53961215  17.803776   \n",
       "4     Our Planet | From Deserts to Grasslands | FULL...   42082072  17.555132   \n",
       "...                                                 ...        ...        ...   \n",
       "9345  Common worries among us... #moving #k-drama #D...       1108   7.011214   \n",
       "9346    무빙 구룡포 불주먹으로 100대1 싸움 폼미쳤다 #moving #디즈니플러스 #류승룡       1122   7.023759   \n",
       "9347      김성균, 아이언맨 저리가라 강렬한 파워 착지 #무빙(MOVING)       1033   6.941190   \n",
       "9348        2024 연극 '엔젤스 인 아메리카' MOVING POSTER - 로이 이효정       1046   6.953684   \n",
       "9349  \"The Brave Pigeon: A Heroic Act on a Moving Tr...       2538   7.839526   \n",
       "\n",
       "      log_views_scaled  rule_score  \n",
       "0             3.379239       -0.72  \n",
       "1             2.392694       -1.86  \n",
       "2             2.048785       -0.66  \n",
       "3             2.029781       -1.31  \n",
       "4             1.906264       -0.42  \n",
       "...                ...         ...  \n",
       "9345         -3.331537       -2.03  \n",
       "9346         -3.325305        0.29  \n",
       "9347         -3.366322       -1.55  \n",
       "9348         -3.360116        0.31  \n",
       "9349         -2.920065       -1.43  \n",
       "\n",
       "[9350 rows x 5 columns]"
      ]
     },
     "execution_count": 35,
     "metadata": {},
     "output_type": "execute_result"
    }
   ],
   "source": [
    "movie"
   ]
  },
  {
   "cell_type": "markdown",
   "id": "47dd59a6-e2e9-4c0e-8105-b325d8944bdb",
   "metadata": {
    "jp-MarkdownHeadingCollapsed": true
   },
   "source": [
    "### BERT embeddings"
   ]
  },
  {
   "cell_type": "code",
   "execution_count": 36,
   "id": "2c63451f-e49f-4f92-9e00-69a79933382f",
   "metadata": {},
   "outputs": [
    {
     "data": {
      "text/plain": [
       "BertModel(\n",
       "  (embeddings): BertEmbeddings(\n",
       "    (word_embeddings): Embedding(30522, 768, padding_idx=0)\n",
       "    (position_embeddings): Embedding(512, 768)\n",
       "    (token_type_embeddings): Embedding(2, 768)\n",
       "    (LayerNorm): LayerNorm((768,), eps=1e-12, elementwise_affine=True)\n",
       "    (dropout): Dropout(p=0.1, inplace=False)\n",
       "  )\n",
       "  (encoder): BertEncoder(\n",
       "    (layer): ModuleList(\n",
       "      (0-11): 12 x BertLayer(\n",
       "        (attention): BertAttention(\n",
       "          (self): BertSdpaSelfAttention(\n",
       "            (query): Linear(in_features=768, out_features=768, bias=True)\n",
       "            (key): Linear(in_features=768, out_features=768, bias=True)\n",
       "            (value): Linear(in_features=768, out_features=768, bias=True)\n",
       "            (dropout): Dropout(p=0.1, inplace=False)\n",
       "          )\n",
       "          (output): BertSelfOutput(\n",
       "            (dense): Linear(in_features=768, out_features=768, bias=True)\n",
       "            (LayerNorm): LayerNorm((768,), eps=1e-12, elementwise_affine=True)\n",
       "            (dropout): Dropout(p=0.1, inplace=False)\n",
       "          )\n",
       "        )\n",
       "        (intermediate): BertIntermediate(\n",
       "          (dense): Linear(in_features=768, out_features=3072, bias=True)\n",
       "          (intermediate_act_fn): GELUActivation()\n",
       "        )\n",
       "        (output): BertOutput(\n",
       "          (dense): Linear(in_features=3072, out_features=768, bias=True)\n",
       "          (LayerNorm): LayerNorm((768,), eps=1e-12, elementwise_affine=True)\n",
       "          (dropout): Dropout(p=0.1, inplace=False)\n",
       "        )\n",
       "      )\n",
       "    )\n",
       "  )\n",
       "  (pooler): BertPooler(\n",
       "    (dense): Linear(in_features=768, out_features=768, bias=True)\n",
       "    (activation): Tanh()\n",
       "  )\n",
       ")"
      ]
     },
     "execution_count": 36,
     "metadata": {},
     "output_type": "execute_result"
    }
   ],
   "source": [
    "# BERT load \n",
    "tokenizer = BertTokenizer.from_pretrained(\"bert-base-uncased\")\n",
    "model = BertModel.from_pretrained(\"bert-base-uncased\")\n",
    "\n",
    "device = torch.device(\"cuda\" if torch.cuda.is_available() else \"cpu\")\n",
    "model.to(device)\n",
    "model.eval()"
   ]
  },
  {
   "cell_type": "code",
   "execution_count": 37,
   "id": "3fafd5f0-83aa-4278-9696-8df9bbc414d0",
   "metadata": {},
   "outputs": [
    {
     "name": "stderr",
     "output_type": "stream",
     "text": [
      "100%|██████████████████████████████████████████████████████████████████████████████| 9350/9350 [04:41<00:00, 33.22it/s]\n"
     ]
    }
   ],
   "source": [
    "## 전체 제목을 cls로 추출 \n",
    "embeddings = np.array([\n",
    "    extract_cls_embedding(title) for title in tqdm(movie['title'])\n",
    "])"
   ]
  },
  {
   "cell_type": "markdown",
   "id": "a6344830-daba-461b-bb54-eb1acf30f6f6",
   "metadata": {},
   "source": [
    "### Hybrid model - feature level"
   ]
  },
  {
   "cell_type": "markdown",
   "id": "a45323d4-5e5c-44f8-86a0-a6a7efacbc8a",
   "metadata": {},
   "source": [
    "먼저 피처들 간 스케일 차이 확인 후 피처 스케일링 진행"
   ]
  },
  {
   "cell_type": "code",
   "execution_count": 38,
   "id": "55568782-1014-424d-9323-23297d08b555",
   "metadata": {},
   "outputs": [],
   "source": [
    "rule_score = movie[['rule_score']].values"
   ]
  },
  {
   "cell_type": "code",
   "execution_count": 39,
   "id": "d56ee6ef-4b6c-4c8f-ae32-6783028f74d8",
   "metadata": {},
   "outputs": [],
   "source": [
    "bert_dim_0 = embeddings[:, 0]"
   ]
  },
  {
   "cell_type": "code",
   "execution_count": 40,
   "id": "e2f9f0d7-522e-4c98-b1cc-3198c30d5f35",
   "metadata": {},
   "outputs": [
    {
     "data": {
      "image/png": "[encoded data removed]",
      "text/plain": [
       "<Figure size 1000x500 with 1 Axes>"
      ]
     },
     "metadata": {},
     "output_type": "display_data"
    }
   ],
   "source": [
    "# 두 피처의 분포를 시각화해서 스케일링 필요한지 확인 \n",
    "plt.figure(figsize=(10, 5))\n",
    "plt.hist(bert_dim_0, bins=50, alpha=0.6, label='BERT dim 0', color='blue')\n",
    "plt.hist(rule_score, bins=50, alpha=0.6, label='Rule Score', color='orange')\n",
    "plt.title('BERT vs Rule Score Distribution')\n",
    "plt.xlabel('Value')\n",
    "plt.ylabel('Frequency')\n",
    "plt.legend()\n",
    "plt.grid(True)\n",
    "plt.show()"
   ]
  },
  {
   "cell_type": "code",
   "execution_count": 42,
   "id": "85861683-0581-4fcc-9bc1-d568bf9496a3",
   "metadata": {},
   "outputs": [],
   "source": [
    "# 피처 스케일링\n",
    "rule_scaled = scaler.fit_transform(movie[['rule_score']])"
   ]
  },
  {
   "cell_type": "markdown",
   "id": "ab30beb4-0aa9-4f73-940c-544e2ffba73e",
   "metadata": {},
   "source": [
    "피처 결합하여 다양한 모델로 실험"
   ]
  },
  {
   "cell_type": "code",
   "execution_count": 43,
   "id": "73bdc9af-918e-48ec-971e-fc0d4ce7f251",
   "metadata": {},
   "outputs": [],
   "source": [
    "# 두 피처 결합\n",
    "X = np.hstack([embeddings, rule_scaled])\n",
    "\n",
    "# target 처리\n",
    "y = movie['log_views_scaled']\n",
    "\n",
    "# test, train dataset 분리 \n",
    "X_train, X_test, y_train, y_test = train_test_split(\n",
    "    X, y, test_size=0.2, random_state=42)"
   ]
  },
  {
   "cell_type": "markdown",
   "id": "85bc7265-a211-4620-b7aa-2d6da9edd7f6",
   "metadata": {},
   "source": [
    "----------------------------------------------------------------------------------------------------------------------"
   ]
  },
  {
   "cell_type": "markdown",
   "id": "884e73b2-3101-4349-bf3d-67b5fbdf1d09",
   "metadata": {},
   "source": [
    "Linear Regression"
   ]
  },
  {
   "cell_type": "code",
   "execution_count": 44,
   "id": "6c10b2ef-8c5d-49e7-ad46-eb34dbeb990d",
   "metadata": {},
   "outputs": [
    {
     "name": "stdout",
     "output_type": "stream",
     "text": [
      "RMSE: 0.8995\n",
      "R²: 0.1798\n",
      "Spearman: 0.4141\n"
     ]
    },
    {
     "data": {
      "text/plain": [
       "(LinearRegression(),\n",
       " np.float64(0.8995359350622285),\n",
       " 0.17984325712845217,\n",
       " np.float64(0.41407675072696626))"
      ]
     },
     "execution_count": 44,
     "metadata": {},
     "output_type": "execute_result"
    }
   ],
   "source": [
    "# Linear Regression \n",
    "lr = LinearRegression()\n",
    "evaluate_model(lr, X_train, y_train, X_test, y_test)"
   ]
  },
  {
   "cell_type": "markdown",
   "id": "ac2b5fad-2e07-4c31-b7b0-26f36117c902",
   "metadata": {},
   "source": [
    "결과값이 이상함 - 디버깅"
   ]
  },
  {
   "cell_type": "code",
   "execution_count": 45,
   "id": "f3bdc062-40cd-4006-bf57-689bfaed7c61",
   "metadata": {},
   "outputs": [
    {
     "name": "stdout",
     "output_type": "stream",
     "text": [
      "True: -1 / Pred: -1\n",
      "True: 1 / Pred: 0\n",
      "True: -1 / Pred: -0\n",
      "True: -0 / Pred: -1\n",
      "True: -1 / Pred: -1\n",
      "True: -1 / Pred: -0\n",
      "True: -1 / Pred: -0\n",
      "True: -1 / Pred: -0\n",
      "True: -0 / Pred: 0\n",
      "True: 4 / Pred: 2\n"
     ]
    }
   ],
   "source": [
    "# 예측값\n",
    "y_pred = lr.predict(X_test)\n",
    "\n",
    "# 로그 스케일이면 되돌림\n",
    "y_pred_raw = np.expm1(y_pred)\n",
    "y_test_raw = np.expm1(y_test)\n",
    "\n",
    "# 비교\n",
    "for yt, yp in zip(y_test_raw[:10], y_pred_raw[:10]):\n",
    "    print(f\"True: {yt:.0f} / Pred: {yp:.0f}\")"
   ]
  },
  {
   "cell_type": "markdown",
   "id": "57b5b1c4-1021-4a67-ac65-da140025e98e",
   "metadata": {},
   "source": [
    "예측값이 무한대로 튀는 경우가 있음을 확인함. 문제 확인을 위해 디버깅"
   ]
  },
  {
   "cell_type": "code",
   "execution_count": 46,
   "id": "38adfb16-8cdf-44e1-b0ad-4bf54eca6b11",
   "metadata": {},
   "outputs": [
    {
     "name": "stdout",
     "output_type": "stream",
     "text": [
      "Rule Score (정규화 후): mean = -8.511314054024729e-17 / std = 1.0000000000000002\n"
     ]
    }
   ],
   "source": [
    "print(\"Rule Score (정규화 후): mean =\", rule_scaled.mean(), \"/ std =\", rule_scaled.std())"
   ]
  },
  {
   "cell_type": "code",
   "execution_count": 47,
   "id": "f04c3929-3310-4597-9289-369931863c45",
   "metadata": {},
   "outputs": [
    {
     "name": "stdout",
     "output_type": "stream",
     "text": [
      "전체 계수 개수: 769\n",
      "rule_score 계수: -0.016969645648714504\n",
      "BERT 계수 평균 ± 표준편차: -3785.5219899281888 +- 235.23384139665362\n"
     ]
    }
   ],
   "source": [
    "coef = lr.coef_\n",
    "print(\"전체 계수 개수:\", len(coef))\n",
    "print(\"rule_score 계수:\", coef[-1])\n",
    "print(\"BERT 계수 평균 ± 표준편차:\", np.mean(coef[:-1]), \"+-\", np.std(coef[:-1]))"
   ]
  },
  {
   "cell_type": "markdown",
   "id": "20882304-e01d-4c3c-8938-1957cbf6acbd",
   "metadata": {},
   "source": [
    "rule-score의 계수가 너무 커서 튀는 현상 발견 -> 다중공선성일 가능성이 높음, Ridge / Lasso를 통해 해결"
   ]
  },
  {
   "cell_type": "markdown",
   "id": "f8ff4786-c6f7-4d60-920d-0a4a72c01034",
   "metadata": {},
   "source": [
    "----------------------------------------------------------------------------------------------------------------------"
   ]
  },
  {
   "cell_type": "code",
   "execution_count": 48,
   "id": "6b72251c-094e-41dd-abe7-d19fc2a8bb03",
   "metadata": {},
   "outputs": [
    {
     "name": "stdout",
     "output_type": "stream",
     "text": [
      "RMSE: 0.8958\n",
      "R²: 0.1867\n",
      "Spearman: 0.4179\n"
     ]
    },
    {
     "data": {
      "text/plain": [
       "(Ridge(),\n",
       " np.float64(0.8957537292108626),\n",
       " 0.18672565091357174,\n",
       " np.float64(0.41792556593039554))"
      ]
     },
     "execution_count": 48,
     "metadata": {},
     "output_type": "execute_result"
    }
   ],
   "source": [
    "ridge = Ridge(alpha=1.0)\n",
    "evaluate_model(ridge, X_train, y_train, X_test, y_test)"
   ]
  },
  {
   "cell_type": "markdown",
   "id": "18417b4e-5452-4025-aa68-e35c05c4504a",
   "metadata": {},
   "source": [
    "----------------------------------------------------------------------------------------------------------------------"
   ]
  },
  {
   "cell_type": "code",
   "execution_count": 49,
   "id": "78519689-1a71-4821-916c-11a8dbf37f61",
   "metadata": {},
   "outputs": [
    {
     "name": "stdout",
     "output_type": "stream",
     "text": [
      "RMSE: 0.8464\n",
      "R²: 0.2738\n",
      "Spearman: 0.5299\n"
     ]
    },
    {
     "data": {
      "text/plain": [
       "(RandomForestRegressor(n_jobs=-1, random_state=42),\n",
       " np.float64(0.8464297263679372),\n",
       " 0.27382442136751395,\n",
       " np.float64(0.5298870017254833))"
      ]
     },
     "execution_count": 49,
     "metadata": {},
     "output_type": "execute_result"
    }
   ],
   "source": [
    "rf = RandomForestRegressor(n_estimators=100, n_jobs=-1, random_state=42)\n",
    "evaluate_model(rf, X_train, y_train, X_test, y_test)"
   ]
  },
  {
   "cell_type": "markdown",
   "id": "4bb7c8a4-435c-4725-a3fc-bf84f09e1c84",
   "metadata": {},
   "source": [
    "----------------------------------------------------------------------------------------------------------------------"
   ]
  },
  {
   "cell_type": "code",
   "execution_count": 50,
   "id": "ec4bc308-396c-4791-b4df-d0052a17b922",
   "metadata": {},
   "outputs": [
    {
     "name": "stdout",
     "output_type": "stream",
     "text": [
      "RMSE: 0.8862\n",
      "R²: 0.2040\n",
      "Spearman: 0.4275\n"
     ]
    },
    {
     "data": {
      "text/plain": [
       "(GradientBoostingRegressor(random_state=42),\n",
       " np.float64(0.8862158456649762),\n",
       " 0.2039527489478281,\n",
       " np.float64(0.4275068410904618))"
      ]
     },
     "execution_count": 50,
     "metadata": {},
     "output_type": "execute_result"
    }
   ],
   "source": [
    "gradient = GradientBoostingRegressor(n_estimators=100, random_state=42)\n",
    "evaluate_model(gradient, X_train, y_train, X_test, y_test)"
   ]
  },
  {
   "cell_type": "code",
   "execution_count": 51,
   "id": "ca7f72ec-61a2-4c5f-8ebd-8f9b9879565d",
   "metadata": {},
   "outputs": [
    {
     "name": "stdout",
     "output_type": "stream",
     "text": [
      "Evaluating Lasso...\n",
      "RMSE: 0.9438\n",
      "R²: 0.0972\n",
      "Spearman: 0.3262\n",
      "Evaluating Ridge...\n",
      "RMSE: 0.8958\n",
      "R²: 0.1867\n",
      "Spearman: 0.4179\n",
      "Evaluating RandomForest...\n",
      "RMSE: 0.8464\n",
      "R²: 0.2738\n",
      "Spearman: 0.5299\n",
      "Evaluating GradientBoosting...\n",
      "RMSE: 0.8862\n",
      "R²: 0.2040\n",
      "Spearman: 0.4275\n"
     ]
    }
   ],
   "source": [
    "results = []\n",
    "\n",
    "models = {\n",
    "    \"Lasso\": Lasso(alpha=0.01),\n",
    "    \"Ridge\": Ridge(alpha=1.0),\n",
    "    \"RandomForest\": RandomForestRegressor(n_estimators=100, random_state=42),\n",
    "    \"GradientBoosting\": GradientBoostingRegressor(n_estimators=100, random_state=42),\n",
    "    \n",
    "}\n",
    "\n",
    "for name, model in models.items():\n",
    "    print(f\"Evaluating {name}...\")\n",
    "    trained_model, rmse, r2, spearman = evaluate_model(model, X_train, y_train, X_test, y_test)\n",
    "    \n",
    "    results.append({\n",
    "        \"Model\": name,\n",
    "        \"RMSE\": rmse,\n",
    "        \"R²\": r2,\n",
    "        \"Spearman\": spearman\n",
    "    })\n"
   ]
  },
  {
   "cell_type": "code",
   "execution_count": 52,
   "id": "adf43966-5804-4bd8-b71f-863aa9acf791",
   "metadata": {},
   "outputs": [],
   "source": [
    "results_df = pd.DataFrame(results)"
   ]
  },
  {
   "cell_type": "code",
   "execution_count": 53,
   "id": "ccdd4257-b4dd-4a96-b42e-62bbb4179b49",
   "metadata": {},
   "outputs": [
    {
     "data": {
      "image/png": "[encoded data removed]",
      "text/plain": [
       "<Figure size 800x600 with 1 Axes>"
      ]
     },
     "metadata": {},
     "output_type": "display_data"
    }
   ],
   "source": [
    "metrics = [\"RMSE\", \"R²\", \"Spearman\"]\n",
    "\n",
    "plt.figure(figsize=(8, 6))\n",
    "\n",
    "metrics = [\"RMSE\", \"R²\", \"Spearman\"]\n",
    "for metric in metrics:\n",
    "    plt.plot(results_df[\"Model\"], results_df[metric], marker='o', label=metric)\n",
    "\n",
    "plt.title(\"모델별 성능 비교 (라인 차트)\")\n",
    "plt.xlabel(\"Model\")\n",
    "plt.ylabel(\"Metric Value\")\n",
    "plt.legend()\n",
    "plt.grid(True)\n",
    "plt.tight_layout()\n",
    "plt.show()"
   ]
  },
  {
   "cell_type": "code",
   "execution_count": 54,
   "id": "f299edf4-3f33-4f88-ad76-89ad3d06ad2e",
   "metadata": {},
   "outputs": [
    {
     "data": {
      "text/html": [
       "<div>\n",
       "<style scoped>\n",
       "    .dataframe tbody tr th:only-of-type {\n",
       "        vertical-align: middle;\n",
       "    }\n",
       "\n",
       "    .dataframe tbody tr th {\n",
       "        vertical-align: top;\n",
       "    }\n",
       "\n",
       "    .dataframe thead th {\n",
       "        text-align: right;\n",
       "    }\n",
       "</style>\n",
       "<table border=\"1\" class=\"dataframe\">\n",
       "  <thead>\n",
       "    <tr style=\"text-align: right;\">\n",
       "      <th></th>\n",
       "      <th>Model</th>\n",
       "      <th>RMSE</th>\n",
       "      <th>R²</th>\n",
       "      <th>Spearman</th>\n",
       "    </tr>\n",
       "  </thead>\n",
       "  <tbody>\n",
       "    <tr>\n",
       "      <th>0</th>\n",
       "      <td>Lasso</td>\n",
       "      <td>0.943759</td>\n",
       "      <td>0.097220</td>\n",
       "      <td>0.326152</td>\n",
       "    </tr>\n",
       "    <tr>\n",
       "      <th>1</th>\n",
       "      <td>Ridge</td>\n",
       "      <td>0.895754</td>\n",
       "      <td>0.186726</td>\n",
       "      <td>0.417926</td>\n",
       "    </tr>\n",
       "    <tr>\n",
       "      <th>2</th>\n",
       "      <td>RandomForest</td>\n",
       "      <td>0.846430</td>\n",
       "      <td>0.273824</td>\n",
       "      <td>0.529887</td>\n",
       "    </tr>\n",
       "    <tr>\n",
       "      <th>3</th>\n",
       "      <td>GradientBoosting</td>\n",
       "      <td>0.886216</td>\n",
       "      <td>0.203953</td>\n",
       "      <td>0.427507</td>\n",
       "    </tr>\n",
       "  </tbody>\n",
       "</table>\n",
       "</div>"
      ],
      "text/plain": [
       "              Model      RMSE        R²  Spearman\n",
       "0             Lasso  0.943759  0.097220  0.326152\n",
       "1             Ridge  0.895754  0.186726  0.417926\n",
       "2      RandomForest  0.846430  0.273824  0.529887\n",
       "3  GradientBoosting  0.886216  0.203953  0.427507"
      ]
     },
     "execution_count": 54,
     "metadata": {},
     "output_type": "execute_result"
    }
   ],
   "source": [
    "results_df"
   ]
  },
  {
   "cell_type": "markdown",
   "id": "020df6be-84e3-45be-85b3-723f209cc4b4",
   "metadata": {},
   "source": [
    "-------------------------------------------------------------------------------------------------------------------------"
   ]
  },
  {
   "cell_type": "code",
   "execution_count": 55,
   "id": "bb9f2d44-3fc6-4924-91f3-3b3ae406a97d",
   "metadata": {},
   "outputs": [
    {
     "data": {
      "image/png": "[encoded data removed]",
      "text/plain": [
       "<Figure size 1000x600 with 1 Axes>"
      ]
     },
     "metadata": {},
     "output_type": "display_data"
    }
   ],
   "source": [
    "# Ridge 계수 추출\n",
    "coef = ridge.coef_\n",
    "\n",
    "# 시각화 (상위 N개)\n",
    "top_n = 20\n",
    "indices = np.argsort(np.abs(coef))[-top_n:]  # 절댓값 큰 계수 기준\n",
    "feature_names = [f\"BERT_{i}\" for i in range(X_train.shape[1] - 1)] + [\"rule_score\"]\n",
    "\n",
    "top_features = [feature_names[i] for i in indices]\n",
    "top_weights = coef[indices]\n",
    "\n",
    "plt.figure(figsize=(10, 6))\n",
    "plt.barh(top_features, top_weights)\n",
    "plt.title(\"Ridge 회귀 계수 (절댓값 기준 상위 20개)\")\n",
    "plt.xlabel(\"Weight\")\n",
    "plt.grid(True)\n",
    "plt.tight_layout()\n",
    "plt.show()"
   ]
  },
  {
   "cell_type": "code",
   "execution_count": null,
   "id": "a3099df0-eb5e-4e01-ace6-4b09567f0b0f",
   "metadata": {},
   "outputs": [],
   "source": []
  }
 ],
 "metadata": {
  "kernelspec": {
   "display_name": "youtube_pj",
   "language": "python",
   "name": "youtubeprediction"
  },
  "language_info": {
   "codemirror_mode": {
    "name": "ipython",
    "version": 3
   },
   "file_extension": ".py",
   "mimetype": "text/x-python",
   "name": "python",
   "nbconvert_exporter": "python",
   "pygments_lexer": "ipython3",
   "version": "3.10.16"
  }
 },
 "nbformat": 4,
 "nbformat_minor": 5
}
