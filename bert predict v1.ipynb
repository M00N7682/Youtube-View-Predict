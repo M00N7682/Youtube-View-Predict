{
 "cells": [
  {
   "cell_type": "markdown",
   "id": "89eaf2b2",
   "metadata": {},
   "source": [
    "### Youtube View Predict Project"
   ]
  },
  {
   "cell_type": "code",
   "execution_count": 1,
   "id": "693155f6",
   "metadata": {},
   "outputs": [],
   "source": [
    "import pandas as pd\n",
    "import numpy as np\n",
    "from sklearn.linear_model import LinearRegression\n",
    "from sklearn.metrics import mean_squared_error, r2_score\n",
    "from transformers import BertModel, BertTokenizer\n",
    "import torch\n",
    "import ast\n",
    "from tqdm import tqdm"
   ]
  },
  {
   "cell_type": "code",
   "execution_count": 6,
   "id": "0926ed51",
   "metadata": {},
   "outputs": [
    {
     "name": "stderr",
     "output_type": "stream",
     "text": [
      "Extracting CLS embeddings: 100%|██████████| 3000/3000 [11:54<00:00,  4.20it/s]\n"
     ]
    },
    {
     "name": "stdout",
     "output_type": "stream",
     "text": [
      "RMSE: 0.3963\n",
      "R^2: 0.9541\n"
     ]
    }
   ],
   "source": [
    "# 1. 데이터 로드\n",
    "df = pd.read_csv(r\"C:\\Users\\user\\Desktop\\USvideos.csv\")\n",
    "df = df[['title', 'views']].dropna()\n",
    "df = df[df['views'] > 0]\n",
    "df['log_views'] = df['views'].apply(np.log1p)\n",
    "\n",
    "df = df.head(3000).copy()\n",
    "\n",
    "# 2. BERT tokenizer 및 모델 로드\n",
    "tokenizer = BertTokenizer.from_pretrained(\"bert-base-uncased\")\n",
    "bert_model = BertModel.from_pretrained(\"bert-base-uncased\")\n",
    "bert_model.eval()\n",
    "\n",
    "# 3. CLS 벡터 추출 함수\n",
    "def extract_cls_embedding(text):\n",
    "    encoding = tokenizer(text,\n",
    "                         max_length=32,\n",
    "                         truncation=True,\n",
    "                         padding='max_length',\n",
    "                         return_tensors='pt')\n",
    "    input_ids_tensor = encoding['input_ids']\n",
    "    attention_mask_tensor = encoding['attention_mask']\n",
    "    with torch.no_grad():\n",
    "        outputs = bert_model(input_ids=input_ids_tensor, attention_mask=attention_mask_tensor)\n",
    "        cls_embedding = outputs.last_hidden_state[:, 0, :].squeeze().numpy()\n",
    "    return cls_embedding\n",
    "\n",
    "# 4. 모든 제목에 대해 임베딩 추출\n",
    "embeddings = []\n",
    "for title in tqdm(df['title'], desc=\"Extracting CLS embeddings\"):\n",
    "    try:\n",
    "        vec = extract_cls_embedding(title)\n",
    "        embeddings.append(vec)\n",
    "    except Exception as e:\n",
    "        print(f\"오류 발생: {e}\")\n",
    "        embeddings.append(np.zeros(768))\n",
    "\n",
    "X = np.array(embeddings)\n",
    "y = df['log_views'].values  # 로그 변환된 조회수\n",
    "\n",
    "# 5. 선형 회귀 모델 훈련\n",
    "model = LinearRegression()\n",
    "model.fit(X, y)\n",
    "y_pred = model.predict(X)\n",
    "\n",
    "# 6. 평가 지표 출력\n",
    "mse = mean_squared_error(y, y_pred)\n",
    "rmse = np.sqrt(mse)\n",
    "r2 = r2_score(y, y_pred)\n",
    "\n",
    "print(f\"RMSE: {rmse:.4f}\")\n",
    "print(f\"R^2: {r2:.4f}\")"
   ]
  }
 ],
 "metadata": {
  "kernelspec": {
   "display_name": "Python 3",
   "language": "python",
   "name": "python3"
  },
  "language_info": {
   "codemirror_mode": {
    "name": "ipython",
    "version": 3
   },
   "file_extension": ".py",
   "mimetype": "text/x-python",
   "name": "python",
   "nbconvert_exporter": "python",
   "pygments_lexer": "ipython3",
   "version": "3.9.13"
  }
 },
 "nbformat": 4,
 "nbformat_minor": 5
}
