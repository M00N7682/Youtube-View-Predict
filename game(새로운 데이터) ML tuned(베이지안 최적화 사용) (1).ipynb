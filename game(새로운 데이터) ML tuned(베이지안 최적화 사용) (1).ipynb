{
 "cells": [
  {
   "cell_type": "markdown",
   "id": "c7403954",
   "metadata": {},
   "source": [
    "라이브러리 임포트"
   ]
  },
  {
   "cell_type": "code",
   "execution_count": 6,
   "id": "447b523d",
   "metadata": {},
   "outputs": [],
   "source": [
    "## library import - data preprocessing\n",
    "import pandas as pd\n",
    "import numpy as np\n",
    "import os\n",
    "from sklearn.preprocessing import OneHotEncoder"
   ]
  },
  {
   "cell_type": "code",
   "execution_count": 7,
   "id": "2f09d380",
   "metadata": {},
   "outputs": [],
   "source": [
    "## BERT embedding \n",
    "from transformers import BertTokenizer, BertModel\n",
    "import torch "
   ]
  },
  {
   "cell_type": "code",
   "execution_count": 8,
   "id": "ad29d7a4",
   "metadata": {},
   "outputs": [],
   "source": [
    "## Models\n",
    "from sklearn.linear_model import LinearRegression, Ridge, Lasso\n",
    "from sklearn.ensemble import RandomForestRegressor, GradientBoostingRegressor"
   ]
  },
  {
   "cell_type": "code",
   "execution_count": 36,
   "id": "88b258cc",
   "metadata": {},
   "outputs": [],
   "source": [
    "## 평가 지표 \n",
    "from sklearn.model_selection import train_test_split\n",
    "from sklearn.metrics import root_mean_squared_error, mean_absolute_error, r2_score, mean_squared_error\n",
    "from scipy.stats import spearmanr\n",
    "from sklearn.model_selection import cross_val_score"
   ]
  },
  {
   "cell_type": "code",
   "execution_count": 10,
   "id": "2eb33669",
   "metadata": {},
   "outputs": [],
   "source": [
    "## visualization\n",
    "import matplotlib.pyplot as plt\n",
    "import seaborn as sns\n",
    "import json"
   ]
  },
  {
   "cell_type": "code",
   "execution_count": 11,
   "id": "148cfe8a",
   "metadata": {},
   "outputs": [],
   "source": [
    "import matplotlib.font_manager as fm\n",
    "\n",
    "# 한글 폰트 설정 (윈도우용)\n",
    "plt.rcParams['font.family'] = 'Malgun Gothic'\n",
    "plt.rcParams['axes.unicode_minus'] = False  # 마이너스 부호 깨짐 방지"
   ]
  },
  {
   "cell_type": "code",
   "execution_count": 12,
   "id": "270780cc",
   "metadata": {},
   "outputs": [],
   "source": [
    "# tqdm \n",
    "from tqdm import tqdm "
   ]
  },
  {
   "cell_type": "code",
   "execution_count": 13,
   "id": "1d7f1e75",
   "metadata": {},
   "outputs": [],
   "source": [
    "from sklearn.preprocessing import StandardScaler"
   ]
  },
  {
   "cell_type": "code",
   "execution_count": 14,
   "id": "43a8f3b8",
   "metadata": {},
   "outputs": [],
   "source": [
    "# kaggle hub\n",
    "import kagglehub\n",
    "from kagglehub import KaggleDatasetAdapter"
   ]
  },
  {
   "cell_type": "code",
   "execution_count": 37,
   "id": "a375bb10",
   "metadata": {},
   "outputs": [],
   "source": [
    "import optuna\n",
    "from optuna.samplers import TPESampler"
   ]
  },
  {
   "cell_type": "code",
   "execution_count": 15,
   "id": "026d108d",
   "metadata": {},
   "outputs": [],
   "source": [
    "# 파일 경로\n",
    "file_path =r\"C:\\KHU\\KHU_2025\\머신러닝기초및응용_김민경교수님\\Youtube_Game2_10000.csv\"\n",
    "\n",
    "# 데이터 로드\n",
    "df = pd.read_csv(file_path)"
   ]
  },
  {
   "cell_type": "code",
   "execution_count": 16,
   "id": "3b3f63b8",
   "metadata": {},
   "outputs": [
    {
     "data": {
      "text/html": [
       "<div>\n",
       "<style scoped>\n",
       "    .dataframe tbody tr th:only-of-type {\n",
       "        vertical-align: middle;\n",
       "    }\n",
       "\n",
       "    .dataframe tbody tr th {\n",
       "        vertical-align: top;\n",
       "    }\n",
       "\n",
       "    .dataframe thead th {\n",
       "        text-align: right;\n",
       "    }\n",
       "</style>\n",
       "<table border=\"1\" class=\"dataframe\">\n",
       "  <thead>\n",
       "    <tr style=\"text-align: right;\">\n",
       "      <th></th>\n",
       "      <th>video_id</th>\n",
       "      <th>title</th>\n",
       "      <th>channel_title</th>\n",
       "      <th>category_id</th>\n",
       "      <th>tags</th>\n",
       "      <th>views</th>\n",
       "      <th>likes</th>\n",
       "      <th>dislikes</th>\n",
       "      <th>comment_count</th>\n",
       "      <th>thumbnail_link</th>\n",
       "      <th>date</th>\n",
       "      <th>keyword</th>\n",
       "    </tr>\n",
       "  </thead>\n",
       "  <tbody>\n",
       "    <tr>\n",
       "      <th>0</th>\n",
       "      <td>C6PrhsZ4dLI</td>\n",
       "      <td>Play Game#Kritikachannel#Shorts funny video</td>\n",
       "      <td>Kritika Channel</td>\n",
       "      <td>22</td>\n",
       "      <td>[none]</td>\n",
       "      <td>1261217614</td>\n",
       "      <td>16207795</td>\n",
       "      <td>0</td>\n",
       "      <td>0</td>\n",
       "      <td>https://i.ytimg.com/vi/C6PrhsZ4dLI/default.jpg</td>\n",
       "      <td>29.10</td>\n",
       "      <td>game</td>\n",
       "    </tr>\n",
       "    <tr>\n",
       "      <th>1</th>\n",
       "      <td>0e3GPea1Tyg</td>\n",
       "      <td>$456,000 Squid Game In Real Life!</td>\n",
       "      <td>MrBeast</td>\n",
       "      <td>24</td>\n",
       "      <td>[none]</td>\n",
       "      <td>804577951</td>\n",
       "      <td>19234279</td>\n",
       "      <td>0</td>\n",
       "      <td>628015</td>\n",
       "      <td>https://i.ytimg.com/vi/0e3GPea1Tyg/default.jpg</td>\n",
       "      <td>24.11</td>\n",
       "      <td>game</td>\n",
       "    </tr>\n",
       "    <tr>\n",
       "      <th>2</th>\n",
       "      <td>jBOyUo3JaiA</td>\n",
       "      <td>Vlad and story about Worms from the game</td>\n",
       "      <td>Vlad and Niki</td>\n",
       "      <td>24</td>\n",
       "      <td>Vlad|for kids|vlad and nikita|toys|playing|gam...</td>\n",
       "      <td>562644972</td>\n",
       "      <td>1652861</td>\n",
       "      <td>0</td>\n",
       "      <td>0</td>\n",
       "      <td>https://i.ytimg.com/vi/jBOyUo3JaiA/default.jpg</td>\n",
       "      <td>24.05</td>\n",
       "      <td>game</td>\n",
       "    </tr>\n",
       "    <tr>\n",
       "      <th>3</th>\n",
       "      <td>yGKhcLK482Y</td>\n",
       "      <td>Squid Game Dalgona #shorts</td>\n",
       "      <td>Mr DegrEE</td>\n",
       "      <td>22</td>\n",
       "      <td>shorts|squid game|funny|mr degree|mariana|mari...</td>\n",
       "      <td>471345780</td>\n",
       "      <td>2619112</td>\n",
       "      <td>0</td>\n",
       "      <td>2969</td>\n",
       "      <td>https://i.ytimg.com/vi/yGKhcLK482Y/default.jpg</td>\n",
       "      <td>22.05</td>\n",
       "      <td>game</td>\n",
       "    </tr>\n",
       "    <tr>\n",
       "      <th>4</th>\n",
       "      <td>iBh3zOjOCvI</td>\n",
       "      <td>Jelly Bean Guessing Game HACK</td>\n",
       "      <td>Mark Rober</td>\n",
       "      <td>28</td>\n",
       "      <td>[none]</td>\n",
       "      <td>240356873</td>\n",
       "      <td>6154177</td>\n",
       "      <td>0</td>\n",
       "      <td>20292</td>\n",
       "      <td>https://i.ytimg.com/vi/iBh3zOjOCvI/default.jpg</td>\n",
       "      <td>30.04</td>\n",
       "      <td>game</td>\n",
       "    </tr>\n",
       "  </tbody>\n",
       "</table>\n",
       "</div>"
      ],
      "text/plain": [
       "      video_id                                        title    channel_title  \\\n",
       "0  C6PrhsZ4dLI  Play Game#Kritikachannel#Shorts funny video  Kritika Channel   \n",
       "1  0e3GPea1Tyg            $456,000 Squid Game In Real Life!          MrBeast   \n",
       "2  jBOyUo3JaiA     Vlad and story about Worms from the game    Vlad and Niki   \n",
       "3  yGKhcLK482Y                   Squid Game Dalgona #shorts        Mr DegrEE   \n",
       "4  iBh3zOjOCvI                Jelly Bean Guessing Game HACK       Mark Rober   \n",
       "\n",
       "   category_id                                               tags       views  \\\n",
       "0           22                                             [none]  1261217614   \n",
       "1           24                                             [none]   804577951   \n",
       "2           24  Vlad|for kids|vlad and nikita|toys|playing|gam...   562644972   \n",
       "3           22  shorts|squid game|funny|mr degree|mariana|mari...   471345780   \n",
       "4           28                                             [none]   240356873   \n",
       "\n",
       "      likes  dislikes  comment_count  \\\n",
       "0  16207795         0              0   \n",
       "1  19234279         0         628015   \n",
       "2   1652861         0              0   \n",
       "3   2619112         0           2969   \n",
       "4   6154177         0          20292   \n",
       "\n",
       "                                   thumbnail_link   date keyword  \n",
       "0  https://i.ytimg.com/vi/C6PrhsZ4dLI/default.jpg  29.10    game  \n",
       "1  https://i.ytimg.com/vi/0e3GPea1Tyg/default.jpg  24.11    game  \n",
       "2  https://i.ytimg.com/vi/jBOyUo3JaiA/default.jpg  24.05    game  \n",
       "3  https://i.ytimg.com/vi/yGKhcLK482Y/default.jpg  22.05    game  \n",
       "4  https://i.ytimg.com/vi/iBh3zOjOCvI/default.jpg  30.04    game  "
      ]
     },
     "execution_count": 16,
     "metadata": {},
     "output_type": "execute_result"
    }
   ],
   "source": [
    "df.head()"
   ]
  },
  {
   "cell_type": "code",
   "execution_count": 17,
   "id": "d9c01921",
   "metadata": {},
   "outputs": [
    {
     "name": "stdout",
     "output_type": "stream",
     "text": [
      "<class 'pandas.core.frame.DataFrame'>\n",
      "RangeIndex: 13906 entries, 0 to 13905\n",
      "Data columns (total 12 columns):\n",
      " #   Column          Non-Null Count  Dtype  \n",
      "---  ------          --------------  -----  \n",
      " 0   video_id        13906 non-null  object \n",
      " 1   title           13906 non-null  object \n",
      " 2   channel_title   13906 non-null  object \n",
      " 3   category_id     13906 non-null  int64  \n",
      " 4   tags            13906 non-null  object \n",
      " 5   views           13906 non-null  int64  \n",
      " 6   likes           13906 non-null  int64  \n",
      " 7   dislikes        13906 non-null  int64  \n",
      " 8   comment_count   13906 non-null  int64  \n",
      " 9   thumbnail_link  13906 non-null  object \n",
      " 10  date            13906 non-null  float64\n",
      " 11  keyword         13906 non-null  object \n",
      "dtypes: float64(1), int64(5), object(6)\n",
      "memory usage: 1.3+ MB\n"
     ]
    }
   ],
   "source": [
    "# 데이터 확인 \n",
    "df.info()"
   ]
  },
  {
   "cell_type": "code",
   "execution_count": 18,
   "id": "1c0b37cf",
   "metadata": {},
   "outputs": [],
   "source": [
    "# 필요한 칼럼만 추출\n",
    "df = df[['title', 'views']].copy()"
   ]
  },
  {
   "cell_type": "code",
   "execution_count": 19,
   "id": "4c1c737b",
   "metadata": {},
   "outputs": [
    {
     "data": {
      "text/plain": [
       "Text(0, 0.5, 'Frequency')"
      ]
     },
     "execution_count": 19,
     "metadata": {},
     "output_type": "execute_result"
    },
    {
     "data": {
      "image/png": "[encoded data removed]",
      "text/plain": [
       "<Figure size 864x360 with 1 Axes>"
      ]
     },
     "metadata": {
      "needs_background": "light"
     },
     "output_type": "display_data"
    }
   ],
   "source": [
    "# 원본 분포\n",
    "plt.figure(figsize=(12, 5))\n",
    "\n",
    "plt.subplot(1, 2, 1)\n",
    "plt.hist(df['views'], bins=50, color='skyblue', edgecolor='black')\n",
    "plt.title('Views Distribution (Raw)')\n",
    "plt.xlabel('Views')\n",
    "plt.ylabel('Frequency')"
   ]
  },
  {
   "cell_type": "code",
   "execution_count": 20,
   "id": "b2bcb08a",
   "metadata": {},
   "outputs": [],
   "source": [
    "# target scaling\n",
    "df['log_views'] = np.log1p(df['views'])\n",
    "\n",
    "# scaler = StandardScaler()\n",
    "# df['scaled_views'] = scaler.fit_transform(df[['log_views']])"
   ]
  },
  {
   "cell_type": "code",
   "execution_count": 21,
   "id": "f96168e4",
   "metadata": {},
   "outputs": [
    {
     "data": {
      "image/png": "[encoded data removed]",
      "text/plain": [
       "<Figure size 432x288 with 1 Axes>"
      ]
     },
     "metadata": {
      "needs_background": "light"
     },
     "output_type": "display_data"
    }
   ],
   "source": [
    "# 로그 변환 분포\n",
    "plt.subplot(1, 2, 2)\n",
    "plt.hist(df['log_views'], bins=50, color='lightgreen', edgecolor='black')\n",
    "plt.title('Views Distribution (Log-Scaled)')\n",
    "plt.xlabel('log(1 + Views)')\n",
    "plt.ylabel('Frequency')\n",
    "\n",
    "plt.tight_layout()\n",
    "plt.show()"
   ]
  },
  {
   "cell_type": "code",
   "execution_count": 22,
   "id": "07b374df",
   "metadata": {},
   "outputs": [
    {
     "data": {
      "text/plain": [
       "BertModel(\n",
       "  (embeddings): BertEmbeddings(\n",
       "    (word_embeddings): Embedding(30522, 768, padding_idx=0)\n",
       "    (position_embeddings): Embedding(512, 768)\n",
       "    (token_type_embeddings): Embedding(2, 768)\n",
       "    (LayerNorm): LayerNorm((768,), eps=1e-12, elementwise_affine=True)\n",
       "    (dropout): Dropout(p=0.1, inplace=False)\n",
       "  )\n",
       "  (encoder): BertEncoder(\n",
       "    (layer): ModuleList(\n",
       "      (0-11): 12 x BertLayer(\n",
       "        (attention): BertAttention(\n",
       "          (self): BertSdpaSelfAttention(\n",
       "            (query): Linear(in_features=768, out_features=768, bias=True)\n",
       "            (key): Linear(in_features=768, out_features=768, bias=True)\n",
       "            (value): Linear(in_features=768, out_features=768, bias=True)\n",
       "            (dropout): Dropout(p=0.1, inplace=False)\n",
       "          )\n",
       "          (output): BertSelfOutput(\n",
       "            (dense): Linear(in_features=768, out_features=768, bias=True)\n",
       "            (LayerNorm): LayerNorm((768,), eps=1e-12, elementwise_affine=True)\n",
       "            (dropout): Dropout(p=0.1, inplace=False)\n",
       "          )\n",
       "        )\n",
       "        (intermediate): BertIntermediate(\n",
       "          (dense): Linear(in_features=768, out_features=3072, bias=True)\n",
       "          (intermediate_act_fn): GELUActivation()\n",
       "        )\n",
       "        (output): BertOutput(\n",
       "          (dense): Linear(in_features=3072, out_features=768, bias=True)\n",
       "          (LayerNorm): LayerNorm((768,), eps=1e-12, elementwise_affine=True)\n",
       "          (dropout): Dropout(p=0.1, inplace=False)\n",
       "        )\n",
       "      )\n",
       "    )\n",
       "  )\n",
       "  (pooler): BertPooler(\n",
       "    (dense): Linear(in_features=768, out_features=768, bias=True)\n",
       "    (activation): Tanh()\n",
       "  )\n",
       ")"
      ]
     },
     "execution_count": 22,
     "metadata": {},
     "output_type": "execute_result"
    }
   ],
   "source": [
    "# BERT load \n",
    "tokenizer = BertTokenizer.from_pretrained(\"bert-base-uncased\")\n",
    "model = BertModel.from_pretrained(\"bert-base-uncased\")\n",
    "\n",
    "device = torch.device(\"cuda\" if torch.cuda.is_available() else \"cpu\")\n",
    "model.to(device)\n",
    "model.eval()"
   ]
  },
  {
   "cell_type": "code",
   "execution_count": 23,
   "id": "0203d238",
   "metadata": {},
   "outputs": [],
   "source": [
    "# BERT embedding extract \n",
    "## CLS 벡터 추출 함수 정의 \n",
    "def extract_cls_embedding(text):\n",
    "    encoding = tokenizer(text,\n",
    "                         max_length=32,\n",
    "                         truncation=True,\n",
    "                         padding='max_length',\n",
    "                         return_tensors='pt')\n",
    "    input_ids_tensor = encoding['input_ids'].to(device)\n",
    "    attention_mask_tensor = encoding['attention_mask'].to(device)\n",
    "    \n",
    "    with torch.no_grad():\n",
    "        outputs = model(input_ids=input_ids_tensor, attention_mask=attention_mask_tensor)\n",
    "        cls_embedding = outputs.last_hidden_state[:, 0, :].squeeze().cpu().numpy()\n",
    "    return cls_embedding"
   ]
  },
  {
   "cell_type": "code",
   "execution_count": 24,
   "id": "526a38b3",
   "metadata": {},
   "outputs": [
    {
     "name": "stderr",
     "output_type": "stream",
     "text": [
      "100%|████████████████████████████████████████████████████████████████████████████| 13906/13906 [40:56<00:00,  5.66it/s]\n"
     ]
    }
   ],
   "source": [
    "## 제목을 cls로 추출 \n",
    "embeddings = np.array([\n",
    "    extract_cls_embedding(title) for title in tqdm(df['title'])\n",
    "])"
   ]
  },
  {
   "cell_type": "code",
   "execution_count": 25,
   "id": "025fd0af",
   "metadata": {},
   "outputs": [],
   "source": [
    "X = embeddings\n",
    "y = df['log_views']\n",
    "\n",
    "# test, train dataset 분리 \n",
    "X_train, X_test, y_train, y_test = train_test_split(\n",
    "    X, y, test_size=0.2, random_state=42)"
   ]
  },
  {
   "cell_type": "code",
   "execution_count": 26,
   "id": "8371add9",
   "metadata": {},
   "outputs": [],
   "source": [
    "# Model 성능 평가 함수 \n",
    "def evaluate_model(model, X_train, y_train, X_test, y_test):\n",
    "    model.fit(X_train, y_train)\n",
    "    y_pred = model.predict(X_test)\n",
    "\n",
    "    rmse = root_mean_squared_error(y_test, y_pred)\n",
    "    r2 = r2_score(y_test, y_pred)\n",
    "    spearman_corr, _ = spearmanr(y_test, y_pred)\n",
    "\n",
    "    print(f\"RMSE: {rmse:.4f}\")\n",
    "    print(f\"R²: {r2:.4f}\")\n",
    "    print(f\"Spearman: {spearman_corr:.4f}\")\n",
    "    \n",
    "    return model, rmse, r2, spearman_corr"
   ]
  },
  {
   "cell_type": "markdown",
   "id": "f9d2bbaa",
   "metadata": {},
   "source": [
    "Lasso(베이지안 최적화)"
   ]
  },
  {
   "cell_type": "code",
   "execution_count": 38,
   "id": "7c14348b",
   "metadata": {},
   "outputs": [
    {
     "name": "stderr",
     "output_type": "stream",
     "text": [
      "[I 2025-06-12 12:11:25,970] A new study created in memory with name: no-name-821f8927-6959-48d4-b5ba-9b3dc90ae652\n",
      "[I 2025-06-12 12:11:27,543] Trial 0 finished with value: 4.618359739583611 and parameters: {'alpha': 0.013292918943162165}. Best is trial 0 with value: 4.618359739583611.\n"
     ]
    },
    {
     "name": "stdout",
     "output_type": "stream",
     "text": [
      "Model: Lasso (Bayesian)\n",
      "Best Alpha: 0.013292918943162165\n",
      "RMSE: 2.1188\n",
      "R²: 0.246\n",
      "Spearman: 0.4799\n"
     ]
    }
   ],
   "source": [
    "def objective_lasso(trial):\n",
    "    alpha = trial.suggest_float('alpha', 1e-3, 1.0, log=True) #범위 축소\n",
    "    model = Lasso(alpha=alpha, random_state=42, max_iter=10000)\n",
    "    score = cross_val_score(model, X_train, y_train, scoring='neg_mean_squared_error', cv=3, error_score=np.nan)\n",
    "    return -score.mean()\n",
    "\n",
    "study_lasso = optuna.create_study(direction='minimize', sampler=TPESampler(seed=42))\n",
    "study_lasso.optimize(objective_lasso, n_trials=1)\n",
    "\n",
    "# 튜닝된 모델로 최종 학습 및 평가\n",
    "best_alpha = study_lasso.best_params['alpha']\n",
    "lasso_best = Lasso(alpha=best_alpha, random_state=42, max_iter=10000)\n",
    "lasso_best.fit(X_train, y_train)\n",
    "y_pred = lasso_best.predict(X_test)\n",
    "\n",
    "# 성능 지표 계산\n",
    "rmse = np.sqrt(mean_squared_error(y_test, y_pred))\n",
    "r2 = r2_score(y_test, y_pred)\n",
    "spearman_corr = spearmanr(y_test, y_pred).correlation if np.std(y_pred) > 0 else np.nan\n",
    "\n",
    "# 출력\n",
    "print(\"Model: Lasso (Bayesian)\")\n",
    "print(\"Best Alpha:\", best_alpha)\n",
    "print(\"RMSE:\", round(rmse, 4))\n",
    "print(\"R²:\", round(r2, 4))\n",
    "print(\"Spearman:\", \"NaN\" if np.isnan(spearman_corr) else round(spearman_corr, 4))\n",
    "\n",
    "# 결과 저장\n",
    "lasso_optuna_df = pd.DataFrame([{\n",
    "    \"Model\": \"Lasso (Bayesian)\",\n",
    "    \"Alpha\": best_alpha,\n",
    "    \"RMSE\": rmse,\n",
    "    \"R²\": r2,\n",
    "    \"Spearman\": spearman_corr\n",
    "}])\n",
    "\n",
    "#결과 csv로 저장\n",
    "lasso_optuna_df.to_csv(\"lasso_optuna_result(game_Bayesian).csv\", index=False)"
   ]
  },
  {
   "cell_type": "markdown",
   "id": "cb4afa2d",
   "metadata": {},
   "source": [
    "Linear Regression"
   ]
  },
  {
   "cell_type": "code",
   "execution_count": 28,
   "id": "c73fa452",
   "metadata": {},
   "outputs": [
    {
     "name": "stdout",
     "output_type": "stream",
     "text": [
      "Model: LinearRegression\n",
      "RMSE: 2.0063\n",
      "R²: 0.324\n",
      "Spearman: 0.5297\n"
     ]
    }
   ],
   "source": [
    "# LinearRegression 모델 정의 및 학습\n",
    "linear = LinearRegression()\n",
    "linear.fit(X_train, y_train)\n",
    "y_pred = linear.predict(X_test)\n",
    "\n",
    "# 성능 지표 계산\n",
    "rmse = np.sqrt(mean_squared_error(y_test, y_pred))\n",
    "r2 = r2_score(y_test, y_pred)\n",
    "spearman_corr = spearmanr(y_test, y_pred).correlation if np.std(y_pred) > 0 else np.nan\n",
    "\n",
    "# 출력\n",
    "print(\"Model: LinearRegression\")\n",
    "print(\"RMSE:\", round(rmse, 4))\n",
    "print(\"R²:\", round(r2, 4))\n",
    "print(\"Spearman:\", \"NaN\" if np.isnan(spearman_corr) else round(spearman_corr, 4))\n",
    "\n",
    "# 결과 저장\n",
    "linear_results_df = pd.DataFrame([{\n",
    "    \"Model\": \"LinearRegression\",\n",
    "    \"Alpha\": None,\n",
    "    \"RMSE\": rmse,\n",
    "    \"R²\": r2,\n",
    "    \"Spearman\": spearman_corr\n",
    "}])\n",
    "\n",
    "#결과 csv로 저장\n",
    "linear_results_df.to_csv(\"linear_regression_result.csv\", index=False)"
   ]
  },
  {
   "cell_type": "markdown",
   "id": "a1d7c8e4",
   "metadata": {},
   "source": [
    "Ridge(베이지안 최적화)"
   ]
  },
  {
   "cell_type": "code",
   "execution_count": 39,
   "id": "cf5bfc27",
   "metadata": {
    "scrolled": true
   },
   "outputs": [
    {
     "name": "stderr",
     "output_type": "stream",
     "text": [
      "[I 2025-06-12 12:11:56,898] A new study created in memory with name: no-name-368ea120-8c31-46ea-be19-9b5093e6472c\n",
      "C:\\Users\\user\\AppData\\Roaming\\Python\\Python39\\site-packages\\sklearn\\linear_model\\_ridge.py:215: LinAlgWarning: Ill-conditioned matrix (rcond=2.76886e-08): result may not be accurate.\n",
      "  return linalg.solve(A, Xy, assume_a=\"pos\", overwrite_a=True).T\n",
      "C:\\Users\\user\\AppData\\Roaming\\Python\\Python39\\site-packages\\sklearn\\linear_model\\_ridge.py:215: LinAlgWarning: Ill-conditioned matrix (rcond=2.76813e-08): result may not be accurate.\n",
      "  return linalg.solve(A, Xy, assume_a=\"pos\", overwrite_a=True).T\n",
      "C:\\Users\\user\\AppData\\Roaming\\Python\\Python39\\site-packages\\sklearn\\linear_model\\_ridge.py:215: LinAlgWarning: Ill-conditioned matrix (rcond=2.77316e-08): result may not be accurate.\n",
      "  return linalg.solve(A, Xy, assume_a=\"pos\", overwrite_a=True).T\n",
      "[I 2025-06-12 12:11:57,325] Trial 0 finished with value: 4.213512283728379 and parameters: {'alpha': 0.013292918943162165}. Best is trial 0 with value: 4.213512283728379.\n",
      "C:\\Users\\user\\AppData\\Roaming\\Python\\Python39\\site-packages\\sklearn\\linear_model\\_ridge.py:215: LinAlgWarning: Ill-conditioned matrix (rcond=1.8452e-08): result may not be accurate.\n",
      "  return linalg.solve(A, Xy, assume_a=\"pos\", overwrite_a=True).T\n"
     ]
    },
    {
     "name": "stdout",
     "output_type": "stream",
     "text": [
      "Model: Ridge (Bayesian)\n",
      "Alpha: 0.013292918943162165\n",
      "RMSE: 2.0062\n",
      "R²: 0.324\n",
      "Spearman: 0.5297\n"
     ]
    }
   ],
   "source": [
    "def objective_ridge(trial):\n",
    "    alpha = trial.suggest_float('alpha', 1e-3, 1.0, log=True)\n",
    "    model = Ridge(alpha=alpha, random_state=42)\n",
    "    score = cross_val_score(model, X_train, y_train, scoring='neg_mean_squared_error', cv=3, error_score=np.nan)\n",
    "    return -score.mean()\n",
    "\n",
    "study_ridge = optuna.create_study(direction='minimize',sampler=TPESampler(seed=42))\n",
    "study_ridge.optimize(objective_ridge, n_trials=1)\n",
    "\n",
    "# 튜닝된 모델로 최종 학습 및 평가\n",
    "best_alpha = study_ridge.best_params['alpha']\n",
    "ridge_best = Ridge(alpha=best_alpha, random_state=42)\n",
    "ridge_best.fit(X_train, y_train)\n",
    "y_pred = ridge_best.predict(X_test)\n",
    "\n",
    "# 성능 지표 계산\n",
    "rmse = np.sqrt(mean_squared_error(y_test, y_pred))\n",
    "r2 = r2_score(y_test, y_pred)\n",
    "spearman_corr = spearmanr(y_test, y_pred).correlation if np.std(y_pred) > 0 else np.nan\n",
    "\n",
    "#출력\n",
    "print(\"Model: Ridge (Bayesian)\")\n",
    "print(\"Alpha:\", best_alpha)\n",
    "print(\"RMSE:\", round(rmse, 4))\n",
    "print(\"R²:\", round(r2, 4))\n",
    "print(\"Spearman:\", round(spearman_corr, 4) if not np.isnan(spearman_corr) else \"NaN\")\n",
    "\n",
    "#결과 저장\n",
    "ridge_optuna_df = pd.DataFrame([{\n",
    "    \"Model\": \"Ridge (Bayesian)\",\n",
    "    \"Alpha\": best_alpha,\n",
    "    \"RMSE\": rmse,\n",
    "    \"R²\": r2,\n",
    "    \"Spearman\": spearman_corr\n",
    "}])\n",
    "\n",
    "#결과 csv로 저장\n",
    "ridge_optuna_df.to_csv(\"ridge_optuna_result(game_Bayesian).csv\", index=False)"
   ]
  },
  {
   "cell_type": "markdown",
   "id": "8618586d",
   "metadata": {},
   "source": [
    "RF(베이지안 최적화)"
   ]
  },
  {
   "cell_type": "code",
   "execution_count": 40,
   "id": "d7876400",
   "metadata": {},
   "outputs": [
    {
     "name": "stderr",
     "output_type": "stream",
     "text": [
      "[I 2025-06-12 12:12:13,569] A new study created in memory with name: no-name-f2850859-d80f-452c-a5db-fca8be622f1c\n"
     ]
    },
    {
     "data": {
      "application/vnd.jupyter.widget-view+json": {
       "model_id": "e6d34695d38e496292bd0379c8191f8c",
       "version_major": 2,
       "version_minor": 0
      },
      "text/plain": [
       "  0%|          | 0/1 [00:00<?, ?it/s]"
      ]
     },
     "metadata": {},
     "output_type": "display_data"
    },
    {
     "name": "stdout",
     "output_type": "stream",
     "text": [
      "[I 2025-06-12 12:12:27,061] Trial 0 finished with value: 4.4618421523696945 and parameters: {'n_estimators': 87, 'max_depth': 10, 'min_samples_split': 5, 'max_features': 'sqrt'}. Best is trial 0 with value: 4.4618421523696945.\n",
      "Model: RandomForest (Bayesian)\n",
      "Params: {'n_estimators': 87, 'max_depth': 10, 'min_samples_split': 5, 'max_features': 'sqrt'}\n",
      "RMSE: 2.0639\n",
      "R²: 0.2846\n",
      "Spearman: 0.5455\n"
     ]
    }
   ],
   "source": [
    "def objective_rf(trial):\n",
    "    model = RandomForestRegressor(\n",
    "        n_estimators=trial.suggest_int('n_estimators', 50, 150),\n",
    "        max_depth=trial.suggest_int('max_depth', 3, 10),\n",
    "        min_samples_split=trial.suggest_int('min_samples_split', 2, 6),\n",
    "        max_features=trial.suggest_categorical('max_features', ['sqrt', 'log2']),\n",
    "        random_state=42,\n",
    "        n_jobs=-1\n",
    "    )\n",
    "    score = cross_val_score(model, X_train, y_train, scoring='neg_mean_squared_error', cv=3, error_score=np.nan, n_jobs=-1)\n",
    "    return -score.mean()\n",
    "\n",
    "study_rf = optuna.create_study(direction='minimize',sampler=TPESampler(seed=42))\n",
    "study_rf.optimize(objective_rf, n_trials=1, show_progress_bar=True)\n",
    "\n",
    "# 튜닝된 모델로 최종 학습 및 평가\n",
    "best_params_rf = study_rf.best_params\n",
    "rf_best = RandomForestRegressor(**best_params_rf, random_state=42, n_jobs=-1)\n",
    "rf_best.fit(X_train, y_train)\n",
    "y_pred = rf_best.predict(X_test)\n",
    "\n",
    "# 성능 지표 계산\n",
    "rmse = np.sqrt(mean_squared_error(y_test, y_pred))\n",
    "r2 = r2_score(y_test, y_pred)\n",
    "spearman_corr = spearmanr(y_test, y_pred).correlation if np.std(y_pred) > 0 else np.nan\n",
    "\n",
    "# 출력\n",
    "print(\"Model: RandomForest (Bayesian)\")\n",
    "print(\"Params:\", best_params_rf)\n",
    "print(\"RMSE:\", round(rmse, 4))\n",
    "print(\"R²:\", round(r2, 4))\n",
    "print(\"Spearman:\", round(spearman_corr, 4) if not np.isnan(spearman_corr) else \"NaN\")\n",
    "\n",
    "# 결과 저장\n",
    "rf_optuna_df = pd.DataFrame([{\n",
    "    \"Model\": \"RandomForest (Bayesian)\",\n",
    "    \"Alpha\": None,\n",
    "    \"RMSE\": rmse,\n",
    "    \"R²\": r2,\n",
    "    \"Spearman\": spearman_corr\n",
    "}])\n",
    "\n",
    "#결과 csv로 저장\n",
    "rf_optuna_df.to_csv(\"rf_optuna_result(game_Bayesian).csv\", index=False)"
   ]
  },
  {
   "cell_type": "markdown",
   "id": "ab000949",
   "metadata": {},
   "source": [
    "Gradient(베이지안 최적화)"
   ]
  },
  {
   "cell_type": "code",
   "execution_count": 49,
   "id": "116db76d",
   "metadata": {},
   "outputs": [
    {
     "name": "stderr",
     "output_type": "stream",
     "text": [
      "[I 2025-06-12 01:14:56,305] A new study created in memory with name: no-name-2bc6170a-76df-4c59-86ab-27f075bdd2c2\n"
     ]
    },
    {
     "data": {
      "application/vnd.jupyter.widget-view+json": {
       "model_id": "3e97dbe06fd04338952e0df6a7759633",
       "version_major": 2,
       "version_minor": 0
      },
      "text/plain": [
       "Gradient Boosting 튜닝 중:   0%|          | 0/30 [00:00<?, ?it/s]"
      ]
     },
     "metadata": {},
     "output_type": "display_data"
    },
    {
     "name": "stderr",
     "output_type": "stream",
     "text": [
      "[I 2025-06-12 01:23:41,472] Trial 0 finished with value: 3.921426807265728 and parameters: {'n_estimators': 114, 'learning_rate': 0.10122873434404372, 'max_depth': 6, 'min_samples_split': 2, 'subsample': 0.7510055172076476}. Best is trial 0 with value: 3.921426807265728.\n",
      "[I 2025-06-12 01:29:10,802] Trial 1 finished with value: 4.090084530042812 and parameters: {'n_estimators': 57, 'learning_rate': 0.15887993660159377, 'max_depth': 6, 'min_samples_split': 4, 'subsample': 0.9291615644116062}. Best is trial 0 with value: 3.921426807265728.\n",
      "[I 2025-06-12 01:37:00,894] Trial 2 finished with value: 3.9893422758016595 and parameters: {'n_estimators': 85, 'learning_rate': 0.06219291201821538, 'max_depth': 6, 'min_samples_split': 4, 'subsample': 0.9145653476270623}. Best is trial 0 with value: 3.921426807265728.\n",
      "[I 2025-06-12 01:48:07,577] Trial 3 finished with value: 3.9488156084667345 and parameters: {'n_estimators': 129, 'learning_rate': 0.1433789058991277, 'max_depth': 5, 'min_samples_split': 2, 'subsample': 0.9831182482309091}. Best is trial 0 with value: 3.921426807265728.\n",
      "[I 2025-06-12 01:52:36,318] Trial 4 finished with value: 4.09001593691567 and parameters: {'n_estimators': 57, 'learning_rate': 0.1523213447093099, 'max_depth': 6, 'min_samples_split': 3, 'subsample': 0.780682677742952}. Best is trial 0 with value: 3.921426807265728.\n",
      "[I 2025-06-12 01:57:16,700] Trial 5 finished with value: 4.070484215756636 and parameters: {'n_estimators': 55, 'learning_rate': 0.09612900204001174, 'max_depth': 6, 'min_samples_split': 6, 'subsample': 0.8521960529632293}. Best is trial 0 with value: 3.921426807265728.\n",
      "[I 2025-06-12 02:03:17,141] Trial 6 finished with value: 4.012754792510295 and parameters: {'n_estimators': 100, 'learning_rate': 0.11779697498939502, 'max_depth': 5, 'min_samples_split': 4, 'subsample': 0.714754902424755}. Best is trial 0 with value: 3.921426807265728.\n",
      "[I 2025-06-12 02:07:44,024] Trial 7 finished with value: 4.077759639907635 and parameters: {'n_estimators': 82, 'learning_rate': 0.13586587023135244, 'max_depth': 4, 'min_samples_split': 4, 'subsample': 0.792944367912}. Best is trial 0 with value: 3.921426807265728.\n",
      "[I 2025-06-12 02:13:14,897] Trial 8 finished with value: 4.090478097275508 and parameters: {'n_estimators': 127, 'learning_rate': 0.12378447438024882, 'max_depth': 3, 'min_samples_split': 3, 'subsample': 0.8228929189049824}. Best is trial 0 with value: 3.921426807265728.\n",
      "[I 2025-06-12 02:24:26,968] Trial 9 finished with value: 3.9356312262881854 and parameters: {'n_estimators': 111, 'learning_rate': 0.10671223384842438, 'max_depth': 6, 'min_samples_split': 2, 'subsample': 0.9355700506459601}. Best is trial 0 with value: 3.921426807265728.\n",
      "[I 2025-06-12 02:32:03,003] Trial 10 finished with value: 4.083648774880192 and parameters: {'n_estimators': 145, 'learning_rate': 0.1798721934150377, 'max_depth': 4, 'min_samples_split': 6, 'subsample': 0.7024895821743818}. Best is trial 0 with value: 3.921426807265728.\n",
      "[I 2025-06-12 02:41:39,063] Trial 11 finished with value: 3.9527069628738545 and parameters: {'n_estimators': 114, 'learning_rate': 0.08884057292385757, 'max_depth': 5, 'min_samples_split': 2, 'subsample': 0.887579517365362}. Best is trial 0 with value: 3.921426807265728.\n",
      "[I 2025-06-12 02:54:19,515] Trial 12 finished with value: 3.9222900418358897 and parameters: {'n_estimators': 105, 'learning_rate': 0.09411347249944975, 'max_depth': 6, 'min_samples_split': 2, 'subsample': 0.9888005436183809}. Best is trial 0 with value: 3.921426807265728.\n",
      "[I 2025-06-12 03:02:10,017] Trial 13 finished with value: 4.04368841730644 and parameters: {'n_estimators': 89, 'learning_rate': 0.06974911574357388, 'max_depth': 5, 'min_samples_split': 3, 'subsample': 0.9964332762698704}. Best is trial 0 with value: 3.921426807265728.\n",
      "[I 2025-06-12 03:06:25,839] Trial 14 finished with value: 4.2689271304718535 and parameters: {'n_estimators': 104, 'learning_rate': 0.08275793805432857, 'max_depth': 3, 'min_samples_split': 2, 'subsample': 0.7663264123726498}. Best is trial 0 with value: 3.921426807265728.\n",
      "[I 2025-06-12 03:16:59,323] Trial 15 finished with value: 3.8619889797482383 and parameters: {'n_estimators': 125, 'learning_rate': 0.10113915112196097, 'max_depth': 6, 'min_samples_split': 5, 'subsample': 0.7476995617763118}. Best is trial 15 with value: 3.8619889797482383.\n",
      "[I 2025-06-12 03:24:42,863] Trial 16 finished with value: 4.035487090837795 and parameters: {'n_estimators': 146, 'learning_rate': 0.05664607806619203, 'max_depth': 4, 'min_samples_split': 5, 'subsample': 0.7413760090317699}. Best is trial 15 with value: 3.8619889797482383.\n",
      "[I 2025-06-12 03:33:00,881] Trial 17 finished with value: 3.9428825064058515 and parameters: {'n_estimators': 137, 'learning_rate': 0.11335874970634931, 'max_depth': 5, 'min_samples_split': 5, 'subsample': 0.7429700717583514}. Best is trial 15 with value: 3.8619889797482383.\n",
      "[I 2025-06-12 03:42:46,893] Trial 18 finished with value: 3.881129406298978 and parameters: {'n_estimators': 121, 'learning_rate': 0.0769830650835976, 'max_depth': 6, 'min_samples_split': 5, 'subsample': 0.8441666090057403}. Best is trial 15 with value: 3.8619889797482383.\n",
      "[I 2025-06-12 03:51:15,339] Trial 19 finished with value: 3.9815719478104494 and parameters: {'n_estimators': 125, 'learning_rate': 0.07689605024983148, 'max_depth': 5, 'min_samples_split': 5, 'subsample': 0.8239356885376776}. Best is trial 15 with value: 3.8619889797482383.\n",
      "[I 2025-06-12 03:57:12,921] Trial 20 finished with value: 4.125930215013847 and parameters: {'n_estimators': 72, 'learning_rate': 0.05011850079756125, 'max_depth': 6, 'min_samples_split': 5, 'subsample': 0.8690813292728263}. Best is trial 15 with value: 3.8619889797482383.\n",
      "[I 2025-06-12 04:06:26,741] Trial 21 finished with value: 3.9637602635669666 and parameters: {'n_estimators': 118, 'learning_rate': 0.10262314989943225, 'max_depth': 6, 'min_samples_split': 6, 'subsample': 0.8116682337397915}. Best is trial 15 with value: 3.8619889797482383.\n",
      "[I 2025-06-12 04:16:10,644] Trial 22 finished with value: 3.8614829425273105 and parameters: {'n_estimators': 137, 'learning_rate': 0.07704946988735725, 'max_depth': 6, 'min_samples_split': 5, 'subsample': 0.7473783788928473}. Best is trial 22 with value: 3.8614829425273105.\n",
      "[I 2025-06-12 04:25:27,400] Trial 23 finished with value: 3.9077993772458375 and parameters: {'n_estimators': 137, 'learning_rate': 0.06971790899719352, 'max_depth': 6, 'min_samples_split': 5, 'subsample': 0.7188116344438659}. Best is trial 22 with value: 3.8614829425273105.\n",
      "[I 2025-06-12 04:34:16,460] Trial 24 finished with value: 3.910997541014636 and parameters: {'n_estimators': 136, 'learning_rate': 0.08281765054300455, 'max_depth': 5, 'min_samples_split': 5, 'subsample': 0.7980836214601528}. Best is trial 22 with value: 3.8614829425273105.\n",
      "[I 2025-06-12 04:45:14,811] Trial 25 finished with value: 3.876476904329737 and parameters: {'n_estimators': 150, 'learning_rate': 0.06950794491667749, 'max_depth': 6, 'min_samples_split': 6, 'subsample': 0.766813756638623}. Best is trial 22 with value: 3.8614829425273105.\n",
      "[I 2025-06-12 04:54:21,786] Trial 26 finished with value: 3.89288242616359 and parameters: {'n_estimators': 148, 'learning_rate': 0.06908160140387325, 'max_depth': 5, 'min_samples_split': 6, 'subsample': 0.7612737986970955}. Best is trial 22 with value: 3.8614829425273105.\n",
      "[I 2025-06-12 05:03:44,729] Trial 27 finished with value: 4.1575600211123005 and parameters: {'n_estimators': 134, 'learning_rate': 0.19226025853610385, 'max_depth': 6, 'min_samples_split': 6, 'subsample': 0.7298849031889881}. Best is trial 22 with value: 3.8614829425273105.\n",
      "[I 2025-06-12 05:11:15,596] Trial 28 finished with value: 3.9622632575660903 and parameters: {'n_estimators': 145, 'learning_rate': 0.13195570033303788, 'max_depth': 4, 'min_samples_split': 6, 'subsample': 0.7746183872724195}. Best is trial 22 with value: 3.8614829425273105.\n",
      "[I 2025-06-12 05:20:42,120] Trial 29 finished with value: 3.8931395374758395 and parameters: {'n_estimators': 131, 'learning_rate': 0.10920763777608028, 'max_depth': 6, 'min_samples_split': 6, 'subsample': 0.7481225865360412}. Best is trial 22 with value: 3.8614829425273105.\n"
     ]
    },
    {
     "name": "stdout",
     "output_type": "stream",
     "text": [
      "Model: GradientBoosting (Bayesian)\n",
      "Params: {'n_estimators': 137, 'learning_rate': 0.07704946988735725, 'max_depth': 6, 'min_samples_split': 5, 'subsample': 0.7473783788928473}\n",
      "RMSE: 1.9129\n",
      "R²: 0.3854\n",
      "Spearman: 0.5737\n"
     ]
    }
   ],
   "source": [
    "def objective_gbr(trial):\n",
    "    model = GradientBoostingRegressor(\n",
    "        n_estimators=trial.suggest_int('n_estimators', 50, 150),\n",
    "        learning_rate=trial.suggest_float('learning_rate', 0.05,0.2),\n",
    "        max_depth=trial.suggest_int('max_depth', 3, 6),\n",
    "        min_samples_split=trial.suggest_int('min_samples_split', 2, 6),\n",
    "        subsample=trial.suggest_float('subsample', 0.7, 1.0),\n",
    "        random_state=42\n",
    "    )\n",
    "    score = cross_val_score(\n",
    "        model, X_train, y_train,\n",
    "        scoring='neg_mean_squared_error',\n",
    "        cv=2,\n",
    "        error_score=np.nan  # ✅ 이거 하나가 핵심!\n",
    "    )\n",
    "    return -np.nanmean(score)  # 모든 trial 실패 시에도 안전하게 작동\n",
    "\n",
    "study_gbr = optuna.create_study(direction='minimize')\n",
    "\n",
    "from tqdm.notebook import tqdm\n",
    "for _ in tqdm(range(30), desc=\"Gradient Boosting 튜닝 중\"):\n",
    "    study_gbr.optimize(objective_gbr, n_trials=1)\n",
    "\n",
    "# 튜닝된 모델로 최종 학습 및 평가\n",
    "best_params_gbr = study_gbr.best_params\n",
    "gbr_best = GradientBoostingRegressor(**best_params_gbr, random_state=42)\n",
    "gbr_best.fit(X_train, y_train)\n",
    "y_pred = gbr_best.predict(X_test)\n",
    "\n",
    "# 성능 지표 계산\n",
    "rmse = np.sqrt(mean_squared_error(y_test, y_pred))\n",
    "r2 = r2_score(y_test, y_pred)\n",
    "spearman_corr = spearmanr(y_test, y_pred).correlation if np.std(y_pred) > 0 else np.nan\n",
    "\n",
    "# 출력\n",
    "print(\"Model: GradientBoosting (Bayesian)\")\n",
    "print(\"Params:\", best_params_gbr)\n",
    "print(\"RMSE:\", round(rmse, 4))\n",
    "print(\"R²:\", round(r2, 4))\n",
    "print(\"Spearman:\", round(spearman_corr, 4) if not np.isnan(spearman_corr) else \"NaN\")\n",
    "\n",
    "# 결과 저장\n",
    "gbr_optuna_df = pd.DataFrame([{\n",
    "    \"Model\": \"GradientBoosting (Bayesian)\",\n",
    "    \"Alpha\": None,\n",
    "    \"RMSE\": rmse,\n",
    "    \"R²\": r2,\n",
    "    \"Spearman\": spearman_corr\n",
    "}])\n",
    "\n",
    "#결과 csv로 저장\n",
    "gbr_optuna_df.to_csv(\"gbr_optuna_result.csv\", index=False)"
   ]
  },
  {
   "cell_type": "code",
   "execution_count": 41,
   "id": "2e4d07a6",
   "metadata": {},
   "outputs": [],
   "source": [
    "#gbr 저장한 거 불러오기\n",
    "gbr_saved_df = pd.read_csv(\"gbr_optuna_result.csv\")\n",
    "\n",
    "# 모델별 결과 DataFrame 합치기\n",
    "all_results = pd.concat([\n",
    "    lasso_optuna_df,\n",
    "    linear_results_df,\n",
    "    ridge_optuna_df,\n",
    "    rf_optuna_df,\n",
    "    gbr_saved_df\n",
    "], ignore_index=True)\n",
    "\n",
    "\n",
    "#결과 csv로 저장\n",
    "all_results.to_csv(\"game_all_results(Bayesian).csv\", index=False)"
   ]
  },
  {
   "cell_type": "code",
   "execution_count": 42,
   "id": "a753068a",
   "metadata": {},
   "outputs": [
    {
     "data": {
      "image/png": "[encoded data removed]",
      "text/plain": [
       "<Figure size 720x432 with 1 Axes>"
      ]
     },
     "metadata": {
      "needs_background": "light"
     },
     "output_type": "display_data"
    }
   ],
   "source": [
    "#시각화를 위한 변환 (wide → long)\n",
    "results_long = all_results.melt(\n",
    "    id_vars=\"Model\", \n",
    "    value_vars=[\"RMSE\", \"R²\", \"Spearman\"],\n",
    "    var_name=\"Metric\", \n",
    "    value_name=\"Score\"\n",
    ")\n",
    "\n",
    "# 선 그래프(line chart)로 시각화\n",
    "plt.figure(figsize=(10, 6))\n",
    "for metric in results_long[\"Metric\"].unique():\n",
    "    subset = results_long[results_long[\"Metric\"] == metric]\n",
    "    plt.plot(subset[\"Model\"], subset[\"Score\"], marker='o', label=metric)\n",
    "\n",
    "plt.title(\"Model Performance Comparison(RandomizedSearch)\")\n",
    "plt.xlabel(\"Model\")\n",
    "plt.ylabel(\"Score\")\n",
    "plt.xticks(rotation=45)\n",
    "plt.legend(title=\"Metric\")\n",
    "plt.grid(True)\n",
    "plt.tight_layout()\n",
    "plt.show()"
   ]
  },
  {
   "cell_type": "code",
   "execution_count": 44,
   "id": "67b92b5b",
   "metadata": {},
   "outputs": [],
   "source": [
    "game_all_results_Bayesian_saved_df = pd.read_csv(\"game_all_results(Bayesian).csv\")"
   ]
  },
  {
   "cell_type": "code",
   "execution_count": 45,
   "id": "282271a5",
   "metadata": {},
   "outputs": [
    {
     "data": {
      "text/html": [
       "<div>\n",
       "<style scoped>\n",
       "    .dataframe tbody tr th:only-of-type {\n",
       "        vertical-align: middle;\n",
       "    }\n",
       "\n",
       "    .dataframe tbody tr th {\n",
       "        vertical-align: top;\n",
       "    }\n",
       "\n",
       "    .dataframe thead th {\n",
       "        text-align: right;\n",
       "    }\n",
       "</style>\n",
       "<table border=\"1\" class=\"dataframe\">\n",
       "  <thead>\n",
       "    <tr style=\"text-align: right;\">\n",
       "      <th></th>\n",
       "      <th>Model</th>\n",
       "      <th>Alpha</th>\n",
       "      <th>RMSE</th>\n",
       "      <th>R²</th>\n",
       "      <th>Spearman</th>\n",
       "    </tr>\n",
       "  </thead>\n",
       "  <tbody>\n",
       "    <tr>\n",
       "      <th>0</th>\n",
       "      <td>Lasso (Bayesian)</td>\n",
       "      <td>0.013293</td>\n",
       "      <td>2.118844</td>\n",
       "      <td>0.245976</td>\n",
       "      <td>0.479949</td>\n",
       "    </tr>\n",
       "    <tr>\n",
       "      <th>1</th>\n",
       "      <td>LinearRegression</td>\n",
       "      <td>NaN</td>\n",
       "      <td>2.006280</td>\n",
       "      <td>0.323964</td>\n",
       "      <td>0.529674</td>\n",
       "    </tr>\n",
       "    <tr>\n",
       "      <th>2</th>\n",
       "      <td>Ridge (Bayesian)</td>\n",
       "      <td>0.013293</td>\n",
       "      <td>2.006245</td>\n",
       "      <td>0.323987</td>\n",
       "      <td>0.529678</td>\n",
       "    </tr>\n",
       "    <tr>\n",
       "      <th>3</th>\n",
       "      <td>RandomForest (Bayesian)</td>\n",
       "      <td>NaN</td>\n",
       "      <td>2.063883</td>\n",
       "      <td>0.284586</td>\n",
       "      <td>0.545548</td>\n",
       "    </tr>\n",
       "    <tr>\n",
       "      <th>4</th>\n",
       "      <td>GradientBoosting (Bayesian)</td>\n",
       "      <td>NaN</td>\n",
       "      <td>1.912871</td>\n",
       "      <td>0.385448</td>\n",
       "      <td>0.573715</td>\n",
       "    </tr>\n",
       "  </tbody>\n",
       "</table>\n",
       "</div>"
      ],
      "text/plain": [
       "                         Model     Alpha      RMSE        R²  Spearman\n",
       "0             Lasso (Bayesian)  0.013293  2.118844  0.245976  0.479949\n",
       "1             LinearRegression       NaN  2.006280  0.323964  0.529674\n",
       "2             Ridge (Bayesian)  0.013293  2.006245  0.323987  0.529678\n",
       "3      RandomForest (Bayesian)       NaN  2.063883  0.284586  0.545548\n",
       "4  GradientBoosting (Bayesian)       NaN  1.912871  0.385448  0.573715"
      ]
     },
     "execution_count": 45,
     "metadata": {},
     "output_type": "execute_result"
    }
   ],
   "source": [
    "game_all_results_Bayesian_saved_df"
   ]
  },
  {
   "cell_type": "code",
   "execution_count": null,
   "id": "1a9becd4",
   "metadata": {},
   "outputs": [],
   "source": []
  }
 ],
 "metadata": {
  "kernelspec": {
   "display_name": "Python 3 (ipykernel)",
   "language": "python",
   "name": "python3"
  },
  "language_info": {
   "codemirror_mode": {
    "name": "ipython",
    "version": 3
   },
   "file_extension": ".py",
   "mimetype": "text/x-python",
   "name": "python",
   "nbconvert_exporter": "python",
   "pygments_lexer": "ipython3",
   "version": "3.9.12"
  }
 },
 "nbformat": 4,
 "nbformat_minor": 5
}
