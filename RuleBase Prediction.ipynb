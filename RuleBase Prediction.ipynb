{
 "cells": [
  {
   "cell_type": "markdown",
   "id": "c5aab760",
   "metadata": {},
   "source": [
    "### Rule-Based Youtube view prediction"
   ]
  },
  {
   "cell_type": "markdown",
   "id": "c8315867",
   "metadata": {},
   "source": [
    "### afinn 감성 사전 기반 예측 모델"
   ]
  },
  {
   "cell_type": "code",
   "execution_count": null,
   "id": "f106ad08",
   "metadata": {},
   "outputs": [],
   "source": [
    "import pandas as pd\n",
    "import numpy as np\n",
    "from afinn import Afinn\n",
    "from sklearn.linear_model import LinearRegression\n",
    "from sklearn.metrics import mean_squared_error, r2_score\n",
    "from tqdm import tqdm\n",
    "\n",
    "from nltk.sentiment.vader import SentimentIntensityAnalyzer\n",
    "from sklearn.linear_model import LinearRegression\n",
    "from sklearn.metrics import mean_squared_error, r2_score\n",
    "import nltk"
   ]
  },
  {
   "cell_type": "code",
   "execution_count": null,
   "id": "c78b0e4b",
   "metadata": {},
   "outputs": [],
   "source": [
    "# 1. 데이터 로드\n",
    "df = pd.read_csv(r\"C:\\Users\\user\\Desktop\\USvideos.csv\")\n",
    "df = df[['title', 'views']].dropna()\n",
    "df = df[df['views'] > 0]\n",
    "df['log_views'] = df['views'].apply(np.log1p)\n",
    "df = df.head(3000).copy()\n",
    "\n",
    "# 2. AFINN 감성 분석\n",
    "afinn = Afinn()\n",
    "df['afinn_score'] = df['title'].apply(afinn.score)\n",
    "\n",
    "# 3. 선형 회귀\n",
    "X = df[['afinn_score']].values\n",
    "y = df['log_views'].values\n",
    "model = LinearRegression()\n",
    "model.fit(X, y)\n",
    "y_pred = model.predict(X)\n",
    "\n",
    "# 4. 성능 평가\n",
    "mse = mean_squared_error(y, y_pred)\n",
    "rmse = np.sqrt(mse)\n",
    "r2 = r2_score(y, y_pred)\n",
    "\n",
    "print(f\"RMSE: {rmse:.4f}\")\n",
    "print(f\"R²: {r2:.4f}\")\n",
    "\n",
    "# 5. 예측값 저장\n",
    "df['predicted_views'] = np.expm1(y_pred)\n",
    "df[['title', 'views', 'afinn_score', 'predicted_views']].to_csv(\"afinn_result.csv\", index=False)"
   ]
  },
  {
   "cell_type": "markdown",
   "id": "d26208db",
   "metadata": {},
   "source": [
    "### VADER 감성 사전 기반 예측 모델"
   ]
  },
  {
   "cell_type": "code",
   "execution_count": null,
   "id": "aabe14ac",
   "metadata": {},
   "outputs": [],
   "source": [
    "# nltk 감성사전 로드\n",
    "nltk.download('vader_lexicon')\n",
    "\n",
    "# 1. 데이터 로드\n",
    "df = pd.read_csv(r\"C:\\Users\\user\\Desktop\\USvideos.csv\")\n",
    "df = df[['title', 'views']].dropna()\n",
    "df = df[df['views'] > 0]\n",
    "df['log_views'] = df['views'].apply(np.log1p)\n",
    "df = df.head(3000).copy()\n",
    "\n",
    "# 2. VADER 감성 분석기 생성\n",
    "vader = SentimentIntensityAnalyzer()\n",
    "\n",
    "# 3. 제목에 대해 감성 점수 계산 (compound 점수 사용)\n",
    "df['vader_score'] = df['title'].apply(lambda x: vader.polarity_scores(x)['compound'])\n",
    "\n",
    "# 4. 선형 회귀 모델 훈련\n",
    "X = df[['vader_score']].values\n",
    "y = df['log_views'].values\n",
    "\n",
    "model = LinearRegression()\n",
    "model.fit(X, y)\n",
    "y_pred = model.predict(X)\n",
    "\n",
    "# 5. 평가 지표 출력\n",
    "mse = mean_squared_error(y, y_pred)\n",
    "rmse = np.sqrt(mse)\n",
    "r2 = r2_score(y, y_pred)\n",
    "\n",
    "print(f\"RMSE: {rmse:.4f}\")\n",
    "print(f\"R²: {r2:.4f}\")\n",
    "\n",
    "# 6. 예측값 복원 및 확인\n",
    "df['predicted_views'] = np.expm1(y_pred)\n",
    "df[['title', 'views', 'vader_score', 'predicted_views']].to_csv(\"vader_result.csv\", index=False)"
   ]
  }
 ],
 "metadata": {
  "kernelspec": {
   "display_name": "Python 3",
   "language": "python",
   "name": "python3"
  },
  "language_info": {
   "codemirror_mode": {
    "name": "ipython",
    "version": 3
   },
   "file_extension": ".py",
   "mimetype": "text/x-python",
   "name": "python",
   "nbconvert_exporter": "python",
   "pygments_lexer": "ipython3",
   "version": "3.9.13"
  }
 },
 "nbformat": 4,
 "nbformat_minor": 5
}
