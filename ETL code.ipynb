{
 "cells": [
  {
   "cell_type": "markdown",
   "id": "a5536789",
   "metadata": {},
   "source": [
    "### Youtube Data ETL code"
   ]
  },
  {
   "cell_type": "code",
   "execution_count": 1,
   "id": "b39d378e",
   "metadata": {},
   "outputs": [],
   "source": [
    "from googleapiclient.discovery import build\n",
    "import pandas as pd\n",
    "import datetime"
   ]
  },
  {
   "cell_type": "code",
   "execution_count": null,
   "id": "a1992c89",
   "metadata": {},
   "outputs": [],
   "source": [
    "# API 설정\n",
    "API_KEY = 'YOUTUBE_API_KEY'\n",
    "youtube = build('youtube', 'v3', developerKey=API_KEY)\n",
    "\n",
    "# 검색어 기반으로 동영상 수집\n",
    "search_response = youtube.search().list(\n",
    "    q=\"mukbang\",\n",
    "    part=\"snippet\",\n",
    "    type=\"video\",\n",
    "    maxResults=50,\n",
    "    order=\"viewCount\"\n",
    ").execute()\n",
    "\n",
    "# video_id 목록 추출\n",
    "video_ids = [item[\"id\"][\"videoId\"] for item in search_response[\"items\"]]\n",
    "\n",
    "# 영상 상세 정보 요청\n",
    "video_response = youtube.videos().list(\n",
    "    part=\"snippet,statistics\",\n",
    "    id=\",\".join(video_ids)\n",
    ").execute()\n"
   ]
  },
  {
   "cell_type": "code",
   "execution_count": 8,
   "id": "30b27f20",
   "metadata": {},
   "outputs": [],
   "source": [
    "# 결과 리스트\n",
    "rows = []\n",
    "for item in video_response[\"items\"]:\n",
    "    snippet = item[\"snippet\"]\n",
    "    stats = item.get(\"statistics\", {})\n",
    "    \n",
    "    video_id = item[\"id\"]\n",
    "    title = snippet[\"title\"]\n",
    "    channel_title = snippet[\"channelTitle\"]\n",
    "    category_id = snippet[\"categoryId\"]\n",
    "    tags = \"|\".join(snippet.get(\"tags\", [])) if \"tags\" in snippet else \"[none]\"\n",
    "    views = stats.get(\"viewCount\", \"0\")\n",
    "    likes = stats.get(\"likeCount\", \"0\")\n",
    "    dislikes = stats.get(\"dislikeCount\", \"0\")  # 일부 API에서는 제거됨\n",
    "    comment_count = stats.get(\"commentCount\", \"0\")\n",
    "    thumbnail_link = snippet[\"thumbnails\"][\"default\"][\"url\"]\n",
    "    date = snippet[\"publishedAt\"]\n",
    "    date = datetime.datetime.strptime(date, \"%Y-%m-%dT%H:%M:%SZ\").strftime(\"%d.%m\")\n",
    "\n",
    "    rows.append([\n",
    "        video_id, title, channel_title, category_id, tags,\n",
    "        views, likes, dislikes, comment_count, thumbnail_link, date\n",
    "    ])\n",
    "\n",
    "# DataFrame 생성 및 저장\n",
    "df = pd.DataFrame(rows, columns=[\n",
    "    \"video_id\", \"title\", \"channel_title\", \"category_id\", \"tags\",\n",
    "    \"views\", \"likes\", \"dislikes\", \"comment_count\", \"thumbnail_link\", \"date\"\n",
    "])\n",
    "\n",
    "df.to_csv(\"youtube_dataset_Mukbang.csv\", index=False)"
   ]
  }
 ],
 "metadata": {
  "kernelspec": {
   "display_name": "Python 3",
   "language": "python",
   "name": "python3"
  },
  "language_info": {
   "codemirror_mode": {
    "name": "ipython",
    "version": 3
   },
   "file_extension": ".py",
   "mimetype": "text/x-python",
   "name": "python",
   "nbconvert_exporter": "python",
   "pygments_lexer": "ipython3",
   "version": "3.9.13"
  }
 },
 "nbformat": 4,
 "nbformat_minor": 5
}
