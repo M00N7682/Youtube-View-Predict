{
 "cells": [
  {
   "cell_type": "markdown",
   "id": "38cec16c",
   "metadata": {},
   "source": [
    "라이브러리 임포트"
   ]
  },
  {
   "cell_type": "code",
   "execution_count": 1,
   "id": "966bae43",
   "metadata": {},
   "outputs": [],
   "source": [
    "## library import - data preprocessing\n",
    "import pandas as pd\n",
    "import numpy as np\n",
    "import os\n",
    "from sklearn.preprocessing import OneHotEncoder"
   ]
  },
  {
   "cell_type": "code",
   "execution_count": 2,
   "id": "ad1376b7",
   "metadata": {},
   "outputs": [],
   "source": [
    "## BERT embedding \n",
    "from transformers import BertTokenizer, BertModel\n",
    "import torch "
   ]
  },
  {
   "cell_type": "code",
   "execution_count": 3,
   "id": "dd6b74b9",
   "metadata": {},
   "outputs": [],
   "source": [
    "## Models\n",
    "from sklearn.linear_model import LinearRegression, Ridge, Lasso\n",
    "from sklearn.ensemble import RandomForestRegressor, GradientBoostingRegressor"
   ]
  },
  {
   "cell_type": "code",
   "execution_count": 4,
   "id": "da20b4c7",
   "metadata": {},
   "outputs": [],
   "source": [
    "## 평가 지표 \n",
    "from sklearn.model_selection import train_test_split\n",
    "from sklearn.metrics import root_mean_squared_error, mean_absolute_error, r2_score, mean_squared_error\n",
    "from scipy.stats import spearmanr"
   ]
  },
  {
   "cell_type": "code",
   "execution_count": 5,
   "id": "c8b120ff",
   "metadata": {},
   "outputs": [],
   "source": [
    "## visualization\n",
    "import matplotlib.pyplot as plt\n",
    "import seaborn as sns\n",
    "import json"
   ]
  },
  {
   "cell_type": "code",
   "execution_count": 6,
   "id": "d7293511",
   "metadata": {},
   "outputs": [],
   "source": [
    "import matplotlib.font_manager as fm\n",
    "\n",
    "# 한글 폰트 설정 (윈도우용)\n",
    "plt.rcParams['font.family'] = 'Malgun Gothic'\n",
    "plt.rcParams['axes.unicode_minus'] = False  # 마이너스 부호 깨짐 방지"
   ]
  },
  {
   "cell_type": "code",
   "execution_count": 7,
   "id": "980438e3",
   "metadata": {},
   "outputs": [],
   "source": [
    "# tqdm \n",
    "from tqdm import tqdm "
   ]
  },
  {
   "cell_type": "code",
   "execution_count": 8,
   "id": "189b3ef5",
   "metadata": {},
   "outputs": [],
   "source": [
    "from sklearn.preprocessing import StandardScaler"
   ]
  },
  {
   "cell_type": "code",
   "execution_count": 9,
   "id": "6c9739ae",
   "metadata": {},
   "outputs": [],
   "source": [
    "# kaggle hub\n",
    "import kagglehub\n",
    "from kagglehub import KaggleDatasetAdapter"
   ]
  },
  {
   "cell_type": "code",
   "execution_count": 10,
   "id": "11724426",
   "metadata": {},
   "outputs": [],
   "source": [
    "# 파일 경로\n",
    "file_path =r\"C:\\KHU\\KHU_2025\\머신러닝기초및응용_김민경교수님\\Youtube_Game2_10000.csv\"\n",
    "\n",
    "# 데이터 로드\n",
    "df = pd.read_csv(file_path)"
   ]
  },
  {
   "cell_type": "code",
   "execution_count": 11,
   "id": "bd500b7e",
   "metadata": {},
   "outputs": [
    {
     "data": {
      "text/html": [
       "<div>\n",
       "<style scoped>\n",
       "    .dataframe tbody tr th:only-of-type {\n",
       "        vertical-align: middle;\n",
       "    }\n",
       "\n",
       "    .dataframe tbody tr th {\n",
       "        vertical-align: top;\n",
       "    }\n",
       "\n",
       "    .dataframe thead th {\n",
       "        text-align: right;\n",
       "    }\n",
       "</style>\n",
       "<table border=\"1\" class=\"dataframe\">\n",
       "  <thead>\n",
       "    <tr style=\"text-align: right;\">\n",
       "      <th></th>\n",
       "      <th>video_id</th>\n",
       "      <th>title</th>\n",
       "      <th>channel_title</th>\n",
       "      <th>category_id</th>\n",
       "      <th>tags</th>\n",
       "      <th>views</th>\n",
       "      <th>likes</th>\n",
       "      <th>dislikes</th>\n",
       "      <th>comment_count</th>\n",
       "      <th>thumbnail_link</th>\n",
       "      <th>date</th>\n",
       "      <th>keyword</th>\n",
       "    </tr>\n",
       "  </thead>\n",
       "  <tbody>\n",
       "    <tr>\n",
       "      <th>0</th>\n",
       "      <td>C6PrhsZ4dLI</td>\n",
       "      <td>Play Game#Kritikachannel#Shorts funny video</td>\n",
       "      <td>Kritika Channel</td>\n",
       "      <td>22</td>\n",
       "      <td>[none]</td>\n",
       "      <td>1261217614</td>\n",
       "      <td>16207795</td>\n",
       "      <td>0</td>\n",
       "      <td>0</td>\n",
       "      <td>https://i.ytimg.com/vi/C6PrhsZ4dLI/default.jpg</td>\n",
       "      <td>29.10</td>\n",
       "      <td>game</td>\n",
       "    </tr>\n",
       "    <tr>\n",
       "      <th>1</th>\n",
       "      <td>0e3GPea1Tyg</td>\n",
       "      <td>$456,000 Squid Game In Real Life!</td>\n",
       "      <td>MrBeast</td>\n",
       "      <td>24</td>\n",
       "      <td>[none]</td>\n",
       "      <td>804577951</td>\n",
       "      <td>19234279</td>\n",
       "      <td>0</td>\n",
       "      <td>628015</td>\n",
       "      <td>https://i.ytimg.com/vi/0e3GPea1Tyg/default.jpg</td>\n",
       "      <td>24.11</td>\n",
       "      <td>game</td>\n",
       "    </tr>\n",
       "    <tr>\n",
       "      <th>2</th>\n",
       "      <td>jBOyUo3JaiA</td>\n",
       "      <td>Vlad and story about Worms from the game</td>\n",
       "      <td>Vlad and Niki</td>\n",
       "      <td>24</td>\n",
       "      <td>Vlad|for kids|vlad and nikita|toys|playing|gam...</td>\n",
       "      <td>562644972</td>\n",
       "      <td>1652861</td>\n",
       "      <td>0</td>\n",
       "      <td>0</td>\n",
       "      <td>https://i.ytimg.com/vi/jBOyUo3JaiA/default.jpg</td>\n",
       "      <td>24.05</td>\n",
       "      <td>game</td>\n",
       "    </tr>\n",
       "    <tr>\n",
       "      <th>3</th>\n",
       "      <td>yGKhcLK482Y</td>\n",
       "      <td>Squid Game Dalgona #shorts</td>\n",
       "      <td>Mr DegrEE</td>\n",
       "      <td>22</td>\n",
       "      <td>shorts|squid game|funny|mr degree|mariana|mari...</td>\n",
       "      <td>471345780</td>\n",
       "      <td>2619112</td>\n",
       "      <td>0</td>\n",
       "      <td>2969</td>\n",
       "      <td>https://i.ytimg.com/vi/yGKhcLK482Y/default.jpg</td>\n",
       "      <td>22.05</td>\n",
       "      <td>game</td>\n",
       "    </tr>\n",
       "    <tr>\n",
       "      <th>4</th>\n",
       "      <td>iBh3zOjOCvI</td>\n",
       "      <td>Jelly Bean Guessing Game HACK</td>\n",
       "      <td>Mark Rober</td>\n",
       "      <td>28</td>\n",
       "      <td>[none]</td>\n",
       "      <td>240356873</td>\n",
       "      <td>6154177</td>\n",
       "      <td>0</td>\n",
       "      <td>20292</td>\n",
       "      <td>https://i.ytimg.com/vi/iBh3zOjOCvI/default.jpg</td>\n",
       "      <td>30.04</td>\n",
       "      <td>game</td>\n",
       "    </tr>\n",
       "  </tbody>\n",
       "</table>\n",
       "</div>"
      ],
      "text/plain": [
       "      video_id                                        title    channel_title  \\\n",
       "0  C6PrhsZ4dLI  Play Game#Kritikachannel#Shorts funny video  Kritika Channel   \n",
       "1  0e3GPea1Tyg            $456,000 Squid Game In Real Life!          MrBeast   \n",
       "2  jBOyUo3JaiA     Vlad and story about Worms from the game    Vlad and Niki   \n",
       "3  yGKhcLK482Y                   Squid Game Dalgona #shorts        Mr DegrEE   \n",
       "4  iBh3zOjOCvI                Jelly Bean Guessing Game HACK       Mark Rober   \n",
       "\n",
       "   category_id                                               tags       views  \\\n",
       "0           22                                             [none]  1261217614   \n",
       "1           24                                             [none]   804577951   \n",
       "2           24  Vlad|for kids|vlad and nikita|toys|playing|gam...   562644972   \n",
       "3           22  shorts|squid game|funny|mr degree|mariana|mari...   471345780   \n",
       "4           28                                             [none]   240356873   \n",
       "\n",
       "      likes  dislikes  comment_count  \\\n",
       "0  16207795         0              0   \n",
       "1  19234279         0         628015   \n",
       "2   1652861         0              0   \n",
       "3   2619112         0           2969   \n",
       "4   6154177         0          20292   \n",
       "\n",
       "                                   thumbnail_link   date keyword  \n",
       "0  https://i.ytimg.com/vi/C6PrhsZ4dLI/default.jpg  29.10    game  \n",
       "1  https://i.ytimg.com/vi/0e3GPea1Tyg/default.jpg  24.11    game  \n",
       "2  https://i.ytimg.com/vi/jBOyUo3JaiA/default.jpg  24.05    game  \n",
       "3  https://i.ytimg.com/vi/yGKhcLK482Y/default.jpg  22.05    game  \n",
       "4  https://i.ytimg.com/vi/iBh3zOjOCvI/default.jpg  30.04    game  "
      ]
     },
     "execution_count": 11,
     "metadata": {},
     "output_type": "execute_result"
    }
   ],
   "source": [
    "df.head()"
   ]
  },
  {
   "cell_type": "code",
   "execution_count": 12,
   "id": "f967fcfa",
   "metadata": {},
   "outputs": [
    {
     "name": "stdout",
     "output_type": "stream",
     "text": [
      "<class 'pandas.core.frame.DataFrame'>\n",
      "RangeIndex: 13906 entries, 0 to 13905\n",
      "Data columns (total 12 columns):\n",
      " #   Column          Non-Null Count  Dtype  \n",
      "---  ------          --------------  -----  \n",
      " 0   video_id        13906 non-null  object \n",
      " 1   title           13906 non-null  object \n",
      " 2   channel_title   13906 non-null  object \n",
      " 3   category_id     13906 non-null  int64  \n",
      " 4   tags            13906 non-null  object \n",
      " 5   views           13906 non-null  int64  \n",
      " 6   likes           13906 non-null  int64  \n",
      " 7   dislikes        13906 non-null  int64  \n",
      " 8   comment_count   13906 non-null  int64  \n",
      " 9   thumbnail_link  13906 non-null  object \n",
      " 10  date            13906 non-null  float64\n",
      " 11  keyword         13906 non-null  object \n",
      "dtypes: float64(1), int64(5), object(6)\n",
      "memory usage: 1.3+ MB\n"
     ]
    }
   ],
   "source": [
    "# 데이터 확인 \n",
    "df.info()"
   ]
  },
  {
   "cell_type": "code",
   "execution_count": 13,
   "id": "148002be",
   "metadata": {},
   "outputs": [],
   "source": [
    "# 필요한 칼럼만 추출\n",
    "df = df[['title', 'views']].copy()"
   ]
  },
  {
   "cell_type": "code",
   "execution_count": 14,
   "id": "92c8818f",
   "metadata": {},
   "outputs": [
    {
     "data": {
      "text/plain": [
       "Text(0, 0.5, 'Frequency')"
      ]
     },
     "execution_count": 14,
     "metadata": {},
     "output_type": "execute_result"
    },
    {
     "data": {
      "image/png": "[encoded data removed]",
      "text/plain": [
       "<Figure size 864x360 with 1 Axes>"
      ]
     },
     "metadata": {
      "needs_background": "light"
     },
     "output_type": "display_data"
    }
   ],
   "source": [
    "# 원본 분포\n",
    "plt.figure(figsize=(12, 5))\n",
    "\n",
    "plt.subplot(1, 2, 1)\n",
    "plt.hist(df['views'], bins=50, color='skyblue', edgecolor='black')\n",
    "plt.title('Views Distribution (Raw)')\n",
    "plt.xlabel('Views')\n",
    "plt.ylabel('Frequency')"
   ]
  },
  {
   "cell_type": "code",
   "execution_count": 15,
   "id": "e6fd182b",
   "metadata": {},
   "outputs": [],
   "source": [
    "# target scaling\n",
    "df['log_views'] = np.log1p(df['views'])\n",
    "\n",
    "# scaler = StandardScaler()\n",
    "# df['scaled_views'] = scaler.fit_transform(df[['log_views']])"
   ]
  },
  {
   "cell_type": "code",
   "execution_count": 16,
   "id": "38811a9e",
   "metadata": {},
   "outputs": [
    {
     "data": {
      "image/png": "[encoded data removed]",
      "text/plain": [
       "<Figure size 432x288 with 1 Axes>"
      ]
     },
     "metadata": {
      "needs_background": "light"
     },
     "output_type": "display_data"
    }
   ],
   "source": [
    "# 로그 변환 분포\n",
    "plt.subplot(1, 2, 2)\n",
    "plt.hist(df['log_views'], bins=50, color='lightgreen', edgecolor='black')\n",
    "plt.title('Views Distribution (Log-Scaled)')\n",
    "plt.xlabel('log(1 + Views)')\n",
    "plt.ylabel('Frequency')\n",
    "\n",
    "plt.tight_layout()\n",
    "plt.show()"
   ]
  },
  {
   "cell_type": "code",
   "execution_count": 17,
   "id": "6b097027",
   "metadata": {},
   "outputs": [
    {
     "data": {
      "text/plain": [
       "BertModel(\n",
       "  (embeddings): BertEmbeddings(\n",
       "    (word_embeddings): Embedding(30522, 768, padding_idx=0)\n",
       "    (position_embeddings): Embedding(512, 768)\n",
       "    (token_type_embeddings): Embedding(2, 768)\n",
       "    (LayerNorm): LayerNorm((768,), eps=1e-12, elementwise_affine=True)\n",
       "    (dropout): Dropout(p=0.1, inplace=False)\n",
       "  )\n",
       "  (encoder): BertEncoder(\n",
       "    (layer): ModuleList(\n",
       "      (0-11): 12 x BertLayer(\n",
       "        (attention): BertAttention(\n",
       "          (self): BertSdpaSelfAttention(\n",
       "            (query): Linear(in_features=768, out_features=768, bias=True)\n",
       "            (key): Linear(in_features=768, out_features=768, bias=True)\n",
       "            (value): Linear(in_features=768, out_features=768, bias=True)\n",
       "            (dropout): Dropout(p=0.1, inplace=False)\n",
       "          )\n",
       "          (output): BertSelfOutput(\n",
       "            (dense): Linear(in_features=768, out_features=768, bias=True)\n",
       "            (LayerNorm): LayerNorm((768,), eps=1e-12, elementwise_affine=True)\n",
       "            (dropout): Dropout(p=0.1, inplace=False)\n",
       "          )\n",
       "        )\n",
       "        (intermediate): BertIntermediate(\n",
       "          (dense): Linear(in_features=768, out_features=3072, bias=True)\n",
       "          (intermediate_act_fn): GELUActivation()\n",
       "        )\n",
       "        (output): BertOutput(\n",
       "          (dense): Linear(in_features=3072, out_features=768, bias=True)\n",
       "          (LayerNorm): LayerNorm((768,), eps=1e-12, elementwise_affine=True)\n",
       "          (dropout): Dropout(p=0.1, inplace=False)\n",
       "        )\n",
       "      )\n",
       "    )\n",
       "  )\n",
       "  (pooler): BertPooler(\n",
       "    (dense): Linear(in_features=768, out_features=768, bias=True)\n",
       "    (activation): Tanh()\n",
       "  )\n",
       ")"
      ]
     },
     "execution_count": 17,
     "metadata": {},
     "output_type": "execute_result"
    }
   ],
   "source": [
    "# BERT load \n",
    "tokenizer = BertTokenizer.from_pretrained(\"bert-base-uncased\")\n",
    "model = BertModel.from_pretrained(\"bert-base-uncased\")\n",
    "\n",
    "device = torch.device(\"cuda\" if torch.cuda.is_available() else \"cpu\")\n",
    "model.to(device)\n",
    "model.eval()"
   ]
  },
  {
   "cell_type": "code",
   "execution_count": 18,
   "id": "1a4c1411",
   "metadata": {},
   "outputs": [],
   "source": [
    "# BERT embedding extract \n",
    "## CLS 벡터 추출 함수 정의 \n",
    "def extract_cls_embedding(text):\n",
    "    encoding = tokenizer(text,\n",
    "                         max_length=32,\n",
    "                         truncation=True,\n",
    "                         padding='max_length',\n",
    "                         return_tensors='pt')\n",
    "    input_ids_tensor = encoding['input_ids'].to(device)\n",
    "    attention_mask_tensor = encoding['attention_mask'].to(device)\n",
    "    \n",
    "    with torch.no_grad():\n",
    "        outputs = model(input_ids=input_ids_tensor, attention_mask=attention_mask_tensor)\n",
    "        cls_embedding = outputs.last_hidden_state[:, 0, :].squeeze().cpu().numpy()\n",
    "    return cls_embedding"
   ]
  },
  {
   "cell_type": "code",
   "execution_count": 19,
   "id": "1abc7a32",
   "metadata": {},
   "outputs": [
    {
     "name": "stderr",
     "output_type": "stream",
     "text": [
      "100%|████████████████████████████████████████████████████████████████████████████| 13906/13906 [20:43<00:00, 11.19it/s]\n"
     ]
    }
   ],
   "source": [
    "## 제목을 cls로 추출 \n",
    "embeddings = np.array([\n",
    "    extract_cls_embedding(title) for title in tqdm(df['title'])\n",
    "])"
   ]
  },
  {
   "cell_type": "code",
   "execution_count": 20,
   "id": "1771cdcb",
   "metadata": {},
   "outputs": [],
   "source": [
    "X = embeddings\n",
    "y = df['log_views']\n",
    "\n",
    "# test, train dataset 분리 \n",
    "X_train, X_test, y_train, y_test = train_test_split(\n",
    "    X, y, test_size=0.2, random_state=42)"
   ]
  },
  {
   "cell_type": "code",
   "execution_count": 21,
   "id": "a43215e7",
   "metadata": {},
   "outputs": [],
   "source": [
    "# Model 성능 평가 함수 \n",
    "def evaluate_model(model, X_train, y_train, X_test, y_test):\n",
    "    model.fit(X_train, y_train)\n",
    "    y_pred = model.predict(X_test)\n",
    "\n",
    "    rmse = root_mean_squared_error(y_test, y_pred)\n",
    "    r2 = r2_score(y_test, y_pred)\n",
    "    spearman_corr, _ = spearmanr(y_test, y_pred)\n",
    "\n",
    "    print(f\"RMSE: {rmse:.4f}\")\n",
    "    print(f\"R²: {r2:.4f}\")\n",
    "    print(f\"Spearman: {spearman_corr:.4f}\")\n",
    "    \n",
    "    return model, rmse, r2, spearman_corr"
   ]
  },
  {
   "cell_type": "markdown",
   "id": "e2eb2307",
   "metadata": {},
   "source": [
    "Lasso(베이지안 최적화)"
   ]
  },
  {
   "cell_type": "code",
   "execution_count": 22,
   "id": "a64bbd37",
   "metadata": {},
   "outputs": [
    {
     "name": "stderr",
     "output_type": "stream",
     "text": [
      "[I 2025-06-11 18:38:30,827] A new study created in memory with name: no-name-18c6e932-0897-4c93-8077-ea0031ca9872\n",
      "[I 2025-06-11 18:38:31,662] Trial 0 finished with value: 4.28718948769305 and parameters: {'alpha': 0.005687919286334944}. Best is trial 0 with value: 4.28718948769305.\n",
      "[I 2025-06-11 18:38:31,997] Trial 1 finished with value: 5.24093407703141 and parameters: {'alpha': 0.032731585767532816}. Best is trial 0 with value: 4.28718948769305.\n",
      "[I 2025-06-11 18:38:32,248] Trial 2 finished with value: 6.189934460870136 and parameters: {'alpha': 0.4391309570617599}. Best is trial 0 with value: 4.28718948769305.\n",
      "[I 2025-06-11 18:38:32,734] Trial 3 finished with value: 4.664946418491301 and parameters: {'alpha': 0.014386398314587281}. Best is trial 0 with value: 4.28718948769305.\n",
      "[I 2025-06-11 18:38:35,407] Trial 4 finished with value: 4.166313671648451 and parameters: {'alpha': 0.0028057980873849968}. Best is trial 4 with value: 4.166313671648451.\n"
     ]
    },
    {
     "name": "stdout",
     "output_type": "stream",
     "text": [
      "Model: Lasso (Bayesian)\n",
      "Best Alpha: 0.0028057980873849968\n",
      "RMSE: 2.0196\n",
      "R²: 0.3149\n",
      "Spearman: 0.5195\n"
     ]
    }
   ],
   "source": [
    "import optuna\n",
    "from sklearn.linear_model import Lasso\n",
    "from sklearn.model_selection import cross_val_score\n",
    "from sklearn.metrics import mean_squared_error, r2_score\n",
    "from scipy.stats import spearmanr\n",
    "import numpy as np\n",
    "import pandas as pd\n",
    "\n",
    "\n",
    "def objective_lasso(trial):\n",
    "    alpha = trial.suggest_float('alpha', 1e-3, 1.0, log=True) #범위 축소\n",
    "    model = Lasso(alpha=alpha, random_state=42, max_iter=10000)\n",
    "    score = cross_val_score(model, X_train, y_train, scoring='neg_mean_squared_error', cv=2, error_score=np.nan)\n",
    "    return -score.mean()\n",
    "\n",
    "study_lasso = optuna.create_study(direction='minimize')\n",
    "study_lasso.optimize(objective_lasso, n_trials=5)\n",
    "\n",
    "# 튜닝된 모델로 최종 학습 및 평가\n",
    "best_alpha = study_lasso.best_params['alpha']\n",
    "lasso_best = Lasso(alpha=best_alpha, random_state=42, max_iter=10000)\n",
    "lasso_best.fit(X_train, y_train)\n",
    "y_pred = lasso_best.predict(X_test)\n",
    "\n",
    "# 성능 지표 계산\n",
    "rmse = np.sqrt(mean_squared_error(y_test, y_pred))\n",
    "r2 = r2_score(y_test, y_pred)\n",
    "spearman_corr = spearmanr(y_test, y_pred).correlation if np.std(y_pred) > 0 else np.nan\n",
    "\n",
    "# 출력\n",
    "print(\"Model: Lasso (Bayesian)\")\n",
    "print(\"Best Alpha:\", best_alpha)\n",
    "print(\"RMSE:\", round(rmse, 4))\n",
    "print(\"R²:\", round(r2, 4))\n",
    "print(\"Spearman:\", \"NaN\" if np.isnan(spearman_corr) else round(spearman_corr, 4))\n",
    "\n",
    "# 결과 저장\n",
    "lasso_optuna_df = pd.DataFrame([{\n",
    "    \"Model\": \"Lasso (Bayesian)\",\n",
    "    \"Alpha\": best_alpha,\n",
    "    \"RMSE\": rmse,\n",
    "    \"R²\": r2,\n",
    "    \"Spearman\": spearman_corr\n",
    "}])"
   ]
  },
  {
   "cell_type": "markdown",
   "id": "d53c7f6b",
   "metadata": {},
   "source": [
    "Linear Regression"
   ]
  },
  {
   "cell_type": "code",
   "execution_count": 23,
   "id": "188eacb3",
   "metadata": {},
   "outputs": [
    {
     "name": "stdout",
     "output_type": "stream",
     "text": [
      "Model: LinearRegression\n",
      "RMSE: 2.0063\n",
      "R²: 0.324\n",
      "Spearman: 0.5297\n"
     ]
    }
   ],
   "source": [
    "# LinearRegression 모델 정의 및 학습\n",
    "linear = LinearRegression()\n",
    "linear.fit(X_train, y_train)\n",
    "y_pred = linear.predict(X_test)\n",
    "\n",
    "# 성능 지표 계산\n",
    "rmse = np.sqrt(mean_squared_error(y_test, y_pred))\n",
    "r2 = r2_score(y_test, y_pred)\n",
    "spearman_corr = spearmanr(y_test, y_pred).correlation if np.std(y_pred) > 0 else np.nan\n",
    "\n",
    "# 출력\n",
    "print(\"Model: LinearRegression\")\n",
    "print(\"RMSE:\", round(rmse, 4))\n",
    "print(\"R²:\", round(r2, 4))\n",
    "print(\"Spearman:\", \"NaN\" if np.isnan(spearman_corr) else round(spearman_corr, 4))\n",
    "\n",
    "# 결과 저장\n",
    "linear_results_df = pd.DataFrame([{\n",
    "    \"Model\": \"LinearRegression\",\n",
    "    \"Alpha\": None,\n",
    "    \"RMSE\": rmse,\n",
    "    \"R²\": r2,\n",
    "    \"Spearman\": spearman_corr\n",
    "}])"
   ]
  },
  {
   "cell_type": "markdown",
   "id": "91338064",
   "metadata": {},
   "source": [
    "Ridge(베이지안 최적화)"
   ]
  },
  {
   "cell_type": "code",
   "execution_count": 24,
   "id": "f97355c3",
   "metadata": {
    "scrolled": true
   },
   "outputs": [
    {
     "name": "stderr",
     "output_type": "stream",
     "text": [
      "[I 2025-06-11 18:38:37,875] A new study created in memory with name: no-name-e670516c-38a1-4366-9106-6f91065bcae7\n",
      "[I 2025-06-11 18:38:38,048] Trial 0 finished with value: 4.353663791081754 and parameters: {'alpha': 0.12421698185494756}. Best is trial 0 with value: 4.353663791081754.\n",
      "C:\\Users\\user\\AppData\\Roaming\\Python\\Python39\\site-packages\\sklearn\\linear_model\\_ridge.py:215: LinAlgWarning: Ill-conditioned matrix (rcond=5.69369e-08): result may not be accurate.\n",
      "  return linalg.solve(A, Xy, assume_a=\"pos\", overwrite_a=True).T\n",
      "C:\\Users\\user\\AppData\\Roaming\\Python\\Python39\\site-packages\\sklearn\\linear_model\\_ridge.py:215: LinAlgWarning: Ill-conditioned matrix (rcond=5.84142e-08): result may not be accurate.\n",
      "  return linalg.solve(A, Xy, assume_a=\"pos\", overwrite_a=True).T\n",
      "[I 2025-06-11 18:38:38,220] Trial 1 finished with value: 4.359170322560182 and parameters: {'alpha': 0.0208086556918896}. Best is trial 0 with value: 4.353663791081754.\n",
      "C:\\Users\\user\\AppData\\Roaming\\Python\\Python39\\site-packages\\sklearn\\linear_model\\_ridge.py:215: LinAlgWarning: Ill-conditioned matrix (rcond=3.34425e-09): result may not be accurate.\n",
      "  return linalg.solve(A, Xy, assume_a=\"pos\", overwrite_a=True).T\n",
      "C:\\Users\\user\\AppData\\Roaming\\Python\\Python39\\site-packages\\sklearn\\linear_model\\_ridge.py:215: LinAlgWarning: Ill-conditioned matrix (rcond=3.28675e-09): result may not be accurate.\n",
      "  return linalg.solve(A, Xy, assume_a=\"pos\", overwrite_a=True).T\n",
      "[I 2025-06-11 18:38:38,382] Trial 2 finished with value: 4.36023484988085 and parameters: {'alpha': 0.0011888943479530624}. Best is trial 0 with value: 4.353663791081754.\n",
      "C:\\Users\\user\\AppData\\Roaming\\Python\\Python39\\site-packages\\sklearn\\linear_model\\_ridge.py:215: LinAlgWarning: Ill-conditioned matrix (rcond=1.75006e-08): result may not be accurate.\n",
      "  return linalg.solve(A, Xy, assume_a=\"pos\", overwrite_a=True).T\n",
      "C:\\Users\\user\\AppData\\Roaming\\Python\\Python39\\site-packages\\sklearn\\linear_model\\_ridge.py:215: LinAlgWarning: Ill-conditioned matrix (rcond=1.79283e-08): result may not be accurate.\n",
      "  return linalg.solve(A, Xy, assume_a=\"pos\", overwrite_a=True).T\n",
      "[I 2025-06-11 18:38:38,643] Trial 3 finished with value: 4.359951588010443 and parameters: {'alpha': 0.006401765452311354}. Best is trial 0 with value: 4.353663791081754.\n",
      "C:\\Users\\user\\AppData\\Roaming\\Python\\Python39\\site-packages\\sklearn\\linear_model\\_ridge.py:215: LinAlgWarning: Ill-conditioned matrix (rcond=1.0899e-08): result may not be accurate.\n",
      "  return linalg.solve(A, Xy, assume_a=\"pos\", overwrite_a=True).T\n",
      "C:\\Users\\user\\AppData\\Roaming\\Python\\Python39\\site-packages\\sklearn\\linear_model\\_ridge.py:215: LinAlgWarning: Ill-conditioned matrix (rcond=1.10627e-08): result may not be accurate.\n",
      "  return linalg.solve(A, Xy, assume_a=\"pos\", overwrite_a=True).T\n",
      "[I 2025-06-11 18:38:39,131] Trial 4 finished with value: 4.360085397079954 and parameters: {'alpha': 0.003960449242898474}. Best is trial 0 with value: 4.353663791081754.\n"
     ]
    },
    {
     "name": "stdout",
     "output_type": "stream",
     "text": [
      "Model: Ridge (Bayesian)\n",
      "Alpha: 0.12421698185494756\n",
      "RMSE: 2.006\n",
      "R²: 0.3242\n",
      "Spearman: 0.5298\n"
     ]
    }
   ],
   "source": [
    "def objective_ridge(trial):\n",
    "    alpha = trial.suggest_float('alpha', 1e-3, 1.0, log=True)\n",
    "    model = Ridge(alpha=alpha, random_state=42)\n",
    "    score = cross_val_score(model, X_train, y_train, scoring='neg_mean_squared_error', cv=2, error_score=np.nan)\n",
    "    return -score.mean()\n",
    "\n",
    "study_ridge = optuna.create_study(direction='minimize')\n",
    "study_ridge.optimize(objective_ridge, n_trials=5)\n",
    "\n",
    "# 튜닝된 모델로 최종 학습 및 평가\n",
    "best_alpha = study_ridge.best_params['alpha']\n",
    "ridge_best = Ridge(alpha=best_alpha, random_state=42)\n",
    "ridge_best.fit(X_train, y_train)\n",
    "y_pred = ridge_best.predict(X_test)\n",
    "\n",
    "# 성능 지표 계산\n",
    "rmse = np.sqrt(mean_squared_error(y_test, y_pred))\n",
    "r2 = r2_score(y_test, y_pred)\n",
    "spearman_corr = spearmanr(y_test, y_pred).correlation if np.std(y_pred) > 0 else np.nan\n",
    "\n",
    "#출력\n",
    "print(\"Model: Ridge (Bayesian)\")\n",
    "print(\"Alpha:\", best_alpha)\n",
    "print(\"RMSE:\", round(rmse, 4))\n",
    "print(\"R²:\", round(r2, 4))\n",
    "print(\"Spearman:\", round(spearman_corr, 4) if not np.isnan(spearman_corr) else \"NaN\")\n",
    "\n",
    "#결과 저장\n",
    "ridge_optuna_df = pd.DataFrame([{\n",
    "    \"Model\": \"Ridge (Bayesian)\",\n",
    "    \"Alpha\": best_alpha,\n",
    "    \"RMSE\": rmse,\n",
    "    \"R²\": r2,\n",
    "    \"Spearman\": spearman_corr\n",
    "}])"
   ]
  },
  {
   "cell_type": "markdown",
   "id": "d9eb3158",
   "metadata": {},
   "source": [
    "RF(베이지안 최적화)"
   ]
  },
  {
   "cell_type": "code",
   "execution_count": 25,
   "id": "b2b87e37",
   "metadata": {},
   "outputs": [
    {
     "name": "stderr",
     "output_type": "stream",
     "text": [
      "[I 2025-06-11 18:38:39,280] A new study created in memory with name: no-name-f78653eb-3910-4d32-b17b-d5d5a80c4741\n"
     ]
    },
    {
     "data": {
      "application/vnd.jupyter.widget-view+json": {
       "model_id": "f70abb9c040a414db3f6ccd12a78a5bb",
       "version_major": 2,
       "version_minor": 0
      },
      "text/plain": [
       "  0%|          | 0/30 [00:00<?, ?it/s]"
      ]
     },
     "metadata": {},
     "output_type": "display_data"
    },
    {
     "name": "stdout",
     "output_type": "stream",
     "text": [
      "[I 2025-06-11 18:38:51,968] Trial 0 finished with value: 4.617568591015682 and parameters: {'n_estimators': 79, 'max_depth': 9, 'min_samples_split': 2, 'max_features': 'sqrt'}. Best is trial 0 with value: 4.617568591015682.\n",
      "[I 2025-06-11 18:38:57,676] Trial 1 finished with value: 4.800214617544564 and parameters: {'n_estimators': 93, 'max_depth': 9, 'min_samples_split': 4, 'max_features': 'log2'}. Best is trial 0 with value: 4.617568591015682.\n",
      "[I 2025-06-11 18:39:01,510] Trial 2 finished with value: 4.909542406067029 and parameters: {'n_estimators': 87, 'max_depth': 8, 'min_samples_split': 3, 'max_features': 'log2'}. Best is trial 0 with value: 4.617568591015682.\n",
      "[I 2025-06-11 18:39:07,648] Trial 3 finished with value: 5.334271724435038 and parameters: {'n_estimators': 122, 'max_depth': 4, 'min_samples_split': 6, 'max_features': 'sqrt'}. Best is trial 0 with value: 4.617568591015682.\n",
      "[I 2025-06-11 18:39:09,392] Trial 4 finished with value: 5.182231233325028 and parameters: {'n_estimators': 75, 'max_depth': 6, 'min_samples_split': 4, 'max_features': 'log2'}. Best is trial 0 with value: 4.617568591015682.\n",
      "[I 2025-06-11 18:39:11,508] Trial 5 finished with value: 5.036158737274423 and parameters: {'n_estimators': 89, 'max_depth': 7, 'min_samples_split': 4, 'max_features': 'log2'}. Best is trial 0 with value: 4.617568591015682.\n",
      "[I 2025-06-11 18:39:15,963] Trial 6 finished with value: 4.831443721953002 and parameters: {'n_estimators': 77, 'max_depth': 7, 'min_samples_split': 3, 'max_features': 'sqrt'}. Best is trial 0 with value: 4.617568591015682.\n",
      "[I 2025-06-11 18:39:17,445] Trial 7 finished with value: 5.350796398638945 and parameters: {'n_estimators': 89, 'max_depth': 5, 'min_samples_split': 4, 'max_features': 'log2'}. Best is trial 0 with value: 4.617568591015682.\n",
      "[I 2025-06-11 18:39:18,578] Trial 8 finished with value: 5.516512788083611 and parameters: {'n_estimators': 76, 'max_depth': 4, 'min_samples_split': 2, 'max_features': 'log2'}. Best is trial 0 with value: 4.617568591015682.\n",
      "[I 2025-06-11 18:39:21,755] Trial 9 finished with value: 4.697385843547963 and parameters: {'n_estimators': 134, 'max_depth': 10, 'min_samples_split': 2, 'max_features': 'log2'}. Best is trial 0 with value: 4.617568591015682.\n",
      "[I 2025-06-11 18:39:25,383] Trial 10 finished with value: 4.580243425023735 and parameters: {'n_estimators': 57, 'max_depth': 10, 'min_samples_split': 6, 'max_features': 'sqrt'}. Best is trial 10 with value: 4.580243425023735.\n",
      "[I 2025-06-11 18:39:28,776] Trial 11 finished with value: 4.595459305189593 and parameters: {'n_estimators': 51, 'max_depth': 10, 'min_samples_split': 6, 'max_features': 'sqrt'}. Best is trial 10 with value: 4.580243425023735.\n",
      "[I 2025-06-11 18:39:32,193] Trial 12 finished with value: 4.596892095799388 and parameters: {'n_estimators': 50, 'max_depth': 10, 'min_samples_split': 6, 'max_features': 'sqrt'}. Best is trial 10 with value: 4.580243425023735.\n",
      "[I 2025-06-11 18:39:35,277] Trial 13 finished with value: 4.643807294291869 and parameters: {'n_estimators': 51, 'max_depth': 9, 'min_samples_split': 6, 'max_features': 'sqrt'}. Best is trial 10 with value: 4.580243425023735.\n",
      "[I 2025-06-11 18:39:38,914] Trial 14 finished with value: 4.5476414481438905 and parameters: {'n_estimators': 59, 'max_depth': 10, 'min_samples_split': 5, 'max_features': 'sqrt'}. Best is trial 14 with value: 4.5476414481438905.\n",
      "[I 2025-06-11 18:39:42,116] Trial 15 finished with value: 4.736011629968545 and parameters: {'n_estimators': 64, 'max_depth': 8, 'min_samples_split': 5, 'max_features': 'sqrt'}. Best is trial 14 with value: 4.5476414481438905.\n",
      "[I 2025-06-11 18:39:47,785] Trial 16 finished with value: 4.722193714575372 and parameters: {'n_estimators': 108, 'max_depth': 8, 'min_samples_split': 5, 'max_features': 'sqrt'}. Best is trial 14 with value: 4.5476414481438905.\n",
      "[I 2025-06-11 18:39:50,755] Trial 17 finished with value: 4.995954138038112 and parameters: {'n_estimators': 64, 'max_depth': 6, 'min_samples_split': 5, 'max_features': 'sqrt'}. Best is trial 14 with value: 4.5476414481438905.\n",
      "[I 2025-06-11 18:39:54,873] Trial 18 finished with value: 5.523380302571375 and parameters: {'n_estimators': 149, 'max_depth': 3, 'min_samples_split': 5, 'max_features': 'sqrt'}. Best is trial 14 with value: 4.5476414481438905.\n",
      "[I 2025-06-11 18:40:01,958] Trial 19 finished with value: 4.522513249330593 and parameters: {'n_estimators': 108, 'max_depth': 10, 'min_samples_split': 5, 'max_features': 'sqrt'}. Best is trial 19 with value: 4.522513249330593.\n",
      "[I 2025-06-11 18:40:08,544] Trial 20 finished with value: 4.604705722332749 and parameters: {'n_estimators': 110, 'max_depth': 9, 'min_samples_split': 5, 'max_features': 'sqrt'}. Best is trial 19 with value: 4.522513249330593.\n",
      "[I 2025-06-11 18:40:15,901] Trial 21 finished with value: 4.557957906177781 and parameters: {'n_estimators': 106, 'max_depth': 10, 'min_samples_split': 6, 'max_features': 'sqrt'}. Best is trial 19 with value: 4.522513249330593.\n",
      "[I 2025-06-11 18:40:24,201] Trial 22 finished with value: 4.52087756126223 and parameters: {'n_estimators': 105, 'max_depth': 10, 'min_samples_split': 5, 'max_features': 'sqrt'}. Best is trial 22 with value: 4.52087756126223.\n",
      "[I 2025-06-11 18:40:32,761] Trial 23 finished with value: 4.600904440218018 and parameters: {'n_estimators': 122, 'max_depth': 9, 'min_samples_split': 5, 'max_features': 'sqrt'}. Best is trial 22 with value: 4.52087756126223.\n",
      "[I 2025-06-11 18:40:41,373] Trial 24 finished with value: 4.720502860751068 and parameters: {'n_estimators': 120, 'max_depth': 8, 'min_samples_split': 5, 'max_features': 'sqrt'}. Best is trial 22 with value: 4.52087756126223.\n",
      "[I 2025-06-11 18:40:50,623] Trial 25 finished with value: 4.530506394532564 and parameters: {'n_estimators': 99, 'max_depth': 10, 'min_samples_split': 4, 'max_features': 'sqrt'}. Best is trial 22 with value: 4.52087756126223.\n",
      "[I 2025-06-11 18:40:58,504] Trial 26 finished with value: 4.608010709146653 and parameters: {'n_estimators': 99, 'max_depth': 9, 'min_samples_split': 3, 'max_features': 'sqrt'}. Best is trial 22 with value: 4.52087756126223.\n",
      "[I 2025-06-11 18:41:08,535] Trial 27 finished with value: 4.528272060036063 and parameters: {'n_estimators': 113, 'max_depth': 10, 'min_samples_split': 4, 'max_features': 'sqrt'}. Best is trial 22 with value: 4.52087756126223.\n",
      "[I 2025-06-11 18:41:15,496] Trial 28 finished with value: 4.842850215290037 and parameters: {'n_estimators': 116, 'max_depth': 7, 'min_samples_split': 4, 'max_features': 'sqrt'}. Best is trial 22 with value: 4.52087756126223.\n",
      "[I 2025-06-11 18:41:25,251] Trial 29 finished with value: 4.60714043051282 and parameters: {'n_estimators': 126, 'max_depth': 9, 'min_samples_split': 3, 'max_features': 'sqrt'}. Best is trial 22 with value: 4.52087756126223.\n",
      "Model: RandomForest (Bayesian)\n",
      "Params: {'n_estimators': 105, 'max_depth': 10, 'min_samples_split': 5, 'max_features': 'sqrt'}\n",
      "RMSE: 2.0603\n",
      "R²: 0.2871\n",
      "Spearman: 0.5484\n"
     ]
    }
   ],
   "source": [
    "def objective_rf(trial):\n",
    "    model = RandomForestRegressor(\n",
    "        n_estimators=trial.suggest_int('n_estimators', 50, 150),\n",
    "        max_depth=trial.suggest_int('max_depth', 3, 10),\n",
    "        min_samples_split=trial.suggest_int('min_samples_split', 2, 6),\n",
    "        max_features=trial.suggest_categorical('max_features', ['sqrt', 'log2']),\n",
    "        random_state=42,\n",
    "        n_jobs=-1\n",
    "    )\n",
    "    score = cross_val_score(model, X_train, y_train, scoring='neg_mean_squared_error', cv=2, error_score=np.nan, n_jobs=-1)\n",
    "    return -score.mean()\n",
    "\n",
    "study_rf = optuna.create_study(direction='minimize')\n",
    "study_rf.optimize(objective_rf, n_trials=30, show_progress_bar=True)\n",
    "\n",
    "# 튜닝된 모델로 최종 학습 및 평가\n",
    "best_params_rf = study_rf.best_params\n",
    "rf_best = RandomForestRegressor(**best_params_rf, random_state=42, n_jobs=-1)\n",
    "rf_best.fit(X_train, y_train)\n",
    "y_pred = rf_best.predict(X_test)\n",
    "\n",
    "# 성능 지표 계산\n",
    "rmse = np.sqrt(mean_squared_error(y_test, y_pred))\n",
    "r2 = r2_score(y_test, y_pred)\n",
    "spearman_corr = spearmanr(y_test, y_pred).correlation if np.std(y_pred) > 0 else np.nan\n",
    "\n",
    "# 출력\n",
    "print(\"Model: RandomForest (Bayesian)\")\n",
    "print(\"Params:\", best_params_rf)\n",
    "print(\"RMSE:\", round(rmse, 4))\n",
    "print(\"R²:\", round(r2, 4))\n",
    "print(\"Spearman:\", round(spearman_corr, 4) if not np.isnan(spearman_corr) else \"NaN\")\n",
    "\n",
    "# 결과 저장\n",
    "rf_optuna_df = pd.DataFrame([{\n",
    "    \"Model\": \"RandomForest (Bayesian)\",\n",
    "    \"Alpha\": None,\n",
    "    \"RMSE\": rmse,\n",
    "    \"R²\": r2,\n",
    "    \"Spearman\": spearman_corr\n",
    "}])"
   ]
  },
  {
   "cell_type": "markdown",
   "id": "42c0db07",
   "metadata": {},
   "source": [
    "Gradient(베이지안 최적화)"
   ]
  },
  {
   "cell_type": "code",
   "execution_count": null,
   "id": "b075a0ab",
   "metadata": {},
   "outputs": [
    {
     "name": "stderr",
     "output_type": "stream",
     "text": [
      "[I 2025-06-11 18:41:35,206] A new study created in memory with name: no-name-b6ce3f75-e07c-440a-bd8b-32aaa3a44acd\n"
     ]
    },
    {
     "data": {
      "application/vnd.jupyter.widget-view+json": {
       "model_id": "4a051bb14b094e9e981773ea43821380",
       "version_major": 2,
       "version_minor": 0
      },
      "text/plain": [
       "Gradient Boosting 튜닝 중:   0%|          | 0/30 [00:00<?, ?it/s]"
      ]
     },
     "metadata": {},
     "output_type": "display_data"
    },
    {
     "name": "stderr",
     "output_type": "stream",
     "text": [
      "[I 2025-06-11 19:00:20,266] Trial 0 finished with value: 3.8656807044060497 and parameters: {'n_estimators': 127, 'learning_rate': 0.13006724337648537, 'max_depth': 4, 'min_samples_split': 2, 'subsample': 0.8049787981595213}. Best is trial 0 with value: 3.8656807044060497.\n"
     ]
    }
   ],
   "source": [
    "def objective_gbr(trial):\n",
    "    model = GradientBoostingRegressor(\n",
    "        n_estimators=trial.suggest_int('n_estimators', 50, 150),\n",
    "        learning_rate=trial.suggest_float('learning_rate', 0.05,0.2),\n",
    "        max_depth=trial.suggest_int('max_depth', 3, 6),\n",
    "        min_samples_split=trial.suggest_int('min_samples_split', 2, 6),\n",
    "        subsample=trial.suggest_float('subsample', 0.7, 1.0),\n",
    "        random_state=42\n",
    "    )\n",
    "    score = cross_val_score(\n",
    "        model, X_train, y_train,\n",
    "        scoring='neg_mean_squared_error',\n",
    "        cv=3,\n",
    "        error_score=np.nan  # ✅ 이거 하나가 핵심!\n",
    "    )\n",
    "    return -np.nanmean(score)  # 모든 trial 실패 시에도 안전하게 작동\n",
    "\n",
    "study_gbr = optuna.create_study(direction='minimize')\n",
    "\n",
    "from tqdm.notebook import tqdm\n",
    "for _ in tqdm(range(30), desc=\"Gradient Boosting 튜닝 중\"):\n",
    "    study_gbr.optimize(objective_gbr, n_trials=1)\n",
    "\n",
    "# 튜닝된 모델로 최종 학습 및 평가\n",
    "best_params_gbr = study_gbr.best_params\n",
    "gbr_best = GradientBoostingRegressor(**best_params_gbr, random_state=42)\n",
    "gbr_best.fit(X_train, y_train)\n",
    "y_pred = gbr_best.predict(X_test)\n",
    "\n",
    "# 성능 지표 계산\n",
    "rmse = np.sqrt(mean_squared_error(y_test, y_pred))\n",
    "r2 = r2_score(y_test, y_pred)\n",
    "spearman_corr = spearmanr(y_test, y_pred).correlation if np.std(y_pred) > 0 else np.nan\n",
    "\n",
    "# 출력\n",
    "print(\"Model: GradientBoosting (Bayesian)\")\n",
    "print(\"Params:\", best_params_gbr)\n",
    "print(\"RMSE:\", round(rmse, 4))\n",
    "print(\"R²:\", round(r2, 4))\n",
    "print(\"Spearman:\", round(spearman_corr, 4) if not np.isnan(spearman_corr) else \"NaN\")\n",
    "\n",
    "# 결과 저장\n",
    "gbr_optuna_df = pd.DataFrame([{\n",
    "    \"Model\": \"GradientBoosting (Bayesian)\",\n",
    "    \"Alpha\": None,\n",
    "    \"RMSE\": rmse,\n",
    "    \"R²\": r2,\n",
    "    \"Spearman\": spearman_corr\n",
    "}])"
   ]
  },
  {
   "cell_type": "code",
   "execution_count": null,
   "id": "7980b50a",
   "metadata": {},
   "outputs": [],
   "source": [
    "# 모델별 결과 DataFrame 합치기\n",
    "all_results = pd.concat([\n",
    "    lasso_optuna_df,\n",
    "    linear_results_df,\n",
    "    ridge_optuna_df,\n",
    "    rf_optuna_df,\n",
    "    gbr_optuna_df\n",
    "], ignore_index=True)"
   ]
  },
  {
   "cell_type": "code",
   "execution_count": null,
   "id": "e53e703d",
   "metadata": {},
   "outputs": [],
   "source": [
    "#시각화를 위한 변환 (wide → long)\n",
    "results_long = all_results.melt(\n",
    "    id_vars=\"Model\", \n",
    "    value_vars=[\"RMSE\", \"R²\", \"Spearman\"],\n",
    "    var_name=\"Metric\", \n",
    "    value_name=\"Score\"\n",
    ")\n",
    "\n",
    "# 선 그래프(line chart)로 시각화\n",
    "plt.figure(figsize=(10, 6))\n",
    "for metric in results_long[\"Metric\"].unique():\n",
    "    subset = results_long[results_long[\"Metric\"] == metric]\n",
    "    plt.plot(subset[\"Model\"], subset[\"Score\"], marker='o', label=metric)\n",
    "\n",
    "plt.title(\"Model Performance Comparison(RandomizedSearch)\")\n",
    "plt.xlabel(\"Model\")\n",
    "plt.ylabel(\"Score\")\n",
    "plt.xticks(rotation=45)\n",
    "plt.legend(title=\"Metric\")\n",
    "plt.grid(True)\n",
    "plt.tight_layout()\n",
    "plt.show()"
   ]
  },
  {
   "cell_type": "code",
   "execution_count": null,
   "id": "8ec2db8e",
   "metadata": {},
   "outputs": [],
   "source": [
    "all_results"
   ]
  },
  {
   "cell_type": "code",
   "execution_count": null,
   "id": "137769bb",
   "metadata": {},
   "outputs": [],
   "source": []
  }
 ],
 "metadata": {
  "kernelspec": {
   "display_name": "Python 3 (ipykernel)",
   "language": "python",
   "name": "python3"
  },
  "language_info": {
   "codemirror_mode": {
    "name": "ipython",
    "version": 3
   },
   "file_extension": ".py",
   "mimetype": "text/x-python",
   "name": "python",
   "nbconvert_exporter": "python",
   "pygments_lexer": "ipython3",
   "version": "3.9.12"
  }
 },
 "nbformat": 4,
 "nbformat_minor": 5
}
