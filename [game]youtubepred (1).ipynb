{
 "cells": [
  {
   "cell_type": "markdown",
   "id": "8e855467-9839-4f4a-9bcf-7671469ba63e",
   "metadata": {
    "jp-MarkdownHeadingCollapsed": true
   },
   "source": [
    "## 라이브러리 임포트 "
   ]
  },
  {
   "cell_type": "code",
   "execution_count": 1,
   "id": "29556b86-5212-4eee-9c2e-74556ae1faa3",
   "metadata": {},
   "outputs": [],
   "source": [
    "## library import - data preprocessing\n",
    "import pandas as pd\n",
    "import numpy as np\n",
    "import os\n",
    "from sklearn.preprocessing import OneHotEncoder"
   ]
  },
  {
   "cell_type": "code",
   "execution_count": 2,
   "id": "f3745c1b-978b-4b5d-be88-5dbfedfed667",
   "metadata": {},
   "outputs": [],
   "source": [
    "## BERT embedding \n",
    "from transformers import BertTokenizer, BertModel\n",
    "import torch "
   ]
  },
  {
   "cell_type": "code",
   "execution_count": 3,
   "id": "48821c9d-989d-487a-8653-32238e823700",
   "metadata": {},
   "outputs": [],
   "source": [
    "## Models\n",
    "from sklearn.linear_model import LinearRegression, Ridge, Lasso\n",
    "from sklearn.ensemble import RandomForestRegressor, GradientBoostingRegressor"
   ]
  },
  {
   "cell_type": "code",
   "execution_count": 4,
   "id": "cd5e6be0-0c49-42c7-b5d0-9cfc94e58dee",
   "metadata": {},
   "outputs": [],
   "source": [
    "## 평가 지표 \n",
    "from sklearn.model_selection import train_test_split\n",
    "from sklearn.metrics import root_mean_squared_error, mean_absolute_error, r2_score, mean_squared_error\n",
    "from scipy.stats import spearmanr"
   ]
  },
  {
   "cell_type": "code",
   "execution_count": 5,
   "id": "56768d23-0495-4129-bb2b-97529a786044",
   "metadata": {},
   "outputs": [],
   "source": [
    "## visualization\n",
    "import matplotlib.pyplot as plt\n",
    "import seaborn as sns\n",
    "import json"
   ]
  },
  {
   "cell_type": "code",
   "execution_count": 6,
   "id": "3e178f42-f0ad-4d84-b70d-47be8fda7a28",
   "metadata": {},
   "outputs": [],
   "source": [
    "import matplotlib.font_manager as fm\n",
    "\n",
    "# 한글 폰트 설정 (윈도우용)\n",
    "plt.rcParams['font.family'] = 'Malgun Gothic'\n",
    "plt.rcParams['axes.unicode_minus'] = False  # 마이너스 부호 깨짐 방지"
   ]
  },
  {
   "cell_type": "code",
   "execution_count": 7,
   "id": "49611a75-b1fc-4cd1-bf10-f5087ab34fba",
   "metadata": {},
   "outputs": [],
   "source": [
    "# tqdm \n",
    "from tqdm import tqdm "
   ]
  },
  {
   "cell_type": "code",
   "execution_count": 8,
   "id": "cda3cda7-e153-459e-b825-b1d2a0a2184d",
   "metadata": {},
   "outputs": [],
   "source": [
    "from sklearn.preprocessing import StandardScaler"
   ]
  },
  {
   "cell_type": "code",
   "execution_count": 9,
   "id": "de0e3b73-f46d-4e2f-9bb8-4aebc1fd0ba8",
   "metadata": {},
   "outputs": [],
   "source": [
    "# kaggle hub\n",
    "import kagglehub\n",
    "from kagglehub import KaggleDatasetAdapter"
   ]
  },
  {
   "cell_type": "code",
   "execution_count": 10,
   "id": "7b07d6fa-0a30-4e10-8222-369500106d5b",
   "metadata": {},
   "outputs": [
    {
     "name": "stdout",
     "output_type": "stream",
     "text": [
      "사용 중인 디바이스: cuda\n"
     ]
    }
   ],
   "source": [
    "## GPU check\n",
    "device = torch.device(\"cuda\" if torch.cuda.is_available() else \"cpu\")\n",
    "print(\"사용 중인 디바이스:\", device)"
   ]
  },
  {
   "cell_type": "code",
   "execution_count": 11,
   "id": "b529a3ca-4479-4c4c-9234-097563ea8703",
   "metadata": {},
   "outputs": [
    {
     "name": "stdout",
     "output_type": "stream",
     "text": [
      "CUDA 사용 가능? True\n",
      "사용 중인 GPU: NVIDIA GeForce MX450\n"
     ]
    }
   ],
   "source": [
    "print(\"CUDA 사용 가능?\", torch.cuda.is_available())\n",
    "if torch.cuda.is_available():\n",
    "    print(\"사용 중인 GPU:\", torch.cuda.get_device_name(0))\n",
    "else:\n",
    "    print(\"GPU를 사용할 수 없습니다.\")\n"
   ]
  },
  {
   "cell_type": "markdown",
   "id": "66d65ce7-f71a-4c10-9312-83d8dc22ad5e",
   "metadata": {
    "jp-MarkdownHeadingCollapsed": true
   },
   "source": [
    "## data load"
   ]
  },
  {
   "cell_type": "code",
   "execution_count": 12,
   "id": "0d6f13e4-13cf-43c8-967e-1e3eb57fe0ca",
   "metadata": {},
   "outputs": [],
   "source": [
    "# 파일 경로\n",
    "file_path = r\"C:\\Users\\wonny\\OneDrive\\바탕 화면\\경희대학교\\Machine Learning\\Team PJ\\data\\Youtube_Game2_10000.csv\"\n",
    "\n",
    "# 데이터 로드\n",
    "df = pd.read_csv(file_path)"
   ]
  },
  {
   "cell_type": "code",
   "execution_count": 13,
   "id": "56773756-48cf-4e06-a3c9-0af34a46acaa",
   "metadata": {},
   "outputs": [
    {
     "data": {
      "text/html": [
       "<div>\n",
       "<style scoped>\n",
       "    .dataframe tbody tr th:only-of-type {\n",
       "        vertical-align: middle;\n",
       "    }\n",
       "\n",
       "    .dataframe tbody tr th {\n",
       "        vertical-align: top;\n",
       "    }\n",
       "\n",
       "    .dataframe thead th {\n",
       "        text-align: right;\n",
       "    }\n",
       "</style>\n",
       "<table border=\"1\" class=\"dataframe\">\n",
       "  <thead>\n",
       "    <tr style=\"text-align: right;\">\n",
       "      <th></th>\n",
       "      <th>video_id</th>\n",
       "      <th>title</th>\n",
       "      <th>channel_title</th>\n",
       "      <th>category_id</th>\n",
       "      <th>tags</th>\n",
       "      <th>views</th>\n",
       "      <th>likes</th>\n",
       "      <th>dislikes</th>\n",
       "      <th>comment_count</th>\n",
       "      <th>thumbnail_link</th>\n",
       "      <th>date</th>\n",
       "      <th>keyword</th>\n",
       "    </tr>\n",
       "  </thead>\n",
       "  <tbody>\n",
       "    <tr>\n",
       "      <th>0</th>\n",
       "      <td>C6PrhsZ4dLI</td>\n",
       "      <td>Play Game#Kritikachannel#Shorts funny video</td>\n",
       "      <td>Kritika Channel</td>\n",
       "      <td>22</td>\n",
       "      <td>[none]</td>\n",
       "      <td>1261217614</td>\n",
       "      <td>16207795</td>\n",
       "      <td>0</td>\n",
       "      <td>0</td>\n",
       "      <td>https://i.ytimg.com/vi/C6PrhsZ4dLI/default.jpg</td>\n",
       "      <td>29.10</td>\n",
       "      <td>game</td>\n",
       "    </tr>\n",
       "    <tr>\n",
       "      <th>1</th>\n",
       "      <td>0e3GPea1Tyg</td>\n",
       "      <td>$456,000 Squid Game In Real Life!</td>\n",
       "      <td>MrBeast</td>\n",
       "      <td>24</td>\n",
       "      <td>[none]</td>\n",
       "      <td>804577951</td>\n",
       "      <td>19234279</td>\n",
       "      <td>0</td>\n",
       "      <td>628015</td>\n",
       "      <td>https://i.ytimg.com/vi/0e3GPea1Tyg/default.jpg</td>\n",
       "      <td>24.11</td>\n",
       "      <td>game</td>\n",
       "    </tr>\n",
       "    <tr>\n",
       "      <th>2</th>\n",
       "      <td>jBOyUo3JaiA</td>\n",
       "      <td>Vlad and story about Worms from the game</td>\n",
       "      <td>Vlad and Niki</td>\n",
       "      <td>24</td>\n",
       "      <td>Vlad|for kids|vlad and nikita|toys|playing|gam...</td>\n",
       "      <td>562644972</td>\n",
       "      <td>1652861</td>\n",
       "      <td>0</td>\n",
       "      <td>0</td>\n",
       "      <td>https://i.ytimg.com/vi/jBOyUo3JaiA/default.jpg</td>\n",
       "      <td>24.05</td>\n",
       "      <td>game</td>\n",
       "    </tr>\n",
       "    <tr>\n",
       "      <th>3</th>\n",
       "      <td>yGKhcLK482Y</td>\n",
       "      <td>Squid Game Dalgona #shorts</td>\n",
       "      <td>Mr DegrEE</td>\n",
       "      <td>22</td>\n",
       "      <td>shorts|squid game|funny|mr degree|mariana|mari...</td>\n",
       "      <td>471345780</td>\n",
       "      <td>2619112</td>\n",
       "      <td>0</td>\n",
       "      <td>2969</td>\n",
       "      <td>https://i.ytimg.com/vi/yGKhcLK482Y/default.jpg</td>\n",
       "      <td>22.05</td>\n",
       "      <td>game</td>\n",
       "    </tr>\n",
       "    <tr>\n",
       "      <th>4</th>\n",
       "      <td>iBh3zOjOCvI</td>\n",
       "      <td>Jelly Bean Guessing Game HACK</td>\n",
       "      <td>Mark Rober</td>\n",
       "      <td>28</td>\n",
       "      <td>[none]</td>\n",
       "      <td>240356873</td>\n",
       "      <td>6154177</td>\n",
       "      <td>0</td>\n",
       "      <td>20292</td>\n",
       "      <td>https://i.ytimg.com/vi/iBh3zOjOCvI/default.jpg</td>\n",
       "      <td>30.04</td>\n",
       "      <td>game</td>\n",
       "    </tr>\n",
       "  </tbody>\n",
       "</table>\n",
       "</div>"
      ],
      "text/plain": [
       "      video_id                                        title    channel_title  \\\n",
       "0  C6PrhsZ4dLI  Play Game#Kritikachannel#Shorts funny video  Kritika Channel   \n",
       "1  0e3GPea1Tyg            $456,000 Squid Game In Real Life!          MrBeast   \n",
       "2  jBOyUo3JaiA     Vlad and story about Worms from the game    Vlad and Niki   \n",
       "3  yGKhcLK482Y                   Squid Game Dalgona #shorts        Mr DegrEE   \n",
       "4  iBh3zOjOCvI                Jelly Bean Guessing Game HACK       Mark Rober   \n",
       "\n",
       "   category_id                                               tags       views  \\\n",
       "0           22                                             [none]  1261217614   \n",
       "1           24                                             [none]   804577951   \n",
       "2           24  Vlad|for kids|vlad and nikita|toys|playing|gam...   562644972   \n",
       "3           22  shorts|squid game|funny|mr degree|mariana|mari...   471345780   \n",
       "4           28                                             [none]   240356873   \n",
       "\n",
       "      likes  dislikes  comment_count  \\\n",
       "0  16207795         0              0   \n",
       "1  19234279         0         628015   \n",
       "2   1652861         0              0   \n",
       "3   2619112         0           2969   \n",
       "4   6154177         0          20292   \n",
       "\n",
       "                                   thumbnail_link   date keyword  \n",
       "0  https://i.ytimg.com/vi/C6PrhsZ4dLI/default.jpg  29.10    game  \n",
       "1  https://i.ytimg.com/vi/0e3GPea1Tyg/default.jpg  24.11    game  \n",
       "2  https://i.ytimg.com/vi/jBOyUo3JaiA/default.jpg  24.05    game  \n",
       "3  https://i.ytimg.com/vi/yGKhcLK482Y/default.jpg  22.05    game  \n",
       "4  https://i.ytimg.com/vi/iBh3zOjOCvI/default.jpg  30.04    game  "
      ]
     },
     "execution_count": 13,
     "metadata": {},
     "output_type": "execute_result"
    }
   ],
   "source": [
    "# data 확인\n",
    "df.head()"
   ]
  },
  {
   "cell_type": "code",
   "execution_count": 14,
   "id": "7c3d776b-b0b8-4e07-a1d3-4ebec406f6b8",
   "metadata": {},
   "outputs": [
    {
     "name": "stdout",
     "output_type": "stream",
     "text": [
      "<class 'pandas.core.frame.DataFrame'>\n",
      "RangeIndex: 13906 entries, 0 to 13905\n",
      "Data columns (total 12 columns):\n",
      " #   Column          Non-Null Count  Dtype  \n",
      "---  ------          --------------  -----  \n",
      " 0   video_id        13906 non-null  object \n",
      " 1   title           13906 non-null  object \n",
      " 2   channel_title   13906 non-null  object \n",
      " 3   category_id     13906 non-null  int64  \n",
      " 4   tags            13906 non-null  object \n",
      " 5   views           13906 non-null  int64  \n",
      " 6   likes           13906 non-null  int64  \n",
      " 7   dislikes        13906 non-null  int64  \n",
      " 8   comment_count   13906 non-null  int64  \n",
      " 9   thumbnail_link  13906 non-null  object \n",
      " 10  date            13906 non-null  float64\n",
      " 11  keyword         13906 non-null  object \n",
      "dtypes: float64(1), int64(5), object(6)\n",
      "memory usage: 1.3+ MB\n"
     ]
    }
   ],
   "source": [
    "# 데이터 확인 \n",
    "df.info()"
   ]
  },
  {
   "cell_type": "markdown",
   "id": "feb99cab-81b0-4dca-9299-2a7a6fc4dbce",
   "metadata": {
    "jp-MarkdownHeadingCollapsed": true
   },
   "source": [
    "## data prepocessing"
   ]
  },
  {
   "cell_type": "markdown",
   "id": "17dd3baa-ec77-46c4-a12c-23f24769746d",
   "metadata": {
    "jp-MarkdownHeadingCollapsed": true
   },
   "source": [
    "### target scaling"
   ]
  },
  {
   "cell_type": "code",
   "execution_count": 19,
   "id": "dba82b4e-7c05-4a61-bdcf-c05e288157c6",
   "metadata": {},
   "outputs": [],
   "source": [
    "# 필요한 칼럼만 추출\n",
    "df = df[['title', 'views']].copy()"
   ]
  },
  {
   "cell_type": "code",
   "execution_count": 20,
   "id": "fd89b341-c0bf-4519-8c9e-7758e1b71f29",
   "metadata": {},
   "outputs": [
    {
     "data": {
      "text/plain": [
       "Text(0, 0.5, 'Frequency')"
      ]
     },
     "execution_count": 20,
     "metadata": {},
     "output_type": "execute_result"
    },
    {
     "data": {
      "image/png": "[encoded data removed]",
      "text/plain": [
       "<Figure size 1200x500 with 1 Axes>"
      ]
     },
     "metadata": {},
     "output_type": "display_data"
    }
   ],
   "source": [
    "# 원본 분포\n",
    "plt.figure(figsize=(12, 5))\n",
    "\n",
    "plt.subplot(1, 2, 1)\n",
    "plt.hist(df['views'], bins=50, color='skyblue', edgecolor='black')\n",
    "plt.title('Views Distribution (Raw)')\n",
    "plt.xlabel('Views')\n",
    "plt.ylabel('Frequency')"
   ]
  },
  {
   "cell_type": "code",
   "execution_count": 21,
   "id": "aae7ca4c-15ab-409e-afcc-7d43dfb52867",
   "metadata": {},
   "outputs": [],
   "source": [
    "# target scaling\n",
    "df['log_views'] = np.log1p(df['views'])\n",
    "\n",
    "# scaler = StandardScaler()\n",
    "# df['scaled_views'] = scaler.fit_transform(df[['log_views']])"
   ]
  },
  {
   "cell_type": "code",
   "execution_count": 22,
   "id": "b0d6d695-83ef-4ef7-9c76-a70c3e9cbcde",
   "metadata": {},
   "outputs": [
    {
     "data": {
      "image/png": "[encoded data removed]",
      "text/plain": [
       "<Figure size 640x480 with 1 Axes>"
      ]
     },
     "metadata": {},
     "output_type": "display_data"
    }
   ],
   "source": [
    "# 로그 변환 분포\n",
    "plt.subplot(1, 2, 2)\n",
    "plt.hist(df['log_views'], bins=50, color='lightgreen', edgecolor='black')\n",
    "plt.title('Views Distribution (Log-Scaled)')\n",
    "plt.xlabel('log(1 + Views)')\n",
    "plt.ylabel('Frequency')\n",
    "\n",
    "plt.tight_layout()\n",
    "plt.show()"
   ]
  },
  {
   "cell_type": "markdown",
   "id": "dd98a821-a9c5-42ca-a0d7-6ebc7f28b8d9",
   "metadata": {},
   "source": [
    "### BERT embedding"
   ]
  },
  {
   "cell_type": "code",
   "execution_count": 15,
   "id": "5aedb141-4f6b-4892-b75b-60ef765d9193",
   "metadata": {},
   "outputs": [
    {
     "data": {
      "text/plain": [
       "BertModel(\n",
       "  (embeddings): BertEmbeddings(\n",
       "    (word_embeddings): Embedding(30522, 768, padding_idx=0)\n",
       "    (position_embeddings): Embedding(512, 768)\n",
       "    (token_type_embeddings): Embedding(2, 768)\n",
       "    (LayerNorm): LayerNorm((768,), eps=1e-12, elementwise_affine=True)\n",
       "    (dropout): Dropout(p=0.1, inplace=False)\n",
       "  )\n",
       "  (encoder): BertEncoder(\n",
       "    (layer): ModuleList(\n",
       "      (0-11): 12 x BertLayer(\n",
       "        (attention): BertAttention(\n",
       "          (self): BertSdpaSelfAttention(\n",
       "            (query): Linear(in_features=768, out_features=768, bias=True)\n",
       "            (key): Linear(in_features=768, out_features=768, bias=True)\n",
       "            (value): Linear(in_features=768, out_features=768, bias=True)\n",
       "            (dropout): Dropout(p=0.1, inplace=False)\n",
       "          )\n",
       "          (output): BertSelfOutput(\n",
       "            (dense): Linear(in_features=768, out_features=768, bias=True)\n",
       "            (LayerNorm): LayerNorm((768,), eps=1e-12, elementwise_affine=True)\n",
       "            (dropout): Dropout(p=0.1, inplace=False)\n",
       "          )\n",
       "        )\n",
       "        (intermediate): BertIntermediate(\n",
       "          (dense): Linear(in_features=768, out_features=3072, bias=True)\n",
       "          (intermediate_act_fn): GELUActivation()\n",
       "        )\n",
       "        (output): BertOutput(\n",
       "          (dense): Linear(in_features=3072, out_features=768, bias=True)\n",
       "          (LayerNorm): LayerNorm((768,), eps=1e-12, elementwise_affine=True)\n",
       "          (dropout): Dropout(p=0.1, inplace=False)\n",
       "        )\n",
       "      )\n",
       "    )\n",
       "  )\n",
       "  (pooler): BertPooler(\n",
       "    (dense): Linear(in_features=768, out_features=768, bias=True)\n",
       "    (activation): Tanh()\n",
       "  )\n",
       ")"
      ]
     },
     "execution_count": 15,
     "metadata": {},
     "output_type": "execute_result"
    }
   ],
   "source": [
    "# BERT load \n",
    "tokenizer = BertTokenizer.from_pretrained(\"bert-base-uncased\")\n",
    "model = BertModel.from_pretrained(\"bert-base-uncased\")\n",
    "\n",
    "device = torch.device(\"cuda\" if torch.cuda.is_available() else \"cpu\")\n",
    "model.to(device)\n",
    "model.eval()"
   ]
  },
  {
   "cell_type": "code",
   "execution_count": 16,
   "id": "95051e70-7a2e-41fc-919f-a3dbf8d46ce5",
   "metadata": {},
   "outputs": [],
   "source": [
    "# BERT embedding extract \n",
    "## CLS 벡터 추출 함수 정의 \n",
    "def extract_cls_embedding(text):\n",
    "    encoding = tokenizer(text,\n",
    "                         max_length=32,\n",
    "                         truncation=True,\n",
    "                         padding='max_length',\n",
    "                         return_tensors='pt')\n",
    "    input_ids_tensor = encoding['input_ids'].to(device)\n",
    "    attention_mask_tensor = encoding['attention_mask'].to(device)\n",
    "    \n",
    "    with torch.no_grad():\n",
    "        outputs = model(input_ids=input_ids_tensor, attention_mask=attention_mask_tensor)\n",
    "        cls_embedding = outputs.last_hidden_state[:, 0, :].squeeze().cpu().numpy()\n",
    "    return cls_embedding"
   ]
  },
  {
   "cell_type": "code",
   "execution_count": 17,
   "id": "e69648d4-6c12-43ae-a1b7-2b81abf532ea",
   "metadata": {},
   "outputs": [
    {
     "name": "stderr",
     "output_type": "stream",
     "text": [
      "100%|████████████████████████████████████████████████████████████████████████████| 13906/13906 [09:22<00:00, 24.73it/s]\n"
     ]
    }
   ],
   "source": [
    "## 제목을 cls로 추출 \n",
    "embeddings = np.array([\n",
    "    extract_cls_embedding(title) for title in tqdm(df['title'])\n",
    "])"
   ]
  },
  {
   "cell_type": "markdown",
   "id": "e3508956-4c54-437d-83a6-e0c5440758d9",
   "metadata": {},
   "source": [
    "## Modeling"
   ]
  },
  {
   "cell_type": "code",
   "execution_count": 23,
   "id": "6559a401-4e15-4909-b15d-12fecc7a7465",
   "metadata": {},
   "outputs": [],
   "source": [
    "X = embeddings\n",
    "y = df['log_views']\n",
    "\n",
    "# test, train dataset 분리 \n",
    "X_train, X_test, y_train, y_test = train_test_split(\n",
    "    X, y, test_size=0.2, random_state=42)"
   ]
  },
  {
   "cell_type": "code",
   "execution_count": 24,
   "id": "151597d2-5e18-4fbc-befd-4b8a1d23c340",
   "metadata": {},
   "outputs": [],
   "source": [
    "# Model 성능 평가 함수 \n",
    "def evaluate_model(model, X_train, y_train, X_test, y_test):\n",
    "    model.fit(X_train, y_train)\n",
    "    y_pred = model.predict(X_test)\n",
    "\n",
    "    rmse = root_mean_squared_error(y_test, y_pred)\n",
    "    r2 = r2_score(y_test, y_pred)\n",
    "    spearman_corr, _ = spearmanr(y_test, y_pred)\n",
    "\n",
    "    print(f\"RMSE: {rmse:.4f}\")\n",
    "    print(f\"R²: {r2:.4f}\")\n",
    "    print(f\"Spearman: {spearman_corr:.4f}\")\n",
    "    \n",
    "    return model, rmse, r2, spearman_corr"
   ]
  },
  {
   "cell_type": "code",
   "execution_count": 26,
   "id": "80c3ad40-5890-4335-b525-934ab6678938",
   "metadata": {},
   "outputs": [
    {
     "name": "stdout",
     "output_type": "stream",
     "text": [
      "Model: Lasso\n",
      "Alpha: 0.0001\n",
      "RMSE: 2.0019\n",
      "R²: 0.3269\n",
      "Spearman: 0.5308\n"
     ]
    },
    {
     "name": "stderr",
     "output_type": "stream",
     "text": [
      "C:\\Users\\wonny\\AppData\\Roaming\\Python\\Python310\\site-packages\\sklearn\\linear_model\\_coordinate_descent.py:697: ConvergenceWarning: Objective did not converge. You might want to increase the number of iterations, check the scale of the features or consider increasing regularisation. Duality gap: 9.024e+03, tolerance: 6.883e+00\n",
      "  model = cd_fast.enet_coordinate_descent(\n",
      "C:\\Users\\wonny\\AppData\\Roaming\\Python\\Python310\\site-packages\\sklearn\\metrics\\_regression.py:492: FutureWarning: 'squared' is deprecated in version 1.4 and will be removed in 1.6. To calculate the root mean squared error, use the function'root_mean_squared_error'.\n",
      "  warnings.warn(\n"
     ]
    }
   ],
   "source": [
    "# Lasso 모델 정의\n",
    "alpha_value = 0.0001\n",
    "lasso = Lasso(alpha=alpha_value)\n",
    "lasso.fit(X_train, y_train)\n",
    "y_pred = lasso.predict(X_test)\n",
    "\n",
    "# 성능 지표 계산\n",
    "rmse = mean_squared_error(y_test, y_pred, squared=False)\n",
    "r2 = r2_score(y_test, y_pred)\n",
    "spearman_corr = spearmanr(y_test, y_pred).correlation if np.std(y_pred) > 0 else np.nan\n",
    "\n",
    "# 출력\n",
    "print(\"Model: Lasso\")\n",
    "print(\"Alpha:\", alpha_value)\n",
    "print(\"RMSE:\", round(rmse, 4))\n",
    "print(\"R²:\", round(r2, 4))\n",
    "print(\"Spearman:\", \"NaN\" if np.isnan(spearman_corr) else round(spearman_corr, 4))\n",
    "\n",
    "# 결과 저장 \n",
    "lasso_results_df = pd.DataFrame([{\n",
    "    \"Model\": \"Lasso\",\n",
    "    \"Alpha\": alpha_value,\n",
    "    \"RMSE\": rmse,\n",
    "    \"R²\": r2,\n",
    "    \"Spearman\": spearman_corr\n",
    "}])"
   ]
  },
  {
   "cell_type": "markdown",
   "id": "9ff164c1-a5d2-4dc0-8306-c67bc247f346",
   "metadata": {},
   "source": [
    "#### Gaming - Linear Regression"
   ]
  },
  {
   "cell_type": "code",
   "execution_count": 27,
   "id": "f7f05120-9e47-474e-8027-f417fc5f1fc9",
   "metadata": {},
   "outputs": [
    {
     "name": "stdout",
     "output_type": "stream",
     "text": [
      "Model: LinearRegression\n",
      "RMSE: 2.0063\n",
      "R²: 0.324\n",
      "Spearman: 0.5297\n"
     ]
    },
    {
     "name": "stderr",
     "output_type": "stream",
     "text": [
      "C:\\Users\\wonny\\AppData\\Roaming\\Python\\Python310\\site-packages\\sklearn\\metrics\\_regression.py:492: FutureWarning: 'squared' is deprecated in version 1.4 and will be removed in 1.6. To calculate the root mean squared error, use the function'root_mean_squared_error'.\n",
      "  warnings.warn(\n"
     ]
    }
   ],
   "source": [
    "# LinearRegression 모델 정의 및 학습\n",
    "linear = LinearRegression()\n",
    "linear.fit(X_train, y_train)\n",
    "y_pred = linear.predict(X_test)\n",
    "\n",
    "# 성능 지표 계산\n",
    "rmse = mean_squared_error(y_test, y_pred, squared=False)\n",
    "r2 = r2_score(y_test, y_pred)\n",
    "spearman_corr = spearmanr(y_test, y_pred).correlation if np.std(y_pred) > 0 else np.nan\n",
    "\n",
    "# 출력\n",
    "print(\"Model: LinearRegression\")\n",
    "print(\"RMSE:\", round(rmse, 4))\n",
    "print(\"R²:\", round(r2, 4))\n",
    "print(\"Spearman:\", \"NaN\" if np.isnan(spearman_corr) else round(spearman_corr, 4))\n",
    "\n",
    "# 결과 저장\n",
    "linear_results_df = pd.DataFrame([{\n",
    "    \"Model\": \"LinearRegression\",\n",
    "    \"Alpha\": None,\n",
    "    \"RMSE\": rmse,\n",
    "    \"R²\": r2,\n",
    "    \"Spearman\": spearman_corr\n",
    "}])"
   ]
  },
  {
   "cell_type": "markdown",
   "id": "ec9440f7-c1e9-4fed-97c8-f2f7c8854117",
   "metadata": {},
   "source": [
    "#### gaming - Ridge"
   ]
  },
  {
   "cell_type": "code",
   "execution_count": 28,
   "id": "5c4c3eba-088a-4014-9fde-c41bfaace38e",
   "metadata": {},
   "outputs": [
    {
     "name": "stdout",
     "output_type": "stream",
     "text": [
      "Model: Ridge\n",
      "Alpha: 1.0\n",
      "RMSE: 2.0038\n",
      "R²: 0.3256\n",
      "Spearman: 0.5304\n"
     ]
    },
    {
     "name": "stderr",
     "output_type": "stream",
     "text": [
      "C:\\Users\\wonny\\AppData\\Roaming\\Python\\Python310\\site-packages\\sklearn\\metrics\\_regression.py:492: FutureWarning: 'squared' is deprecated in version 1.4 and will be removed in 1.6. To calculate the root mean squared error, use the function'root_mean_squared_error'.\n",
      "  warnings.warn(\n"
     ]
    }
   ],
   "source": [
    "# Ridge 모델 정의 및 학습\n",
    "alpha_value = 1.0\n",
    "ridge = Ridge(alpha=alpha_value)\n",
    "ridge.fit(X_train, y_train)\n",
    "y_pred = ridge.predict(X_test)\n",
    "\n",
    "# 성능 지표 계산\n",
    "rmse = mean_squared_error(y_test, y_pred, squared=False)\n",
    "r2 = r2_score(y_test, y_pred)\n",
    "spearman_corr = spearmanr(y_test, y_pred).correlation if np.std(y_pred) > 0 else np.nan\n",
    "\n",
    "# 출력\n",
    "print(\"Model: Ridge\")\n",
    "print(\"Alpha:\", alpha_value)\n",
    "print(\"RMSE:\", round(rmse, 4))\n",
    "print(\"R²:\", round(r2, 4))\n",
    "print(\"Spearman:\", \"NaN\" if np.isnan(spearman_corr) else round(spearman_corr, 4))\n",
    "\n",
    "# 결과 저장\n",
    "ridge_results_df = pd.DataFrame([{\n",
    "    \"Model\": \"Ridge\",\n",
    "    \"Alpha\": alpha_value,\n",
    "    \"RMSE\": rmse,\n",
    "    \"R²\": r2,\n",
    "    \"Spearman\": spearman_corr\n",
    "}])\n"
   ]
  },
  {
   "cell_type": "markdown",
   "id": "035dbd7a-34ac-43a6-b4b7-54808121b895",
   "metadata": {},
   "source": [
    "#### gaming - RF "
   ]
  },
  {
   "cell_type": "code",
   "execution_count": 29,
   "id": "2b3d1250-393f-44f5-aa0e-3620f30ce482",
   "metadata": {},
   "outputs": [
    {
     "name": "stdout",
     "output_type": "stream",
     "text": [
      "Model: RandomForest\n",
      "n_estimators: 100\n",
      "RMSE: 1.9401\n",
      "R²: 0.3678\n",
      "Spearman: 0.5821\n"
     ]
    },
    {
     "name": "stderr",
     "output_type": "stream",
     "text": [
      "C:\\Users\\wonny\\AppData\\Roaming\\Python\\Python310\\site-packages\\sklearn\\metrics\\_regression.py:492: FutureWarning: 'squared' is deprecated in version 1.4 and will be removed in 1.6. To calculate the root mean squared error, use the function'root_mean_squared_error'.\n",
      "  warnings.warn(\n"
     ]
    }
   ],
   "source": [
    "# RF 모델 정의 및 학습\n",
    "n_estimators = 100\n",
    "rf = RandomForestRegressor(n_estimators=n_estimators, n_jobs=-1, random_state=42)\n",
    "rf.fit(X_train, y_train)\n",
    "y_pred = rf.predict(X_test)\n",
    "\n",
    "# 성능 지표 계산\n",
    "rmse = mean_squared_error(y_test, y_pred, squared=False)\n",
    "r2 = r2_score(y_test, y_pred)\n",
    "spearman_corr = spearmanr(y_test, y_pred).correlation if np.std(y_pred) > 0 else np.nan\n",
    "\n",
    "# 출력\n",
    "print(\"Model: RandomForest\")\n",
    "print(\"n_estimators:\", n_estimators)\n",
    "print(\"RMSE:\", round(rmse, 4))\n",
    "print(\"R²:\", round(r2, 4))\n",
    "print(\"Spearman:\", \"NaN\" if np.isnan(spearman_corr) else round(spearman_corr, 4))\n",
    "\n",
    "# 결과 저장\n",
    "rf_results_df = pd.DataFrame([{\n",
    "    \"Model\": \"RandomForest\",\n",
    "    \"Alpha\": None,\n",
    "    \"RMSE\": rmse,\n",
    "    \"R²\": r2,\n",
    "    \"Spearman\": spearman_corr\n",
    "}])\n"
   ]
  },
  {
   "cell_type": "markdown",
   "id": "91f70463-6bb3-48ed-8933-5d06900fa1fe",
   "metadata": {},
   "source": [
    "#### gaming - Gradient "
   ]
  },
  {
   "cell_type": "code",
   "execution_count": 30,
   "id": "327d77a9-feb2-48f9-b84a-a7ae779f1923",
   "metadata": {},
   "outputs": [
    {
     "name": "stdout",
     "output_type": "stream",
     "text": [
      "Model: GradientBoosting\n",
      "n_estimators: 100\n",
      "RMSE: 2.0368\n",
      "R²: 0.3032\n",
      "Spearman: 0.5043\n"
     ]
    },
    {
     "name": "stderr",
     "output_type": "stream",
     "text": [
      "C:\\Users\\wonny\\AppData\\Roaming\\Python\\Python310\\site-packages\\sklearn\\metrics\\_regression.py:492: FutureWarning: 'squared' is deprecated in version 1.4 and will be removed in 1.6. To calculate the root mean squared error, use the function'root_mean_squared_error'.\n",
      "  warnings.warn(\n"
     ]
    }
   ],
   "source": [
    "# Gradient Boosting 모델 정의 및 학습\n",
    "n_estimators = 100\n",
    "gbr = GradientBoostingRegressor(n_estimators=n_estimators, random_state=42)\n",
    "gbr.fit(X_train, y_train)\n",
    "y_pred = gbr.predict(X_test)\n",
    "\n",
    "# 성능 지표 계산\n",
    "rmse = mean_squared_error(y_test, y_pred, squared=False)\n",
    "r2 = r2_score(y_test, y_pred)\n",
    "spearman_corr = spearmanr(y_test, y_pred).correlation if np.std(y_pred) > 0 else np.nan\n",
    "\n",
    "# 출력\n",
    "print(\"Model: GradientBoosting\")\n",
    "print(\"n_estimators:\", n_estimators)\n",
    "print(\"RMSE:\", round(rmse, 4))\n",
    "print(\"R²:\", round(r2, 4))\n",
    "print(\"Spearman:\", \"NaN\" if np.isnan(spearman_corr) else round(spearman_corr, 4))\n",
    "\n",
    "# 결과 저장\n",
    "gbr_results_df = pd.DataFrame([{\n",
    "    \"Model\": \"GradientBoosting\",\n",
    "    \"Alpha\": None,\n",
    "    \"RMSE\": rmse,\n",
    "    \"R²\": r2,\n",
    "    \"Spearman\": spearman_corr\n",
    "}])\n"
   ]
  },
  {
   "cell_type": "code",
   "execution_count": 31,
   "id": "cf4f0314-9287-4dff-bf81-fdd7a06535b7",
   "metadata": {},
   "outputs": [
    {
     "name": "stderr",
     "output_type": "stream",
     "text": [
      "C:\\Users\\wonny\\AppData\\Local\\Temp\\ipykernel_12316\\1629461833.py:2: FutureWarning: The behavior of DataFrame concatenation with empty or all-NA entries is deprecated. In a future version, this will no longer exclude empty or all-NA columns when determining the result dtypes. To retain the old behavior, exclude the relevant entries before the concat operation.\n",
      "  all_results = pd.concat([\n"
     ]
    }
   ],
   "source": [
    "# 모델별 결과 DataFrame 합치기\n",
    "all_results = pd.concat([\n",
    "    lasso_results_df,\n",
    "    ridge_results_df,\n",
    "    rf_results_df,\n",
    "    gbr_results_df\n",
    "], ignore_index=True)\n"
   ]
  },
  {
   "cell_type": "code",
   "execution_count": 32,
   "id": "e7e5f4ca-ff98-4ee7-9fb5-856fecf395d1",
   "metadata": {},
   "outputs": [
    {
     "data": {
      "image/png": "[encoded data removed]",
      "text/plain": [
       "<Figure size 1000x600 with 1 Axes>"
      ]
     },
     "metadata": {},
     "output_type": "display_data"
    }
   ],
   "source": [
    "# 시각화를 위한 변환 (wide → long)\n",
    "results_long = all_results.melt(\n",
    "    id_vars=\"Model\", \n",
    "    value_vars=[\"RMSE\", \"R²\", \"Spearman\"],\n",
    "    var_name=\"Metric\", \n",
    "    value_name=\"Score\"\n",
    ")\n",
    "\n",
    "# 선 그래프(line chart)로 시각화\n",
    "plt.figure(figsize=(10, 6))\n",
    "for metric in results_long[\"Metric\"].unique():\n",
    "    subset = results_long[results_long[\"Metric\"] == metric]\n",
    "    plt.plot(subset[\"Model\"], subset[\"Score\"], marker='o', label=metric)\n",
    "\n",
    "plt.title(\"Model Performance Comparison\")\n",
    "plt.xlabel(\"Model\")\n",
    "plt.ylabel(\"Score\")\n",
    "plt.xticks(rotation=45)\n",
    "plt.legend(title=\"Metric\")\n",
    "plt.grid(True)\n",
    "plt.tight_layout()\n",
    "plt.show()"
   ]
  },
  {
   "cell_type": "code",
   "execution_count": 33,
   "id": "fb2e5306-28c7-4b8d-b72c-8d2b2a15fd67",
   "metadata": {},
   "outputs": [
    {
     "data": {
      "text/html": [
       "<div>\n",
       "<style scoped>\n",
       "    .dataframe tbody tr th:only-of-type {\n",
       "        vertical-align: middle;\n",
       "    }\n",
       "\n",
       "    .dataframe tbody tr th {\n",
       "        vertical-align: top;\n",
       "    }\n",
       "\n",
       "    .dataframe thead th {\n",
       "        text-align: right;\n",
       "    }\n",
       "</style>\n",
       "<table border=\"1\" class=\"dataframe\">\n",
       "  <thead>\n",
       "    <tr style=\"text-align: right;\">\n",
       "      <th></th>\n",
       "      <th>Model</th>\n",
       "      <th>Alpha</th>\n",
       "      <th>RMSE</th>\n",
       "      <th>R²</th>\n",
       "      <th>Spearman</th>\n",
       "    </tr>\n",
       "  </thead>\n",
       "  <tbody>\n",
       "    <tr>\n",
       "      <th>0</th>\n",
       "      <td>Lasso</td>\n",
       "      <td>0.0001</td>\n",
       "      <td>2.001865</td>\n",
       "      <td>0.326936</td>\n",
       "      <td>0.530810</td>\n",
       "    </tr>\n",
       "    <tr>\n",
       "      <th>1</th>\n",
       "      <td>Ridge</td>\n",
       "      <td>1.0000</td>\n",
       "      <td>2.003829</td>\n",
       "      <td>0.325614</td>\n",
       "      <td>0.530399</td>\n",
       "    </tr>\n",
       "    <tr>\n",
       "      <th>2</th>\n",
       "      <td>RandomForest</td>\n",
       "      <td>NaN</td>\n",
       "      <td>1.940084</td>\n",
       "      <td>0.367838</td>\n",
       "      <td>0.582142</td>\n",
       "    </tr>\n",
       "    <tr>\n",
       "      <th>3</th>\n",
       "      <td>GradientBoosting</td>\n",
       "      <td>NaN</td>\n",
       "      <td>2.036803</td>\n",
       "      <td>0.303237</td>\n",
       "      <td>0.504279</td>\n",
       "    </tr>\n",
       "  </tbody>\n",
       "</table>\n",
       "</div>"
      ],
      "text/plain": [
       "              Model   Alpha      RMSE        R²  Spearman\n",
       "0             Lasso  0.0001  2.001865  0.326936  0.530810\n",
       "1             Ridge  1.0000  2.003829  0.325614  0.530399\n",
       "2      RandomForest     NaN  1.940084  0.367838  0.582142\n",
       "3  GradientBoosting     NaN  2.036803  0.303237  0.504279"
      ]
     },
     "execution_count": 33,
     "metadata": {},
     "output_type": "execute_result"
    }
   ],
   "source": [
    "all_results"
   ]
  }
 ],
 "metadata": {
  "kernelspec": {
   "display_name": "youtube_pj",
   "language": "python",
   "name": "youtubeprediction"
  },
  "language_info": {
   "codemirror_mode": {
    "name": "ipython",
    "version": 3
   },
   "file_extension": ".py",
   "mimetype": "text/x-python",
   "name": "python",
   "nbconvert_exporter": "python",
   "pygments_lexer": "ipython3",
   "version": "3.10.16"
  }
 },
 "nbformat": 4,
 "nbformat_minor": 5
}
